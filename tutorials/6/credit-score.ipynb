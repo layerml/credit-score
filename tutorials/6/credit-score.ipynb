{
 "cells": [
  {
   "cell_type": "code",
   "execution_count": 31,
   "id": "6356d03e-0eb2-40a6-811f-79ee8b9b9ef9",
   "metadata": {},
   "outputs": [],
   "source": [
    "import layer\n",
    "import numpy as np\n",
    "from sklearn.compose import ColumnTransformer\n",
    "from sklearn.preprocessing import OneHotEncoder"
   ]
  },
  {
   "cell_type": "markdown",
   "id": "19575fc7-5420-4ebc-b9f9-295420869461",
   "metadata": {},
   "source": [
    "## Fetch datasets"
   ]
  },
  {
   "cell_type": "code",
   "execution_count": 4,
   "id": "f0d5d147-3aad-4875-b9ac-0b2e06bb7b23",
   "metadata": {},
   "outputs": [],
   "source": [
    "application = layer.get_dataset(\"application_train\").to_pandas()"
   ]
  },
  {
   "cell_type": "code",
   "execution_count": 80,
   "id": "88cfad7b-72e0-4f8f-be05-d855c53718c4",
   "metadata": {},
   "outputs": [
    {
     "data": {
      "text/html": [
       "<div>\n",
       "<style scoped>\n",
       "    .dataframe tbody tr th:only-of-type {\n",
       "        vertical-align: middle;\n",
       "    }\n",
       "\n",
       "    .dataframe tbody tr th {\n",
       "        vertical-align: top;\n",
       "    }\n",
       "\n",
       "    .dataframe thead th {\n",
       "        text-align: right;\n",
       "    }\n",
       "</style>\n",
       "<table border=\"1\" class=\"dataframe\">\n",
       "  <thead>\n",
       "    <tr style=\"text-align: right;\">\n",
       "      <th></th>\n",
       "      <th>AMT_ANNUITY</th>\n",
       "      <th>AMT_DOWN_PAYMENT</th>\n",
       "      <th>DAYS_FIRST_DRAWING</th>\n",
       "      <th>NAME_CASH_LOAN_PURPOSE</th>\n",
       "      <th>DAYS_TERMINATION</th>\n",
       "      <th>CHANNEL_TYPE</th>\n",
       "      <th>AMT_CREDIT</th>\n",
       "      <th>HOUR_APPR_PROCESS_START</th>\n",
       "      <th>DAYS_DECISION</th>\n",
       "      <th>NAME_TYPE_SUITE</th>\n",
       "      <th>...</th>\n",
       "      <th>DAYS_LAST_DUE_1ST_VERSION</th>\n",
       "      <th>SK_ID_PREV</th>\n",
       "      <th>NFLAG_LAST_APPL_IN_DAY</th>\n",
       "      <th>AMT_GOODS_PRICE</th>\n",
       "      <th>RATE_INTEREST_PRIVILEGED</th>\n",
       "      <th>SELLERPLACE_AREA</th>\n",
       "      <th>NAME_YIELD_GROUP</th>\n",
       "      <th>NAME_PORTFOLIO</th>\n",
       "      <th>FLAG_LAST_APPL_PER_CONTRACT</th>\n",
       "      <th>INDEX</th>\n",
       "    </tr>\n",
       "  </thead>\n",
       "  <tbody>\n",
       "    <tr>\n",
       "      <th>24624</th>\n",
       "      <td>3982.095</td>\n",
       "      <td>0.0</td>\n",
       "      <td>365243.0</td>\n",
       "      <td>XAP</td>\n",
       "      <td>-633.0</td>\n",
       "      <td>Country-wide</td>\n",
       "      <td>18733.5</td>\n",
       "      <td>10</td>\n",
       "      <td>-819</td>\n",
       "      <td>Unaccompanied</td>\n",
       "      <td>...</td>\n",
       "      <td>-638.0</td>\n",
       "      <td>2473114</td>\n",
       "      <td>1</td>\n",
       "      <td>16605.0</td>\n",
       "      <td>NaN</td>\n",
       "      <td>40</td>\n",
       "      <td>high</td>\n",
       "      <td>POS</td>\n",
       "      <td>Y</td>\n",
       "      <td>482885</td>\n",
       "    </tr>\n",
       "  </tbody>\n",
       "</table>\n",
       "<p>1 rows × 38 columns</p>\n",
       "</div>"
      ],
      "text/plain": [
       "       AMT_ANNUITY  AMT_DOWN_PAYMENT  DAYS_FIRST_DRAWING  \\\n",
       "24624     3982.095               0.0            365243.0   \n",
       "\n",
       "      NAME_CASH_LOAN_PURPOSE  DAYS_TERMINATION  CHANNEL_TYPE  AMT_CREDIT  \\\n",
       "24624                    XAP            -633.0  Country-wide     18733.5   \n",
       "\n",
       "       HOUR_APPR_PROCESS_START  DAYS_DECISION NAME_TYPE_SUITE  ...  \\\n",
       "24624                       10           -819   Unaccompanied  ...   \n",
       "\n",
       "       DAYS_LAST_DUE_1ST_VERSION  SK_ID_PREV  NFLAG_LAST_APPL_IN_DAY  \\\n",
       "24624                     -638.0     2473114                       1   \n",
       "\n",
       "       AMT_GOODS_PRICE RATE_INTEREST_PRIVILEGED SELLERPLACE_AREA  \\\n",
       "24624          16605.0                      NaN               40   \n",
       "\n",
       "      NAME_YIELD_GROUP  NAME_PORTFOLIO FLAG_LAST_APPL_PER_CONTRACT   INDEX  \n",
       "24624             high             POS                           Y  482885  \n",
       "\n",
       "[1 rows x 38 columns]"
      ]
     },
     "execution_count": 80,
     "metadata": {},
     "output_type": "execute_result"
    }
   ],
   "source": [
    "application.sample()"
   ]
  },
  {
   "cell_type": "code",
   "execution_count": 15,
   "id": "884c915c-47d7-4334-b369-5c4cf4d404d5",
   "metadata": {},
   "outputs": [],
   "source": [
    "installment_payments = layer.get_dataset(\"installments_payments\").to_pandas()"
   ]
  },
  {
   "cell_type": "code",
   "execution_count": 16,
   "id": "e3867f82-2b96-4f44-b70c-d1e7b073c77e",
   "metadata": {},
   "outputs": [
    {
     "data": {
      "text/html": [
       "<div>\n",
       "<style scoped>\n",
       "    .dataframe tbody tr th:only-of-type {\n",
       "        vertical-align: middle;\n",
       "    }\n",
       "\n",
       "    .dataframe tbody tr th {\n",
       "        vertical-align: top;\n",
       "    }\n",
       "\n",
       "    .dataframe thead th {\n",
       "        text-align: right;\n",
       "    }\n",
       "</style>\n",
       "<table border=\"1\" class=\"dataframe\">\n",
       "  <thead>\n",
       "    <tr style=\"text-align: right;\">\n",
       "      <th></th>\n",
       "      <th>SK_ID_CURR</th>\n",
       "      <th>DAYS_ENTRY_PAYMENT</th>\n",
       "      <th>AMT_INSTALMENT</th>\n",
       "      <th>AMT_PAYMENT</th>\n",
       "      <th>NUM_INSTALMENT_NUMBER</th>\n",
       "      <th>NUM_INSTALMENT_VERSION</th>\n",
       "      <th>DAYS_INSTALMENT</th>\n",
       "      <th>SK_ID_PREV</th>\n",
       "      <th>INDEX</th>\n",
       "    </tr>\n",
       "  </thead>\n",
       "  <tbody>\n",
       "    <tr>\n",
       "      <th>315812</th>\n",
       "      <td>372409</td>\n",
       "      <td>-511.0</td>\n",
       "      <td>241.605</td>\n",
       "      <td>241.605</td>\n",
       "      <td>78</td>\n",
       "      <td>0.0</td>\n",
       "      <td>-511.0</td>\n",
       "      <td>1109581</td>\n",
       "      <td>10494728</td>\n",
       "    </tr>\n",
       "  </tbody>\n",
       "</table>\n",
       "</div>"
      ],
      "text/plain": [
       "        SK_ID_CURR  DAYS_ENTRY_PAYMENT  AMT_INSTALMENT  AMT_PAYMENT  \\\n",
       "315812      372409              -511.0         241.605      241.605   \n",
       "\n",
       "        NUM_INSTALMENT_NUMBER  NUM_INSTALMENT_VERSION  DAYS_INSTALMENT  \\\n",
       "315812                     78                     0.0           -511.0   \n",
       "\n",
       "        SK_ID_PREV     INDEX  \n",
       "315812     1109581  10494728  "
      ]
     },
     "execution_count": 16,
     "metadata": {},
     "output_type": "execute_result"
    }
   ],
   "source": [
    "installment_payments.sample()"
   ]
  },
  {
   "cell_type": "code",
   "execution_count": 8,
   "id": "8965e13a-0125-4473-9c75-a5fa1072fa46",
   "metadata": {},
   "outputs": [],
   "source": [
    "previous_application = layer.get_dataset(\"previous_application\").to_pandas()"
   ]
  },
  {
   "cell_type": "code",
   "execution_count": 9,
   "id": "83356d8d-272c-42b9-bf6f-e921a63f915e",
   "metadata": {},
   "outputs": [
    {
     "data": {
      "text/html": [
       "<div>\n",
       "<style scoped>\n",
       "    .dataframe tbody tr th:only-of-type {\n",
       "        vertical-align: middle;\n",
       "    }\n",
       "\n",
       "    .dataframe tbody tr th {\n",
       "        vertical-align: top;\n",
       "    }\n",
       "\n",
       "    .dataframe thead th {\n",
       "        text-align: right;\n",
       "    }\n",
       "</style>\n",
       "<table border=\"1\" class=\"dataframe\">\n",
       "  <thead>\n",
       "    <tr style=\"text-align: right;\">\n",
       "      <th></th>\n",
       "      <th>AMT_ANNUITY</th>\n",
       "      <th>AMT_DOWN_PAYMENT</th>\n",
       "      <th>DAYS_FIRST_DRAWING</th>\n",
       "      <th>NAME_CASH_LOAN_PURPOSE</th>\n",
       "      <th>DAYS_TERMINATION</th>\n",
       "      <th>CHANNEL_TYPE</th>\n",
       "      <th>AMT_CREDIT</th>\n",
       "      <th>HOUR_APPR_PROCESS_START</th>\n",
       "      <th>DAYS_DECISION</th>\n",
       "      <th>NAME_TYPE_SUITE</th>\n",
       "      <th>...</th>\n",
       "      <th>DAYS_LAST_DUE_1ST_VERSION</th>\n",
       "      <th>SK_ID_PREV</th>\n",
       "      <th>NFLAG_LAST_APPL_IN_DAY</th>\n",
       "      <th>AMT_GOODS_PRICE</th>\n",
       "      <th>RATE_INTEREST_PRIVILEGED</th>\n",
       "      <th>SELLERPLACE_AREA</th>\n",
       "      <th>NAME_YIELD_GROUP</th>\n",
       "      <th>NAME_PORTFOLIO</th>\n",
       "      <th>FLAG_LAST_APPL_PER_CONTRACT</th>\n",
       "      <th>INDEX</th>\n",
       "    </tr>\n",
       "  </thead>\n",
       "  <tbody>\n",
       "    <tr>\n",
       "      <th>10994</th>\n",
       "      <td>9806.22</td>\n",
       "      <td>0.0</td>\n",
       "      <td>365243.0</td>\n",
       "      <td>XAP</td>\n",
       "      <td>365243.0</td>\n",
       "      <td>Country-wide</td>\n",
       "      <td>86337.45</td>\n",
       "      <td>11</td>\n",
       "      <td>-204</td>\n",
       "      <td>None</td>\n",
       "      <td>...</td>\n",
       "      <td>103.0</td>\n",
       "      <td>1288419</td>\n",
       "      <td>1</td>\n",
       "      <td>86337.45</td>\n",
       "      <td>NaN</td>\n",
       "      <td>29</td>\n",
       "      <td>low_normal</td>\n",
       "      <td>POS</td>\n",
       "      <td>Y</td>\n",
       "      <td>1644868</td>\n",
       "    </tr>\n",
       "  </tbody>\n",
       "</table>\n",
       "<p>1 rows × 38 columns</p>\n",
       "</div>"
      ],
      "text/plain": [
       "       AMT_ANNUITY  AMT_DOWN_PAYMENT  DAYS_FIRST_DRAWING  \\\n",
       "10994      9806.22               0.0            365243.0   \n",
       "\n",
       "      NAME_CASH_LOAN_PURPOSE  DAYS_TERMINATION  CHANNEL_TYPE  AMT_CREDIT  \\\n",
       "10994                    XAP          365243.0  Country-wide    86337.45   \n",
       "\n",
       "       HOUR_APPR_PROCESS_START  DAYS_DECISION NAME_TYPE_SUITE  ...  \\\n",
       "10994                       11           -204            None  ...   \n",
       "\n",
       "       DAYS_LAST_DUE_1ST_VERSION  SK_ID_PREV  NFLAG_LAST_APPL_IN_DAY  \\\n",
       "10994                      103.0     1288419                       1   \n",
       "\n",
       "       AMT_GOODS_PRICE RATE_INTEREST_PRIVILEGED SELLERPLACE_AREA  \\\n",
       "10994         86337.45                      NaN               29   \n",
       "\n",
       "      NAME_YIELD_GROUP  NAME_PORTFOLIO FLAG_LAST_APPL_PER_CONTRACT    INDEX  \n",
       "10994       low_normal             POS                           Y  1644868  \n",
       "\n",
       "[1 rows x 38 columns]"
      ]
     },
     "execution_count": 9,
     "metadata": {},
     "output_type": "execute_result"
    }
   ],
   "source": [
    "previous_application.sample()"
   ]
  },
  {
   "cell_type": "code",
   "execution_count": 10,
   "id": "80ad513b-1393-4f99-825e-45b66cc49022",
   "metadata": {},
   "outputs": [],
   "source": [
    "bureau = layer.get_dataset(\"bureau\").to_pandas()"
   ]
  },
  {
   "cell_type": "code",
   "execution_count": 84,
   "id": "c2b42abf-a093-4bea-8588-a9cca509537d",
   "metadata": {},
   "outputs": [
    {
     "data": {
      "text/html": [
       "<div>\n",
       "<style scoped>\n",
       "    .dataframe tbody tr th:only-of-type {\n",
       "        vertical-align: middle;\n",
       "    }\n",
       "\n",
       "    .dataframe tbody tr th {\n",
       "        vertical-align: top;\n",
       "    }\n",
       "\n",
       "    .dataframe thead th {\n",
       "        text-align: right;\n",
       "    }\n",
       "</style>\n",
       "<table border=\"1\" class=\"dataframe\">\n",
       "  <thead>\n",
       "    <tr style=\"text-align: right;\">\n",
       "      <th></th>\n",
       "      <th>AMT_ANNUITY</th>\n",
       "      <th>CREDIT_ACTIVE</th>\n",
       "      <th>SK_ID_BUREAU</th>\n",
       "      <th>DAYS_ENDDATE_FACT</th>\n",
       "      <th>SK_ID_CURR</th>\n",
       "      <th>CREDIT_DAY_OVERDUE</th>\n",
       "      <th>AMT_CREDIT_MAX_OVERDUE</th>\n",
       "      <th>AMT_CREDIT_SUM_LIMIT</th>\n",
       "      <th>CNT_CREDIT_PROLONG</th>\n",
       "      <th>AMT_CREDIT_SUM_DEBT</th>\n",
       "      <th>DAYS_CREDIT_UPDATE</th>\n",
       "      <th>DAYS_CREDIT</th>\n",
       "      <th>CREDIT_TYPE</th>\n",
       "      <th>AMT_CREDIT_SUM</th>\n",
       "      <th>CREDIT_CURRENCY</th>\n",
       "      <th>AMT_CREDIT_SUM_OVERDUE</th>\n",
       "      <th>DAYS_CREDIT_ENDDATE</th>\n",
       "      <th>INDEX</th>\n",
       "    </tr>\n",
       "  </thead>\n",
       "  <tbody>\n",
       "    <tr>\n",
       "      <th>31388</th>\n",
       "      <td>0.0</td>\n",
       "      <td>Closed</td>\n",
       "      <td>5466695</td>\n",
       "      <td>-63.0</td>\n",
       "      <td>418659</td>\n",
       "      <td>0</td>\n",
       "      <td>NaN</td>\n",
       "      <td>NaN</td>\n",
       "      <td>0</td>\n",
       "      <td>0.0</td>\n",
       "      <td>-63</td>\n",
       "      <td>-92</td>\n",
       "      <td>Microloan</td>\n",
       "      <td>31500.0</td>\n",
       "      <td>currency 1</td>\n",
       "      <td>0.0</td>\n",
       "      <td>NaN</td>\n",
       "      <td>899053</td>\n",
       "    </tr>\n",
       "  </tbody>\n",
       "</table>\n",
       "</div>"
      ],
      "text/plain": [
       "       AMT_ANNUITY CREDIT_ACTIVE  SK_ID_BUREAU  DAYS_ENDDATE_FACT  SK_ID_CURR  \\\n",
       "31388          0.0        Closed       5466695              -63.0      418659   \n",
       "\n",
       "       CREDIT_DAY_OVERDUE  AMT_CREDIT_MAX_OVERDUE  AMT_CREDIT_SUM_LIMIT  \\\n",
       "31388                   0                     NaN                   NaN   \n",
       "\n",
       "       CNT_CREDIT_PROLONG  AMT_CREDIT_SUM_DEBT  DAYS_CREDIT_UPDATE  \\\n",
       "31388                   0                  0.0                 -63   \n",
       "\n",
       "       DAYS_CREDIT CREDIT_TYPE  AMT_CREDIT_SUM CREDIT_CURRENCY  \\\n",
       "31388          -92   Microloan         31500.0      currency 1   \n",
       "\n",
       "       AMT_CREDIT_SUM_OVERDUE  DAYS_CREDIT_ENDDATE   INDEX  \n",
       "31388                     0.0                  NaN  899053  "
      ]
     },
     "execution_count": 84,
     "metadata": {},
     "output_type": "execute_result"
    }
   ],
   "source": [
    "bureau.sample()"
   ]
  },
  {
   "cell_type": "markdown",
   "id": "291166bc-0676-47c6-a5ba-1baa0d335083",
   "metadata": {},
   "source": [
    "## Fetch features"
   ]
  },
  {
   "cell_type": "code",
   "execution_count": 12,
   "id": "36da5182-a28c-4467-b57f-30a8918f7779",
   "metadata": {},
   "outputs": [],
   "source": [
    "previous_application_features = layer.get_featureset(\"previous_application_features\").to_pandas()"
   ]
  },
  {
   "cell_type": "code",
   "execution_count": 13,
   "id": "eafb0852-cdeb-416f-aa01-e94d731bccdf",
   "metadata": {},
   "outputs": [
    {
     "data": {
      "text/html": [
       "<div>\n",
       "<style scoped>\n",
       "    .dataframe tbody tr th:only-of-type {\n",
       "        vertical-align: middle;\n",
       "    }\n",
       "\n",
       "    .dataframe tbody tr th {\n",
       "        vertical-align: top;\n",
       "    }\n",
       "\n",
       "    .dataframe thead th {\n",
       "        text-align: right;\n",
       "    }\n",
       "</style>\n",
       "<table border=\"1\" class=\"dataframe\">\n",
       "  <thead>\n",
       "    <tr style=\"text-align: right;\">\n",
       "      <th></th>\n",
       "      <th>INDEX</th>\n",
       "      <th>APPLIED_AWARDED_AMOUNT_DIFF</th>\n",
       "      <th>GOODS_PRICE_APPLIED_DIFF</th>\n",
       "    </tr>\n",
       "  </thead>\n",
       "  <tbody>\n",
       "    <tr>\n",
       "      <th>10880</th>\n",
       "      <td>1641002</td>\n",
       "      <td>42619.5</td>\n",
       "      <td>0.0</td>\n",
       "    </tr>\n",
       "  </tbody>\n",
       "</table>\n",
       "</div>"
      ],
      "text/plain": [
       "         INDEX  APPLIED_AWARDED_AMOUNT_DIFF  GOODS_PRICE_APPLIED_DIFF\n",
       "10880  1641002                      42619.5                       0.0"
      ]
     },
     "execution_count": 13,
     "metadata": {},
     "output_type": "execute_result"
    }
   ],
   "source": [
    "previous_application_features.sample()"
   ]
  },
  {
   "cell_type": "code",
   "execution_count": 18,
   "id": "57fd6f8a-84c4-4184-a5a4-75e219979bc3",
   "metadata": {},
   "outputs": [],
   "source": [
    "application_features = layer.get_featureset(\"application_features\").to_pandas()"
   ]
  },
  {
   "cell_type": "code",
   "execution_count": 19,
   "id": "d99632dc-e1dc-42e8-bd20-9fd8f91b8271",
   "metadata": {},
   "outputs": [
    {
     "data": {
      "text/html": [
       "<div>\n",
       "<style scoped>\n",
       "    .dataframe tbody tr th:only-of-type {\n",
       "        vertical-align: middle;\n",
       "    }\n",
       "\n",
       "    .dataframe tbody tr th {\n",
       "        vertical-align: top;\n",
       "    }\n",
       "\n",
       "    .dataframe thead th {\n",
       "        text-align: right;\n",
       "    }\n",
       "</style>\n",
       "<table border=\"1\" class=\"dataframe\">\n",
       "  <thead>\n",
       "    <tr style=\"text-align: right;\">\n",
       "      <th></th>\n",
       "      <th>INDEX</th>\n",
       "      <th>ANNUITY_INCOME_RATIO</th>\n",
       "      <th>CREDIT_INCOME_RATIO</th>\n",
       "      <th>CREDIT_TERM</th>\n",
       "      <th>DAYS_EMPLOYED_RATIO</th>\n",
       "      <th>GOODS_PRICE_LOAN_DIFFERENCE</th>\n",
       "    </tr>\n",
       "  </thead>\n",
       "  <tbody>\n",
       "    <tr>\n",
       "      <th>7970</th>\n",
       "      <td>150130</td>\n",
       "      <td>0.259773</td>\n",
       "      <td>2.613227</td>\n",
       "      <td>0.099407</td>\n",
       "      <td>0.146792</td>\n",
       "      <td>-24709.5</td>\n",
       "    </tr>\n",
       "  </tbody>\n",
       "</table>\n",
       "</div>"
      ],
      "text/plain": [
       "       INDEX  ANNUITY_INCOME_RATIO  CREDIT_INCOME_RATIO  CREDIT_TERM  \\\n",
       "7970  150130              0.259773             2.613227     0.099407   \n",
       "\n",
       "      DAYS_EMPLOYED_RATIO  GOODS_PRICE_LOAN_DIFFERENCE  \n",
       "7970             0.146792                     -24709.5  "
      ]
     },
     "execution_count": 19,
     "metadata": {},
     "output_type": "execute_result"
    }
   ],
   "source": [
    "application_features.sample()"
   ]
  },
  {
   "cell_type": "code",
   "execution_count": 20,
   "id": "5e982134-fb72-41f9-9634-5414094676d4",
   "metadata": {},
   "outputs": [],
   "source": [
    "bureau_features = layer.get_featureset(\"bureau_features\").to_pandas()"
   ]
  },
  {
   "cell_type": "code",
   "execution_count": 21,
   "id": "dacb3810-7f66-484d-8f8e-f4ad7d0d77b5",
   "metadata": {},
   "outputs": [
    {
     "data": {
      "text/html": [
       "<div>\n",
       "<style scoped>\n",
       "    .dataframe tbody tr th:only-of-type {\n",
       "        vertical-align: middle;\n",
       "    }\n",
       "\n",
       "    .dataframe tbody tr th {\n",
       "        vertical-align: top;\n",
       "    }\n",
       "\n",
       "    .dataframe thead th {\n",
       "        text-align: right;\n",
       "    }\n",
       "</style>\n",
       "<table border=\"1\" class=\"dataframe\">\n",
       "  <thead>\n",
       "    <tr style=\"text-align: right;\">\n",
       "      <th></th>\n",
       "      <th>INDEX</th>\n",
       "      <th>CREDIT_LIMIT_ABOVE_ZERO</th>\n",
       "      <th>HAS_DEBT</th>\n",
       "      <th>HAS_OVERDUE_DEBT</th>\n",
       "    </tr>\n",
       "  </thead>\n",
       "  <tbody>\n",
       "    <tr>\n",
       "      <th>38944</th>\n",
       "      <td>1178933</td>\n",
       "      <td>0</td>\n",
       "      <td>0</td>\n",
       "      <td>0</td>\n",
       "    </tr>\n",
       "  </tbody>\n",
       "</table>\n",
       "</div>"
      ],
      "text/plain": [
       "         INDEX  CREDIT_LIMIT_ABOVE_ZERO  HAS_DEBT  HAS_OVERDUE_DEBT\n",
       "38944  1178933                        0         0                 0"
      ]
     },
     "execution_count": 21,
     "metadata": {},
     "output_type": "execute_result"
    }
   ],
   "source": [
    "bureau_features.sample()"
   ]
  },
  {
   "cell_type": "markdown",
   "id": "5ce8fc07-af14-42f6-af9d-ad6e76848b64",
   "metadata": {},
   "source": [
    "##  Fetch model"
   ]
  },
  {
   "cell_type": "code",
   "execution_count": 85,
   "id": "397da28b-efb1-4f06-9a8b-a90450bcf180",
   "metadata": {},
   "outputs": [],
   "source": [
    "credit_model = layer.get_model(\"credit_score_model:79.4\")"
   ]
  },
  {
   "cell_type": "code",
   "execution_count": 86,
   "id": "93505db7-7f4a-4cc4-a31a-b036ca578d00",
   "metadata": {},
   "outputs": [
    {
     "name": "stdout",
     "output_type": "stream",
     "text": [
      "{'l2_regularization': '0.028679718370026797', 'max_depth': '5', 'test_size': '0.3', 'random_state': '42', 'learning_rate': '0.7232099468700303', 'max_iter': '500', 'min_samples_leaf': '50'}\n",
      "{'avg_precision': [(1637776167935, 0.8552733368990358)], 'roc_auc_score': [(1637776167946, 0.9728203892885045)]}\n"
     ]
    }
   ],
   "source": [
    "print(credit_model.parameters)\n",
    "print(credit_model.metrics)"
   ]
  },
  {
   "cell_type": "code",
   "execution_count": 87,
   "id": "cafaa90f-043f-476e-8908-9bc9a520c56d",
   "metadata": {},
   "outputs": [],
   "source": [
    "trained_classifier = credit_model.get_train()"
   ]
  },
  {
   "cell_type": "code",
   "execution_count": 88,
   "id": "17d9d296-2643-4cab-bd63-efa5f5e514ee",
   "metadata": {},
   "outputs": [],
   "source": [
    "data = np.array([[1731690, -1916.0,-1953.0,6953.31,6953.31,1731690,0, 0  ,1731690 ,0.2976,7.47512,0.039812,1731690,0.189752,-161451.0,1731690,1731690,1731690,1731690,1,-16074.0, 1731690, 0.0, 1 ]])\n"
   ]
  },
  {
   "cell_type": "code",
   "execution_count": 90,
   "id": "b5031dc9-9cb5-4e92-b968-f471509ea7d2",
   "metadata": {},
   "outputs": [],
   "source": [
    "categories = []\n",
    "transformer = ColumnTransformer(\n",
    "        transformers=[('cat', OneHotEncoder(handle_unknown='ignore', drop=\"first\"), categories)],\n",
    "        remainder='passthrough')"
   ]
  },
  {
   "cell_type": "code",
   "execution_count": 91,
   "id": "c70a7116-b509-4056-b5e3-b66dfdd63431",
   "metadata": {},
   "outputs": [],
   "source": [
    "data = transformer.fit_transform(data)"
   ]
  },
  {
   "cell_type": "code",
   "execution_count": 92,
   "id": "e1dd1b27-3f0b-4168-9c14-a6b3668b316a",
   "metadata": {},
   "outputs": [
    {
     "data": {
      "text/plain": [
       "array([1])"
      ]
     },
     "execution_count": 92,
     "metadata": {},
     "output_type": "execute_result"
    }
   ],
   "source": [
    "trained_classifier.predict(data)"
   ]
  },
  {
   "cell_type": "code",
   "execution_count": 95,
   "id": "2a72befd-212e-4528-97d0-bb3e41de78c7",
   "metadata": {},
   "outputs": [
    {
     "data": {
      "text/plain": [
       "array([[0., 1.]])"
      ]
     },
     "execution_count": 95,
     "metadata": {},
     "output_type": "execute_result"
    }
   ],
   "source": [
    "trained_classifier.predict_proba(data)"
   ]
  },
  {
   "cell_type": "code",
   "execution_count": 94,
   "id": "1f90dc35-73b0-4277-8ff5-506c315f8176",
   "metadata": {},
   "outputs": [
    {
     "name": "stdout",
     "output_type": "stream",
     "text": [
      "[0]"
     ]
    }
   ],
   "source": [
    "!curl --header \"Content-Type: application/json; format=pandas-records\" \\\n",
    "  --request POST \\\n",
    "  --data '[{\"OWN_CAR_AGE\":10, \"APPLIED_AWARDED_AMOUNT_DIFF\":20, \"REGION_RATING_CLIENT_W_CITY\":30, \"CREDIT_INCOME_RATIO\":0.25,\"CREDIT_TERM\":300, \"DAYS_BIRTH\":14600, \"cluster\":0, \"DAYS_EMPLOYED_RATIO\":10000, \"AMT_INSTALMENT\":20, \"DAYS_ID_PUBLISH\":3000, \"GOODS_PRICE_LOAN_DIFFERENCE\":52, \"AMT_PAYMENT\":3000, \"HAS_DEBT\":0, \"REG_CITY_NOT_WORK_CITY\":1, \"AMT_CREDIT_SUM_OVERDUE\":0, \"FLAG_DOCUMENT_3\":1, \"DAYS_ENTRY_PAYMENT\":45789, \"DAYS_REGISTRATION\":9000, \"LIVE_CITY_NOT_WORK_CITY\":0, \"DAYS_INSTALMENT\":122, \"ANNUITY_INCOME_RATIO\":0.247, \"GOODS_PRICE_APPLIED_DIFF\":-258, \"REGION_RATING_CLIENT\":1, \"CREDIT_LIMIT_ABOVE_ZERO\":0}]' \\\n",
    "https://7d674b54-c62f-4333-92eb-7f316445d77b.inferences.beta.layer.co/invocations"
   ]
  }
 ],
 "metadata": {
  "kernelspec": {
   "display_name": "Python 3 (ipykernel)",
   "language": "python",
   "name": "python3"
  },
  "language_info": {
   "codemirror_mode": {
    "name": "ipython",
    "version": 3
   },
   "file_extension": ".py",
   "mimetype": "text/x-python",
   "name": "python",
   "nbconvert_exporter": "python",
   "pygments_lexer": "ipython3",
   "version": "3.8.10"
  }
 },
 "nbformat": 4,
 "nbformat_minor": 5
}
