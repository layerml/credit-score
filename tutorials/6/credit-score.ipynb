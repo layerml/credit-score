{
 "cells": [
  {
   "cell_type": "code",
   "execution_count": 144,
   "id": "6356d03e-0eb2-40a6-811f-79ee8b9b9ef9",
   "metadata": {},
   "outputs": [],
   "source": [
    "import layer\n",
    "import numpy as np\n",
    "from sklearn.compose import ColumnTransformer\n",
    "from sklearn.preprocessing import OneHotEncoder"
   ]
  },
  {
   "cell_type": "markdown",
   "id": "19575fc7-5420-4ebc-b9f9-295420869461",
   "metadata": {},
   "source": [
    "## Fetch datasets"
   ]
  },
  {
   "cell_type": "code",
   "execution_count": 145,
   "id": "f0d5d147-3aad-4875-b9ac-0b2e06bb7b23",
   "metadata": {},
   "outputs": [],
   "source": [
    "application = layer.get_dataset(\"application_train\").to_pandas()"
   ]
  },
  {
   "cell_type": "code",
   "execution_count": 147,
   "id": "cdd6f0cd-b565-4c22-b230-86d26ecf1230",
   "metadata": {},
   "outputs": [
    {
     "data": {
      "text/html": [
       "<div>\n",
       "<style scoped>\n",
       "    .dataframe tbody tr th:only-of-type {\n",
       "        vertical-align: middle;\n",
       "    }\n",
       "\n",
       "    .dataframe tbody tr th {\n",
       "        vertical-align: top;\n",
       "    }\n",
       "\n",
       "    .dataframe thead th {\n",
       "        text-align: right;\n",
       "    }\n",
       "</style>\n",
       "<table border=\"1\" class=\"dataframe\">\n",
       "  <thead>\n",
       "    <tr style=\"text-align: right;\">\n",
       "      <th></th>\n",
       "      <th>FLAG_DOCUMENT_14</th>\n",
       "      <th>REGION_POPULATION_RELATIVE</th>\n",
       "      <th>FONDKAPREMONT_MODE</th>\n",
       "      <th>LANDAREA_AVG</th>\n",
       "      <th>REGION_RATING_CLIENT_W_CITY</th>\n",
       "      <th>AMT_ANNUITY</th>\n",
       "      <th>FLAG_DOCUMENT_19</th>\n",
       "      <th>YEARS_BEGINEXPLUATATION_AVG</th>\n",
       "      <th>OWN_CAR_AGE</th>\n",
       "      <th>EXT_SOURCE_2</th>\n",
       "      <th>...</th>\n",
       "      <th>FLAG_OWN_REALTY</th>\n",
       "      <th>LIVINGAPARTMENTS_MEDI</th>\n",
       "      <th>ELEVATORS_AVG</th>\n",
       "      <th>NONLIVINGAREA_AVG</th>\n",
       "      <th>REG_REGION_NOT_WORK_REGION</th>\n",
       "      <th>FLAG_DOCUMENT_17</th>\n",
       "      <th>AMT_REQ_CREDIT_BUREAU_WEEK</th>\n",
       "      <th>AMT_REQ_CREDIT_BUREAU_HOUR</th>\n",
       "      <th>LANDAREA_MEDI</th>\n",
       "      <th>INDEX</th>\n",
       "    </tr>\n",
       "  </thead>\n",
       "  <tbody>\n",
       "    <tr>\n",
       "      <th>0</th>\n",
       "      <td>0</td>\n",
       "      <td>0.009630</td>\n",
       "      <td>None</td>\n",
       "      <td>NaN</td>\n",
       "      <td>2</td>\n",
       "      <td>11533.5</td>\n",
       "      <td>0</td>\n",
       "      <td>NaN</td>\n",
       "      <td>NaN</td>\n",
       "      <td>0.412729</td>\n",
       "      <td>...</td>\n",
       "      <td>Y</td>\n",
       "      <td>NaN</td>\n",
       "      <td>NaN</td>\n",
       "      <td>NaN</td>\n",
       "      <td>1</td>\n",
       "      <td>0</td>\n",
       "      <td>0.0</td>\n",
       "      <td>0.0</td>\n",
       "      <td>NaN</td>\n",
       "      <td>220101</td>\n",
       "    </tr>\n",
       "    <tr>\n",
       "      <th>1</th>\n",
       "      <td>0</td>\n",
       "      <td>0.015221</td>\n",
       "      <td>None</td>\n",
       "      <td>0.0688</td>\n",
       "      <td>2</td>\n",
       "      <td>4504.5</td>\n",
       "      <td>0</td>\n",
       "      <td>0.9891</td>\n",
       "      <td>NaN</td>\n",
       "      <td>0.550291</td>\n",
       "      <td>...</td>\n",
       "      <td>N</td>\n",
       "      <td>NaN</td>\n",
       "      <td>0.16</td>\n",
       "      <td>NaN</td>\n",
       "      <td>0</td>\n",
       "      <td>0</td>\n",
       "      <td>0.0</td>\n",
       "      <td>0.0</td>\n",
       "      <td>0.070</td>\n",
       "      <td>298840</td>\n",
       "    </tr>\n",
       "    <tr>\n",
       "      <th>2</th>\n",
       "      <td>0</td>\n",
       "      <td>0.031329</td>\n",
       "      <td>reg oper account</td>\n",
       "      <td>0.0934</td>\n",
       "      <td>2</td>\n",
       "      <td>14017.5</td>\n",
       "      <td>0</td>\n",
       "      <td>0.9916</td>\n",
       "      <td>NaN</td>\n",
       "      <td>0.051280</td>\n",
       "      <td>...</td>\n",
       "      <td>N</td>\n",
       "      <td>0.1437</td>\n",
       "      <td>0.20</td>\n",
       "      <td>0.0161</td>\n",
       "      <td>0</td>\n",
       "      <td>0</td>\n",
       "      <td>0.0</td>\n",
       "      <td>0.0</td>\n",
       "      <td>0.095</td>\n",
       "      <td>296804</td>\n",
       "    </tr>\n",
       "    <tr>\n",
       "      <th>3</th>\n",
       "      <td>0</td>\n",
       "      <td>0.020246</td>\n",
       "      <td>None</td>\n",
       "      <td>NaN</td>\n",
       "      <td>3</td>\n",
       "      <td>19417.5</td>\n",
       "      <td>0</td>\n",
       "      <td>NaN</td>\n",
       "      <td>NaN</td>\n",
       "      <td>0.357197</td>\n",
       "      <td>...</td>\n",
       "      <td>N</td>\n",
       "      <td>NaN</td>\n",
       "      <td>NaN</td>\n",
       "      <td>NaN</td>\n",
       "      <td>0</td>\n",
       "      <td>0</td>\n",
       "      <td>0.0</td>\n",
       "      <td>0.0</td>\n",
       "      <td>NaN</td>\n",
       "      <td>47748</td>\n",
       "    </tr>\n",
       "    <tr>\n",
       "      <th>4</th>\n",
       "      <td>0</td>\n",
       "      <td>0.018209</td>\n",
       "      <td>None</td>\n",
       "      <td>NaN</td>\n",
       "      <td>3</td>\n",
       "      <td>46926.0</td>\n",
       "      <td>0</td>\n",
       "      <td>NaN</td>\n",
       "      <td>NaN</td>\n",
       "      <td>0.511803</td>\n",
       "      <td>...</td>\n",
       "      <td>N</td>\n",
       "      <td>NaN</td>\n",
       "      <td>NaN</td>\n",
       "      <td>NaN</td>\n",
       "      <td>0</td>\n",
       "      <td>0</td>\n",
       "      <td>0.0</td>\n",
       "      <td>0.0</td>\n",
       "      <td>NaN</td>\n",
       "      <td>131267</td>\n",
       "    </tr>\n",
       "  </tbody>\n",
       "</table>\n",
       "<p>5 rows × 123 columns</p>\n",
       "</div>"
      ],
      "text/plain": [
       "   FLAG_DOCUMENT_14  REGION_POPULATION_RELATIVE FONDKAPREMONT_MODE  \\\n",
       "0                 0                    0.009630               None   \n",
       "1                 0                    0.015221               None   \n",
       "2                 0                    0.031329   reg oper account   \n",
       "3                 0                    0.020246               None   \n",
       "4                 0                    0.018209               None   \n",
       "\n",
       "   LANDAREA_AVG  REGION_RATING_CLIENT_W_CITY  AMT_ANNUITY  FLAG_DOCUMENT_19  \\\n",
       "0           NaN                            2      11533.5                 0   \n",
       "1        0.0688                            2       4504.5                 0   \n",
       "2        0.0934                            2      14017.5                 0   \n",
       "3           NaN                            3      19417.5                 0   \n",
       "4           NaN                            3      46926.0                 0   \n",
       "\n",
       "   YEARS_BEGINEXPLUATATION_AVG  OWN_CAR_AGE  EXT_SOURCE_2  ...  \\\n",
       "0                          NaN          NaN      0.412729  ...   \n",
       "1                       0.9891          NaN      0.550291  ...   \n",
       "2                       0.9916          NaN      0.051280  ...   \n",
       "3                          NaN          NaN      0.357197  ...   \n",
       "4                          NaN          NaN      0.511803  ...   \n",
       "\n",
       "   FLAG_OWN_REALTY  LIVINGAPARTMENTS_MEDI  ELEVATORS_AVG  NONLIVINGAREA_AVG  \\\n",
       "0                Y                    NaN            NaN                NaN   \n",
       "1                N                    NaN           0.16                NaN   \n",
       "2                N                 0.1437           0.20             0.0161   \n",
       "3                N                    NaN            NaN                NaN   \n",
       "4                N                    NaN            NaN                NaN   \n",
       "\n",
       "   REG_REGION_NOT_WORK_REGION  FLAG_DOCUMENT_17  AMT_REQ_CREDIT_BUREAU_WEEK  \\\n",
       "0                           1                 0                         0.0   \n",
       "1                           0                 0                         0.0   \n",
       "2                           0                 0                         0.0   \n",
       "3                           0                 0                         0.0   \n",
       "4                           0                 0                         0.0   \n",
       "\n",
       "  AMT_REQ_CREDIT_BUREAU_HOUR  LANDAREA_MEDI   INDEX  \n",
       "0                        0.0            NaN  220101  \n",
       "1                        0.0          0.070  298840  \n",
       "2                        0.0          0.095  296804  \n",
       "3                        0.0            NaN   47748  \n",
       "4                        0.0            NaN  131267  \n",
       "\n",
       "[5 rows x 123 columns]"
      ]
     },
     "execution_count": 147,
     "metadata": {},
     "output_type": "execute_result"
    }
   ],
   "source": [
    "application.head()"
   ]
  },
  {
   "cell_type": "code",
   "execution_count": 148,
   "id": "88cfad7b-72e0-4f8f-be05-d855c53718c4",
   "metadata": {},
   "outputs": [
    {
     "data": {
      "text/html": [
       "<div>\n",
       "<style scoped>\n",
       "    .dataframe tbody tr th:only-of-type {\n",
       "        vertical-align: middle;\n",
       "    }\n",
       "\n",
       "    .dataframe tbody tr th {\n",
       "        vertical-align: top;\n",
       "    }\n",
       "\n",
       "    .dataframe thead th {\n",
       "        text-align: right;\n",
       "    }\n",
       "</style>\n",
       "<table border=\"1\" class=\"dataframe\">\n",
       "  <thead>\n",
       "    <tr style=\"text-align: right;\">\n",
       "      <th></th>\n",
       "      <th>FLAG_DOCUMENT_14</th>\n",
       "      <th>REGION_POPULATION_RELATIVE</th>\n",
       "      <th>FONDKAPREMONT_MODE</th>\n",
       "      <th>LANDAREA_AVG</th>\n",
       "      <th>REGION_RATING_CLIENT_W_CITY</th>\n",
       "      <th>AMT_ANNUITY</th>\n",
       "      <th>FLAG_DOCUMENT_19</th>\n",
       "      <th>YEARS_BEGINEXPLUATATION_AVG</th>\n",
       "      <th>OWN_CAR_AGE</th>\n",
       "      <th>EXT_SOURCE_2</th>\n",
       "      <th>...</th>\n",
       "      <th>FLAG_OWN_REALTY</th>\n",
       "      <th>LIVINGAPARTMENTS_MEDI</th>\n",
       "      <th>ELEVATORS_AVG</th>\n",
       "      <th>NONLIVINGAREA_AVG</th>\n",
       "      <th>REG_REGION_NOT_WORK_REGION</th>\n",
       "      <th>FLAG_DOCUMENT_17</th>\n",
       "      <th>AMT_REQ_CREDIT_BUREAU_WEEK</th>\n",
       "      <th>AMT_REQ_CREDIT_BUREAU_HOUR</th>\n",
       "      <th>LANDAREA_MEDI</th>\n",
       "      <th>INDEX</th>\n",
       "    </tr>\n",
       "  </thead>\n",
       "  <tbody>\n",
       "    <tr>\n",
       "      <th>2707</th>\n",
       "      <td>0</td>\n",
       "      <td>0.018029</td>\n",
       "      <td>None</td>\n",
       "      <td>NaN</td>\n",
       "      <td>3</td>\n",
       "      <td>28408.5</td>\n",
       "      <td>0</td>\n",
       "      <td>0.9995</td>\n",
       "      <td>19.0</td>\n",
       "      <td>0.376325</td>\n",
       "      <td>...</td>\n",
       "      <td>N</td>\n",
       "      <td>NaN</td>\n",
       "      <td>0.04</td>\n",
       "      <td>0.0553</td>\n",
       "      <td>0</td>\n",
       "      <td>0</td>\n",
       "      <td>0.0</td>\n",
       "      <td>0.0</td>\n",
       "      <td>NaN</td>\n",
       "      <td>226289</td>\n",
       "    </tr>\n",
       "  </tbody>\n",
       "</table>\n",
       "<p>1 rows × 123 columns</p>\n",
       "</div>"
      ],
      "text/plain": [
       "      FLAG_DOCUMENT_14  REGION_POPULATION_RELATIVE FONDKAPREMONT_MODE  \\\n",
       "2707                 0                    0.018029               None   \n",
       "\n",
       "      LANDAREA_AVG  REGION_RATING_CLIENT_W_CITY  AMT_ANNUITY  \\\n",
       "2707           NaN                            3      28408.5   \n",
       "\n",
       "      FLAG_DOCUMENT_19  YEARS_BEGINEXPLUATATION_AVG  OWN_CAR_AGE  \\\n",
       "2707                 0                       0.9995         19.0   \n",
       "\n",
       "      EXT_SOURCE_2  ...  FLAG_OWN_REALTY  LIVINGAPARTMENTS_MEDI  \\\n",
       "2707      0.376325  ...                N                    NaN   \n",
       "\n",
       "      ELEVATORS_AVG  NONLIVINGAREA_AVG  REG_REGION_NOT_WORK_REGION  \\\n",
       "2707           0.04             0.0553                           0   \n",
       "\n",
       "      FLAG_DOCUMENT_17  AMT_REQ_CREDIT_BUREAU_WEEK AMT_REQ_CREDIT_BUREAU_HOUR  \\\n",
       "2707                 0                         0.0                        0.0   \n",
       "\n",
       "      LANDAREA_MEDI   INDEX  \n",
       "2707            NaN  226289  \n",
       "\n",
       "[1 rows x 123 columns]"
      ]
     },
     "execution_count": 148,
     "metadata": {},
     "output_type": "execute_result"
    }
   ],
   "source": [
    "application.sample()"
   ]
  },
  {
   "cell_type": "code",
   "execution_count": 149,
   "id": "884c915c-47d7-4334-b369-5c4cf4d404d5",
   "metadata": {},
   "outputs": [],
   "source": [
    "installment_payments = layer.get_dataset(\"installments_payments\").to_pandas()"
   ]
  },
  {
   "cell_type": "code",
   "execution_count": 150,
   "id": "e3867f82-2b96-4f44-b70c-d1e7b073c77e",
   "metadata": {},
   "outputs": [
    {
     "data": {
      "text/html": [
       "<div>\n",
       "<style scoped>\n",
       "    .dataframe tbody tr th:only-of-type {\n",
       "        vertical-align: middle;\n",
       "    }\n",
       "\n",
       "    .dataframe tbody tr th {\n",
       "        vertical-align: top;\n",
       "    }\n",
       "\n",
       "    .dataframe thead th {\n",
       "        text-align: right;\n",
       "    }\n",
       "</style>\n",
       "<table border=\"1\" class=\"dataframe\">\n",
       "  <thead>\n",
       "    <tr style=\"text-align: right;\">\n",
       "      <th></th>\n",
       "      <th>SK_ID_CURR</th>\n",
       "      <th>DAYS_ENTRY_PAYMENT</th>\n",
       "      <th>AMT_INSTALMENT</th>\n",
       "      <th>AMT_PAYMENT</th>\n",
       "      <th>NUM_INSTALMENT_NUMBER</th>\n",
       "      <th>NUM_INSTALMENT_VERSION</th>\n",
       "      <th>DAYS_INSTALMENT</th>\n",
       "      <th>SK_ID_PREV</th>\n",
       "      <th>INDEX</th>\n",
       "    </tr>\n",
       "  </thead>\n",
       "  <tbody>\n",
       "    <tr>\n",
       "      <th>243962</th>\n",
       "      <td>303611</td>\n",
       "      <td>-62.0</td>\n",
       "      <td>55493.28</td>\n",
       "      <td>55493.28</td>\n",
       "      <td>10</td>\n",
       "      <td>2.0</td>\n",
       "      <td>-61.0</td>\n",
       "      <td>1820070</td>\n",
       "      <td>7844978</td>\n",
       "    </tr>\n",
       "  </tbody>\n",
       "</table>\n",
       "</div>"
      ],
      "text/plain": [
       "        SK_ID_CURR  DAYS_ENTRY_PAYMENT  AMT_INSTALMENT  AMT_PAYMENT  \\\n",
       "243962      303611               -62.0        55493.28     55493.28   \n",
       "\n",
       "        NUM_INSTALMENT_NUMBER  NUM_INSTALMENT_VERSION  DAYS_INSTALMENT  \\\n",
       "243962                     10                     2.0            -61.0   \n",
       "\n",
       "        SK_ID_PREV    INDEX  \n",
       "243962     1820070  7844978  "
      ]
     },
     "execution_count": 150,
     "metadata": {},
     "output_type": "execute_result"
    }
   ],
   "source": [
    "installment_payments.sample()"
   ]
  },
  {
   "cell_type": "code",
   "execution_count": 151,
   "id": "8965e13a-0125-4473-9c75-a5fa1072fa46",
   "metadata": {},
   "outputs": [],
   "source": [
    "previous_application = layer.get_dataset(\"previous_application\").to_pandas()"
   ]
  },
  {
   "cell_type": "code",
   "execution_count": 152,
   "id": "83356d8d-272c-42b9-bf6f-e921a63f915e",
   "metadata": {},
   "outputs": [
    {
     "data": {
      "text/html": [
       "<div>\n",
       "<style scoped>\n",
       "    .dataframe tbody tr th:only-of-type {\n",
       "        vertical-align: middle;\n",
       "    }\n",
       "\n",
       "    .dataframe tbody tr th {\n",
       "        vertical-align: top;\n",
       "    }\n",
       "\n",
       "    .dataframe thead th {\n",
       "        text-align: right;\n",
       "    }\n",
       "</style>\n",
       "<table border=\"1\" class=\"dataframe\">\n",
       "  <thead>\n",
       "    <tr style=\"text-align: right;\">\n",
       "      <th></th>\n",
       "      <th>AMT_ANNUITY</th>\n",
       "      <th>AMT_DOWN_PAYMENT</th>\n",
       "      <th>DAYS_FIRST_DRAWING</th>\n",
       "      <th>NAME_CASH_LOAN_PURPOSE</th>\n",
       "      <th>DAYS_TERMINATION</th>\n",
       "      <th>CHANNEL_TYPE</th>\n",
       "      <th>AMT_CREDIT</th>\n",
       "      <th>HOUR_APPR_PROCESS_START</th>\n",
       "      <th>DAYS_DECISION</th>\n",
       "      <th>NAME_TYPE_SUITE</th>\n",
       "      <th>...</th>\n",
       "      <th>DAYS_LAST_DUE_1ST_VERSION</th>\n",
       "      <th>SK_ID_PREV</th>\n",
       "      <th>NFLAG_LAST_APPL_IN_DAY</th>\n",
       "      <th>AMT_GOODS_PRICE</th>\n",
       "      <th>RATE_INTEREST_PRIVILEGED</th>\n",
       "      <th>SELLERPLACE_AREA</th>\n",
       "      <th>NAME_YIELD_GROUP</th>\n",
       "      <th>NAME_PORTFOLIO</th>\n",
       "      <th>FLAG_LAST_APPL_PER_CONTRACT</th>\n",
       "      <th>INDEX</th>\n",
       "    </tr>\n",
       "  </thead>\n",
       "  <tbody>\n",
       "    <tr>\n",
       "      <th>17583</th>\n",
       "      <td>5037.12</td>\n",
       "      <td>13185.0</td>\n",
       "      <td>365243.0</td>\n",
       "      <td>XAP</td>\n",
       "      <td>-1121.0</td>\n",
       "      <td>Country-wide</td>\n",
       "      <td>39600.0</td>\n",
       "      <td>14</td>\n",
       "      <td>-1441</td>\n",
       "      <td>None</td>\n",
       "      <td>...</td>\n",
       "      <td>-1126.0</td>\n",
       "      <td>1258101</td>\n",
       "      <td>1</td>\n",
       "      <td>52785.0</td>\n",
       "      <td>NaN</td>\n",
       "      <td>30</td>\n",
       "      <td>high</td>\n",
       "      <td>POS</td>\n",
       "      <td>Y</td>\n",
       "      <td>220499</td>\n",
       "    </tr>\n",
       "  </tbody>\n",
       "</table>\n",
       "<p>1 rows × 38 columns</p>\n",
       "</div>"
      ],
      "text/plain": [
       "       AMT_ANNUITY  AMT_DOWN_PAYMENT  DAYS_FIRST_DRAWING  \\\n",
       "17583      5037.12           13185.0            365243.0   \n",
       "\n",
       "      NAME_CASH_LOAN_PURPOSE  DAYS_TERMINATION  CHANNEL_TYPE  AMT_CREDIT  \\\n",
       "17583                    XAP           -1121.0  Country-wide     39600.0   \n",
       "\n",
       "       HOUR_APPR_PROCESS_START  DAYS_DECISION NAME_TYPE_SUITE  ...  \\\n",
       "17583                       14          -1441            None  ...   \n",
       "\n",
       "       DAYS_LAST_DUE_1ST_VERSION  SK_ID_PREV  NFLAG_LAST_APPL_IN_DAY  \\\n",
       "17583                    -1126.0     1258101                       1   \n",
       "\n",
       "       AMT_GOODS_PRICE RATE_INTEREST_PRIVILEGED SELLERPLACE_AREA  \\\n",
       "17583          52785.0                      NaN               30   \n",
       "\n",
       "      NAME_YIELD_GROUP  NAME_PORTFOLIO FLAG_LAST_APPL_PER_CONTRACT   INDEX  \n",
       "17583             high             POS                           Y  220499  \n",
       "\n",
       "[1 rows x 38 columns]"
      ]
     },
     "execution_count": 152,
     "metadata": {},
     "output_type": "execute_result"
    }
   ],
   "source": [
    "previous_application.sample()"
   ]
  },
  {
   "cell_type": "code",
   "execution_count": 153,
   "id": "80ad513b-1393-4f99-825e-45b66cc49022",
   "metadata": {},
   "outputs": [],
   "source": [
    "bureau = layer.get_dataset(\"bureau\").to_pandas()"
   ]
  },
  {
   "cell_type": "code",
   "execution_count": 154,
   "id": "c2b42abf-a093-4bea-8588-a9cca509537d",
   "metadata": {},
   "outputs": [
    {
     "data": {
      "text/html": [
       "<div>\n",
       "<style scoped>\n",
       "    .dataframe tbody tr th:only-of-type {\n",
       "        vertical-align: middle;\n",
       "    }\n",
       "\n",
       "    .dataframe tbody tr th {\n",
       "        vertical-align: top;\n",
       "    }\n",
       "\n",
       "    .dataframe thead th {\n",
       "        text-align: right;\n",
       "    }\n",
       "</style>\n",
       "<table border=\"1\" class=\"dataframe\">\n",
       "  <thead>\n",
       "    <tr style=\"text-align: right;\">\n",
       "      <th></th>\n",
       "      <th>AMT_ANNUITY</th>\n",
       "      <th>CREDIT_ACTIVE</th>\n",
       "      <th>SK_ID_BUREAU</th>\n",
       "      <th>DAYS_ENDDATE_FACT</th>\n",
       "      <th>SK_ID_CURR</th>\n",
       "      <th>CREDIT_DAY_OVERDUE</th>\n",
       "      <th>AMT_CREDIT_MAX_OVERDUE</th>\n",
       "      <th>AMT_CREDIT_SUM_LIMIT</th>\n",
       "      <th>CNT_CREDIT_PROLONG</th>\n",
       "      <th>AMT_CREDIT_SUM_DEBT</th>\n",
       "      <th>DAYS_CREDIT_UPDATE</th>\n",
       "      <th>DAYS_CREDIT</th>\n",
       "      <th>CREDIT_TYPE</th>\n",
       "      <th>AMT_CREDIT_SUM</th>\n",
       "      <th>CREDIT_CURRENCY</th>\n",
       "      <th>AMT_CREDIT_SUM_OVERDUE</th>\n",
       "      <th>DAYS_CREDIT_ENDDATE</th>\n",
       "      <th>INDEX</th>\n",
       "    </tr>\n",
       "  </thead>\n",
       "  <tbody>\n",
       "    <tr>\n",
       "      <th>39844</th>\n",
       "      <td>NaN</td>\n",
       "      <td>Active</td>\n",
       "      <td>5302876</td>\n",
       "      <td>NaN</td>\n",
       "      <td>178155</td>\n",
       "      <td>0</td>\n",
       "      <td>9034.965</td>\n",
       "      <td>148928.535</td>\n",
       "      <td>0</td>\n",
       "      <td>-428.535</td>\n",
       "      <td>-649</td>\n",
       "      <td>-1430</td>\n",
       "      <td>Credit card</td>\n",
       "      <td>99000.0</td>\n",
       "      <td>currency 1</td>\n",
       "      <td>0.0</td>\n",
       "      <td>-397.0</td>\n",
       "      <td>1198695</td>\n",
       "    </tr>\n",
       "  </tbody>\n",
       "</table>\n",
       "</div>"
      ],
      "text/plain": [
       "       AMT_ANNUITY CREDIT_ACTIVE  SK_ID_BUREAU  DAYS_ENDDATE_FACT  SK_ID_CURR  \\\n",
       "39844          NaN        Active       5302876                NaN      178155   \n",
       "\n",
       "       CREDIT_DAY_OVERDUE  AMT_CREDIT_MAX_OVERDUE  AMT_CREDIT_SUM_LIMIT  \\\n",
       "39844                   0                9034.965            148928.535   \n",
       "\n",
       "       CNT_CREDIT_PROLONG  AMT_CREDIT_SUM_DEBT  DAYS_CREDIT_UPDATE  \\\n",
       "39844                   0             -428.535                -649   \n",
       "\n",
       "       DAYS_CREDIT  CREDIT_TYPE  AMT_CREDIT_SUM CREDIT_CURRENCY  \\\n",
       "39844        -1430  Credit card         99000.0      currency 1   \n",
       "\n",
       "       AMT_CREDIT_SUM_OVERDUE  DAYS_CREDIT_ENDDATE    INDEX  \n",
       "39844                     0.0               -397.0  1198695  "
      ]
     },
     "execution_count": 154,
     "metadata": {},
     "output_type": "execute_result"
    }
   ],
   "source": [
    "bureau.sample()"
   ]
  },
  {
   "cell_type": "markdown",
   "id": "291166bc-0676-47c6-a5ba-1baa0d335083",
   "metadata": {},
   "source": [
    "## Fetch features"
   ]
  },
  {
   "cell_type": "code",
   "execution_count": 155,
   "id": "36da5182-a28c-4467-b57f-30a8918f7779",
   "metadata": {},
   "outputs": [],
   "source": [
    "previous_application_features = layer.get_featureset(\"previous_application_features\").to_pandas()"
   ]
  },
  {
   "cell_type": "code",
   "execution_count": 156,
   "id": "eafb0852-cdeb-416f-aa01-e94d731bccdf",
   "metadata": {},
   "outputs": [
    {
     "data": {
      "text/html": [
       "<div>\n",
       "<style scoped>\n",
       "    .dataframe tbody tr th:only-of-type {\n",
       "        vertical-align: middle;\n",
       "    }\n",
       "\n",
       "    .dataframe tbody tr th {\n",
       "        vertical-align: top;\n",
       "    }\n",
       "\n",
       "    .dataframe thead th {\n",
       "        text-align: right;\n",
       "    }\n",
       "</style>\n",
       "<table border=\"1\" class=\"dataframe\">\n",
       "  <thead>\n",
       "    <tr style=\"text-align: right;\">\n",
       "      <th></th>\n",
       "      <th>INDEX</th>\n",
       "      <th>APPLIED_AWARDED_AMOUNT_DIFF</th>\n",
       "      <th>GOODS_PRICE_APPLIED_DIFF</th>\n",
       "    </tr>\n",
       "  </thead>\n",
       "  <tbody>\n",
       "    <tr>\n",
       "      <th>3540</th>\n",
       "      <td>1370943</td>\n",
       "      <td>0.0</td>\n",
       "      <td>0.0</td>\n",
       "    </tr>\n",
       "  </tbody>\n",
       "</table>\n",
       "</div>"
      ],
      "text/plain": [
       "        INDEX  APPLIED_AWARDED_AMOUNT_DIFF  GOODS_PRICE_APPLIED_DIFF\n",
       "3540  1370943                          0.0                       0.0"
      ]
     },
     "execution_count": 156,
     "metadata": {},
     "output_type": "execute_result"
    }
   ],
   "source": [
    "previous_application_features.sample()"
   ]
  },
  {
   "cell_type": "code",
   "execution_count": 157,
   "id": "57fd6f8a-84c4-4184-a5a4-75e219979bc3",
   "metadata": {},
   "outputs": [],
   "source": [
    "application_features = layer.get_featureset(\"application_features\").to_pandas()"
   ]
  },
  {
   "cell_type": "code",
   "execution_count": 158,
   "id": "d99632dc-e1dc-42e8-bd20-9fd8f91b8271",
   "metadata": {},
   "outputs": [
    {
     "data": {
      "text/html": [
       "<div>\n",
       "<style scoped>\n",
       "    .dataframe tbody tr th:only-of-type {\n",
       "        vertical-align: middle;\n",
       "    }\n",
       "\n",
       "    .dataframe tbody tr th {\n",
       "        vertical-align: top;\n",
       "    }\n",
       "\n",
       "    .dataframe thead th {\n",
       "        text-align: right;\n",
       "    }\n",
       "</style>\n",
       "<table border=\"1\" class=\"dataframe\">\n",
       "  <thead>\n",
       "    <tr style=\"text-align: right;\">\n",
       "      <th></th>\n",
       "      <th>INDEX</th>\n",
       "      <th>ANNUITY_INCOME_RATIO</th>\n",
       "      <th>CREDIT_INCOME_RATIO</th>\n",
       "      <th>CREDIT_TERM</th>\n",
       "      <th>DAYS_EMPLOYED_RATIO</th>\n",
       "      <th>GOODS_PRICE_LOAN_DIFFERENCE</th>\n",
       "    </tr>\n",
       "  </thead>\n",
       "  <tbody>\n",
       "    <tr>\n",
       "      <th>9481</th>\n",
       "      <td>256740</td>\n",
       "      <td>0.2048</td>\n",
       "      <td>6.98</td>\n",
       "      <td>0.029341</td>\n",
       "      <td>0.118803</td>\n",
       "      <td>-356400.0</td>\n",
       "    </tr>\n",
       "  </tbody>\n",
       "</table>\n",
       "</div>"
      ],
      "text/plain": [
       "       INDEX  ANNUITY_INCOME_RATIO  CREDIT_INCOME_RATIO  CREDIT_TERM  \\\n",
       "9481  256740                0.2048                 6.98     0.029341   \n",
       "\n",
       "      DAYS_EMPLOYED_RATIO  GOODS_PRICE_LOAN_DIFFERENCE  \n",
       "9481             0.118803                    -356400.0  "
      ]
     },
     "execution_count": 158,
     "metadata": {},
     "output_type": "execute_result"
    }
   ],
   "source": [
    "application_features.sample()"
   ]
  },
  {
   "cell_type": "code",
   "execution_count": 159,
   "id": "5e982134-fb72-41f9-9634-5414094676d4",
   "metadata": {},
   "outputs": [],
   "source": [
    "bureau_features = layer.get_featureset(\"bureau_features\").to_pandas()"
   ]
  },
  {
   "cell_type": "code",
   "execution_count": 160,
   "id": "dacb3810-7f66-484d-8f8e-f4ad7d0d77b5",
   "metadata": {},
   "outputs": [
    {
     "data": {
      "text/html": [
       "<div>\n",
       "<style scoped>\n",
       "    .dataframe tbody tr th:only-of-type {\n",
       "        vertical-align: middle;\n",
       "    }\n",
       "\n",
       "    .dataframe tbody tr th {\n",
       "        vertical-align: top;\n",
       "    }\n",
       "\n",
       "    .dataframe thead th {\n",
       "        text-align: right;\n",
       "    }\n",
       "</style>\n",
       "<table border=\"1\" class=\"dataframe\">\n",
       "  <thead>\n",
       "    <tr style=\"text-align: right;\">\n",
       "      <th></th>\n",
       "      <th>INDEX</th>\n",
       "      <th>CREDIT_LIMIT_ABOVE_ZERO</th>\n",
       "      <th>HAS_DEBT</th>\n",
       "      <th>HAS_OVERDUE_DEBT</th>\n",
       "    </tr>\n",
       "  </thead>\n",
       "  <tbody>\n",
       "    <tr>\n",
       "      <th>29819</th>\n",
       "      <td>833717</td>\n",
       "      <td>0</td>\n",
       "      <td>1</td>\n",
       "      <td>0</td>\n",
       "    </tr>\n",
       "  </tbody>\n",
       "</table>\n",
       "</div>"
      ],
      "text/plain": [
       "        INDEX  CREDIT_LIMIT_ABOVE_ZERO  HAS_DEBT  HAS_OVERDUE_DEBT\n",
       "29819  833717                        0         1                 0"
      ]
     },
     "execution_count": 160,
     "metadata": {},
     "output_type": "execute_result"
    }
   ],
   "source": [
    "bureau_features.sample()"
   ]
  },
  {
   "cell_type": "markdown",
   "id": "5ce8fc07-af14-42f6-af9d-ad6e76848b64",
   "metadata": {},
   "source": [
    "##  Fetch model"
   ]
  },
  {
   "cell_type": "code",
   "execution_count": 161,
   "id": "397da28b-efb1-4f06-9a8b-a90450bcf180",
   "metadata": {},
   "outputs": [],
   "source": [
    "credit_model = layer.get_model(\"credit_score_model:79.4\")"
   ]
  },
  {
   "cell_type": "code",
   "execution_count": 162,
   "id": "93505db7-7f4a-4cc4-a31a-b036ca578d00",
   "metadata": {},
   "outputs": [
    {
     "name": "stdout",
     "output_type": "stream",
     "text": [
      "{'l2_regularization': '0.028679718370026797', 'max_depth': '5', 'test_size': '0.3', 'random_state': '42', 'learning_rate': '0.7232099468700303', 'max_iter': '500', 'min_samples_leaf': '50'}\n",
      "{'avg_precision': [(1637776167935, 0.8552733368990358)], 'roc_auc_score': [(1637776167946, 0.9728203892885045)]}\n"
     ]
    }
   ],
   "source": [
    "print(credit_model.parameters)\n",
    "print(credit_model.metrics)"
   ]
  },
  {
   "cell_type": "code",
   "execution_count": 163,
   "id": "cafaa90f-043f-476e-8908-9bc9a520c56d",
   "metadata": {},
   "outputs": [],
   "source": [
    "trained_classifier = credit_model.get_train()"
   ]
  },
  {
   "cell_type": "code",
   "execution_count": 164,
   "id": "17d9d296-2643-4cab-bd63-efa5f5e514ee",
   "metadata": {},
   "outputs": [],
   "source": [
    "data = np.array([[1731690, -1916.0,-1953.0,6953.31,6953.31,1731690,0, 0  ,1731690 ,0.2976,7.47512,0.039812,1731690,0.189752,-161451.0,1731690,1731690,1731690,1731690,1,-16074.0, 1731690, 0.0, 1 ]])\n"
   ]
  },
  {
   "cell_type": "code",
   "execution_count": 165,
   "id": "b5031dc9-9cb5-4e92-b968-f471509ea7d2",
   "metadata": {},
   "outputs": [],
   "source": [
    "categories = []\n",
    "transformer = ColumnTransformer(\n",
    "        transformers=[('cat', OneHotEncoder(handle_unknown='ignore', drop=\"first\"), categories)],\n",
    "        remainder='passthrough')"
   ]
  },
  {
   "cell_type": "code",
   "execution_count": 166,
   "id": "c70a7116-b509-4056-b5e3-b66dfdd63431",
   "metadata": {},
   "outputs": [],
   "source": [
    "data = transformer.fit_transform(data)"
   ]
  },
  {
   "cell_type": "code",
   "execution_count": 167,
   "id": "e1dd1b27-3f0b-4168-9c14-a6b3668b316a",
   "metadata": {},
   "outputs": [
    {
     "data": {
      "text/plain": [
       "array([1])"
      ]
     },
     "execution_count": 167,
     "metadata": {},
     "output_type": "execute_result"
    }
   ],
   "source": [
    "trained_classifier.predict(data)"
   ]
  },
  {
   "cell_type": "code",
   "execution_count": 168,
   "id": "2a72befd-212e-4528-97d0-bb3e41de78c7",
   "metadata": {},
   "outputs": [
    {
     "data": {
      "text/plain": [
       "array([[0., 1.]])"
      ]
     },
     "execution_count": 168,
     "metadata": {},
     "output_type": "execute_result"
    }
   ],
   "source": [
    "trained_classifier.predict_proba(data)"
   ]
  },
  {
   "cell_type": "code",
   "execution_count": 169,
   "id": "1f90dc35-73b0-4277-8ff5-506c315f8176",
   "metadata": {},
   "outputs": [
    {
     "name": "stdout",
     "output_type": "stream",
     "text": [
      "[0]"
     ]
    }
   ],
   "source": [
    "!curl --header \"Content-Type: application/json; format=pandas-records\" \\\n",
    "  --request POST \\\n",
    "  --data '[{\"OWN_CAR_AGE\":10, \"APPLIED_AWARDED_AMOUNT_DIFF\":20, \"REGION_RATING_CLIENT_W_CITY\":30, \"CREDIT_INCOME_RATIO\":0.25,\"CREDIT_TERM\":300, \"DAYS_BIRTH\":14600, \"cluster\":0, \"DAYS_EMPLOYED_RATIO\":10000, \"AMT_INSTALMENT\":20, \"DAYS_ID_PUBLISH\":3000, \"GOODS_PRICE_LOAN_DIFFERENCE\":52, \"AMT_PAYMENT\":3000, \"HAS_DEBT\":0, \"REG_CITY_NOT_WORK_CITY\":1, \"AMT_CREDIT_SUM_OVERDUE\":0, \"FLAG_DOCUMENT_3\":1, \"DAYS_ENTRY_PAYMENT\":45789, \"DAYS_REGISTRATION\":9000, \"LIVE_CITY_NOT_WORK_CITY\":0, \"DAYS_INSTALMENT\":122, \"ANNUITY_INCOME_RATIO\":0.247, \"GOODS_PRICE_APPLIED_DIFF\":-258, \"REGION_RATING_CLIENT\":1, \"CREDIT_LIMIT_ABOVE_ZERO\":0}]' \\\n",
    "https://7d674b54-c62f-4333-92eb-7f316445d77b.inferences.beta.layer.co/invocations"
   ]
  },
  {
   "cell_type": "code",
   "execution_count": null,
   "id": "5871a008-8e2e-4f23-bb13-fc54430be5ab",
   "metadata": {},
   "outputs": [],
   "source": []
  }
 ],
 "metadata": {
  "kernelspec": {
   "display_name": "Python 3 (ipykernel)",
   "language": "python",
   "name": "python3"
  },
  "language_info": {
   "codemirror_mode": {
    "name": "ipython",
    "version": 3
   },
   "file_extension": ".py",
   "mimetype": "text/x-python",
   "name": "python",
   "nbconvert_exporter": "python",
   "pygments_lexer": "ipython3",
   "version": "3.8.10"
  }
 },
 "nbformat": 4,
 "nbformat_minor": 5
}