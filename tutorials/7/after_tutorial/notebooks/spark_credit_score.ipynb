{
  "nbformat": 4,
  "nbformat_minor": 5,
  "metadata": {
    "kernelspec": {
      "display_name": "Python 3 (ipykernel)",
      "language": "python",
      "name": "python3"
    },
    "language_info": {
      "codemirror_mode": {
        "name": "ipython",
        "version": 3
      },
      "file_extension": ".py",
      "mimetype": "text/x-python",
      "name": "python",
      "nbconvert_exporter": "python",
      "pygments_lexer": "ipython3",
      "version": "3.8.10"
    },
    "colab": {
      "name": "spark_credit_score.ipynb",
      "provenance": [],
      "collapsed_sections": []
    }
  },
  "cells": [
    {
      "cell_type": "code",
      "metadata": {
        "colab": {
          "base_uri": "https://localhost:8080/"
        },
        "id": "0SVLZQv70cZ8",
        "outputId": "1d33c059-d1ac-44f0-e6d1-e415194bbf02"
      },
      "source": [
        "pip install layer-sdk -qqq\n"
      ],
      "id": "0SVLZQv70cZ8",
      "execution_count": 1,
      "outputs": [
        {
          "output_type": "stream",
          "name": "stdout",
          "text": [
            "\u001b[K     |████████████████████████████████| 27.6 MB 24.7 MB/s \n",
            "\u001b[K     |████████████████████████████████| 256 kB 50.4 MB/s \n",
            "\u001b[K     |████████████████████████████████| 271 kB 64.4 MB/s \n",
            "\u001b[K     |████████████████████████████████| 3.6 MB 36.6 MB/s \n",
            "\u001b[K     |████████████████████████████████| 56 kB 4.3 MB/s \n",
            "\u001b[K     |████████████████████████████████| 159 kB 42.1 MB/s \n",
            "\u001b[K     |████████████████████████████████| 25.6 MB 55.5 MB/s \n",
            "\u001b[K     |████████████████████████████████| 131 kB 74.1 MB/s \n",
            "\u001b[K     |████████████████████████████████| 40 kB 5.7 MB/s \n",
            "\u001b[K     |████████████████████████████████| 98 kB 9.3 MB/s \n",
            "\u001b[K     |████████████████████████████████| 1.3 MB 46.9 MB/s \n",
            "\u001b[K     |████████████████████████████████| 2.4 MB 35.6 MB/s \n",
            "\u001b[K     |████████████████████████████████| 596 kB 43.7 MB/s \n",
            "\u001b[K     |████████████████████████████████| 374 kB 47.5 MB/s \n",
            "\u001b[K     |████████████████████████████████| 3.1 MB 42.6 MB/s \n",
            "\u001b[K     |████████████████████████████████| 212 kB 58.7 MB/s \n",
            "\u001b[K     |████████████████████████████████| 97 kB 7.2 MB/s \n",
            "\u001b[K     |████████████████████████████████| 15.5 MB 41.9 MB/s \n",
            "\u001b[K     |████████████████████████████████| 212.4 MB 57 kB/s \n",
            "\u001b[K     |████████████████████████████████| 63 kB 1.8 MB/s \n",
            "\u001b[K     |████████████████████████████████| 198 kB 58.9 MB/s \n",
            "\u001b[K     |████████████████████████████████| 1.1 MB 35.2 MB/s \n",
            "\u001b[K     |████████████████████████████████| 192 kB 53.6 MB/s \n",
            "\u001b[K     |████████████████████████████████| 160 kB 60.5 MB/s \n",
            "\u001b[K     |████████████████████████████████| 1.3 MB 43.8 MB/s \n",
            "\u001b[K     |████████████████████████████████| 1.3 MB 48.6 MB/s \n",
            "\u001b[K     |████████████████████████████████| 1.1 MB 46.9 MB/s \n",
            "\u001b[K     |████████████████████████████████| 263 kB 60.0 MB/s \n",
            "\u001b[K     |████████████████████████████████| 929 kB 46.3 MB/s \n",
            "\u001b[K     |████████████████████████████████| 8.3 MB 35.4 MB/s \n",
            "\u001b[K     |████████████████████████████████| 79 kB 8.7 MB/s \n",
            "\u001b[K     |████████████████████████████████| 138 kB 42.3 MB/s \n",
            "\u001b[K     |████████████████████████████████| 79 kB 8.0 MB/s \n",
            "\u001b[K     |████████████████████████████████| 58 kB 5.8 MB/s \n",
            "\u001b[K     |████████████████████████████████| 146 kB 54.0 MB/s \n",
            "\u001b[K     |████████████████████████████████| 1.1 MB 36.3 MB/s \n",
            "\u001b[K     |████████████████████████████████| 75 kB 4.4 MB/s \n",
            "\u001b[K     |████████████████████████████████| 52 kB 1.5 MB/s \n",
            "\u001b[K     |████████████████████████████████| 127 kB 62.6 MB/s \n",
            "\u001b[K     |████████████████████████████████| 51 kB 7.1 MB/s \n",
            "\u001b[K     |████████████████████████████████| 291 kB 50.1 MB/s \n",
            "\u001b[K     |████████████████████████████████| 95 kB 4.7 MB/s \n",
            "\u001b[K     |████████████████████████████████| 133 kB 71.3 MB/s \n",
            "\u001b[K     |████████████████████████████████| 288 kB 57.6 MB/s \n",
            "\u001b[K     |████████████████████████████████| 3.3 MB 47.6 MB/s \n",
            "\u001b[K     |████████████████████████████████| 895 kB 37.5 MB/s \n",
            "\u001b[K     |████████████████████████████████| 59 kB 7.2 MB/s \n",
            "\u001b[?25h  Building wheel for pyspark (setup.py) ... \u001b[?25l\u001b[?25hdone\n",
            "  Building wheel for validate-email (setup.py) ... \u001b[?25l\u001b[?25hdone\n",
            "  Building wheel for alembic (setup.py) ... \u001b[?25l\u001b[?25hdone\n",
            "  Building wheel for databricks-cli (setup.py) ... \u001b[?25l\u001b[?25hdone\n",
            "  Building wheel for polling (setup.py) ... \u001b[?25l\u001b[?25hdone\n",
            "\u001b[31mERROR: pip's dependency resolver does not currently take into account all the packages that are installed. This behaviour is the source of the following dependency conflicts.\n",
            "nbclient 0.5.9 requires jupyter-client>=6.1.5, but you have jupyter-client 5.3.5 which is incompatible.\n",
            "jupyter-console 5.2.0 requires prompt-toolkit<2.0.0,>=1.0.0, but you have prompt-toolkit 3.0.23 which is incompatible.\n",
            "ipython 5.5.0 requires prompt-toolkit<2.0.0,>=1.0.4, but you have prompt-toolkit 3.0.23 which is incompatible.\n",
            "datascience 0.10.6 requires folium==0.2.1, but you have folium 0.8.3 which is incompatible.\u001b[0m\n"
          ]
        }
      ]
    },
    {
      "cell_type": "code",
      "metadata": {
        "colab": {
          "base_uri": "https://localhost:8080/"
        },
        "id": "uI58tBn_0gC-",
        "outputId": "97c54e47-ca5e-45b3-88da-afc78e9d649c"
      },
      "source": [
        "pip install -U ipython -qqq\n"
      ],
      "id": "uI58tBn_0gC-",
      "execution_count": 2,
      "outputs": [
        {
          "output_type": "stream",
          "name": "stdout",
          "text": [
            "\u001b[?25l\r\u001b[K     |▍                               | 10 kB 20.6 MB/s eta 0:00:01\r\u001b[K     |▉                               | 20 kB 24.2 MB/s eta 0:00:01\r\u001b[K     |█▎                              | 30 kB 25.6 MB/s eta 0:00:01\r\u001b[K     |█▋                              | 40 kB 27.8 MB/s eta 0:00:01\r\u001b[K     |██                              | 51 kB 30.4 MB/s eta 0:00:01\r\u001b[K     |██▌                             | 61 kB 32.3 MB/s eta 0:00:01\r\u001b[K     |███                             | 71 kB 32.2 MB/s eta 0:00:01\r\u001b[K     |███▎                            | 81 kB 34.0 MB/s eta 0:00:01\r\u001b[K     |███▊                            | 92 kB 34.8 MB/s eta 0:00:01\r\u001b[K     |████▏                           | 102 kB 33.9 MB/s eta 0:00:01\r\u001b[K     |████▌                           | 112 kB 33.9 MB/s eta 0:00:01\r\u001b[K     |█████                           | 122 kB 33.9 MB/s eta 0:00:01\r\u001b[K     |█████▍                          | 133 kB 33.9 MB/s eta 0:00:01\r\u001b[K     |█████▉                          | 143 kB 33.9 MB/s eta 0:00:01\r\u001b[K     |██████▏                         | 153 kB 33.9 MB/s eta 0:00:01\r\u001b[K     |██████▋                         | 163 kB 33.9 MB/s eta 0:00:01\r\u001b[K     |███████                         | 174 kB 33.9 MB/s eta 0:00:01\r\u001b[K     |███████▌                        | 184 kB 33.9 MB/s eta 0:00:01\r\u001b[K     |███████▉                        | 194 kB 33.9 MB/s eta 0:00:01\r\u001b[K     |████████▎                       | 204 kB 33.9 MB/s eta 0:00:01\r\u001b[K     |████████▊                       | 215 kB 33.9 MB/s eta 0:00:01\r\u001b[K     |█████████                       | 225 kB 33.9 MB/s eta 0:00:01\r\u001b[K     |█████████▌                      | 235 kB 33.9 MB/s eta 0:00:01\r\u001b[K     |██████████                      | 245 kB 33.9 MB/s eta 0:00:01\r\u001b[K     |██████████▍                     | 256 kB 33.9 MB/s eta 0:00:01\r\u001b[K     |██████████▊                     | 266 kB 33.9 MB/s eta 0:00:01\r\u001b[K     |███████████▏                    | 276 kB 33.9 MB/s eta 0:00:01\r\u001b[K     |███████████▋                    | 286 kB 33.9 MB/s eta 0:00:01\r\u001b[K     |████████████                    | 296 kB 33.9 MB/s eta 0:00:01\r\u001b[K     |████████████▍                   | 307 kB 33.9 MB/s eta 0:00:01\r\u001b[K     |████████████▉                   | 317 kB 33.9 MB/s eta 0:00:01\r\u001b[K     |█████████████▎                  | 327 kB 33.9 MB/s eta 0:00:01\r\u001b[K     |█████████████▋                  | 337 kB 33.9 MB/s eta 0:00:01\r\u001b[K     |██████████████                  | 348 kB 33.9 MB/s eta 0:00:01\r\u001b[K     |██████████████▌                 | 358 kB 33.9 MB/s eta 0:00:01\r\u001b[K     |███████████████                 | 368 kB 33.9 MB/s eta 0:00:01\r\u001b[K     |███████████████▎                | 378 kB 33.9 MB/s eta 0:00:01\r\u001b[K     |███████████████▊                | 389 kB 33.9 MB/s eta 0:00:01\r\u001b[K     |████████████████▏               | 399 kB 33.9 MB/s eta 0:00:01\r\u001b[K     |████████████████▋               | 409 kB 33.9 MB/s eta 0:00:01\r\u001b[K     |█████████████████               | 419 kB 33.9 MB/s eta 0:00:01\r\u001b[K     |█████████████████▍              | 430 kB 33.9 MB/s eta 0:00:01\r\u001b[K     |█████████████████▉              | 440 kB 33.9 MB/s eta 0:00:01\r\u001b[K     |██████████████████▏             | 450 kB 33.9 MB/s eta 0:00:01\r\u001b[K     |██████████████████▋             | 460 kB 33.9 MB/s eta 0:00:01\r\u001b[K     |███████████████████             | 471 kB 33.9 MB/s eta 0:00:01\r\u001b[K     |███████████████████▌            | 481 kB 33.9 MB/s eta 0:00:01\r\u001b[K     |███████████████████▉            | 491 kB 33.9 MB/s eta 0:00:01\r\u001b[K     |████████████████████▎           | 501 kB 33.9 MB/s eta 0:00:01\r\u001b[K     |████████████████████▊           | 512 kB 33.9 MB/s eta 0:00:01\r\u001b[K     |█████████████████████▏          | 522 kB 33.9 MB/s eta 0:00:01\r\u001b[K     |█████████████████████▌          | 532 kB 33.9 MB/s eta 0:00:01\r\u001b[K     |██████████████████████          | 542 kB 33.9 MB/s eta 0:00:01\r\u001b[K     |██████████████████████▍         | 552 kB 33.9 MB/s eta 0:00:01\r\u001b[K     |██████████████████████▊         | 563 kB 33.9 MB/s eta 0:00:01\r\u001b[K     |███████████████████████▏        | 573 kB 33.9 MB/s eta 0:00:01\r\u001b[K     |███████████████████████▋        | 583 kB 33.9 MB/s eta 0:00:01\r\u001b[K     |████████████████████████        | 593 kB 33.9 MB/s eta 0:00:01\r\u001b[K     |████████████████████████▍       | 604 kB 33.9 MB/s eta 0:00:01\r\u001b[K     |████████████████████████▉       | 614 kB 33.9 MB/s eta 0:00:01\r\u001b[K     |█████████████████████████▎      | 624 kB 33.9 MB/s eta 0:00:01\r\u001b[K     |█████████████████████████▊      | 634 kB 33.9 MB/s eta 0:00:01\r\u001b[K     |██████████████████████████      | 645 kB 33.9 MB/s eta 0:00:01\r\u001b[K     |██████████████████████████▌     | 655 kB 33.9 MB/s eta 0:00:01\r\u001b[K     |███████████████████████████     | 665 kB 33.9 MB/s eta 0:00:01\r\u001b[K     |███████████████████████████▎    | 675 kB 33.9 MB/s eta 0:00:01\r\u001b[K     |███████████████████████████▊    | 686 kB 33.9 MB/s eta 0:00:01\r\u001b[K     |████████████████████████████▏   | 696 kB 33.9 MB/s eta 0:00:01\r\u001b[K     |████████████████████████████▋   | 706 kB 33.9 MB/s eta 0:00:01\r\u001b[K     |█████████████████████████████   | 716 kB 33.9 MB/s eta 0:00:01\r\u001b[K     |█████████████████████████████▍  | 727 kB 33.9 MB/s eta 0:00:01\r\u001b[K     |█████████████████████████████▉  | 737 kB 33.9 MB/s eta 0:00:01\r\u001b[K     |██████████████████████████████▎ | 747 kB 33.9 MB/s eta 0:00:01\r\u001b[K     |██████████████████████████████▋ | 757 kB 33.9 MB/s eta 0:00:01\r\u001b[K     |███████████████████████████████ | 768 kB 33.9 MB/s eta 0:00:01\r\u001b[K     |███████████████████████████████▌| 778 kB 33.9 MB/s eta 0:00:01\r\u001b[K     |███████████████████████████████▉| 788 kB 33.9 MB/s eta 0:00:01\r\u001b[K     |████████████████████████████████| 791 kB 33.9 MB/s \n",
            "\u001b[31mERROR: pip's dependency resolver does not currently take into account all the packages that are installed. This behaviour is the source of the following dependency conflicts.\n",
            "jupyter-console 5.2.0 requires prompt-toolkit<2.0.0,>=1.0.0, but you have prompt-toolkit 3.0.23 which is incompatible.\n",
            "google-colab 1.0.0 requires ipython~=5.5.0, but you have ipython 7.30.0 which is incompatible.\u001b[0m\n",
            "\u001b[?25h"
          ]
        }
      ]
    },
    {
      "cell_type": "code",
      "metadata": {
        "colab": {
          "base_uri": "https://localhost:8080/"
        },
        "id": "5cf7c1ed-2e95-4529-a300-82b21f79eace",
        "outputId": "a9a80d69-a6fd-4143-8d2f-ec50c51bd504"
      },
      "source": [
        "import layer\n",
        "layer.login()"
      ],
      "id": "5cf7c1ed-2e95-4529-a300-82b21f79eace",
      "execution_count": 3,
      "outputs": [
        {
          "output_type": "stream",
          "name": "stdout",
          "text": [
            "Please open the following link in your web browser. Once logged in, copy the code and paste it here.\n",
            "https://auth.beta.layer.co/authorize?response_type=code&code_challenge=ycFcyi2PCC05UJE7IvEd19oKgWOocUbxZK7ZUKpfpww&code_challenge_method=S256&client_id=tvp1Wo8acTt4z46c7MbUB3Rg5MqfmqkN&redirect_uri=https://beta.layer.co/oauth/code&scope=offline_access&audience=https://beta.layer.co\n",
            "Code: -nidmMtlF8TKNq7t\n",
            "Successfully logged into https://beta.layer.co\n"
          ]
        }
      ]
    },
    {
      "cell_type": "markdown",
      "metadata": {
        "id": "57iepReg5tdy"
      },
      "source": [
        "### Fetch datasets as a Spark DataFrame"
      ],
      "id": "57iepReg5tdy"
    },
    {
      "cell_type": "code",
      "metadata": {
        "colab": {
          "base_uri": "https://localhost:8080/"
        },
        "id": "5fkEYnyx5pxo",
        "outputId": "f28bd9b3-a104-4264-9b36-bd14b077eb33"
      },
      "source": [
        "application_spark = layer.get_dataset(\"application_train\").to_spark()\n",
        "application_spark.show()"
      ],
      "id": "5fkEYnyx5pxo",
      "execution_count": 40,
      "outputs": [
        {
          "output_type": "stream",
          "name": "stdout",
          "text": [
            "+----------------+--------------------------+--------------------+------------+---------------------------+-----------+----------------+---------------------------+-----------+------------------+-----------------------+----------+----------+------------------------+--------------+----------+-----------------------+-------------------+----------------------+----------------+----------------+---------------+--------------+--------------------+------------------------+-------------------------+---------------+----------+--------------+--------------+--------------------+------------+--------------+--------------+---------------+---------------+------------------+------------------+------------+-----------------+------------------------+--------------------------+----------------+------------------+------------------+---------------------------+--------------+---------------+----------+--------------------+----------------+--------------+---------------+---------------+----------------+---------------+---------------+----------------+-------------+---------------+------------------------+--------------+---------------+----------------+---------------+---------------+-------------+---------------+-----------------+----------------------+-------------+--------------------+----------------+---------------+------+-----------+----------------+----------------+----------------+------------------------+-------------+----------+-----------------------+----------------------+----------------------------+---------------+--------------------------+-------------------------+----------------+-----------------+-------------+----------------+--------------------------+-------------------------+--------------------+------------------------+--------------+----------------------------+--------------------+--------------+--------------+------------------+---------------+---------------+--------------+-------------------+--------------+----------------+---------------+--------------------+---------------+------------------+---------------------+---------------+---------------------+-------------+-----------------+--------------------------+----------------+--------------------------+--------------------------+-------------+------+\n",
            "|FLAG_DOCUMENT_14|REGION_POPULATION_RELATIVE|  FONDKAPREMONT_MODE|LANDAREA_AVG|REGION_RATING_CLIENT_W_CITY|AMT_ANNUITY|FLAG_DOCUMENT_19|YEARS_BEGINEXPLUATATION_AVG|OWN_CAR_AGE|      EXT_SOURCE_2|LIVE_CITY_NOT_WORK_CITY|DAYS_BIRTH|FLAG_MOBIL|NONLIVINGAPARTMENTS_MEDI|ELEVATORS_MEDI|AMT_CREDIT|HOUR_APPR_PROCESS_START|  NAME_HOUSING_TYPE|REG_CITY_NOT_WORK_CITY|FLAG_DOCUMENT_21|FLAG_DOCUMENT_18|NAME_TYPE_SUITE|FLAG_EMP_PHONE|     OCCUPATION_TYPE|DEF_30_CNT_SOCIAL_CIRCLE|AMT_REQ_CREDIT_BUREAU_DAY|FLAG_DOCUMENT_6|SK_ID_CURR|HOUSETYPE_MODE|FLOORSMIN_MEDI|REGION_RATING_CLIENT|FLAG_OWN_CAR|FLOORSMAX_MODE|LIVINGAREA_AVG|LIVINGAREA_MEDI|FLAG_DOCUMENT_2|      EXT_SOURCE_3|NONLIVINGAREA_MODE|CNT_CHILDREN|BASEMENTAREA_MEDI|DEF_60_CNT_SOCIAL_CIRCLE|WEEKDAY_APPR_PROCESS_START|FLAG_DOCUMENT_11|WALLSMATERIAL_MODE|NAME_CONTRACT_TYPE|LIVE_REGION_NOT_WORK_REGION|FLOORSMIN_MODE|COMMONAREA_MODE|FLAG_EMAIL|    NAME_INCOME_TYPE|FLAG_DOCUMENT_10|ENTRANCES_MODE|LIVINGAREA_MODE|YEARS_BUILD_AVG|FLAG_DOCUMENT_15|COMMONAREA_MEDI|FLAG_DOCUMENT_7|FLAG_DOCUMENT_20|FLOORSMIN_AVG|FLAG_DOCUMENT_4|OBS_60_CNT_SOCIAL_CIRCLE|APARTMENTS_AVG|DAYS_ID_PUBLISH|YEARS_BUILD_MODE|FLAG_DOCUMENT_3|FLAG_DOCUMENT_8|LANDAREA_MODE|APARTMENTS_MEDI|DAYS_REGISTRATION|REG_CITY_NOT_LIVE_CITY|DAYS_EMPLOYED| NAME_EDUCATION_TYPE|BASEMENTAREA_AVG|APARTMENTS_MODE|TARGET|CODE_GENDER|FLAG_DOCUMENT_12|AMT_INCOME_TOTAL|FLAG_DOCUMENT_16|NONLIVINGAPARTMENTS_MODE|ENTRANCES_AVG|FLAG_PHONE|NONLIVINGAPARTMENTS_AVG|DAYS_LAST_PHONE_CHANGE|YEARS_BEGINEXPLUATATION_MEDI|FLAG_WORK_PHONE|REG_REGION_NOT_LIVE_REGION|AMT_REQ_CREDIT_BUREAU_MON|FLAG_CONT_MOBILE|BASEMENTAREA_MODE|FLOORSMAX_AVG|FLAG_DOCUMENT_13|AMT_REQ_CREDIT_BUREAU_YEAR|AMT_REQ_CREDIT_BUREAU_QRT|  NAME_FAMILY_STATUS|OBS_30_CNT_SOCIAL_CIRCLE|TOTALAREA_MODE|YEARS_BEGINEXPLUATATION_MODE|LIVINGAPARTMENTS_AVG|COMMONAREA_AVG|FLOORSMAX_MEDI|      EXT_SOURCE_1|FLAG_DOCUMENT_5|CNT_FAM_MEMBERS|ENTRANCES_MEDI|EMERGENCYSTATE_MODE|ELEVATORS_MODE|YEARS_BUILD_MEDI|FLAG_DOCUMENT_9|   ORGANIZATION_TYPE|AMT_GOODS_PRICE|NONLIVINGAREA_MEDI|LIVINGAPARTMENTS_MODE|FLAG_OWN_REALTY|LIVINGAPARTMENTS_MEDI|ELEVATORS_AVG|NONLIVINGAREA_AVG|REG_REGION_NOT_WORK_REGION|FLAG_DOCUMENT_17|AMT_REQ_CREDIT_BUREAU_WEEK|AMT_REQ_CREDIT_BUREAU_HOUR|LANDAREA_MEDI| INDEX|\n",
            "+----------------+--------------------------+--------------------+------------+---------------------------+-----------+----------------+---------------------------+-----------+------------------+-----------------------+----------+----------+------------------------+--------------+----------+-----------------------+-------------------+----------------------+----------------+----------------+---------------+--------------+--------------------+------------------------+-------------------------+---------------+----------+--------------+--------------+--------------------+------------+--------------+--------------+---------------+---------------+------------------+------------------+------------+-----------------+------------------------+--------------------------+----------------+------------------+------------------+---------------------------+--------------+---------------+----------+--------------------+----------------+--------------+---------------+---------------+----------------+---------------+---------------+----------------+-------------+---------------+------------------------+--------------+---------------+----------------+---------------+---------------+-------------+---------------+-----------------+----------------------+-------------+--------------------+----------------+---------------+------+-----------+----------------+----------------+----------------+------------------------+-------------+----------+-----------------------+----------------------+----------------------------+---------------+--------------------------+-------------------------+----------------+-----------------+-------------+----------------+--------------------------+-------------------------+--------------------+------------------------+--------------+----------------------------+--------------------+--------------+--------------+------------------+---------------+---------------+--------------+-------------------+--------------+----------------+---------------+--------------------+---------------+------------------+---------------------+---------------+---------------------+-------------+-----------------+--------------------------+----------------+--------------------------+--------------------------+-------------+------+\n",
            "|               0|                   0.00963|                null|        null|                          2|    11533.5|               0|                       null|       null|0.4127291157492159|                      0|     -8462|         1|                    null|          null|  170640.0|                     12|  House / apartment|                     0|               0|               0|  Unaccompanied|             1|      Cleaning staff|                     0.0|                      0.0|              0|    354980|          null|          null|                   2|           N|          null|          null|           null|              0| 0.520897599048938|              null|           0|             null|                     0.0|                 WEDNESDAY|               0|              null|        Cash loans|                          1|          null|           null|         0|             Working|               0|          null|           null|           null|               0|           null|              0|               0|         null|              0|                     0.0|          null|          -1115|            null|              1|              0|         null|           null|          -3046.0|                     0|        -1225|Secondary / secon...|            null|           null|     0|          F|               0|         90000.0|               0|                    null|         null|         0|                   null|                -449.0|                        null|              0|                         0|                      0.0|               1|             null|         null|               0|                       0.0|                      0.0|Single / not married|                     0.0|          null|                        null|                null|          null|          null|0.0679040982290419|              0|            1.0|          null|               null|          null|            null|              0|   Transport: type 4|       135000.0|              null|                 null|              Y|                 null|         null|             null|                         1|               0|                       0.0|                       0.0|         null|220101|\n",
            "|               0|                  0.015221|                null|      0.0688|                          2|     4504.5|               0|                     0.9891|       null|0.5502907023341835|                      0|    -19287|         1|                    null|          0.16|   90000.0|                      8|Municipal apartment|                     0|               0|               0|  Unaccompanied|             1|                null|                     0.0|                      0.0|              0|    446202|block of flats|          null|                   2|           N|        0.3333|        0.1482|         0.1508|              0|0.2115507642052577|              null|           0|             null|                     0.0|                  SATURDAY|               0|             Panel|        Cash loans|                          0|          null|           null|         0|             Working|               0|        0.1379|         0.1544|           null|               0|           null|              0|               0|         null|              0|                     0.0|        0.1485|          -2814|            null|              1|              0|       0.0704|         0.1499|          -7540.0|                     0|       -10344|Secondary / secon...|            null|         0.1513|     0|          F|               0|         31500.0|               0|                    null|       0.1379|         1|                   null|                -985.0|                      0.9891|              0|                         0|                      0.0|               1|             null|       0.3333|               0|                       4.0|                      0.0|Single / not married|                     0.0|        0.1165|                      0.9891|                null|          null|        0.3333|              null|              0|            1.0|        0.1379|                 No|        0.1611|            null|              0|Business Entity T...|        90000.0|              null|                 null|              N|                 null|         0.16|             null|                         0|               0|                       0.0|                       0.0|         0.07|298840|\n",
            "|               0|                  0.031329|    reg oper account|      0.0934|                          2|    14017.5|               0|                     0.9916|       null|0.0512803427524493|                      0|    -24516|         1|                  0.0116|           0.2|  143910.0|                     18|  House / apartment|                     0|               0|               0|  Unaccompanied|             0|                null|                     0.0|                      0.0|              1|    443869|block of flats|        0.2917|                   2|           N|        0.3333|        0.2192|         0.2231|              0|0.5100895276257282|             0.017|           0|           0.0764|                     0.0|                    MONDAY|               0|             Panel|        Cash loans|                          0|        0.2917|         0.0344|         0|           Pensioner|               0|        0.1724|         0.2284|         0.8708|               0|         0.0343|              0|               0|       0.2917|              0|                     4.0|        0.1763|          -4662|          0.8759|              0|              0|       0.0955|          0.178|          -5662.0|                     0|       365243|Secondary / secon...|          0.0764|         0.1796|     0|          F|               0|        130500.0|               0|                  0.0117|       0.1724|         1|                 0.0116|               -2890.0|                      0.9916|              0|                         0|                      0.0|               1|           0.0792|       0.3333|               0|                       2.0|                      0.0|             Married|                     4.0|        0.1759|                      0.9916|              0.1412|         0.034|        0.3333|              null|              0|            2.0|        0.1724|                 No|        0.2014|          0.8725|              0|                 XNA|       135000.0|            0.0164|               0.1543|              N|               0.1437|          0.2|           0.0161|                         0|               0|                       0.0|                       0.0|        0.095|296804|\n",
            "|               0|                  0.020246|                null|        null|                          3|    19417.5|               0|                       null|       null|0.3571966128603941|                      0|    -10066|         1|                    null|          null|  247275.0|                      6|  House / apartment|                     0|               0|               0|  Unaccompanied|             1|         Sales staff|                     0.0|                      0.0|              0|    155303|          null|          null|                   3|           N|          null|          null|           null|              0|0.5100895276257282|              null|           0|             null|                     0.0|                    FRIDAY|               0|              null|        Cash loans|                          0|          null|           null|         0|             Working|               0|          null|           null|           null|               0|           null|              0|               0|         null|              0|                     0.0|          null|          -2691|            null|              1|              0|         null|           null|          -6451.0|                     0|        -1065|   Incomplete higher|            null|           null|     0|          F|               0|         72000.0|               0|                    null|         null|         1|                   null|                 -18.0|                        null|              1|                         0|                      0.0|               1|             null|         null|               0|                       2.0|                      0.0|Single / not married|                     0.0|          null|                        null|                null|          null|          null|              null|              0|            1.0|          null|               null|          null|            null|              0|       Self-employed|       225000.0|              null|                 null|              N|                 null|         null|             null|                         0|               0|                       0.0|                       0.0|         null| 47748|\n",
            "|               0|                  0.018209|                null|        null|                          3|    46926.0|               0|                       null|       null|0.5118027181648316|                      1|    -13392|         1|                    null|          null| 1350000.0|                     12|       With parents|                     1|               0|               0|  Unaccompanied|             1|             Drivers|                     0.0|                      0.0|              0|    252245|          null|          null|                   3|           N|          null|          null|           null|              0|0.6178261467332483|              null|           2|             null|                     0.0|                  SATURDAY|               0|              null|        Cash loans|                          0|          null|           null|         0|             Working|               0|          null|           null|           null|               0|           null|              0|               0|         null|              0|                     2.0|          null|          -4448|            null|              1|              0|         null|           null|          -1438.0|                     0|        -1076|Secondary / secon...|            null|           null|     0|          M|               0|        112500.0|               0|                    null|         null|         0|                   null|               -1963.0|                        null|              1|                         0|                      1.0|               1|             null|         null|               0|                       2.0|                      0.0|             Married|                     2.0|          null|                        null|                null|          null|          null|0.2540332614997942|              0|            4.0|          null|               null|          null|            null|              0|Business Entity T...|      1350000.0|              null|                 null|              N|                 null|         null|             null|                         0|               0|                       0.0|                       0.0|         null|131267|\n",
            "|               0|                   0.04622|    reg oper account|      0.1818|                          1|    12987.0|               0|                     0.9891|       null|0.7155895495482548|                      1|    -17373|         1|                    null|          0.32|  270000.0|                      9|  House / apartment|                     1|               0|               0|  Unaccompanied|             1|             Drivers|                     0.0|                      0.0|              0|    362918|block of flats|        0.6667|                   1|           N|         0.625|        0.2817|         0.2868|              0|0.3807996826489149|            0.0039|           0|           0.0855|                     0.0|                    FRIDAY|               0|             Panel|        Cash loans|                          0|        0.6667|         0.0726|         0|             Working|               0|        0.1379|         0.2935|         0.8504|               0|         0.0724|              0|               0|       0.6667|              0|                     0.0|        0.2629|           -926|          0.8563|              1|              0|        0.186|         0.2654|          -7716.0|                     0|         -150|    Higher education|          0.0855|         0.2679|     0|          M|               0|        292500.0|               0|                    null|       0.1379|         0|                   null|                 -85.0|                      0.9891|              1|                         0|                      0.0|               1|           0.0888|        0.625|               0|                       2.0|                      0.0|             Married|                     0.0|        0.2224|                      0.9891|                null|         0.072|         0.625|0.4948517760460051|              0|            2.0|        0.1379|                 No|        0.3222|          0.8524|              0|        Construction|       270000.0|            0.0037|                 null|              N|                 null|         0.32|           0.0036|                         0|               0|                       0.0|                       0.0|        0.185|226980|\n",
            "|               0|                  0.010643|                null|        null|                          2|    35896.5|               0|                       null|       null|0.5639513177419854|                      1|     -8666|         1|                    null|          null|  677664.0|                     18|  House / apartment|                     1|               0|               0|  Unaccompanied|             1|            Managers|                     0.0|                     null|              0|    426815|          null|          null|                   2|           N|          null|          null|           null|              0|              null|              null|           0|             null|                     0.0|                 WEDNESDAY|               0|              null|        Cash loans|                          0|          null|           null|         0|             Working|               0|          null|           null|           null|               0|           null|              0|               0|         null|              0|                     0.0|          null|          -1290|            null|              1|              0|         null|           null|          -8655.0|                     0|         -176|    Higher education|            null|           null|     0|          M|               0|        130500.0|               0|                    null|         null|         0|                   null|                -817.0|                        null|              0|                         0|                     null|               1|             null|         null|               0|                      null|                     null|Single / not married|                     0.0|          null|                        null|                null|          null|          null|              null|              0|            1.0|          null|               null|          null|            null|              0|    Industry: type 1|       585000.0|              null|                 null|              N|                 null|         null|             null|                         0|               0|                      null|                      null|         null|282176|\n",
            "|               0|                  0.020713|                null|        null|                          3|    25816.5|               0|                       null|       null| 0.472242222354837|                      0|    -18082|         1|                    null|          null|  263686.5|                      7|  House / apartment|                     0|               0|               0|  Unaccompanied|             1|          Core staff|                     0.0|                     null|              0|    188159|          null|          null|                   3|           N|          null|          null|           null|              0|              null|              null|           0|             null|                     0.0|                  THURSDAY|               0|              null|        Cash loans|                          0|          null|           null|         0|             Working|               0|          null|           null|           null|               0|           null|              0|               0|         null|              0|                     6.0|          null|          -1517|            null|              1|              0|         null|           null|         -10135.0|                     0|        -9169|    Higher education|            null|           null|     0|          F|               0|         90000.0|               0|                    null|         null|         0|                   null|                -405.0|                        null|              0|                         0|                     null|               1|             null|         null|               0|                      null|                     null|               Widow|                     6.0|          null|                        null|                null|          null|          null|              null|              0|            1.0|          null|               null|          null|            null|              0|        Kindergarten|       238500.0|              null|                 null|              Y|                 null|         null|             null|                         0|               0|                      null|                      null|         null| 76019|\n",
            "|               0|                  0.018209|    reg oper account|        0.02|                          3|    21996.0|               0|                     0.9781|       null| 0.229091804284546|                      0|    -22288|         1|                     0.0|           0.0|  454500.0|                     10|  House / apartment|                     0|               0|               0|  Unaccompanied|             0|                null|                     0.0|                      0.0|              0|    266398|block of flats|        0.2083|                   3|           N|        0.1667|        0.0724|         0.0737|              0|0.4992720153045617|               0.0|           0|           0.0915|                     0.0|                   TUESDAY|               0|      Stone, brick|        Cash loans|                          0|        0.2083|            0.0|         0|           Pensioner|               0|        0.2069|         0.0755|         0.7008|               0|            0.0|              0|               0|       0.2083|              0|                     4.0|        0.0825|          -4319|          0.7125|              1|              0|       0.0204|         0.0833|          -3554.0|                     0|       365243|Secondary / secon...|          0.0915|          0.084|     0|          F|               0|        186750.0|               0|                     0.0|       0.2069|         0|                    0.0|                -458.0|                      0.9781|              0|                         0|                      0.0|               1|           0.0949|       0.1667|               0|                       7.0|                      0.0|             Married|                     4.0|         0.057|                      0.9782|              0.0672|           0.0|        0.1667|              null|              0|            2.0|        0.2069|                 No|           0.0|          0.7048|              0|                 XNA|       454500.0|               0.0|               0.0735|              Y|               0.0684|          0.0|              0.0|                         0|               0|                       0.0|                       0.0|       0.0203|143501|\n",
            "|               0|                  0.010006|                null|        null|                          2|    32337.0|               0|                       null|       null|0.7087404608475192|                      0|    -20718|         1|                    null|          null|  760225.5|                     11|  House / apartment|                     0|               0|               0|  Unaccompanied|             0|                null|                     0.0|                      0.0|              0|    324707|          null|          null|                   2|           N|          null|          null|           null|              0|0.5937175866150576|              null|           0|             null|                     0.0|                   TUESDAY|               0|              null|        Cash loans|                          0|          null|           null|         0|           Pensioner|               0|          null|           null|           null|               0|           null|              0|               0|         null|              0|                     0.0|          null|          -2274|            null|              1|              0|         null|           null|          -2735.0|                     0|       365243|Secondary / secon...|            null|           null|     0|          F|               0|        112500.0|               0|                    null|         null|         1|                   null|                   0.0|                        null|              0|                         0|                      0.0|               1|             null|         null|               0|                       1.0|                      0.0|             Married|                     0.0|          null|                        null|                null|          null|          null|0.7952875273579713|              0|            2.0|          null|               null|          null|            null|              0|                 XNA|       679500.0|              null|                 null|              Y|                 null|         null|             null|                         0|               0|                       0.0|                       0.0|         null|193781|\n",
            "|               0|                  0.031329|    reg oper account|      0.0644|                          2|    12937.5|               0|                     0.9747|       null|0.6553181379551513|                      0|    -20435|         1|                     0.0|           0.0|  254700.0|                     10|  House / apartment|                     0|               0|               0|  Unaccompanied|             0|                null|                     0.0|                      0.0|              1|    307570|block of flats|        0.1667|                   2|           N|         0.125|        0.0401|         0.0409|              0|              null|               0.0|           0|           0.0242|                     0.0|                  SATURDAY|               0|             Block|        Cash loans|                          0|        0.1667|         0.0041|         0|           Pensioner|               0|        0.1034|         0.0418|         0.6532|               0|         0.0041|              0|               0|       0.1667|              0|                     0.0|        0.0495|          -3316|          0.6668|              0|              0|       0.0659|           0.05|         -12310.0|                     0|       365243|Secondary / secon...|          0.0242|         0.0504|     0|          F|               0|         45000.0|               0|                     0.0|       0.1034|         0|                    0.0|                  -3.0|                      0.9747|              0|                         0|                      0.0|               1|           0.0251|        0.125|               0|                       0.0|                      0.0|      Civil marriage|                     0.0|        0.0338|                      0.9747|              0.0403|        0.0041|         0.125|              null|              0|            2.0|        0.1034|                 No|           0.0|          0.6578|              0|                 XNA|       225000.0|               0.0|               0.0441|              N|                0.041|          0.0|              0.0|                         0|               0|                       0.0|                       0.0|       0.0655|179125|\n",
            "|               0|                  0.015221|                null|      0.0219|                          2|     9000.0|               0|                     0.9727|       null|0.5915187990423514|                      0|    -16780|         1|                    null|          null|  180000.0|                     12|  House / apartment|                     0|               0|               0|  Unaccompanied|             1|            Laborers|                     0.0|                      0.0|              0|    329291|block of flats|          null|                   2|           N|        0.0833|        0.0381|         0.0387|              0|0.5971924268337128|            0.0119|           0|             null|                     0.0|                    SUNDAY|               0|      Stone, brick|   Revolving loans|                          0|          null|           null|         0|             Working|               0|        0.1379|         0.0396|           null|               0|           null|              0|               0|         null|              0|                     0.0|        0.0351|          -4538|            null|              0|              0|       0.0224|         0.0354|           -418.0|                     0|        -9250|Secondary / secon...|            null|         0.0357|     0|          F|               0|         45000.0|               0|                    null|       0.1379|         1|                   null|                -412.0|                      0.9727|              0|                         0|                      0.0|               1|             null|       0.0833|               0|                       0.0|                      0.0|             Married|                     0.0|        0.0324|                      0.9727|                null|          null|        0.0833|              null|              1|            2.0|        0.1379|                 No|          null|            null|              0|Business Entity T...|       180000.0|            0.0115|                 null|              Y|                 null|         null|           0.0112|                         0|               0|                       0.0|                       0.0|       0.0223|197764|\n",
            "|               0|        0.0145199999999999|    reg oper account|      0.0512|                          2|    36747.0|               0|                     0.9846|       null|0.6618868600420863|                      0|    -11720|         1|                  0.0039|          0.12|  675000.0|                     13|  House / apartment|                     0|               0|               0|  Unaccompanied|             1|         Sales staff|                     0.0|                      0.0|              0|    415720|block of flats|         0.375|                   2|           N|        0.3333|        0.1272|         0.1166|              0|0.2151824041847538|               0.0|           1|           0.0809|                     0.0|                    MONDAY|               0|             Panel|        Cash loans|                          0|         0.375|         0.0218|         0|             Working|               0|        0.1034|         0.1184|         0.7892|               0|         0.0258|              0|               0|        0.375|              0|                     0.0|        0.1237|          -2338|          0.7844|              1|              0|       0.0433|         0.1124|          -4737.0|                     0|        -1191|Secondary / secon...|          0.0883|         0.1134|     0|          F|               0|        103500.0|               0|                  0.0039|       0.1148|         0|                 0.0025|               -1669.0|                      0.9846|              0|                         0|                      1.0|               1|            0.083|       0.3333|               0|                       1.0|                      0.0|             Married|                     0.0|        0.1167|                      0.9836|              0.1003|        0.0268|        0.3333|0.6357964833369765|              0|            3.0|        0.1034|                 No|        0.1208|           0.792|              0|       Trade: type 7|       675000.0|            0.0078|               0.0983|              N|               0.0915|       0.1332|           0.0085|                         0|               0|                       0.0|                       0.0|       0.0458|272325|\n",
            "|               0|                  0.025164|reg oper spec acc...|      0.0431|                          2|    15417.0|               0|                     0.9801|       null|0.6371892250064399|                      0|    -14884|         1|                  0.0039|           0.0|  303489.0|                     11|  House / apartment|                     0|               0|               0|  Unaccompanied|             1|         Sales staff|                     0.0|                      0.0|              0|    385538|block of flats|        0.2083|                   2|           N|        0.1667|        0.0485|         0.0388|              0|0.6075573001388961|            0.0208|           0|           0.0501|                     0.0|                   TUESDAY|               0|      Stone, brick|        Cash loans|                          0|        0.2083|         0.0079|         0|Commercial associate|               0|        0.1379|          0.037|          0.728|               0|         0.0078|              0|               0|       0.2083|              0|                     0.0|        0.0674|          -4381|          0.7452|              1|              0|       0.0394|         0.0729|          -8900.0|                     0|         -139|Secondary / secon...|           0.039|         0.0588|     0|          F|               0|         76500.0|               1|                  0.0039|       0.0966|         0|                 0.0054|               -1545.0|                      0.9806|              0|                         0|                      0.0|               1|           0.0014|       0.1667|               0|                       0.0|                      0.0|             Married|                     0.0|        0.0417|                      0.9806|              0.0538|        0.0076|        0.1667|              null|              0|            2.0|        0.1379|                 No|           0.0|          0.7383|              0|       Self-employed|       274500.0|              0.02|               0.0505|              N|               0.0581|          0.0|           0.0335|                         0|               0|                       0.0|                       0.0|       0.0392|246738|\n",
            "|               0|                  0.006629|    reg oper account|      0.0083|                          2|    54121.5|               0|                     0.9722|       null| 0.396385192892375|                      0|    -12696|         1|                  0.0039|           0.0|  675000.0|                      4|       With parents|                     0|               0|               0|  Unaccompanied|             1|                null|                     0.0|                      0.0|              0|    429523|block of flats|        0.2083|                   2|           N|           0.0|        0.0155|         0.0158|              0|0.8435435389318647|            0.0251|           2|              0.0|                     0.0|                  THURSDAY|               0|             Block|        Cash loans|                          0|        0.2083|           null|         0|       State servant|               0|        0.0345|          0.005|         0.8232|               0|           null|              0|               0|       0.2083|              0|                     0.0|        0.0144|          -4153|          0.8301|              1|              0|       0.0084|         0.0146|          -4587.0|                     0|        -4575|    Higher education|             0.0|         0.0042|     0|          F|               0|        153000.0|               0|                  0.0039|       0.0517|         0|                 0.0039|               -2105.0|                      0.9722|              1|                         0|                      0.0|               1|              0.0|       0.0833|               0|                       0.0|                      0.0|             Married|                     0.0|        0.0283|                      0.9578|              0.0202|          null|        0.0833| 0.585009696315296|              0|            4.0|        0.0517|                 No|           0.0|          0.8256|              0|          Government|       675000.0|            0.0242|                0.022|              N|               0.0205|          0.0|           0.0237|                         0|               0|                       0.0|                       0.0|       0.0084|284530|\n",
            "|               0|                  0.020246|                null|        null|                          3|    28516.5|               0|                       null|       null|0.4829572410020709|                      0|    -15904|         1|                    null|          null|  436032.0|                     10|  House / apartment|                     0|               0|               0|  Unaccompanied|             1|          Core staff|                     0.0|                      0.0|              0|    119172|          null|          null|                   3|           N|          null|          null|           null|              0|0.5919766183185521|              null|           0|             null|                     0.0|                   TUESDAY|               0|              null|        Cash loans|                          0|          null|           null|         0|             Working|               0|          null|           null|           null|               0|           null|              0|               0|         null|              0|                     3.0|          null|          -4159|            null|              1|              0|         null|           null|          -7480.0|                     0|        -5117|    Higher education|            null|           null|     0|          F|               0|        130500.0|               0|                    null|         null|         0|                   null|               -2586.0|                        null|              0|                         0|                      0.0|               1|             null|         null|               0|                       3.0|                      0.0|             Married|                     4.0|          null|                        null|                null|          null|          null|0.7686744034188356|              0|            2.0|          null|               null|          null|            null|              0|        Kindergarten|       360000.0|              null|                 null|              Y|                 null|         null|             null|                         0|               0|                       0.0|                       0.0|         null| 16438|\n",
            "|               0|                  0.019101|                null|        null|                          2|    38853.0|               0|                       null|       10.0|0.4254574263856584|                      0|    -11021|         1|                    null|          null|  941472.0|                     13|  House / apartment|                     0|               0|               0|  Unaccompanied|             1|                null|                     0.0|                      0.0|              0|    179591|          null|          null|                   2|           Y|          null|          null|           null|              0|0.5190973382084597|              null|           3|             null|                     0.0|                  SATURDAY|               0|              null|        Cash loans|                          0|          null|           null|         0|             Working|               0|          null|           null|           null|               0|           null|              0|               0|         null|              0|                     0.0|          null|           -291|            null|              1|              0|         null|           null|            -80.0|                     0|        -3666|Secondary / secon...|            null|           null|     0|          M|               0|        225000.0|               0|                    null|         null|         0|                   null|               -1091.0|                        null|              0|                         0|                      0.0|               1|             null|         null|               0|                       0.0|                      0.0|             Married|                     0.0|          null|                        null|                null|          null|          null|              null|              0|            5.0|          null|               null|          null|            null|              0|Business Entity T...|       841500.0|              null|                 null|              Y|                 null|         null|             null|                         0|               0|                       0.0|                       0.0|         null| 68627|\n",
            "|               0|                  0.010966|    org spec account|      0.0717|                          2|    18144.0|               0|                     0.9801|       null|0.6258524207291101|                      0|    -16011|         1|                  0.0349|          0.08|  344043.0|                      9|  House / apartment|                     0|               0|               0|  Unaccompanied|             1|Private service s...|                     0.0|                      0.0|              0|    356062|block of flats|        0.0417|                   2|           N|        0.3333|        0.1102|         0.1122|              0|0.5136937663039473|            0.0386|           0|           0.0965|                     0.0|                    FRIDAY|               0|      Stone, brick|        Cash loans|                          0|        0.0417|         0.0255|         1|             Working|               0|         0.069|         0.1148|          0.728|               0|         0.0254|              0|               0|       0.0417|              0|                     1.0|        0.2639|          -5072|          0.7387|              1|              0|       0.0734|         0.2665|          -5677.0|                     0|         -622|Secondary / secon...|          0.0965|         0.2689|     0|          F|               0|        225000.0|               0|                   0.035|        0.069|         0|                 0.0347|                -904.0|                      0.9801|              0|                         0|                      0.0|               1|           0.1002|       0.3333|               0|                       3.0|                      0.0|           Separated|                     1.0|        0.1084|                      0.9801|              0.2076|        0.0253|        0.3333|0.5865796976789743|              0|            1.0|         0.069|                 No|        0.0806|          0.7316|              0|       Self-employed|       297000.0|            0.0372|               0.2268|              Y|               0.2112|         0.08|           0.0364|                         0|               0|                       0.0|                       0.0|        0.073|221041|\n",
            "|               0|                  0.031329|                null|        null|                          2|    18936.0|               0|                       null|       null|0.5810116981053661|                      0|     -9916|         1|                    null|          null|  288873.0|                     12|  House / apartment|                     0|               0|               0|  Unaccompanied|             1|         Sales staff|                     0.0|                      0.0|              0|    284384|          null|          null|                   2|           N|          null|          null|           null|              0|0.7407990879702335|              null|           3|             null|                     0.0|                    FRIDAY|               0|              null|        Cash loans|                          0|          null|           null|         0|             Working|               0|          null|           null|           null|               0|           null|              0|               0|         null|              0|                     1.0|          null|          -1466|            null|              1|              0|         null|           null|           -147.0|                     0|         -598|Secondary / secon...|            null|           null|     0|          F|               0|         90000.0|               0|                    null|         null|         0|                   null|               -1742.0|                        null|              0|                         0|                      0.0|               1|             null|         null|               0|                       2.0|                      0.0|             Married|                     1.0|          null|                        null|                null|          null|          null|0.3801897299764487|              0|            5.0|          null|               null|          null|            null|              0|       Self-employed|       238500.0|              null|                 null|              N|                 null|         null|             null|                         0|               0|                       0.0|                       0.0|         null|159048|\n",
            "|               0|                   0.00712|                null|       0.027|                          2|    13891.5|               0|                     0.9752|       null|0.4419278954396067|                      0|    -21035|         1|                    null|           0.0|  142632.0|                     11|  House / apartment|                     0|               0|               0|  Unaccompanied|             0|                null|                     2.0|                      0.0|              1|    211127|block of flats|        0.0417|                   2|           N|        0.0417|        0.0072|         0.0073|              0|0.7267112092725122|              null|           0|             null|                     2.0|                 WEDNESDAY|               0|      Stone, brick|        Cash loans|                          0|        0.0417|           null|         0|           Pensioner|               0|         0.069|         0.0075|           0.66|               0|           null|              0|               0|       0.0417|              0|                     2.0|        0.0165|          -4571|          0.6733|              0|              0|       0.0276|         0.0167|           -862.0|                     0|       365243|Secondary / secon...|            null|         0.0168|     0|          F|               0|         58500.0|               0|                    null|        0.069|         1|                   null|               -2572.0|                      0.9752|              0|                         0|                      0.0|               1|             null|       0.0417|               0|                       1.0|                      0.0|Single / not married|                     2.0|        0.0081|                      0.9752|              0.0134|          null|        0.0417|              null|              0|            1.0|         0.069|                 No|           0.0|          0.6645|              0|                 XNA|       126000.0|              null|               0.0147|              Y|               0.0137|          0.0|             null|                         0|               0|                       0.0|                       0.0|       0.0274| 95726|\n",
            "+----------------+--------------------------+--------------------+------------+---------------------------+-----------+----------------+---------------------------+-----------+------------------+-----------------------+----------+----------+------------------------+--------------+----------+-----------------------+-------------------+----------------------+----------------+----------------+---------------+--------------+--------------------+------------------------+-------------------------+---------------+----------+--------------+--------------+--------------------+------------+--------------+--------------+---------------+---------------+------------------+------------------+------------+-----------------+------------------------+--------------------------+----------------+------------------+------------------+---------------------------+--------------+---------------+----------+--------------------+----------------+--------------+---------------+---------------+----------------+---------------+---------------+----------------+-------------+---------------+------------------------+--------------+---------------+----------------+---------------+---------------+-------------+---------------+-----------------+----------------------+-------------+--------------------+----------------+---------------+------+-----------+----------------+----------------+----------------+------------------------+-------------+----------+-----------------------+----------------------+----------------------------+---------------+--------------------------+-------------------------+----------------+-----------------+-------------+----------------+--------------------------+-------------------------+--------------------+------------------------+--------------+----------------------------+--------------------+--------------+--------------+------------------+---------------+---------------+--------------+-------------------+--------------+----------------+---------------+--------------------+---------------+------------------+---------------------+---------------+---------------------+-------------+-----------------+--------------------------+----------------+--------------------------+--------------------------+-------------+------+\n",
            "only showing top 20 rows\n",
            "\n"
          ]
        }
      ]
    },
    {
      "cell_type": "code",
      "metadata": {
        "colab": {
          "base_uri": "https://localhost:8080/"
        },
        "id": "wP0vPAiH5737",
        "outputId": "2c405779-9505-4707-83ca-5093e1dfe47b"
      },
      "source": [
        "previous_application_spark = layer.get_dataset(\"previous_application\").to_spark()\n",
        "previous_application_spark.show()"
      ],
      "id": "wP0vPAiH5737",
      "execution_count": 41,
      "outputs": [
        {
          "output_type": "stream",
          "name": "stdout",
          "text": [
            "+-----------+----------------+------------------+----------------------+----------------+--------------------+----------+-----------------------+-------------+---------------+----------+--------------------+--------------+---------------+--------------------------+------------------+--------------------+---------------------+--------------------+-------------+------------------+--------------------+-----------------+--------------------+-----------+--------------------+-------------------------+----------------+-------------------------+----------+----------------------+---------------+------------------------+----------------+----------------+--------------+---------------------------+-------+\n",
            "|AMT_ANNUITY|AMT_DOWN_PAYMENT|DAYS_FIRST_DRAWING|NAME_CASH_LOAN_PURPOSE|DAYS_TERMINATION|        CHANNEL_TYPE|AMT_CREDIT|HOUR_APPR_PROCESS_START|DAYS_DECISION|NAME_TYPE_SUITE|SK_ID_CURR|   RATE_DOWN_PAYMENT|DAYS_FIRST_DUE|AMT_APPLICATION|WEEKDAY_APPR_PROCESS_START|NAME_CONTRACT_TYPE| NAME_GOODS_CATEGORY|RATE_INTEREST_PRIMARY|NAME_SELLER_INDUSTRY|DAYS_LAST_DUE|CODE_REJECT_REASON|   NAME_PAYMENT_TYPE|NAME_PRODUCT_TYPE| PRODUCT_COMBINATION|CNT_PAYMENT|NAME_CONTRACT_STATUS|NFLAG_INSURED_ON_APPROVAL|NAME_CLIENT_TYPE|DAYS_LAST_DUE_1ST_VERSION|SK_ID_PREV|NFLAG_LAST_APPL_IN_DAY|AMT_GOODS_PRICE|RATE_INTEREST_PRIVILEGED|SELLERPLACE_AREA|NAME_YIELD_GROUP|NAME_PORTFOLIO|FLAG_LAST_APPL_PER_CONTRACT|  INDEX|\n",
            "+-----------+----------------+------------------+----------------------+----------------+--------------------+----------+-----------------------+-------------+---------------+----------+--------------------+--------------+---------------+--------------------------+------------------+--------------------+---------------------+--------------------+-------------+------------------+--------------------+-----------------+--------------------+-----------+--------------------+-------------------------+----------------+-------------------------+----------+----------------------+---------------+------------------------+----------------+----------------+--------------+---------------------------+-------+\n",
            "|  26703.135|            null|          365243.0|                   XNA|          -198.0|Credit and cash o...|  241920.0|                     11|         -292|           null|    155118|                null|        -262.0|       229500.0|                  THURSDAY|        Cash loans|                 XNA|                 null|                 XNA|       -202.0|               XAP|Cash through the ...|           x-sell|   Cash X-Sell: high|       12.0|            Approved|                      1.0|        Repeater|                     68.0|   1013079|                     1|       229500.0|                    null|              -1|            high|          Cash|                          Y|1240395|\n",
            "|  14973.525|            null|          365243.0|                   XNA|        365243.0|Credit and cash o...|  544491.0|                     12|         -329|  Unaccompanied|    342445|                null|        -299.0|       454500.0|                   TUESDAY|        Cash loans|                 XNA|                 null|                 XNA|     365243.0|               XAP|Cash through the ...|           x-sell|    Cash X-Sell: low|       60.0|            Approved|                      1.0|       Refreshed|                   1471.0|   1545463|                     1|       454500.0|                    null|              -1|      low_normal|          Cash|                          Y|1240445|\n",
            "|       null|            null|              null|                   XNA|            null|Credit and cash o...|       0.0|                     10|          -93|           null|    377461|                null|          null|            0.0|                    FRIDAY|        Cash loans|                 XNA|                 null|                 XNA|         null|               XAP|                 XNA|              XNA|                Cash|       null|            Canceled|                     null|        Repeater|                     null|   1886079|                     1|           null|                    null|              -1|             XNA|           XNA|                          Y|1240498|\n",
            "|   6283.395|          3262.5|          365243.0|                   XAP|         -1950.0|        Country-wide|   30816.0|                     16|        -2117|           null|    139922|  0.1042639520785566|       -2077.0|        32625.0|                    MONDAY|    Consumer loans|              Mobile|                 null|        Connectivity|      -1957.0|               XAP|                 XNA|              XNA|POS mobile with i...|        6.0|            Approved|                      0.0|        Repeater|                  -1927.0|   1648103|                     1|        32625.0|                    null|               5|            high|           POS|                          Y|1240540|\n",
            "|  13816.755|            null|          365243.0|                   XNA|          -880.0|Credit and cash o...|  213948.0|                     13|        -1158|  Unaccompanied|    346954|                null|       -1128.0|       189000.0|                   TUESDAY|        Cash loans|                 XNA|                 null|                 XNA|       -888.0|               XAP|Cash through the ...|           x-sell| Cash X-Sell: middle|       24.0|            Approved|                      1.0|        Repeater|                   -438.0|   2345423|                     1|       189000.0|                    null|              -1|          middle|          Cash|                          Y|1240566|\n",
            "|   5220.495|          4500.0|          365243.0|                   XAP|         -1489.0|        Country-wide|   38245.5|                     19|        -1802|           null|    139362|  0.1146532170850519|       -1763.0|        42745.5|                   TUESDAY|    Consumer loans|              Mobile|                 null|        Connectivity|      -1493.0|               XAP|Cash through the ...|              XNA|POS mobile withou...|       10.0|            Approved|                      0.0|             New|                  -1493.0|   2172771|                     1|        42745.5|                    null|              20|            high|           POS|                          Y|1240577|\n",
            "|    9690.75|             0.0|          365243.0|                   XAP|           -41.0|    Regional / Local|  105817.5|                     14|         -408|           null|    394871|                 0.0|        -375.0|       105817.5|                  THURSDAY|    Consumer loans|         Audio/Video|                 null|Consumer electronics|        -45.0|               XAP|Cash through the ...|              XNA|POS household wit...|       12.0|            Approved|                      0.0|        Repeater|                    -45.0|   1585154|                     1|       105817.5|                    null|             100|      low_action|           POS|                          Y|1240611|\n",
            "|    5051.97|          2025.9|          365243.0|                   XAP|         -1137.0|        Country-wide|   42525.0|                      9|        -1483|           null|    445179|  0.0495251335602035|       -1446.0|        40721.4|                  THURSDAY|    Consumer loans|              Mobile|                 null|        Connectivity|      -1146.0|               XAP|Cash through the ...|              XNA|POS mobile with i...|       12.0|            Approved|                      0.0|             New|                  -1116.0|   1931426|                     1|        40721.4|                    null|              20|            high|           POS|                          Y|1240650|\n",
            "|   32705.55|            null|              null|                   XNA|            null|Credit and cash o...|  481594.5|                      9|        -1086|  Unaccompanied|    165470|                null|          null|       337500.0|                   TUESDAY|        Cash loans|                 XNA|                 null|                 XNA|         null|             LIMIT|Cash through the ...|          walk-in|   Cash Street: high|       36.0|             Refused|                     null|        Repeater|                     null|   2218570|                     1|       337500.0|                    null|               0|            high|          Cash|                          Y|1240684|\n",
            "|   9248.445|          8941.5|          365243.0|                   XAP|          -268.0|               Stone|   88938.0|                     12|         -332|           null|    236210|  0.0994907653148652|        -301.0|        89383.5|                  SATURDAY|    Consumer loans|           Furniture|                 null|           Furniture|       -271.0|               XAP|Cash through the ...|              XNA|POS industry with...|       12.0|            Approved|                      0.0|       Refreshed|                     29.0|   1937766|                     1|        89383.5|                    null|             950|          middle|           POS|                          Y|1240700|\n",
            "|   73433.79|            2.25|          365243.0|                   XAP|          -470.0|               Stone|  716287.5|                     15|         -659|           null|    193431|3.421038128012505...|        -628.0|      716289.75|                    SUNDAY|    Consumer loans|           Furniture|                 null|           Furniture|       -478.0|               XAP|Cash through the ...|              XNA|POS industry with...|       12.0|            Approved|                      0.0|             New|                   -298.0|   1405511|                     1|      716289.75|                    null|              50|          middle|           POS|                          Y|1240807|\n",
            "|       null|             0.0|              null|                   XAP|            null|        Country-wide|   24700.5|                     17|        -1140|           null|    377742|                 0.0|          null|        24700.5|                    SUNDAY|    Consumer loans|              Mobile|                 null|        Connectivity|         null|            CLIENT|Cash through the ...|              XNA|POS mobile with i...|       null|        Unused offer|                     null|        Repeater|                     null|   2507404|                     1|        24700.5|                    null|              20|             XNA|           XNA|                          Y|1240854|\n",
            "|     4500.0|            null|              null|                   XAP|            null|Credit and cash o...|   90000.0|                     13|          -26|  Unaccompanied|    341376|                null|          null|        90000.0|                    FRIDAY|   Revolving loans|                 XNA|                 null|                 XNA|         null|                HC|                 XNA|           x-sell|         Card X-Sell|        0.0|             Refused|                     null|        Repeater|                     null|   2255160|                     1|        90000.0|                    null|              -1|             XNA|         Cards|                          Y|1240935|\n",
            "|    6210.81|             0.0|          365243.0|                   XAP|         -1705.0|        Country-wide|   64206.0|                      9|        -1952|Spouse, partner|    214909|                 0.0|       -1921.0|        58423.5|                    FRIDAY|    Consumer loans|Consumer Electronics|                 null|Consumer electronics|      -1711.0|               XAP|Cash through the ...|              XNA|POS household wit...|       12.0|            Approved|                      0.0|             New|                  -1591.0|   2759340|                     1|        58423.5|                    null|            1800|      low_normal|           POS|                          Y|1240946|\n",
            "|    6128.73|          4495.5|              null|                   XAP|            null|        Country-wide|   51115.5|                     13|        -1094|           null|    132214|  0.0880402830702231|          null|        44955.0|                  SATURDAY|    Consumer loans|              Mobile|                 null|        Connectivity|         null|               SCO|Cash through the ...|              XNA|POS mobile with i...|       12.0|             Refused|                     null|        Repeater|                     null|   1404548|                     1|        44955.0|                    null|              15|            high|           POS|                          Y|1240977|\n",
            "|    11250.0|            null|              null|                   XAP|            null|Credit and cash o...|  225000.0|                     18|         -294|           null|    116396|                null|          null|       225000.0|                  THURSDAY|   Revolving loans|                 XNA|                 null|                 XNA|         null|             LIMIT|                 XNA|          walk-in|         Card Street|        0.0|             Refused|                     null|        Repeater|                     null|   2735344|                     1|       225000.0|                    null|              -1|             XNA|         Cards|                          Y|1240980|\n",
            "|     6750.0|            null|           -1835.0|                   XAP|        365243.0|               Stone|  135000.0|                     13|        -1836|           null|    178823|                null|       -1778.0|            0.0|                  THURSDAY|   Revolving loans|                 XNA|                 null|        Connectivity|       -987.0|               XAP|                 XNA|           x-sell|         Card X-Sell|        0.0|            Approved|                      0.0|        Repeater|                 365243.0|   1887943|                     1|           null|                    null|              21|             XNA|         Cards|                          Y|1241028|\n",
            "|   17216.46|             0.0|          365243.0|                   XAP|          -851.0|               Stone|   94752.0|                     10|        -1036|         Family|    190417|                 0.0|       -1005.0|        90000.0|                    FRIDAY|    Consumer loans|Clothing and Acce...|                 null|            Clothing|       -855.0|               XAP|Cash through the ...|              XNA|POS industry with...|        6.0|            Approved|                      0.0|        Repeater|                   -855.0|   2817648|                     1|        90000.0|                    null|              40|          middle|           POS|                          Y|1241108|\n",
            "|  39629.205|            null|          365243.0|                   XNA|          -544.0|Credit and cash o...|  619497.0|                     11|         -908|  Unaccompanied|    321165|                null|        -878.0|       495000.0|                    SUNDAY|        Cash loans|                 XNA|                 null|                 XNA|       -548.0|               XAP|Cash through the ...|           x-sell| Cash X-Sell: middle|       24.0|            Approved|                      1.0|        Repeater|                   -188.0|   2335754|                     1|       495000.0|                    null|              -1|          middle|          Cash|                          Y|1241194|\n",
            "|   21077.73|         19710.0|          365243.0|                   XAP|          -942.0|               Stone|  192843.0|                     15|        -1310|  Unaccompanied|    199346|  0.1009911966341656|       -1275.0|       197100.0|                 WEDNESDAY|    Consumer loans|            Vehicles|                 null|            Industry|       -945.0|               XAP|Cash through the ...|              XNA|POS other with in...|       12.0|            Approved|                      0.0|       Refreshed|                   -945.0|   1848615|                     1|       197100.0|                    null|             105|            high|           POS|                          Y|1241247|\n",
            "+-----------+----------------+------------------+----------------------+----------------+--------------------+----------+-----------------------+-------------+---------------+----------+--------------------+--------------+---------------+--------------------------+------------------+--------------------+---------------------+--------------------+-------------+------------------+--------------------+-----------------+--------------------+-----------+--------------------+-------------------------+----------------+-------------------------+----------+----------------------+---------------+------------------------+----------------+----------------+--------------+---------------------------+-------+\n",
            "only showing top 20 rows\n",
            "\n"
          ]
        }
      ]
    },
    {
      "cell_type": "code",
      "metadata": {
        "colab": {
          "base_uri": "https://localhost:8080/"
        },
        "id": "zMAPlGAd50i9",
        "outputId": "cac08df2-b54b-45b6-88b0-e32a0344c06d"
      },
      "source": [
        "bureau_spark = layer.get_dataset(\"bureau\").to_spark()\n",
        "bureau_spark.show()"
      ],
      "id": "zMAPlGAd50i9",
      "execution_count": 42,
      "outputs": [
        {
          "output_type": "stream",
          "name": "stdout",
          "text": [
            "+-----------+-------------+------------+-----------------+----------+------------------+----------------------+--------------------+------------------+-------------------+------------------+-----------+---------------+--------------+---------------+----------------------+-------------------+-------+\n",
            "|AMT_ANNUITY|CREDIT_ACTIVE|SK_ID_BUREAU|DAYS_ENDDATE_FACT|SK_ID_CURR|CREDIT_DAY_OVERDUE|AMT_CREDIT_MAX_OVERDUE|AMT_CREDIT_SUM_LIMIT|CNT_CREDIT_PROLONG|AMT_CREDIT_SUM_DEBT|DAYS_CREDIT_UPDATE|DAYS_CREDIT|    CREDIT_TYPE|AMT_CREDIT_SUM|CREDIT_CURRENCY|AMT_CREDIT_SUM_OVERDUE|DAYS_CREDIT_ENDDATE|  INDEX|\n",
            "+-----------+-------------+------------+-----------------+----------+------------------+----------------------+--------------------+------------------+-------------------+------------------+-----------+---------------+--------------+---------------+----------------------+-------------------+-------+\n",
            "|       null|       Closed|     6327815|          -1904.0|    180560|                 0|                  null|                 0.0|                 0|                0.0|             -1290|      -2083|Consumer credit|       20655.0|     currency 1|                   0.0|            -1904.0|1452926|\n",
            "|       null|       Closed|     6327816|          -2635.0|    180560|                 0|                  null|                 0.0|                 0|                0.0|             -2620|      -2823|Consumer credit|       23526.0|     currency 1|                   0.0|            -2635.0|1452927|\n",
            "|       null|       Active|     6327817|             null|    180560|                 0|                  null|                 0.0|                 0|                0.0|             -2450|      -2613|Consumer credit|       45000.0|     currency 1|                   0.0|            -2421.0|1452928|\n",
            "|       null|       Closed|     6327818|          -1502.0|    180560|                 0|                  null|                 0.0|                 0|                0.0|             -1466|      -1531|Consumer credit|       13500.0|     currency 1|                   0.0|            -1439.0|1452929|\n",
            "|       null|       Active|     6327819|             null|    180560|                 0|                   0.0|                 0.0|                 0|           394096.5|                -4|       -300|Consumer credit|      450000.0|     currency 1|                   0.0|              796.0|1452930|\n",
            "|       null|       Closed|     6327867|          -2203.0|    389721|                 0|                9450.0|                 0.0|                 0|                0.0|             -2203|      -2632|Consumer credit|     165479.04|     currency 1|                   0.0|            -2174.0|1452969|\n",
            "|       null|       Closed|     6327869|           -831.0|    389721|                 0|                   0.0|                 0.0|                 0|                0.0|              -831|      -1229|Consumer credit|      270000.0|     currency 1|                   0.0|             -102.0|1452970|\n",
            "|       null|       Active|     6327870|             null|    389721|                 0|                   0.0|             194.715|                 0|           -194.715|              -589|      -1229|    Credit card|           0.0|     currency 1|                   0.0|             -488.0|1452971|\n",
            "|       null|       Active|     6327871|             null|    389721|                 0|                   0.0|                 0.0|                 0|            15705.0|              -581|       -854|Consumer credit|      405000.0|     currency 1|                   0.0|              394.0|1452972|\n",
            "|       null|       Active|     6327872|             null|    389721|                 0|                   0.0|                 0.0|                 0|         539225.955|              -148|       -330|Consumer credit|      555840.0|     currency 1|                   0.0|             1131.0|1452973|\n",
            "|       null|       Closed|     6327873|          -2251.0|    389721|                 0|                  null|                 0.0|                 0|                0.0|              -537|      -2558|Consumer credit|       68395.5|     currency 1|                   0.0|            -2251.0|1452974|\n",
            "|       null|       Closed|     6327874|          -2222.0|    389721|                 0|                  null|                 0.0|                 0|                0.0|              -765|      -2458|    Credit card|      121500.0|     currency 1|                   0.0|            -2222.0|1452975|\n",
            "|       null|       Active|     6327875|             null|    389721|                 0|                  null|                 0.0|                 0|            21685.5|               -19|      -1456|Consumer credit|      667080.0|     currency 1|                   0.0|                5.0|1452976|\n",
            "|       null|       Active|     6327876|             null|    389721|                 0|                  null|                 0.0|                 0|           265680.0|               -18|      -1085|Consumer credit|      450000.0|     currency 1|                   0.0|              742.0|1452977|\n",
            "|       null|       Active|     6327877|             null|    389721|                 0|                  null|                 0.0|                 0|           280183.5|                -2|      -1385|    Credit card|      450000.0|     currency 1|                   0.0|              768.0|1452978|\n",
            "|       null|       Active|     6327878|             null|    389721|                 0|                  null|                 0.0|                 0|           916704.0|               -25|       -849|Consumer credit|      900000.0|     currency 1|                   0.0|              977.0|1452979|\n",
            "|       null|       Closed|     6327880|          -2024.0|    389721|                 0|                   0.0|                null|                 0|               null|             -2022|      -2331|Consumer credit|       97929.0|     currency 1|                   0.0|            -2025.0|1452980|\n",
            "|       null|       Active|     6327881|             null|    389721|                 0|                   0.0|            51837.39|                 0|            69660.0|               -19|       -513|    Credit card|      121500.0|     currency 1|                   0.0|               null|1452981|\n",
            "|       null|       Active|     6327931|             null|    242121|                 0|                   0.0|            337950.0|                 0|             -450.0|              -149|       -615|    Credit card|      337500.0|     currency 1|                   0.0|              480.0|1453026|\n",
            "|       null|       Active|     6327932|             null|    242121|                 0|                   0.0|            225450.0|                 0|             -450.0|              -149|       -580|    Credit card|      225000.0|     currency 1|                   0.0|              515.0|1453027|\n",
            "+-----------+-------------+------------+-----------------+----------+------------------+----------------------+--------------------+------------------+-------------------+------------------+-----------+---------------+--------------+---------------+----------------------+-------------------+-------+\n",
            "only showing top 20 rows\n",
            "\n"
          ]
        }
      ]
    },
    {
      "cell_type": "code",
      "metadata": {
        "colab": {
          "base_uri": "https://localhost:8080/"
        },
        "id": "byR0qSg16Ne_",
        "outputId": "f517a511-2030-4210-dbea-e44381aabd71"
      },
      "source": [
        "installemnts_payments_spark = layer.get_dataset(\"installments_payments\").to_spark()\n",
        "installemnts_payments_spark.show()"
      ],
      "id": "byR0qSg16Ne_",
      "execution_count": 46,
      "outputs": [
        {
          "output_type": "stream",
          "name": "stdout",
          "text": [
            "+----------+------------------+--------------+-----------+---------------------+----------------------+---------------+----------+--------+\n",
            "|SK_ID_CURR|DAYS_ENTRY_PAYMENT|AMT_INSTALMENT|AMT_PAYMENT|NUM_INSTALMENT_NUMBER|NUM_INSTALMENT_VERSION|DAYS_INSTALMENT|SK_ID_PREV|   INDEX|\n",
            "+----------+------------------+--------------+-----------+---------------------+----------------------+---------------+----------+--------+\n",
            "|    417826|            -834.0|       3482.46|    3482.46|                    1|                   1.0|         -807.0|   1061339|12547029|\n",
            "|    453457|           -1573.0|       2695.05|    2695.05|                    5|                   1.0|        -1555.0|   1963494|12547052|\n",
            "|    404398|            -161.0|    129603.195| 129603.195|                    6|                   2.0|         -152.0|   1683027|12547056|\n",
            "|    401339|           -2478.0|       9441.54|   9430.875|                   18|                   1.0|        -2487.0|   1283778|12547121|\n",
            "|    417347|            -706.0|       159.795|    159.795|                   30|                   0.0|         -706.0|   2366653|12547177|\n",
            "|    452130|           -2621.0|       2973.15|    2973.15|                    2|                   1.0|        -2621.0|   2173130|12547202|\n",
            "|    408226|            -424.0|      10401.39|   10401.39|                    5|                   1.0|         -420.0|   1568675|12547260|\n",
            "|    423455|            -474.0|       175.185|    175.185|                  115|                   0.0|         -474.0|   1107403|12547357|\n",
            "|    451802|            -312.0|       8114.13|     252.99|                   23|                   1.0|         -342.0|   2673278|12547393|\n",
            "|    453121|            -207.0|      8615.295|   8615.295|                    2|                   1.0|         -198.0|   1234464|12547401|\n",
            "|    432971|             -28.0|         2.025|      2.025|                   58|                   0.0|          -28.0|   2487257|12547413|\n",
            "|    403136|            -232.0|      36821.97|   36821.97|                    6|                   1.0|         -224.0|   1076338|12547474|\n",
            "|    437122|           -1288.0|       386.055|    386.055|                   79|                   0.0|        -1288.0|   2633855|12547498|\n",
            "|    450798|            -890.0|       5059.71|    5059.71|                    1|                   1.0|         -875.0|   1873063|12547552|\n",
            "|    455753|            -845.0|     22758.165|  22758.165|                   20|                   1.0|         -839.0|   2165494|12547572|\n",
            "|    432358|           -2801.0|        4500.0|     4500.0|                    2|                   0.0|        -2801.0|   1364477|12547628|\n",
            "|    431518|            -265.0|         225.0|      225.0|                  129|                   0.0|         -265.0|   2186858|12547654|\n",
            "|    435406|            -247.0|     65026.755|  65026.755|                   18|                   2.0|         -230.0|   2190847|12547752|\n",
            "|    431145|            -372.0|        468.36|     468.36|                    2|                   0.0|         -372.0|   2210739|12547761|\n",
            "|    414473|           -1982.0|       5343.12|    5343.12|                   12|                   1.0|        -1973.0|   1367191|12547804|\n",
            "+----------+------------------+--------------+-----------+---------------------+----------------------+---------------+----------+--------+\n",
            "only showing top 20 rows\n",
            "\n"
          ]
        }
      ]
    },
    {
      "cell_type": "markdown",
      "metadata": {
        "id": "3c9a9ffd-5488-4d70-836d-78ff899eab9c"
      },
      "source": [
        "## Fetch the calculated features as a Spark DataFrame\n"
      ],
      "id": "3c9a9ffd-5488-4d70-836d-78ff899eab9c"
    },
    {
      "cell_type": "code",
      "metadata": {
        "colab": {
          "base_uri": "https://localhost:8080/"
        },
        "id": "ed066603-d209-4d13-bdb4-07e07ca34460",
        "outputId": "e80b79bf-9065-4951-ad26-0d1517b54c70"
      },
      "source": [
        "application_features_spark = layer.get_featureset(\"application_features\").to_spark()\n",
        "application_features_spark.show()"
      ],
      "id": "ed066603-d209-4d13-bdb4-07e07ca34460",
      "execution_count": 4,
      "outputs": [
        {
          "output_type": "stream",
          "name": "stdout",
          "text": [
            "+------+--------------------+-------------------+--------------------+--------------------+---------------------------+\n",
            "| INDEX|ANNUITY_INCOME_RATIO|CREDIT_INCOME_RATIO|         CREDIT_TERM| DAYS_EMPLOYED_RATIO|GOODS_PRICE_LOAN_DIFFERENCE|\n",
            "+------+--------------------+-------------------+--------------------+--------------------+---------------------------+\n",
            "|220101|             0.12815|              1.896| 0.06758966244725738|  0.1447648310092177|                   -35640.0|\n",
            "|298840|               0.143|  2.857142857142857|             0.05005|   0.536319800902162|                        0.0|\n",
            "|296804| 0.10741379310344827| 1.1027586206896551| 0.09740462789243277| -14.898148148148149|                    -8910.0|\n",
            "| 47748|           0.2696875|           3.434375| 0.07852593266606006| 0.10580170872243196|                   -22275.0|\n",
            "|131267|             0.41712|               12.0|             0.03476| 0.08034647550776583|                        0.0|\n",
            "|226980|              0.0444| 0.9230769230769231|              0.0481|0.008634087376964255|                        0.0|\n",
            "|282176| 0.27506896551724136|  5.192827586206897| 0.05297094135146621|0.020309254558042927|                   -92664.0|\n",
            "| 76019|             0.28685|            2.92985| 0.09790603614519515|  0.5070788629576374|                   -25186.5|\n",
            "|143501| 0.11778313253012049|  2.433734939759036|  0.0483960396039604| -16.387428212491027|                        0.0|\n",
            "|193781|             0.28744|            6.75756|0.042536063312793373| -17.629259581040643|                   -80725.5|\n",
            "|179125|              0.2875|               5.66| 0.05079505300353357|  -17.87340347443112|                   -29700.0|\n",
            "|197764|                 0.2|                4.0|                0.05|  0.5512514898688915|                        0.0|\n",
            "|272325| 0.35504347826086957|  6.521739130434782|             0.05444| 0.10162116040955631|                        0.0|\n",
            "|246738| 0.20152941176470587| 3.9671764705882353|0.050799205243023636|0.009338887395861327|                   -28989.0|\n",
            "|284530| 0.35373529411764704|  4.411764705882353|             0.08018|  0.3603497164461248|                        0.0|\n",
            "| 16438| 0.21851724137931033|  3.341241379310345| 0.06540001651254954|  0.3217429577464789|                   -76032.0|\n",
            "| 68627|             0.17268|            4.18432| 0.04126835423676965|  0.3326376916795209|                   -99972.0|\n",
            "|221041|             0.08064|            1.52908| 0.05273759384728072|0.038848291799387924|                   -47043.0|\n",
            "|159048|              0.2104|             3.2097| 0.06555129762906191|0.060306575231948364|                   -50373.0|\n",
            "| 95726| 0.23746153846153847| 2.4381538461538463| 0.09739399293286219|  -17.36358450202044|                   -16632.0|\n",
            "+------+--------------------+-------------------+--------------------+--------------------+---------------------------+\n",
            "only showing top 20 rows\n",
            "\n"
          ]
        }
      ]
    },
    {
      "cell_type": "code",
      "metadata": {
        "colab": {
          "base_uri": "https://localhost:8080/"
        },
        "id": "56b24677-cdce-4ca0-8fa5-a1d0b97b6fda",
        "outputId": "b2675b19-6a9e-4c96-af0c-c17cc1d5ff8e"
      },
      "source": [
        "previous_application_features_spark = layer.get_featureset(\"previous_application_features\").to_spark()\n",
        "previous_application_features_spark.show()"
      ],
      "id": "56b24677-cdce-4ca0-8fa5-a1d0b97b6fda",
      "execution_count": 5,
      "outputs": [
        {
          "output_type": "stream",
          "name": "stdout",
          "text": [
            "+-------+---------------------------+------------------------+\n",
            "|  INDEX|APPLIED_AWARDED_AMOUNT_DIFF|GOODS_PRICE_APPLIED_DIFF|\n",
            "+-------+---------------------------+------------------------+\n",
            "|1240395|                    12420.0|                     0.0|\n",
            "|1240445|                    89991.0|                     0.0|\n",
            "|1240498|                        0.0|                    null|\n",
            "|1240540|                    -1809.0|                     0.0|\n",
            "|1240566|                    24948.0|                     0.0|\n",
            "|1240577|                    -4500.0|                     0.0|\n",
            "|1240611|                        0.0|                     0.0|\n",
            "|1240650|         1803.5999999999985|                     0.0|\n",
            "|1240684|                   144094.5|                     0.0|\n",
            "|1240700|                     -445.5|                     0.0|\n",
            "|1240807|                      -2.25|                     0.0|\n",
            "|1240854|                        0.0|                     0.0|\n",
            "|1240935|                        0.0|                     0.0|\n",
            "|1240946|                     5782.5|                     0.0|\n",
            "|1240977|                     6160.5|                     0.0|\n",
            "|1240980|                        0.0|                     0.0|\n",
            "|1241028|                   135000.0|                    null|\n",
            "|1241108|                     4752.0|                     0.0|\n",
            "|1241194|                   124497.0|                     0.0|\n",
            "|1241247|                    -4257.0|                     0.0|\n",
            "+-------+---------------------------+------------------------+\n",
            "only showing top 20 rows\n",
            "\n"
          ]
        }
      ]
    },
    {
      "cell_type": "code",
      "metadata": {
        "colab": {
          "base_uri": "https://localhost:8080/"
        },
        "id": "14e122c9-de0a-4064-9b84-194f86b66b68",
        "outputId": "6b2d5277-1bf3-4697-f3f5-2ab112060c34"
      },
      "source": [
        "bureau_features_spark = layer.get_featureset(\"bureau_features\").to_spark()\n",
        "bureau_features_spark.show()"
      ],
      "id": "14e122c9-de0a-4064-9b84-194f86b66b68",
      "execution_count": 6,
      "outputs": [
        {
          "output_type": "stream",
          "name": "stdout",
          "text": [
            "+-------+-----------------------+--------+----------------+\n",
            "|  INDEX|CREDIT_LIMIT_ABOVE_ZERO|HAS_DEBT|HAS_OVERDUE_DEBT|\n",
            "+-------+-----------------------+--------+----------------+\n",
            "|1452926|                      0|       0|               0|\n",
            "|1452927|                      0|       0|               0|\n",
            "|1452928|                      0|       0|               0|\n",
            "|1452929|                      0|       0|               0|\n",
            "|1452930|                      0|       1|               0|\n",
            "|1452969|                      0|       0|               0|\n",
            "|1452970|                      0|       0|               0|\n",
            "|1452971|                      1|       0|               0|\n",
            "|1452972|                      0|       1|               0|\n",
            "|1452973|                      0|       1|               0|\n",
            "|1452974|                      0|       0|               0|\n",
            "|1452975|                      0|       0|               0|\n",
            "|1452976|                      0|       1|               0|\n",
            "|1452977|                      0|       1|               0|\n",
            "|1452978|                      0|       1|               0|\n",
            "|1452979|                      0|       1|               0|\n",
            "|1452980|                      0|       0|               0|\n",
            "|1452981|                      1|       1|               0|\n",
            "|1453026|                      1|       0|               0|\n",
            "|1453027|                      1|       0|               0|\n",
            "+-------+-----------------------+--------+----------------+\n",
            "only showing top 20 rows\n",
            "\n"
          ]
        }
      ]
    },
    {
      "cell_type": "markdown",
      "metadata": {
        "id": "0aa9e8b5-6662-4173-a219-6f6f9b839804"
      },
      "source": [
        "## Fetch Spark model"
      ],
      "id": "0aa9e8b5-6662-4173-a219-6f6f9b839804"
    },
    {
      "cell_type": "code",
      "metadata": {
        "colab": {
          "base_uri": "https://localhost:8080/"
        },
        "id": "98ff0d53-b42f-4f7a-8c66-628d7ac712e1",
        "outputId": "5db40af9-be92-43c7-a115-ea015fe85943"
      },
      "source": [
        "spark_credit_score_model = layer.get_model(\"spark_credit_score_model\")\n",
        "print(spark_credit_score_model.parameters)\n",
        "print(spark_credit_score_model.metrics)"
      ],
      "id": "98ff0d53-b42f-4f7a-8c66-628d7ac712e1",
      "execution_count": 7,
      "outputs": [
        {
          "output_type": "stream",
          "name": "stdout",
          "text": [
            "{'maxDepth': '5', 'seed': '0', 'featuresCol': 'features', 'maxIter': '20', 'maxBins': '32', 'labelCol': 'TARGET'}\n",
            "{'areaUnderROC': [(1638255201776, 0.9673893182368939)]}\n"
          ]
        }
      ]
    },
    {
      "cell_type": "code",
      "metadata": {
        "colab": {
          "base_uri": "https://localhost:8080/"
        },
        "id": "5be00a78-3060-4198-a210-ebadc52194db",
        "outputId": "3e8308c6-d198-4f49-ffc3-b6422225a91f"
      },
      "source": [
        "trained_classifier = spark_credit_score_model.get_train()\n",
        "trained_classifier"
      ],
      "id": "5be00a78-3060-4198-a210-ebadc52194db",
      "execution_count": 8,
      "outputs": [
        {
          "output_type": "execute_result",
          "data": {
            "text/plain": [
              "PipelineModel_53e61a13c985"
            ]
          },
          "metadata": {},
          "execution_count": 8
        }
      ]
    },
    {
      "cell_type": "markdown",
      "metadata": {
        "id": "TCTXnRN564qi"
      },
      "source": [
        "### Quick Apache Spark set up for Google Colab"
      ],
      "id": "TCTXnRN564qi"
    },
    {
      "cell_type": "code",
      "metadata": {
        "id": "3e223598-35c0-4356-a505-f2d967e01dcc"
      },
      "source": [
        "!apt-get install openjdk-8-jdk-headless -qq > /dev/null \n",
        "!wget -q https://archive.apache.org/dist/spark/spark-3.2.0/spark-3.2.0-bin-hadoop3.2.tgz"
      ],
      "id": "3e223598-35c0-4356-a505-f2d967e01dcc",
      "execution_count": 13,
      "outputs": []
    },
    {
      "cell_type": "code",
      "metadata": {
        "id": "vl_5uG_G1hkX"
      },
      "source": [
        "!tar xzf spark-3.2.0-bin-hadoop3.2.tgz"
      ],
      "id": "vl_5uG_G1hkX",
      "execution_count": 14,
      "outputs": []
    },
    {
      "cell_type": "code",
      "metadata": {
        "id": "sHnTF7wB1j5e"
      },
      "source": [
        "import os \n",
        "os.environ[\"JAVA_HOME\"] = \"/usr/lib/jvm/java-8-openjdk-amd64\" \n",
        "os.environ[\"SPARK_HOME\"] = \"/content/spark-3.2.0-bin-hadoop3.2\""
      ],
      "id": "sHnTF7wB1j5e",
      "execution_count": 15,
      "outputs": []
    },
    {
      "cell_type": "code",
      "metadata": {
        "id": "DY6_UGKW1mNJ"
      },
      "source": [
        "pip install findspark -qqq\n"
      ],
      "id": "DY6_UGKW1mNJ",
      "execution_count": 16,
      "outputs": []
    },
    {
      "cell_type": "markdown",
      "metadata": {
        "id": "0D75SqWE7Kao"
      },
      "source": [
        "### Create testing sample"
      ],
      "id": "0D75SqWE7Kao"
    },
    {
      "cell_type": "code",
      "metadata": {
        "id": "eUz99KZc1ode"
      },
      "source": [
        "import findspark \n",
        "findspark.init()"
      ],
      "id": "eUz99KZc1ode",
      "execution_count": 17,
      "outputs": []
    },
    {
      "cell_type": "code",
      "metadata": {
        "id": "SlLsuDQ81qZj"
      },
      "source": [
        "import pyspark\n",
        "sc = pyspark.SparkContext.getOrCreate();"
      ],
      "id": "SlLsuDQ81qZj",
      "execution_count": 18,
      "outputs": []
    },
    {
      "cell_type": "code",
      "metadata": {
        "id": "pPVPqm5V1snU"
      },
      "source": [
        "from pyspark.sql import SQLContext\n"
      ],
      "id": "pPVPqm5V1snU",
      "execution_count": 19,
      "outputs": []
    },
    {
      "cell_type": "code",
      "metadata": {
        "id": "dyLiaIQH1uRT"
      },
      "source": [
        "sqlContext  = SQLContext(sc)\n",
        "\n",
        "test = sqlContext.createDataFrame([\n",
        "    (1731690, -1916.0,-1953.0,6953.31,6953.31,1731690, 0  ,1731690 ,0.2976,7.47512,0.039812,1731690,0.189752,-161451.0,1731690,1731690,1731690,1731690,1,-16074.0, 1731690, 0.0, 1 ),\n",
        "    ], [\"OWN_CAR_AGE\", \"APPLIED_AWARDED_AMOUNT_DIFF\", \"REGION_RATING_CLIENT_W_CITY\", \"CREDIT_INCOME_RATIO\",\"CREDIT_TERM\", \"DAYS_BIRTH\", \"DAYS_EMPLOYED_RATIO\", \"AMT_INSTALMENT\", \"DAYS_ID_PUBLISH\", \"GOODS_PRICE_LOAN_DIFFERENCE\", \"AMT_PAYMENT\", \"HAS_DEBT\", \"REG_CITY_NOT_WORK_CITY\", \"AMT_CREDIT_SUM_OVERDUE\", \"FLAG_DOCUMENT_3\", \"DAYS_ENTRY_PAYMENT\", \"DAYS_REGISTRATION\", \"LIVE_CITY_NOT_WORK_CITY\", \"DAYS_INSTALMENT\", \"ANNUITY_INCOME_RATIO\", \"GOODS_PRICE_APPLIED_DIFF\", \"REGION_RATING_CLIENT\", \"CREDIT_LIMIT_ABOVE_ZERO\"\n",
        "])"
      ],
      "id": "dyLiaIQH1uRT",
      "execution_count": 33,
      "outputs": []
    },
    {
      "cell_type": "code",
      "metadata": {
        "colab": {
          "base_uri": "https://localhost:8080/"
        },
        "id": "NvJkehan1w1F",
        "outputId": "c65bb0ff-5306-4a2a-f5e9-eea03eb1560f"
      },
      "source": [
        "test.show()\n"
      ],
      "id": "NvJkehan1w1F",
      "execution_count": 34,
      "outputs": [
        {
          "output_type": "stream",
          "name": "stdout",
          "text": [
            "+-----------+---------------------------+---------------------------+-------------------+-----------+----------+-------------------+--------------+---------------+---------------------------+-----------+--------+----------------------+----------------------+---------------+------------------+-----------------+-----------------------+---------------+--------------------+------------------------+--------------------+-----------------------+\n",
            "|OWN_CAR_AGE|APPLIED_AWARDED_AMOUNT_DIFF|REGION_RATING_CLIENT_W_CITY|CREDIT_INCOME_RATIO|CREDIT_TERM|DAYS_BIRTH|DAYS_EMPLOYED_RATIO|AMT_INSTALMENT|DAYS_ID_PUBLISH|GOODS_PRICE_LOAN_DIFFERENCE|AMT_PAYMENT|HAS_DEBT|REG_CITY_NOT_WORK_CITY|AMT_CREDIT_SUM_OVERDUE|FLAG_DOCUMENT_3|DAYS_ENTRY_PAYMENT|DAYS_REGISTRATION|LIVE_CITY_NOT_WORK_CITY|DAYS_INSTALMENT|ANNUITY_INCOME_RATIO|GOODS_PRICE_APPLIED_DIFF|REGION_RATING_CLIENT|CREDIT_LIMIT_ABOVE_ZERO|\n",
            "+-----------+---------------------------+---------------------------+-------------------+-----------+----------+-------------------+--------------+---------------+---------------------------+-----------+--------+----------------------+----------------------+---------------+------------------+-----------------+-----------------------+---------------+--------------------+------------------------+--------------------+-----------------------+\n",
            "|    1731690|                    -1916.0|                    -1953.0|            6953.31|    6953.31|   1731690|                  0|       1731690|         0.2976|                    7.47512|   0.039812| 1731690|              0.189752|             -161451.0|        1731690|           1731690|          1731690|                1731690|              1|            -16074.0|                 1731690|                 0.0|                      1|\n",
            "+-----------+---------------------------+---------------------------+-------------------+-----------+----------+-------------------+--------------+---------------+---------------------------+-----------+--------+----------------------+----------------------+---------------+------------------+-----------------+-----------------------+---------------+--------------------+------------------------+--------------------+-----------------------+\n",
            "\n"
          ]
        }
      ]
    },
    {
      "cell_type": "markdown",
      "metadata": {
        "id": "1rqCLyr-7QCg"
      },
      "source": [
        "### Transform the testing set"
      ],
      "id": "1rqCLyr-7QCg"
    },
    {
      "cell_type": "code",
      "metadata": {
        "id": "ozW7dS9x3SZn"
      },
      "source": [
        "from pyspark.ml.feature import VectorAssembler\n"
      ],
      "id": "ozW7dS9x3SZn",
      "execution_count": 29,
      "outputs": []
    },
    {
      "cell_type": "code",
      "metadata": {
        "id": "Hj9mguWV3ZCX"
      },
      "source": [
        "feat_cols = [\"OWN_CAR_AGE\", \"APPLIED_AWARDED_AMOUNT_DIFF\", \"REGION_RATING_CLIENT_W_CITY\", \"CREDIT_INCOME_RATIO\",\"CREDIT_TERM\", \"DAYS_BIRTH\", \"DAYS_EMPLOYED_RATIO\", \"AMT_INSTALMENT\", \"DAYS_ID_PUBLISH\", \"GOODS_PRICE_LOAN_DIFFERENCE\", \"AMT_PAYMENT\", \"HAS_DEBT\", \"REG_CITY_NOT_WORK_CITY\", \"AMT_CREDIT_SUM_OVERDUE\", \"FLAG_DOCUMENT_3\", \"DAYS_ENTRY_PAYMENT\", \"DAYS_REGISTRATION\", \"LIVE_CITY_NOT_WORK_CITY\", \"DAYS_INSTALMENT\", \"ANNUITY_INCOME_RATIO\", \"GOODS_PRICE_APPLIED_DIFF\", \"REGION_RATING_CLIENT\", \"CREDIT_LIMIT_ABOVE_ZERO\"]\n",
        "vec_assember = VectorAssembler(inputCols=feat_cols, outputCol='features')\n",
        "test_data = vec_assember.transform(test)"
      ],
      "id": "Hj9mguWV3ZCX",
      "execution_count": 35,
      "outputs": []
    },
    {
      "cell_type": "code",
      "metadata": {
        "colab": {
          "base_uri": "https://localhost:8080/"
        },
        "id": "XFNHujzd3xTj",
        "outputId": "19c2c2bd-06c9-47d6-b7d9-009328f4eb43"
      },
      "source": [
        "test_data.select(\"features\").show(1, False)\n"
      ],
      "id": "XFNHujzd3xTj",
      "execution_count": 36,
      "outputs": [
        {
          "output_type": "stream",
          "name": "stdout",
          "text": [
            "+-----------------------------------------------------------------------------------------------------------------------------------------------------------------------------------------------+\n",
            "|features                                                                                                                                                                                       |\n",
            "+-----------------------------------------------------------------------------------------------------------------------------------------------------------------------------------------------+\n",
            "|[1731690.0,-1916.0,-1953.0,6953.31,6953.31,1731690.0,0.0,1731690.0,0.2976,7.47512,0.039812,1731690.0,0.189752,-161451.0,1731690.0,1731690.0,1731690.0,1731690.0,1.0,-16074.0,1731690.0,0.0,1.0]|\n",
            "+-----------------------------------------------------------------------------------------------------------------------------------------------------------------------------------------------+\n",
            "\n"
          ]
        }
      ]
    },
    {
      "cell_type": "markdown",
      "metadata": {
        "id": "5gkhpo187UUu"
      },
      "source": [
        "### Make predictions"
      ],
      "id": "5gkhpo187UUu"
    },
    {
      "cell_type": "code",
      "metadata": {
        "id": "qlBDgWEo3zi2"
      },
      "source": [
        "predictions = trained_classifier.transform(test_data)"
      ],
      "id": "qlBDgWEo3zi2",
      "execution_count": 37,
      "outputs": []
    },
    {
      "cell_type": "code",
      "metadata": {
        "colab": {
          "base_uri": "https://localhost:8080/"
        },
        "id": "h7Y-o7WO35BE",
        "outputId": "0a92381b-2b74-4817-fd03-7512b4bb1630"
      },
      "source": [
        "predictions.select('probability','OWN_CAR_AGE','prediction','REGION_RATING_CLIENT_W_CITY','CREDIT_INCOME_RATIO','CREDIT_TERM','DAYS_BIRTH','DAYS_EMPLOYED_RATIO').show()\n"
      ],
      "id": "h7Y-o7WO35BE",
      "execution_count": 38,
      "outputs": [
        {
          "output_type": "stream",
          "name": "stdout",
          "text": [
            "+--------------------+-----------+----------+---------------------------+-------------------+-----------+----------+-------------------+\n",
            "|         probability|OWN_CAR_AGE|prediction|REGION_RATING_CLIENT_W_CITY|CREDIT_INCOME_RATIO|CREDIT_TERM|DAYS_BIRTH|DAYS_EMPLOYED_RATIO|\n",
            "+--------------------+-----------+----------+---------------------------+-------------------+-----------+----------+-------------------+\n",
            "|[0.15590001178167...|    1731690|       1.0|                    -1953.0|            6953.31|    6953.31|   1731690|                  0|\n",
            "+--------------------+-----------+----------+---------------------------+-------------------+-----------+----------+-------------------+\n",
            "\n"
          ]
        }
      ]
    }
  ]
}