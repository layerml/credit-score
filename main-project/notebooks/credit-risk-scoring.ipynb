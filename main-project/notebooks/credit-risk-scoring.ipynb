{
 "cells": [
  {
   "cell_type": "markdown",
   "metadata": {
    "id": "1yREzuCyLQuN"
   },
   "source": [
    "### Download data"
   ]
  },
  {
   "cell_type": "code",
   "execution_count": 21,
   "metadata": {
    "id": "i7JPiXDYXCCE"
   },
   "outputs": [],
   "source": [
    "import pandas as pd\n",
    "import warnings\n",
    "warnings.filterwarnings('ignore') "
   ]
  },
  {
   "cell_type": "markdown",
   "metadata": {
    "id": "ayu4blpnF7Yq"
   },
   "source": [
    "### Application table"
   ]
  },
  {
   "cell_type": "markdown",
   "metadata": {
    "id": "ZNIF42HSgYht"
   },
   "source": [
    "This is the main table, broken into two files for Train (with TARGET) and Test (without TARGET).\n",
    "Static data for all applications. One row represents one loan in our data sample."
   ]
  },
  {
   "cell_type": "code",
   "execution_count": 22,
   "metadata": {
    "id": "vydD6lM4XHOd"
   },
   "outputs": [],
   "source": [
    "application_train = pd.read_csv(\"application_train.csv\")"
   ]
  },
  {
   "cell_type": "code",
   "execution_count": 23,
   "metadata": {
    "id": "cWTB25BhgmHp",
    "outputId": "c890105e-a7cb-4b48-a63c-c448f394b358"
   },
   "outputs": [
    {
     "data": {
      "text/plain": [
       "TARGET\n",
       "0         282686\n",
       "1          24825\n",
       "dtype: int64"
      ]
     },
     "execution_count": 23,
     "metadata": {},
     "output_type": "execute_result"
    }
   ],
   "source": [
    "application_train[[\"TARGET\"]].value_counts()"
   ]
  },
  {
   "cell_type": "code",
   "execution_count": 24,
   "metadata": {
    "id": "x21JDzosbj3G",
    "outputId": "36a82896-2016-4fc2-b8bd-fb66ceff9820"
   },
   "outputs": [
    {
     "data": {
      "text/html": [
       "<div>\n",
       "<style scoped>\n",
       "    .dataframe tbody tr th:only-of-type {\n",
       "        vertical-align: middle;\n",
       "    }\n",
       "\n",
       "    .dataframe tbody tr th {\n",
       "        vertical-align: top;\n",
       "    }\n",
       "\n",
       "    .dataframe thead th {\n",
       "        text-align: right;\n",
       "    }\n",
       "</style>\n",
       "<table border=\"1\" class=\"dataframe\">\n",
       "  <thead>\n",
       "    <tr style=\"text-align: right;\">\n",
       "      <th></th>\n",
       "      <th>SK_ID_CURR</th>\n",
       "      <th>TARGET</th>\n",
       "      <th>NAME_CONTRACT_TYPE</th>\n",
       "      <th>CODE_GENDER</th>\n",
       "      <th>FLAG_OWN_CAR</th>\n",
       "      <th>FLAG_OWN_REALTY</th>\n",
       "      <th>CNT_CHILDREN</th>\n",
       "      <th>AMT_INCOME_TOTAL</th>\n",
       "      <th>AMT_CREDIT</th>\n",
       "      <th>AMT_ANNUITY</th>\n",
       "      <th>...</th>\n",
       "      <th>FLAG_DOCUMENT_18</th>\n",
       "      <th>FLAG_DOCUMENT_19</th>\n",
       "      <th>FLAG_DOCUMENT_20</th>\n",
       "      <th>FLAG_DOCUMENT_21</th>\n",
       "      <th>AMT_REQ_CREDIT_BUREAU_HOUR</th>\n",
       "      <th>AMT_REQ_CREDIT_BUREAU_DAY</th>\n",
       "      <th>AMT_REQ_CREDIT_BUREAU_WEEK</th>\n",
       "      <th>AMT_REQ_CREDIT_BUREAU_MON</th>\n",
       "      <th>AMT_REQ_CREDIT_BUREAU_QRT</th>\n",
       "      <th>AMT_REQ_CREDIT_BUREAU_YEAR</th>\n",
       "    </tr>\n",
       "  </thead>\n",
       "  <tbody>\n",
       "    <tr>\n",
       "      <th>103791</th>\n",
       "      <td>220461</td>\n",
       "      <td>1</td>\n",
       "      <td>Cash loans</td>\n",
       "      <td>M</td>\n",
       "      <td>Y</td>\n",
       "      <td>Y</td>\n",
       "      <td>0</td>\n",
       "      <td>270000.0</td>\n",
       "      <td>755190.0</td>\n",
       "      <td>36459.0</td>\n",
       "      <td>...</td>\n",
       "      <td>0</td>\n",
       "      <td>0</td>\n",
       "      <td>0</td>\n",
       "      <td>0</td>\n",
       "      <td>0.0</td>\n",
       "      <td>0.0</td>\n",
       "      <td>0.0</td>\n",
       "      <td>0.0</td>\n",
       "      <td>2.0</td>\n",
       "      <td>8.0</td>\n",
       "    </tr>\n",
       "  </tbody>\n",
       "</table>\n",
       "<p>1 rows × 122 columns</p>\n",
       "</div>"
      ],
      "text/plain": [
       "        SK_ID_CURR  TARGET NAME_CONTRACT_TYPE CODE_GENDER FLAG_OWN_CAR  \\\n",
       "103791      220461       1         Cash loans           M            Y   \n",
       "\n",
       "       FLAG_OWN_REALTY  CNT_CHILDREN  AMT_INCOME_TOTAL  AMT_CREDIT  \\\n",
       "103791               Y             0          270000.0    755190.0   \n",
       "\n",
       "        AMT_ANNUITY  ...  FLAG_DOCUMENT_18 FLAG_DOCUMENT_19 FLAG_DOCUMENT_20  \\\n",
       "103791      36459.0  ...                 0                0                0   \n",
       "\n",
       "       FLAG_DOCUMENT_21 AMT_REQ_CREDIT_BUREAU_HOUR AMT_REQ_CREDIT_BUREAU_DAY  \\\n",
       "103791                0                        0.0                       0.0   \n",
       "\n",
       "        AMT_REQ_CREDIT_BUREAU_WEEK  AMT_REQ_CREDIT_BUREAU_MON  \\\n",
       "103791                         0.0                        0.0   \n",
       "\n",
       "        AMT_REQ_CREDIT_BUREAU_QRT  AMT_REQ_CREDIT_BUREAU_YEAR  \n",
       "103791                        2.0                         8.0  \n",
       "\n",
       "[1 rows x 122 columns]"
      ]
     },
     "execution_count": 24,
     "metadata": {},
     "output_type": "execute_result"
    }
   ],
   "source": [
    "application_train.sample()"
   ]
  },
  {
   "cell_type": "code",
   "execution_count": 25,
   "metadata": {
    "id": "7Jsg7nJ-b9yF",
    "outputId": "593b1e7d-d62c-45db-98aa-785c5f277cc1"
   },
   "outputs": [
    {
     "name": "stdout",
     "output_type": "stream",
     "text": [
      "<class 'pandas.core.frame.DataFrame'>\n",
      "RangeIndex: 307511 entries, 0 to 307510\n",
      "Columns: 122 entries, SK_ID_CURR to AMT_REQ_CREDIT_BUREAU_YEAR\n",
      "dtypes: float64(65), int64(41), object(16)\n",
      "memory usage: 286.2+ MB\n"
     ]
    }
   ],
   "source": [
    "application_train.info()"
   ]
  },
  {
   "cell_type": "code",
   "execution_count": 26,
   "metadata": {
    "id": "NBIRZU2adAfm",
    "outputId": "6988b5cb-2640-43d0-92d8-34a467d13f39"
   },
   "outputs": [
    {
     "data": {
      "text/plain": [
       "False"
      ]
     },
     "execution_count": 26,
     "metadata": {},
     "output_type": "execute_result"
    }
   ],
   "source": [
    "application_train['SK_ID_CURR'].duplicated().any()\n"
   ]
  },
  {
   "cell_type": "code",
   "execution_count": 27,
   "metadata": {
    "id": "sdieBwPPdcso",
    "outputId": "e1c248f7-6ca5-45ca-9854-4078e58a20c8"
   },
   "outputs": [
    {
     "data": {
      "text/plain": [
       "307511"
      ]
     },
     "execution_count": 27,
     "metadata": {},
     "output_type": "execute_result"
    }
   ],
   "source": [
    "application_train['SK_ID_CURR'].nunique()"
   ]
  },
  {
   "cell_type": "code",
   "execution_count": 28,
   "metadata": {
    "id": "u0hpARfQdhWt"
   },
   "outputs": [],
   "source": [
    "application_sample = application_train.sample(10000, random_state=0)"
   ]
  },
  {
   "cell_type": "code",
   "execution_count": 29,
   "metadata": {
    "id": "yzT5qRw6dq3Q",
    "outputId": "0292270e-93ac-4ae4-a533-622c847250ec"
   },
   "outputs": [
    {
     "data": {
      "text/html": [
       "<div>\n",
       "<style scoped>\n",
       "    .dataframe tbody tr th:only-of-type {\n",
       "        vertical-align: middle;\n",
       "    }\n",
       "\n",
       "    .dataframe tbody tr th {\n",
       "        vertical-align: top;\n",
       "    }\n",
       "\n",
       "    .dataframe thead th {\n",
       "        text-align: right;\n",
       "    }\n",
       "</style>\n",
       "<table border=\"1\" class=\"dataframe\">\n",
       "  <thead>\n",
       "    <tr style=\"text-align: right;\">\n",
       "      <th></th>\n",
       "      <th>SK_ID_CURR</th>\n",
       "      <th>TARGET</th>\n",
       "      <th>NAME_CONTRACT_TYPE</th>\n",
       "      <th>CODE_GENDER</th>\n",
       "      <th>FLAG_OWN_CAR</th>\n",
       "      <th>FLAG_OWN_REALTY</th>\n",
       "      <th>CNT_CHILDREN</th>\n",
       "      <th>AMT_INCOME_TOTAL</th>\n",
       "      <th>AMT_CREDIT</th>\n",
       "      <th>AMT_ANNUITY</th>\n",
       "      <th>...</th>\n",
       "      <th>FLAG_DOCUMENT_18</th>\n",
       "      <th>FLAG_DOCUMENT_19</th>\n",
       "      <th>FLAG_DOCUMENT_20</th>\n",
       "      <th>FLAG_DOCUMENT_21</th>\n",
       "      <th>AMT_REQ_CREDIT_BUREAU_HOUR</th>\n",
       "      <th>AMT_REQ_CREDIT_BUREAU_DAY</th>\n",
       "      <th>AMT_REQ_CREDIT_BUREAU_WEEK</th>\n",
       "      <th>AMT_REQ_CREDIT_BUREAU_MON</th>\n",
       "      <th>AMT_REQ_CREDIT_BUREAU_QRT</th>\n",
       "      <th>AMT_REQ_CREDIT_BUREAU_YEAR</th>\n",
       "    </tr>\n",
       "  </thead>\n",
       "  <tbody>\n",
       "    <tr>\n",
       "      <th>42962</th>\n",
       "      <td>149741</td>\n",
       "      <td>1</td>\n",
       "      <td>Cash loans</td>\n",
       "      <td>F</td>\n",
       "      <td>N</td>\n",
       "      <td>N</td>\n",
       "      <td>0</td>\n",
       "      <td>117000.0</td>\n",
       "      <td>417024.0</td>\n",
       "      <td>20191.5</td>\n",
       "      <td>...</td>\n",
       "      <td>0</td>\n",
       "      <td>0</td>\n",
       "      <td>0</td>\n",
       "      <td>0</td>\n",
       "      <td>0.0</td>\n",
       "      <td>0.0</td>\n",
       "      <td>0.0</td>\n",
       "      <td>0.0</td>\n",
       "      <td>0.0</td>\n",
       "      <td>3.0</td>\n",
       "    </tr>\n",
       "    <tr>\n",
       "      <th>227307</th>\n",
       "      <td>363290</td>\n",
       "      <td>0</td>\n",
       "      <td>Cash loans</td>\n",
       "      <td>M</td>\n",
       "      <td>N</td>\n",
       "      <td>Y</td>\n",
       "      <td>0</td>\n",
       "      <td>450000.0</td>\n",
       "      <td>640080.0</td>\n",
       "      <td>31261.5</td>\n",
       "      <td>...</td>\n",
       "      <td>0</td>\n",
       "      <td>0</td>\n",
       "      <td>0</td>\n",
       "      <td>0</td>\n",
       "      <td>0.0</td>\n",
       "      <td>0.0</td>\n",
       "      <td>0.0</td>\n",
       "      <td>0.0</td>\n",
       "      <td>0.0</td>\n",
       "      <td>1.0</td>\n",
       "    </tr>\n",
       "    <tr>\n",
       "      <th>290035</th>\n",
       "      <td>436006</td>\n",
       "      <td>0</td>\n",
       "      <td>Revolving loans</td>\n",
       "      <td>M</td>\n",
       "      <td>Y</td>\n",
       "      <td>Y</td>\n",
       "      <td>0</td>\n",
       "      <td>450000.0</td>\n",
       "      <td>900000.0</td>\n",
       "      <td>45000.0</td>\n",
       "      <td>...</td>\n",
       "      <td>0</td>\n",
       "      <td>0</td>\n",
       "      <td>0</td>\n",
       "      <td>0</td>\n",
       "      <td>0.0</td>\n",
       "      <td>0.0</td>\n",
       "      <td>0.0</td>\n",
       "      <td>0.0</td>\n",
       "      <td>2.0</td>\n",
       "      <td>0.0</td>\n",
       "    </tr>\n",
       "    <tr>\n",
       "      <th>239833</th>\n",
       "      <td>377703</td>\n",
       "      <td>0</td>\n",
       "      <td>Cash loans</td>\n",
       "      <td>M</td>\n",
       "      <td>Y</td>\n",
       "      <td>N</td>\n",
       "      <td>1</td>\n",
       "      <td>360000.0</td>\n",
       "      <td>1125000.0</td>\n",
       "      <td>33025.5</td>\n",
       "      <td>...</td>\n",
       "      <td>0</td>\n",
       "      <td>0</td>\n",
       "      <td>0</td>\n",
       "      <td>0</td>\n",
       "      <td>0.0</td>\n",
       "      <td>0.0</td>\n",
       "      <td>0.0</td>\n",
       "      <td>0.0</td>\n",
       "      <td>0.0</td>\n",
       "      <td>1.0</td>\n",
       "    </tr>\n",
       "    <tr>\n",
       "      <th>76427</th>\n",
       "      <td>188624</td>\n",
       "      <td>0</td>\n",
       "      <td>Cash loans</td>\n",
       "      <td>M</td>\n",
       "      <td>Y</td>\n",
       "      <td>Y</td>\n",
       "      <td>0</td>\n",
       "      <td>675000.0</td>\n",
       "      <td>835380.0</td>\n",
       "      <td>42840.0</td>\n",
       "      <td>...</td>\n",
       "      <td>0</td>\n",
       "      <td>0</td>\n",
       "      <td>0</td>\n",
       "      <td>0</td>\n",
       "      <td>0.0</td>\n",
       "      <td>0.0</td>\n",
       "      <td>0.0</td>\n",
       "      <td>0.0</td>\n",
       "      <td>0.0</td>\n",
       "      <td>2.0</td>\n",
       "    </tr>\n",
       "  </tbody>\n",
       "</table>\n",
       "<p>5 rows × 122 columns</p>\n",
       "</div>"
      ],
      "text/plain": [
       "        SK_ID_CURR  TARGET NAME_CONTRACT_TYPE CODE_GENDER FLAG_OWN_CAR  \\\n",
       "42962       149741       1         Cash loans           F            N   \n",
       "227307      363290       0         Cash loans           M            N   \n",
       "290035      436006       0    Revolving loans           M            Y   \n",
       "239833      377703       0         Cash loans           M            Y   \n",
       "76427       188624       0         Cash loans           M            Y   \n",
       "\n",
       "       FLAG_OWN_REALTY  CNT_CHILDREN  AMT_INCOME_TOTAL  AMT_CREDIT  \\\n",
       "42962                N             0          117000.0    417024.0   \n",
       "227307               Y             0          450000.0    640080.0   \n",
       "290035               Y             0          450000.0    900000.0   \n",
       "239833               N             1          360000.0   1125000.0   \n",
       "76427                Y             0          675000.0    835380.0   \n",
       "\n",
       "        AMT_ANNUITY  ...  FLAG_DOCUMENT_18 FLAG_DOCUMENT_19 FLAG_DOCUMENT_20  \\\n",
       "42962       20191.5  ...                 0                0                0   \n",
       "227307      31261.5  ...                 0                0                0   \n",
       "290035      45000.0  ...                 0                0                0   \n",
       "239833      33025.5  ...                 0                0                0   \n",
       "76427       42840.0  ...                 0                0                0   \n",
       "\n",
       "       FLAG_DOCUMENT_21 AMT_REQ_CREDIT_BUREAU_HOUR AMT_REQ_CREDIT_BUREAU_DAY  \\\n",
       "42962                 0                        0.0                       0.0   \n",
       "227307                0                        0.0                       0.0   \n",
       "290035                0                        0.0                       0.0   \n",
       "239833                0                        0.0                       0.0   \n",
       "76427                 0                        0.0                       0.0   \n",
       "\n",
       "        AMT_REQ_CREDIT_BUREAU_WEEK  AMT_REQ_CREDIT_BUREAU_MON  \\\n",
       "42962                          0.0                        0.0   \n",
       "227307                         0.0                        0.0   \n",
       "290035                         0.0                        0.0   \n",
       "239833                         0.0                        0.0   \n",
       "76427                          0.0                        0.0   \n",
       "\n",
       "        AMT_REQ_CREDIT_BUREAU_QRT  AMT_REQ_CREDIT_BUREAU_YEAR  \n",
       "42962                         0.0                         3.0  \n",
       "227307                        0.0                         1.0  \n",
       "290035                        2.0                         0.0  \n",
       "239833                        0.0                         1.0  \n",
       "76427                         0.0                         2.0  \n",
       "\n",
       "[5 rows x 122 columns]"
      ]
     },
     "execution_count": 29,
     "metadata": {},
     "output_type": "execute_result"
    }
   ],
   "source": [
    "application_sample.head()"
   ]
  },
  {
   "cell_type": "code",
   "execution_count": 30,
   "metadata": {},
   "outputs": [],
   "source": [
    "application_sample.reset_index(inplace=True)"
   ]
  },
  {
   "cell_type": "code",
   "execution_count": 31,
   "metadata": {},
   "outputs": [
    {
     "data": {
      "text/html": [
       "<div>\n",
       "<style scoped>\n",
       "    .dataframe tbody tr th:only-of-type {\n",
       "        vertical-align: middle;\n",
       "    }\n",
       "\n",
       "    .dataframe tbody tr th {\n",
       "        vertical-align: top;\n",
       "    }\n",
       "\n",
       "    .dataframe thead th {\n",
       "        text-align: right;\n",
       "    }\n",
       "</style>\n",
       "<table border=\"1\" class=\"dataframe\">\n",
       "  <thead>\n",
       "    <tr style=\"text-align: right;\">\n",
       "      <th></th>\n",
       "      <th>index</th>\n",
       "      <th>SK_ID_CURR</th>\n",
       "      <th>TARGET</th>\n",
       "      <th>NAME_CONTRACT_TYPE</th>\n",
       "      <th>CODE_GENDER</th>\n",
       "      <th>FLAG_OWN_CAR</th>\n",
       "      <th>FLAG_OWN_REALTY</th>\n",
       "      <th>CNT_CHILDREN</th>\n",
       "      <th>AMT_INCOME_TOTAL</th>\n",
       "      <th>AMT_CREDIT</th>\n",
       "      <th>...</th>\n",
       "      <th>FLAG_DOCUMENT_18</th>\n",
       "      <th>FLAG_DOCUMENT_19</th>\n",
       "      <th>FLAG_DOCUMENT_20</th>\n",
       "      <th>FLAG_DOCUMENT_21</th>\n",
       "      <th>AMT_REQ_CREDIT_BUREAU_HOUR</th>\n",
       "      <th>AMT_REQ_CREDIT_BUREAU_DAY</th>\n",
       "      <th>AMT_REQ_CREDIT_BUREAU_WEEK</th>\n",
       "      <th>AMT_REQ_CREDIT_BUREAU_MON</th>\n",
       "      <th>AMT_REQ_CREDIT_BUREAU_QRT</th>\n",
       "      <th>AMT_REQ_CREDIT_BUREAU_YEAR</th>\n",
       "    </tr>\n",
       "  </thead>\n",
       "  <tbody>\n",
       "    <tr>\n",
       "      <th>0</th>\n",
       "      <td>42962</td>\n",
       "      <td>149741</td>\n",
       "      <td>1</td>\n",
       "      <td>Cash loans</td>\n",
       "      <td>F</td>\n",
       "      <td>N</td>\n",
       "      <td>N</td>\n",
       "      <td>0</td>\n",
       "      <td>117000.0</td>\n",
       "      <td>417024.0</td>\n",
       "      <td>...</td>\n",
       "      <td>0</td>\n",
       "      <td>0</td>\n",
       "      <td>0</td>\n",
       "      <td>0</td>\n",
       "      <td>0.0</td>\n",
       "      <td>0.0</td>\n",
       "      <td>0.0</td>\n",
       "      <td>0.0</td>\n",
       "      <td>0.0</td>\n",
       "      <td>3.0</td>\n",
       "    </tr>\n",
       "    <tr>\n",
       "      <th>1</th>\n",
       "      <td>227307</td>\n",
       "      <td>363290</td>\n",
       "      <td>0</td>\n",
       "      <td>Cash loans</td>\n",
       "      <td>M</td>\n",
       "      <td>N</td>\n",
       "      <td>Y</td>\n",
       "      <td>0</td>\n",
       "      <td>450000.0</td>\n",
       "      <td>640080.0</td>\n",
       "      <td>...</td>\n",
       "      <td>0</td>\n",
       "      <td>0</td>\n",
       "      <td>0</td>\n",
       "      <td>0</td>\n",
       "      <td>0.0</td>\n",
       "      <td>0.0</td>\n",
       "      <td>0.0</td>\n",
       "      <td>0.0</td>\n",
       "      <td>0.0</td>\n",
       "      <td>1.0</td>\n",
       "    </tr>\n",
       "    <tr>\n",
       "      <th>2</th>\n",
       "      <td>290035</td>\n",
       "      <td>436006</td>\n",
       "      <td>0</td>\n",
       "      <td>Revolving loans</td>\n",
       "      <td>M</td>\n",
       "      <td>Y</td>\n",
       "      <td>Y</td>\n",
       "      <td>0</td>\n",
       "      <td>450000.0</td>\n",
       "      <td>900000.0</td>\n",
       "      <td>...</td>\n",
       "      <td>0</td>\n",
       "      <td>0</td>\n",
       "      <td>0</td>\n",
       "      <td>0</td>\n",
       "      <td>0.0</td>\n",
       "      <td>0.0</td>\n",
       "      <td>0.0</td>\n",
       "      <td>0.0</td>\n",
       "      <td>2.0</td>\n",
       "      <td>0.0</td>\n",
       "    </tr>\n",
       "    <tr>\n",
       "      <th>3</th>\n",
       "      <td>239833</td>\n",
       "      <td>377703</td>\n",
       "      <td>0</td>\n",
       "      <td>Cash loans</td>\n",
       "      <td>M</td>\n",
       "      <td>Y</td>\n",
       "      <td>N</td>\n",
       "      <td>1</td>\n",
       "      <td>360000.0</td>\n",
       "      <td>1125000.0</td>\n",
       "      <td>...</td>\n",
       "      <td>0</td>\n",
       "      <td>0</td>\n",
       "      <td>0</td>\n",
       "      <td>0</td>\n",
       "      <td>0.0</td>\n",
       "      <td>0.0</td>\n",
       "      <td>0.0</td>\n",
       "      <td>0.0</td>\n",
       "      <td>0.0</td>\n",
       "      <td>1.0</td>\n",
       "    </tr>\n",
       "    <tr>\n",
       "      <th>4</th>\n",
       "      <td>76427</td>\n",
       "      <td>188624</td>\n",
       "      <td>0</td>\n",
       "      <td>Cash loans</td>\n",
       "      <td>M</td>\n",
       "      <td>Y</td>\n",
       "      <td>Y</td>\n",
       "      <td>0</td>\n",
       "      <td>675000.0</td>\n",
       "      <td>835380.0</td>\n",
       "      <td>...</td>\n",
       "      <td>0</td>\n",
       "      <td>0</td>\n",
       "      <td>0</td>\n",
       "      <td>0</td>\n",
       "      <td>0.0</td>\n",
       "      <td>0.0</td>\n",
       "      <td>0.0</td>\n",
       "      <td>0.0</td>\n",
       "      <td>0.0</td>\n",
       "      <td>2.0</td>\n",
       "    </tr>\n",
       "  </tbody>\n",
       "</table>\n",
       "<p>5 rows × 123 columns</p>\n",
       "</div>"
      ],
      "text/plain": [
       "    index  SK_ID_CURR  TARGET NAME_CONTRACT_TYPE CODE_GENDER FLAG_OWN_CAR  \\\n",
       "0   42962      149741       1         Cash loans           F            N   \n",
       "1  227307      363290       0         Cash loans           M            N   \n",
       "2  290035      436006       0    Revolving loans           M            Y   \n",
       "3  239833      377703       0         Cash loans           M            Y   \n",
       "4   76427      188624       0         Cash loans           M            Y   \n",
       "\n",
       "  FLAG_OWN_REALTY  CNT_CHILDREN  AMT_INCOME_TOTAL  AMT_CREDIT  ...  \\\n",
       "0               N             0          117000.0    417024.0  ...   \n",
       "1               Y             0          450000.0    640080.0  ...   \n",
       "2               Y             0          450000.0    900000.0  ...   \n",
       "3               N             1          360000.0   1125000.0  ...   \n",
       "4               Y             0          675000.0    835380.0  ...   \n",
       "\n",
       "   FLAG_DOCUMENT_18  FLAG_DOCUMENT_19 FLAG_DOCUMENT_20 FLAG_DOCUMENT_21  \\\n",
       "0                 0                 0                0                0   \n",
       "1                 0                 0                0                0   \n",
       "2                 0                 0                0                0   \n",
       "3                 0                 0                0                0   \n",
       "4                 0                 0                0                0   \n",
       "\n",
       "  AMT_REQ_CREDIT_BUREAU_HOUR AMT_REQ_CREDIT_BUREAU_DAY  \\\n",
       "0                        0.0                       0.0   \n",
       "1                        0.0                       0.0   \n",
       "2                        0.0                       0.0   \n",
       "3                        0.0                       0.0   \n",
       "4                        0.0                       0.0   \n",
       "\n",
       "  AMT_REQ_CREDIT_BUREAU_WEEK  AMT_REQ_CREDIT_BUREAU_MON  \\\n",
       "0                        0.0                        0.0   \n",
       "1                        0.0                        0.0   \n",
       "2                        0.0                        0.0   \n",
       "3                        0.0                        0.0   \n",
       "4                        0.0                        0.0   \n",
       "\n",
       "   AMT_REQ_CREDIT_BUREAU_QRT  AMT_REQ_CREDIT_BUREAU_YEAR  \n",
       "0                        0.0                         3.0  \n",
       "1                        0.0                         1.0  \n",
       "2                        2.0                         0.0  \n",
       "3                        0.0                         1.0  \n",
       "4                        0.0                         2.0  \n",
       "\n",
       "[5 rows x 123 columns]"
      ]
     },
     "execution_count": 31,
     "metadata": {},
     "output_type": "execute_result"
    }
   ],
   "source": [
    "application_sample.head()"
   ]
  },
  {
   "cell_type": "code",
   "execution_count": 32,
   "metadata": {
    "id": "8MBJ1QweDvm2"
   },
   "outputs": [],
   "source": [
    "application_sample.to_csv(\"credit_samples/application_train.csv\", index=False)"
   ]
  },
  {
   "cell_type": "code",
   "execution_count": 33,
   "metadata": {},
   "outputs": [
    {
     "data": {
      "text/plain": [
       "(10000, 123)"
      ]
     },
     "execution_count": 33,
     "metadata": {},
     "output_type": "execute_result"
    }
   ],
   "source": [
    "application_sample.shape"
   ]
  },
  {
   "cell_type": "code",
   "execution_count": 34,
   "metadata": {
    "id": "fCFacl1eFmzH",
    "outputId": "e147b58d-82d1-44b4-8924-e136a7e24b29"
   },
   "outputs": [
    {
     "data": {
      "text/plain": [
       "TARGET\n",
       "0         9227\n",
       "1          773\n",
       "dtype: int64"
      ]
     },
     "execution_count": 34,
     "metadata": {},
     "output_type": "execute_result"
    }
   ],
   "source": [
    "# Target variable (1 - client with payment difficulties: he/she had late payment more than X days\n",
    "# on at least one of the first Y installments of the loan in our sample,\n",
    "# 0 - all other cases)\n",
    "application_sample[[\"TARGET\"]].value_counts()"
   ]
  },
  {
   "cell_type": "code",
   "execution_count": 35,
   "metadata": {
    "id": "W9crQwY-WU69",
    "outputId": "5611e63d-f9f4-43dd-dd08-1530231c6f92"
   },
   "outputs": [
    {
     "data": {
      "text/plain": [
       "TARGET                         1.000000\n",
       "DAYS_BIRTH                     0.068886\n",
       "REGION_RATING_CLIENT           0.057535\n",
       "REGION_RATING_CLIENT_W_CITY    0.057079\n",
       "OWN_CAR_AGE                    0.052047\n",
       "DAYS_ID_PUBLISH                0.049687\n",
       "REG_CITY_NOT_WORK_CITY         0.049455\n",
       "DEF_30_CNT_SOCIAL_CIRCLE       0.045394\n",
       "FLAG_WORK_PHONE                0.044178\n",
       "DAYS_REGISTRATION              0.043592\n",
       "Name: TARGET, dtype: float64"
      ]
     },
     "execution_count": 35,
     "metadata": {},
     "output_type": "execute_result"
    }
   ],
   "source": [
    "application_sample.corr()['TARGET'].sort_values(ascending=False).head(10)"
   ]
  },
  {
   "cell_type": "code",
   "execution_count": 36,
   "metadata": {
    "id": "kQDJpf_NGShl",
    "outputId": "05be04fa-ad8f-47ac-ec83-4e280ef76487"
   },
   "outputs": [
    {
     "name": "stdout",
     "output_type": "stream",
     "text": [
      "<class 'pandas.core.frame.DataFrame'>\n",
      "RangeIndex: 10000 entries, 0 to 9999\n",
      "Data columns (total 123 columns):\n",
      " #    Column                        Non-Null Count  Dtype  \n",
      "---   ------                        --------------  -----  \n",
      " 0    index                         10000 non-null  int64  \n",
      " 1    SK_ID_CURR                    10000 non-null  int64  \n",
      " 2    TARGET                        10000 non-null  int64  \n",
      " 3    NAME_CONTRACT_TYPE            10000 non-null  object \n",
      " 4    CODE_GENDER                   10000 non-null  object \n",
      " 5    FLAG_OWN_CAR                  10000 non-null  object \n",
      " 6    FLAG_OWN_REALTY               10000 non-null  object \n",
      " 7    CNT_CHILDREN                  10000 non-null  int64  \n",
      " 8    AMT_INCOME_TOTAL              10000 non-null  float64\n",
      " 9    AMT_CREDIT                    10000 non-null  float64\n",
      " 10   AMT_ANNUITY                   10000 non-null  float64\n",
      " 11   AMT_GOODS_PRICE               9991 non-null   float64\n",
      " 12   NAME_TYPE_SUITE               9958 non-null   object \n",
      " 13   NAME_INCOME_TYPE              10000 non-null  object \n",
      " 14   NAME_EDUCATION_TYPE           10000 non-null  object \n",
      " 15   NAME_FAMILY_STATUS            10000 non-null  object \n",
      " 16   NAME_HOUSING_TYPE             10000 non-null  object \n",
      " 17   REGION_POPULATION_RELATIVE    10000 non-null  float64\n",
      " 18   DAYS_BIRTH                    10000 non-null  int64  \n",
      " 19   DAYS_EMPLOYED                 10000 non-null  int64  \n",
      " 20   DAYS_REGISTRATION             10000 non-null  float64\n",
      " 21   DAYS_ID_PUBLISH               10000 non-null  int64  \n",
      " 22   OWN_CAR_AGE                   3440 non-null   float64\n",
      " 23   FLAG_MOBIL                    10000 non-null  int64  \n",
      " 24   FLAG_EMP_PHONE                10000 non-null  int64  \n",
      " 25   FLAG_WORK_PHONE               10000 non-null  int64  \n",
      " 26   FLAG_CONT_MOBILE              10000 non-null  int64  \n",
      " 27   FLAG_PHONE                    10000 non-null  int64  \n",
      " 28   FLAG_EMAIL                    10000 non-null  int64  \n",
      " 29   OCCUPATION_TYPE               6920 non-null   object \n",
      " 30   CNT_FAM_MEMBERS               10000 non-null  float64\n",
      " 31   REGION_RATING_CLIENT          10000 non-null  int64  \n",
      " 32   REGION_RATING_CLIENT_W_CITY   10000 non-null  int64  \n",
      " 33   WEEKDAY_APPR_PROCESS_START    10000 non-null  object \n",
      " 34   HOUR_APPR_PROCESS_START       10000 non-null  int64  \n",
      " 35   REG_REGION_NOT_LIVE_REGION    10000 non-null  int64  \n",
      " 36   REG_REGION_NOT_WORK_REGION    10000 non-null  int64  \n",
      " 37   LIVE_REGION_NOT_WORK_REGION   10000 non-null  int64  \n",
      " 38   REG_CITY_NOT_LIVE_CITY        10000 non-null  int64  \n",
      " 39   REG_CITY_NOT_WORK_CITY        10000 non-null  int64  \n",
      " 40   LIVE_CITY_NOT_WORK_CITY       10000 non-null  int64  \n",
      " 41   ORGANIZATION_TYPE             10000 non-null  object \n",
      " 42   EXT_SOURCE_1                  4444 non-null   float64\n",
      " 43   EXT_SOURCE_2                  9979 non-null   float64\n",
      " 44   EXT_SOURCE_3                  8030 non-null   float64\n",
      " 45   APARTMENTS_AVG                5036 non-null   float64\n",
      " 46   BASEMENTAREA_AVG              4231 non-null   float64\n",
      " 47   YEARS_BEGINEXPLUATATION_AVG   5210 non-null   float64\n",
      " 48   YEARS_BUILD_AVG               3403 non-null   float64\n",
      " 49   COMMONAREA_AVG                3059 non-null   float64\n",
      " 50   ELEVATORS_AVG                 4754 non-null   float64\n",
      " 51   ENTRANCES_AVG                 5069 non-null   float64\n",
      " 52   FLOORSMAX_AVG                 5116 non-null   float64\n",
      " 53   FLOORSMIN_AVG                 3275 non-null   float64\n",
      " 54   LANDAREA_AVG                  4127 non-null   float64\n",
      " 55   LIVINGAPARTMENTS_AVG          3225 non-null   float64\n",
      " 56   LIVINGAREA_AVG                5076 non-null   float64\n",
      " 57   NONLIVINGAPARTMENTS_AVG       3115 non-null   float64\n",
      " 58   NONLIVINGAREA_AVG             4580 non-null   float64\n",
      " 59   APARTMENTS_MODE               5036 non-null   float64\n",
      " 60   BASEMENTAREA_MODE             4231 non-null   float64\n",
      " 61   YEARS_BEGINEXPLUATATION_MODE  5210 non-null   float64\n",
      " 62   YEARS_BUILD_MODE              3403 non-null   float64\n",
      " 63   COMMONAREA_MODE               3059 non-null   float64\n",
      " 64   ELEVATORS_MODE                4754 non-null   float64\n",
      " 65   ENTRANCES_MODE                5069 non-null   float64\n",
      " 66   FLOORSMAX_MODE                5116 non-null   float64\n",
      " 67   FLOORSMIN_MODE                3275 non-null   float64\n",
      " 68   LANDAREA_MODE                 4127 non-null   float64\n",
      " 69   LIVINGAPARTMENTS_MODE         3225 non-null   float64\n",
      " 70   LIVINGAREA_MODE               5076 non-null   float64\n",
      " 71   NONLIVINGAPARTMENTS_MODE      3115 non-null   float64\n",
      " 72   NONLIVINGAREA_MODE            4580 non-null   float64\n",
      " 73   APARTMENTS_MEDI               5036 non-null   float64\n",
      " 74   BASEMENTAREA_MEDI             4231 non-null   float64\n",
      " 75   YEARS_BEGINEXPLUATATION_MEDI  5210 non-null   float64\n",
      " 76   YEARS_BUILD_MEDI              3403 non-null   float64\n",
      " 77   COMMONAREA_MEDI               3059 non-null   float64\n",
      " 78   ELEVATORS_MEDI                4754 non-null   float64\n",
      " 79   ENTRANCES_MEDI                5069 non-null   float64\n",
      " 80   FLOORSMAX_MEDI                5116 non-null   float64\n",
      " 81   FLOORSMIN_MEDI                3275 non-null   float64\n",
      " 82   LANDAREA_MEDI                 4127 non-null   float64\n",
      " 83   LIVINGAPARTMENTS_MEDI         3225 non-null   float64\n",
      " 84   LIVINGAREA_MEDI               5076 non-null   float64\n",
      " 85   NONLIVINGAPARTMENTS_MEDI      3115 non-null   float64\n",
      " 86   NONLIVINGAREA_MEDI            4580 non-null   float64\n",
      " 87   FONDKAPREMONT_MODE            3229 non-null   object \n",
      " 88   HOUSETYPE_MODE                5089 non-null   object \n",
      " 89   TOTALAREA_MODE                5257 non-null   float64\n",
      " 90   WALLSMATERIAL_MODE            5020 non-null   object \n",
      " 91   EMERGENCYSTATE_MODE           5358 non-null   object \n",
      " 92   OBS_30_CNT_SOCIAL_CIRCLE      9968 non-null   float64\n",
      " 93   DEF_30_CNT_SOCIAL_CIRCLE      9968 non-null   float64\n",
      " 94   OBS_60_CNT_SOCIAL_CIRCLE      9968 non-null   float64\n",
      " 95   DEF_60_CNT_SOCIAL_CIRCLE      9968 non-null   float64\n",
      " 96   DAYS_LAST_PHONE_CHANGE        10000 non-null  float64\n",
      " 97   FLAG_DOCUMENT_2               10000 non-null  int64  \n",
      " 98   FLAG_DOCUMENT_3               10000 non-null  int64  \n",
      " 99   FLAG_DOCUMENT_4               10000 non-null  int64  \n",
      " 100  FLAG_DOCUMENT_5               10000 non-null  int64  \n",
      " 101  FLAG_DOCUMENT_6               10000 non-null  int64  \n",
      " 102  FLAG_DOCUMENT_7               10000 non-null  int64  \n",
      " 103  FLAG_DOCUMENT_8               10000 non-null  int64  \n",
      " 104  FLAG_DOCUMENT_9               10000 non-null  int64  \n",
      " 105  FLAG_DOCUMENT_10              10000 non-null  int64  \n",
      " 106  FLAG_DOCUMENT_11              10000 non-null  int64  \n",
      " 107  FLAG_DOCUMENT_12              10000 non-null  int64  \n",
      " 108  FLAG_DOCUMENT_13              10000 non-null  int64  \n",
      " 109  FLAG_DOCUMENT_14              10000 non-null  int64  \n",
      " 110  FLAG_DOCUMENT_15              10000 non-null  int64  \n",
      " 111  FLAG_DOCUMENT_16              10000 non-null  int64  \n",
      " 112  FLAG_DOCUMENT_17              10000 non-null  int64  \n",
      " 113  FLAG_DOCUMENT_18              10000 non-null  int64  \n",
      " 114  FLAG_DOCUMENT_19              10000 non-null  int64  \n",
      " 115  FLAG_DOCUMENT_20              10000 non-null  int64  \n",
      " 116  FLAG_DOCUMENT_21              10000 non-null  int64  \n",
      " 117  AMT_REQ_CREDIT_BUREAU_HOUR    8715 non-null   float64\n",
      " 118  AMT_REQ_CREDIT_BUREAU_DAY     8715 non-null   float64\n",
      " 119  AMT_REQ_CREDIT_BUREAU_WEEK    8715 non-null   float64\n",
      " 120  AMT_REQ_CREDIT_BUREAU_MON     8715 non-null   float64\n",
      " 121  AMT_REQ_CREDIT_BUREAU_QRT     8715 non-null   float64\n",
      " 122  AMT_REQ_CREDIT_BUREAU_YEAR    8715 non-null   float64\n",
      "dtypes: float64(65), int64(42), object(16)\n",
      "memory usage: 9.4+ MB\n"
     ]
    }
   ],
   "source": [
    "application_sample.info(verbose=True,null_counts=True)"
   ]
  },
  {
   "cell_type": "code",
   "execution_count": 37,
   "metadata": {
    "id": "hbvSA_kpFnoQ"
   },
   "outputs": [],
   "source": [
    "columns =  ['OWN_CAR_AGE','OCCUPATION_TYPE','EXT_SOURCE_1','EXT_SOURCE_3','EXT_SOURCE_2','APARTMENTS_AVG','BASEMENTAREA_AVG',\n",
    "         'YEARS_BEGINEXPLUATATION_AVG','COMMONAREA_AVG','YEARS_BUILD_AVG','ELEVATORS_AVG','ENTRANCES_AVG','FLOORSMAX_AVG',\n",
    "         'FLOORSMIN_AVG','LANDAREA_AVG','LIVINGAPARTMENTS_AVG','LIVINGAREA_AVG','NONLIVINGAPARTMENTS_AVG','APARTMENTS_MODE',\n",
    "         'BASEMENTAREA_MODE','YEARS_BEGINEXPLUATATION_MODE','YEARS_BUILD_MODE','COMMONAREA_MODE','ELEVATORS_MODE','ELEVATORS_MODE',\n",
    "         'ENTRANCES_MODE','FLOORSMAX_MODE','FLOORSMIN_MODE','LANDAREA_MODE','LIVINGAPARTMENTS_MODE','NONLIVINGAREA_MODE',\n",
    "         'APARTMENTS_MEDI','BASEMENTAREA_MEDI','YEARS_BEGINEXPLUATATION_MEDI','YEARS_BUILD_MEDI','COMMONAREA_MEDI','ELEVATORS_MEDI','ENTRANCES_MEDI',\n",
    "         'FLOORSMAX_MEDI','FLOORSMIN_MEDI','LANDAREA_MEDI','LIVINGAPARTMENTS_MEDI','NONLIVINGAPARTMENTS_MEDI','NONLIVINGAREA_MEDI','FONDKAPREMONT_MODE',\n",
    "         'HOUSETYPE_MODE','TOTALAREA_MODE','WALLSMATERIAL_MODE','EMERGENCYSTATE_MODE','AMT_REQ_CREDIT_BUREAU_HOUR','AMT_REQ_CREDIT_BUREAU_DAY','AMT_REQ_CREDIT_BUREAU_WEEK',\n",
    "         'AMT_REQ_CREDIT_BUREAU_MON','AMT_REQ_CREDIT_BUREAU_QRT','AMT_REQ_CREDIT_BUREAU_YEAR','NONLIVINGAREA_AVG','LIVINGAREA_MODE','LIVINGAREA_MEDI','NONLIVINGAPARTMENTS_MODE']\n",
    "\n",
    "selected_application_sample = application_sample.drop(columns=columns,axis=1)"
   ]
  },
  {
   "cell_type": "code",
   "execution_count": 38,
   "metadata": {
    "id": "Fe4sd-JzFxtu",
    "outputId": "d12ad528-b666-4790-d016-6c18439c8ca1"
   },
   "outputs": [
    {
     "data": {
      "text/html": [
       "<div>\n",
       "<style scoped>\n",
       "    .dataframe tbody tr th:only-of-type {\n",
       "        vertical-align: middle;\n",
       "    }\n",
       "\n",
       "    .dataframe tbody tr th {\n",
       "        vertical-align: top;\n",
       "    }\n",
       "\n",
       "    .dataframe thead th {\n",
       "        text-align: right;\n",
       "    }\n",
       "</style>\n",
       "<table border=\"1\" class=\"dataframe\">\n",
       "  <thead>\n",
       "    <tr style=\"text-align: right;\">\n",
       "      <th></th>\n",
       "      <th>index</th>\n",
       "      <th>SK_ID_CURR</th>\n",
       "      <th>TARGET</th>\n",
       "      <th>NAME_CONTRACT_TYPE</th>\n",
       "      <th>CODE_GENDER</th>\n",
       "      <th>FLAG_OWN_CAR</th>\n",
       "      <th>FLAG_OWN_REALTY</th>\n",
       "      <th>CNT_CHILDREN</th>\n",
       "      <th>AMT_INCOME_TOTAL</th>\n",
       "      <th>AMT_CREDIT</th>\n",
       "      <th>...</th>\n",
       "      <th>FLAG_DOCUMENT_12</th>\n",
       "      <th>FLAG_DOCUMENT_13</th>\n",
       "      <th>FLAG_DOCUMENT_14</th>\n",
       "      <th>FLAG_DOCUMENT_15</th>\n",
       "      <th>FLAG_DOCUMENT_16</th>\n",
       "      <th>FLAG_DOCUMENT_17</th>\n",
       "      <th>FLAG_DOCUMENT_18</th>\n",
       "      <th>FLAG_DOCUMENT_19</th>\n",
       "      <th>FLAG_DOCUMENT_20</th>\n",
       "      <th>FLAG_DOCUMENT_21</th>\n",
       "    </tr>\n",
       "  </thead>\n",
       "  <tbody>\n",
       "    <tr>\n",
       "      <th>0</th>\n",
       "      <td>42962</td>\n",
       "      <td>149741</td>\n",
       "      <td>1</td>\n",
       "      <td>Cash loans</td>\n",
       "      <td>F</td>\n",
       "      <td>N</td>\n",
       "      <td>N</td>\n",
       "      <td>0</td>\n",
       "      <td>117000.0</td>\n",
       "      <td>417024.0</td>\n",
       "      <td>...</td>\n",
       "      <td>0</td>\n",
       "      <td>0</td>\n",
       "      <td>0</td>\n",
       "      <td>0</td>\n",
       "      <td>0</td>\n",
       "      <td>0</td>\n",
       "      <td>0</td>\n",
       "      <td>0</td>\n",
       "      <td>0</td>\n",
       "      <td>0</td>\n",
       "    </tr>\n",
       "    <tr>\n",
       "      <th>1</th>\n",
       "      <td>227307</td>\n",
       "      <td>363290</td>\n",
       "      <td>0</td>\n",
       "      <td>Cash loans</td>\n",
       "      <td>M</td>\n",
       "      <td>N</td>\n",
       "      <td>Y</td>\n",
       "      <td>0</td>\n",
       "      <td>450000.0</td>\n",
       "      <td>640080.0</td>\n",
       "      <td>...</td>\n",
       "      <td>0</td>\n",
       "      <td>0</td>\n",
       "      <td>0</td>\n",
       "      <td>0</td>\n",
       "      <td>0</td>\n",
       "      <td>0</td>\n",
       "      <td>0</td>\n",
       "      <td>0</td>\n",
       "      <td>0</td>\n",
       "      <td>0</td>\n",
       "    </tr>\n",
       "    <tr>\n",
       "      <th>2</th>\n",
       "      <td>290035</td>\n",
       "      <td>436006</td>\n",
       "      <td>0</td>\n",
       "      <td>Revolving loans</td>\n",
       "      <td>M</td>\n",
       "      <td>Y</td>\n",
       "      <td>Y</td>\n",
       "      <td>0</td>\n",
       "      <td>450000.0</td>\n",
       "      <td>900000.0</td>\n",
       "      <td>...</td>\n",
       "      <td>0</td>\n",
       "      <td>0</td>\n",
       "      <td>0</td>\n",
       "      <td>0</td>\n",
       "      <td>0</td>\n",
       "      <td>0</td>\n",
       "      <td>0</td>\n",
       "      <td>0</td>\n",
       "      <td>0</td>\n",
       "      <td>0</td>\n",
       "    </tr>\n",
       "    <tr>\n",
       "      <th>3</th>\n",
       "      <td>239833</td>\n",
       "      <td>377703</td>\n",
       "      <td>0</td>\n",
       "      <td>Cash loans</td>\n",
       "      <td>M</td>\n",
       "      <td>Y</td>\n",
       "      <td>N</td>\n",
       "      <td>1</td>\n",
       "      <td>360000.0</td>\n",
       "      <td>1125000.0</td>\n",
       "      <td>...</td>\n",
       "      <td>0</td>\n",
       "      <td>0</td>\n",
       "      <td>0</td>\n",
       "      <td>0</td>\n",
       "      <td>0</td>\n",
       "      <td>0</td>\n",
       "      <td>0</td>\n",
       "      <td>0</td>\n",
       "      <td>0</td>\n",
       "      <td>0</td>\n",
       "    </tr>\n",
       "    <tr>\n",
       "      <th>4</th>\n",
       "      <td>76427</td>\n",
       "      <td>188624</td>\n",
       "      <td>0</td>\n",
       "      <td>Cash loans</td>\n",
       "      <td>M</td>\n",
       "      <td>Y</td>\n",
       "      <td>Y</td>\n",
       "      <td>0</td>\n",
       "      <td>675000.0</td>\n",
       "      <td>835380.0</td>\n",
       "      <td>...</td>\n",
       "      <td>0</td>\n",
       "      <td>0</td>\n",
       "      <td>0</td>\n",
       "      <td>0</td>\n",
       "      <td>0</td>\n",
       "      <td>0</td>\n",
       "      <td>0</td>\n",
       "      <td>0</td>\n",
       "      <td>0</td>\n",
       "      <td>0</td>\n",
       "    </tr>\n",
       "  </tbody>\n",
       "</table>\n",
       "<p>5 rows × 65 columns</p>\n",
       "</div>"
      ],
      "text/plain": [
       "    index  SK_ID_CURR  TARGET NAME_CONTRACT_TYPE CODE_GENDER FLAG_OWN_CAR  \\\n",
       "0   42962      149741       1         Cash loans           F            N   \n",
       "1  227307      363290       0         Cash loans           M            N   \n",
       "2  290035      436006       0    Revolving loans           M            Y   \n",
       "3  239833      377703       0         Cash loans           M            Y   \n",
       "4   76427      188624       0         Cash loans           M            Y   \n",
       "\n",
       "  FLAG_OWN_REALTY  CNT_CHILDREN  AMT_INCOME_TOTAL  AMT_CREDIT  ...  \\\n",
       "0               N             0          117000.0    417024.0  ...   \n",
       "1               Y             0          450000.0    640080.0  ...   \n",
       "2               Y             0          450000.0    900000.0  ...   \n",
       "3               N             1          360000.0   1125000.0  ...   \n",
       "4               Y             0          675000.0    835380.0  ...   \n",
       "\n",
       "   FLAG_DOCUMENT_12  FLAG_DOCUMENT_13 FLAG_DOCUMENT_14 FLAG_DOCUMENT_15  \\\n",
       "0                 0                 0                0                0   \n",
       "1                 0                 0                0                0   \n",
       "2                 0                 0                0                0   \n",
       "3                 0                 0                0                0   \n",
       "4                 0                 0                0                0   \n",
       "\n",
       "  FLAG_DOCUMENT_16 FLAG_DOCUMENT_17 FLAG_DOCUMENT_18  FLAG_DOCUMENT_19  \\\n",
       "0                0                0                0                 0   \n",
       "1                0                0                0                 0   \n",
       "2                0                0                0                 0   \n",
       "3                0                0                0                 0   \n",
       "4                0                0                0                 0   \n",
       "\n",
       "   FLAG_DOCUMENT_20  FLAG_DOCUMENT_21  \n",
       "0                 0                 0  \n",
       "1                 0                 0  \n",
       "2                 0                 0  \n",
       "3                 0                 0  \n",
       "4                 0                 0  \n",
       "\n",
       "[5 rows x 65 columns]"
      ]
     },
     "execution_count": 38,
     "metadata": {},
     "output_type": "execute_result"
    }
   ],
   "source": [
    "selected_application_sample.head()"
   ]
  },
  {
   "cell_type": "code",
   "execution_count": 39,
   "metadata": {
    "id": "_rj9Fz1d7CPD",
    "outputId": "6bdf807f-9fbb-41f0-ae23-0a0a9bd1c86a"
   },
   "outputs": [
    {
     "name": "stdout",
     "output_type": "stream",
     "text": [
      "<class 'pandas.core.frame.DataFrame'>\n",
      "RangeIndex: 10000 entries, 0 to 9999\n",
      "Data columns (total 65 columns):\n",
      " #   Column                       Non-Null Count  Dtype  \n",
      "---  ------                       --------------  -----  \n",
      " 0   index                        10000 non-null  int64  \n",
      " 1   SK_ID_CURR                   10000 non-null  int64  \n",
      " 2   TARGET                       10000 non-null  int64  \n",
      " 3   NAME_CONTRACT_TYPE           10000 non-null  object \n",
      " 4   CODE_GENDER                  10000 non-null  object \n",
      " 5   FLAG_OWN_CAR                 10000 non-null  object \n",
      " 6   FLAG_OWN_REALTY              10000 non-null  object \n",
      " 7   CNT_CHILDREN                 10000 non-null  int64  \n",
      " 8   AMT_INCOME_TOTAL             10000 non-null  float64\n",
      " 9   AMT_CREDIT                   10000 non-null  float64\n",
      " 10  AMT_ANNUITY                  10000 non-null  float64\n",
      " 11  AMT_GOODS_PRICE              9991 non-null   float64\n",
      " 12  NAME_TYPE_SUITE              9958 non-null   object \n",
      " 13  NAME_INCOME_TYPE             10000 non-null  object \n",
      " 14  NAME_EDUCATION_TYPE          10000 non-null  object \n",
      " 15  NAME_FAMILY_STATUS           10000 non-null  object \n",
      " 16  NAME_HOUSING_TYPE            10000 non-null  object \n",
      " 17  REGION_POPULATION_RELATIVE   10000 non-null  float64\n",
      " 18  DAYS_BIRTH                   10000 non-null  int64  \n",
      " 19  DAYS_EMPLOYED                10000 non-null  int64  \n",
      " 20  DAYS_REGISTRATION            10000 non-null  float64\n",
      " 21  DAYS_ID_PUBLISH              10000 non-null  int64  \n",
      " 22  FLAG_MOBIL                   10000 non-null  int64  \n",
      " 23  FLAG_EMP_PHONE               10000 non-null  int64  \n",
      " 24  FLAG_WORK_PHONE              10000 non-null  int64  \n",
      " 25  FLAG_CONT_MOBILE             10000 non-null  int64  \n",
      " 26  FLAG_PHONE                   10000 non-null  int64  \n",
      " 27  FLAG_EMAIL                   10000 non-null  int64  \n",
      " 28  CNT_FAM_MEMBERS              10000 non-null  float64\n",
      " 29  REGION_RATING_CLIENT         10000 non-null  int64  \n",
      " 30  REGION_RATING_CLIENT_W_CITY  10000 non-null  int64  \n",
      " 31  WEEKDAY_APPR_PROCESS_START   10000 non-null  object \n",
      " 32  HOUR_APPR_PROCESS_START      10000 non-null  int64  \n",
      " 33  REG_REGION_NOT_LIVE_REGION   10000 non-null  int64  \n",
      " 34  REG_REGION_NOT_WORK_REGION   10000 non-null  int64  \n",
      " 35  LIVE_REGION_NOT_WORK_REGION  10000 non-null  int64  \n",
      " 36  REG_CITY_NOT_LIVE_CITY       10000 non-null  int64  \n",
      " 37  REG_CITY_NOT_WORK_CITY       10000 non-null  int64  \n",
      " 38  LIVE_CITY_NOT_WORK_CITY      10000 non-null  int64  \n",
      " 39  ORGANIZATION_TYPE            10000 non-null  object \n",
      " 40  OBS_30_CNT_SOCIAL_CIRCLE     9968 non-null   float64\n",
      " 41  DEF_30_CNT_SOCIAL_CIRCLE     9968 non-null   float64\n",
      " 42  OBS_60_CNT_SOCIAL_CIRCLE     9968 non-null   float64\n",
      " 43  DEF_60_CNT_SOCIAL_CIRCLE     9968 non-null   float64\n",
      " 44  DAYS_LAST_PHONE_CHANGE       10000 non-null  float64\n",
      " 45  FLAG_DOCUMENT_2              10000 non-null  int64  \n",
      " 46  FLAG_DOCUMENT_3              10000 non-null  int64  \n",
      " 47  FLAG_DOCUMENT_4              10000 non-null  int64  \n",
      " 48  FLAG_DOCUMENT_5              10000 non-null  int64  \n",
      " 49  FLAG_DOCUMENT_6              10000 non-null  int64  \n",
      " 50  FLAG_DOCUMENT_7              10000 non-null  int64  \n",
      " 51  FLAG_DOCUMENT_8              10000 non-null  int64  \n",
      " 52  FLAG_DOCUMENT_9              10000 non-null  int64  \n",
      " 53  FLAG_DOCUMENT_10             10000 non-null  int64  \n",
      " 54  FLAG_DOCUMENT_11             10000 non-null  int64  \n",
      " 55  FLAG_DOCUMENT_12             10000 non-null  int64  \n",
      " 56  FLAG_DOCUMENT_13             10000 non-null  int64  \n",
      " 57  FLAG_DOCUMENT_14             10000 non-null  int64  \n",
      " 58  FLAG_DOCUMENT_15             10000 non-null  int64  \n",
      " 59  FLAG_DOCUMENT_16             10000 non-null  int64  \n",
      " 60  FLAG_DOCUMENT_17             10000 non-null  int64  \n",
      " 61  FLAG_DOCUMENT_18             10000 non-null  int64  \n",
      " 62  FLAG_DOCUMENT_19             10000 non-null  int64  \n",
      " 63  FLAG_DOCUMENT_20             10000 non-null  int64  \n",
      " 64  FLAG_DOCUMENT_21             10000 non-null  int64  \n",
      "dtypes: float64(12), int64(42), object(11)\n",
      "memory usage: 5.0+ MB\n"
     ]
    }
   ],
   "source": [
    "selected_application_sample.info()"
   ]
  },
  {
   "cell_type": "code",
   "execution_count": 40,
   "metadata": {
    "id": "HU5FaIvk5aFh",
    "outputId": "d30ce0e6-17e6-441f-b131-28dd3fb3ac49"
   },
   "outputs": [
    {
     "data": {
      "text/plain": [
       "Index(['AMT_GOODS_PRICE', 'NAME_TYPE_SUITE', 'OBS_30_CNT_SOCIAL_CIRCLE',\n",
       "       'DEF_30_CNT_SOCIAL_CIRCLE', 'OBS_60_CNT_SOCIAL_CIRCLE',\n",
       "       'DEF_60_CNT_SOCIAL_CIRCLE'],\n",
       "      dtype='object')"
      ]
     },
     "execution_count": 40,
     "metadata": {},
     "output_type": "execute_result"
    }
   ],
   "source": [
    "selected_application_sample.columns[selected_application_sample.isnull().any()]"
   ]
  },
  {
   "cell_type": "code",
   "execution_count": 41,
   "metadata": {
    "id": "py7XXZ9_61pV"
   },
   "outputs": [],
   "source": [
    "selected_application_sample['AMT_GOODS_PRICE'].fillna(selected_application_sample['AMT_GOODS_PRICE'].median(),inplace=True)"
   ]
  },
  {
   "cell_type": "code",
   "execution_count": 42,
   "metadata": {
    "id": "6DStYKce7qy5",
    "outputId": "d44098a9-0119-4f89-81c7-098aeb3f88ce"
   },
   "outputs": [
    {
     "data": {
      "text/plain": [
       "Unaccompanied      8144\n",
       "Family             1249\n",
       "Spouse, partner     368\n",
       "Children            105\n",
       "Other_B              57\n",
       "Other_A              27\n",
       "Group of people       8\n",
       "Name: NAME_TYPE_SUITE, dtype: int64"
      ]
     },
     "execution_count": 42,
     "metadata": {},
     "output_type": "execute_result"
    }
   ],
   "source": [
    "selected_application_sample['NAME_TYPE_SUITE'].value_counts()"
   ]
  },
  {
   "cell_type": "code",
   "execution_count": 43,
   "metadata": {
    "id": "WTY3Ph0O7xeW"
   },
   "outputs": [],
   "source": [
    "selected_application_sample['NAME_TYPE_SUITE'].fillna('Unaccompanied',inplace=True)"
   ]
  },
  {
   "cell_type": "code",
   "execution_count": 44,
   "metadata": {
    "id": "wuJjHJGM75ZL",
    "outputId": "f480a1cd-6d07-4258-cdaf-6b02f7065f7a"
   },
   "outputs": [
    {
     "data": {
      "text/html": [
       "<div>\n",
       "<style scoped>\n",
       "    .dataframe tbody tr th:only-of-type {\n",
       "        vertical-align: middle;\n",
       "    }\n",
       "\n",
       "    .dataframe tbody tr th {\n",
       "        vertical-align: top;\n",
       "    }\n",
       "\n",
       "    .dataframe thead th {\n",
       "        text-align: right;\n",
       "    }\n",
       "</style>\n",
       "<table border=\"1\" class=\"dataframe\">\n",
       "  <thead>\n",
       "    <tr style=\"text-align: right;\">\n",
       "      <th></th>\n",
       "      <th>OBS_30_CNT_SOCIAL_CIRCLE</th>\n",
       "    </tr>\n",
       "  </thead>\n",
       "  <tbody>\n",
       "    <tr>\n",
       "      <th>0</th>\n",
       "      <td>1.0</td>\n",
       "    </tr>\n",
       "    <tr>\n",
       "      <th>1</th>\n",
       "      <td>0.0</td>\n",
       "    </tr>\n",
       "    <tr>\n",
       "      <th>2</th>\n",
       "      <td>NaN</td>\n",
       "    </tr>\n",
       "    <tr>\n",
       "      <th>3</th>\n",
       "      <td>0.0</td>\n",
       "    </tr>\n",
       "    <tr>\n",
       "      <th>4</th>\n",
       "      <td>3.0</td>\n",
       "    </tr>\n",
       "  </tbody>\n",
       "</table>\n",
       "</div>"
      ],
      "text/plain": [
       "   OBS_30_CNT_SOCIAL_CIRCLE\n",
       "0                       1.0\n",
       "1                       0.0\n",
       "2                       NaN\n",
       "3                       0.0\n",
       "4                       3.0"
      ]
     },
     "execution_count": 44,
     "metadata": {},
     "output_type": "execute_result"
    }
   ],
   "source": [
    "selected_application_sample[['OBS_30_CNT_SOCIAL_CIRCLE']].head()"
   ]
  },
  {
   "cell_type": "code",
   "execution_count": 45,
   "metadata": {
    "id": "8bEkcS108sJB"
   },
   "outputs": [],
   "source": [
    "selected_application_sample['OBS_30_CNT_SOCIAL_CIRCLE'].fillna(selected_application_sample['OBS_30_CNT_SOCIAL_CIRCLE'].median(),inplace=True)"
   ]
  },
  {
   "cell_type": "code",
   "execution_count": 46,
   "metadata": {
    "id": "SoTqHSRf8sT0"
   },
   "outputs": [],
   "source": [
    "selected_application_sample['DEF_30_CNT_SOCIAL_CIRCLE'].fillna(selected_application_sample['DEF_30_CNT_SOCIAL_CIRCLE'].median(),inplace=True)"
   ]
  },
  {
   "cell_type": "code",
   "execution_count": 47,
   "metadata": {
    "id": "cAC07IW68sf8"
   },
   "outputs": [],
   "source": [
    "selected_application_sample['OBS_60_CNT_SOCIAL_CIRCLE'].fillna(selected_application_sample['OBS_60_CNT_SOCIAL_CIRCLE'].median(),inplace=True)"
   ]
  },
  {
   "cell_type": "code",
   "execution_count": 48,
   "metadata": {
    "id": "Gft91iSy8-WB"
   },
   "outputs": [],
   "source": [
    "selected_application_sample['DEF_60_CNT_SOCIAL_CIRCLE'].fillna(selected_application_sample['DEF_60_CNT_SOCIAL_CIRCLE'].median(),inplace=True)"
   ]
  },
  {
   "cell_type": "code",
   "execution_count": 49,
   "metadata": {
    "id": "VycU9Gwl5uYK",
    "outputId": "0b254273-44ed-4d0a-a2bf-4f7b99589682"
   },
   "outputs": [
    {
     "data": {
      "text/html": [
       "<div>\n",
       "<style scoped>\n",
       "    .dataframe tbody tr th:only-of-type {\n",
       "        vertical-align: middle;\n",
       "    }\n",
       "\n",
       "    .dataframe tbody tr th {\n",
       "        vertical-align: top;\n",
       "    }\n",
       "\n",
       "    .dataframe thead th {\n",
       "        text-align: right;\n",
       "    }\n",
       "</style>\n",
       "<table border=\"1\" class=\"dataframe\">\n",
       "  <thead>\n",
       "    <tr style=\"text-align: right;\">\n",
       "      <th></th>\n",
       "      <th>index</th>\n",
       "      <th>SK_ID_CURR</th>\n",
       "      <th>TARGET</th>\n",
       "      <th>NAME_CONTRACT_TYPE</th>\n",
       "      <th>CODE_GENDER</th>\n",
       "      <th>FLAG_OWN_CAR</th>\n",
       "      <th>FLAG_OWN_REALTY</th>\n",
       "      <th>CNT_CHILDREN</th>\n",
       "      <th>AMT_INCOME_TOTAL</th>\n",
       "      <th>AMT_CREDIT</th>\n",
       "      <th>...</th>\n",
       "      <th>FLAG_DOCUMENT_12</th>\n",
       "      <th>FLAG_DOCUMENT_13</th>\n",
       "      <th>FLAG_DOCUMENT_14</th>\n",
       "      <th>FLAG_DOCUMENT_15</th>\n",
       "      <th>FLAG_DOCUMENT_16</th>\n",
       "      <th>FLAG_DOCUMENT_17</th>\n",
       "      <th>FLAG_DOCUMENT_18</th>\n",
       "      <th>FLAG_DOCUMENT_19</th>\n",
       "      <th>FLAG_DOCUMENT_20</th>\n",
       "      <th>FLAG_DOCUMENT_21</th>\n",
       "    </tr>\n",
       "  </thead>\n",
       "  <tbody>\n",
       "    <tr>\n",
       "      <th>0</th>\n",
       "      <td>42962</td>\n",
       "      <td>149741</td>\n",
       "      <td>1</td>\n",
       "      <td>Cash loans</td>\n",
       "      <td>F</td>\n",
       "      <td>N</td>\n",
       "      <td>N</td>\n",
       "      <td>0</td>\n",
       "      <td>117000.0</td>\n",
       "      <td>417024.0</td>\n",
       "      <td>...</td>\n",
       "      <td>0</td>\n",
       "      <td>0</td>\n",
       "      <td>0</td>\n",
       "      <td>0</td>\n",
       "      <td>0</td>\n",
       "      <td>0</td>\n",
       "      <td>0</td>\n",
       "      <td>0</td>\n",
       "      <td>0</td>\n",
       "      <td>0</td>\n",
       "    </tr>\n",
       "    <tr>\n",
       "      <th>1</th>\n",
       "      <td>227307</td>\n",
       "      <td>363290</td>\n",
       "      <td>0</td>\n",
       "      <td>Cash loans</td>\n",
       "      <td>M</td>\n",
       "      <td>N</td>\n",
       "      <td>Y</td>\n",
       "      <td>0</td>\n",
       "      <td>450000.0</td>\n",
       "      <td>640080.0</td>\n",
       "      <td>...</td>\n",
       "      <td>0</td>\n",
       "      <td>0</td>\n",
       "      <td>0</td>\n",
       "      <td>0</td>\n",
       "      <td>0</td>\n",
       "      <td>0</td>\n",
       "      <td>0</td>\n",
       "      <td>0</td>\n",
       "      <td>0</td>\n",
       "      <td>0</td>\n",
       "    </tr>\n",
       "    <tr>\n",
       "      <th>2</th>\n",
       "      <td>290035</td>\n",
       "      <td>436006</td>\n",
       "      <td>0</td>\n",
       "      <td>Revolving loans</td>\n",
       "      <td>M</td>\n",
       "      <td>Y</td>\n",
       "      <td>Y</td>\n",
       "      <td>0</td>\n",
       "      <td>450000.0</td>\n",
       "      <td>900000.0</td>\n",
       "      <td>...</td>\n",
       "      <td>0</td>\n",
       "      <td>0</td>\n",
       "      <td>0</td>\n",
       "      <td>0</td>\n",
       "      <td>0</td>\n",
       "      <td>0</td>\n",
       "      <td>0</td>\n",
       "      <td>0</td>\n",
       "      <td>0</td>\n",
       "      <td>0</td>\n",
       "    </tr>\n",
       "    <tr>\n",
       "      <th>3</th>\n",
       "      <td>239833</td>\n",
       "      <td>377703</td>\n",
       "      <td>0</td>\n",
       "      <td>Cash loans</td>\n",
       "      <td>M</td>\n",
       "      <td>Y</td>\n",
       "      <td>N</td>\n",
       "      <td>1</td>\n",
       "      <td>360000.0</td>\n",
       "      <td>1125000.0</td>\n",
       "      <td>...</td>\n",
       "      <td>0</td>\n",
       "      <td>0</td>\n",
       "      <td>0</td>\n",
       "      <td>0</td>\n",
       "      <td>0</td>\n",
       "      <td>0</td>\n",
       "      <td>0</td>\n",
       "      <td>0</td>\n",
       "      <td>0</td>\n",
       "      <td>0</td>\n",
       "    </tr>\n",
       "    <tr>\n",
       "      <th>4</th>\n",
       "      <td>76427</td>\n",
       "      <td>188624</td>\n",
       "      <td>0</td>\n",
       "      <td>Cash loans</td>\n",
       "      <td>M</td>\n",
       "      <td>Y</td>\n",
       "      <td>Y</td>\n",
       "      <td>0</td>\n",
       "      <td>675000.0</td>\n",
       "      <td>835380.0</td>\n",
       "      <td>...</td>\n",
       "      <td>0</td>\n",
       "      <td>0</td>\n",
       "      <td>0</td>\n",
       "      <td>0</td>\n",
       "      <td>0</td>\n",
       "      <td>0</td>\n",
       "      <td>0</td>\n",
       "      <td>0</td>\n",
       "      <td>0</td>\n",
       "      <td>0</td>\n",
       "    </tr>\n",
       "  </tbody>\n",
       "</table>\n",
       "<p>5 rows × 65 columns</p>\n",
       "</div>"
      ],
      "text/plain": [
       "    index  SK_ID_CURR  TARGET NAME_CONTRACT_TYPE CODE_GENDER FLAG_OWN_CAR  \\\n",
       "0   42962      149741       1         Cash loans           F            N   \n",
       "1  227307      363290       0         Cash loans           M            N   \n",
       "2  290035      436006       0    Revolving loans           M            Y   \n",
       "3  239833      377703       0         Cash loans           M            Y   \n",
       "4   76427      188624       0         Cash loans           M            Y   \n",
       "\n",
       "  FLAG_OWN_REALTY  CNT_CHILDREN  AMT_INCOME_TOTAL  AMT_CREDIT  ...  \\\n",
       "0               N             0          117000.0    417024.0  ...   \n",
       "1               Y             0          450000.0    640080.0  ...   \n",
       "2               Y             0          450000.0    900000.0  ...   \n",
       "3               N             1          360000.0   1125000.0  ...   \n",
       "4               Y             0          675000.0    835380.0  ...   \n",
       "\n",
       "   FLAG_DOCUMENT_12  FLAG_DOCUMENT_13 FLAG_DOCUMENT_14 FLAG_DOCUMENT_15  \\\n",
       "0                 0                 0                0                0   \n",
       "1                 0                 0                0                0   \n",
       "2                 0                 0                0                0   \n",
       "3                 0                 0                0                0   \n",
       "4                 0                 0                0                0   \n",
       "\n",
       "  FLAG_DOCUMENT_16 FLAG_DOCUMENT_17 FLAG_DOCUMENT_18  FLAG_DOCUMENT_19  \\\n",
       "0                0                0                0                 0   \n",
       "1                0                0                0                 0   \n",
       "2                0                0                0                 0   \n",
       "3                0                0                0                 0   \n",
       "4                0                0                0                 0   \n",
       "\n",
       "   FLAG_DOCUMENT_20  FLAG_DOCUMENT_21  \n",
       "0                 0                 0  \n",
       "1                 0                 0  \n",
       "2                 0                 0  \n",
       "3                 0                 0  \n",
       "4                 0                 0  \n",
       "\n",
       "[5 rows x 65 columns]"
      ]
     },
     "execution_count": 49,
     "metadata": {},
     "output_type": "execute_result"
    }
   ],
   "source": [
    "selected_application_sample.head()"
   ]
  },
  {
   "cell_type": "markdown",
   "metadata": {
    "id": "eDRjwgTt5g4i"
   },
   "source": [
    "##### Feature engineering/extraction"
   ]
  },
  {
   "cell_type": "code",
   "execution_count": 50,
   "metadata": {
    "id": "0mbSTXZQ5mws"
   },
   "outputs": [],
   "source": [
    "# credit amount ratio relative to the income of a client\n",
    "selected_application_sample['CREDIT_INCOME_RATIO'] = selected_application_sample['AMT_CREDIT'] / selected_application_sample['AMT_INCOME_TOTAL']\n",
    "# loan annuity percentage relative to the income of a client\n",
    "selected_application_sample['ANNUITY_INCOME_RATIO'] = selected_application_sample['AMT_ANNUITY'] / selected_application_sample['AMT_INCOME_TOTAL']\n",
    "# the length of the payment in months \n",
    "selected_application_sample['CREDIT_TERM'] = selected_application_sample['AMT_ANNUITY'] / selected_application_sample['AMT_CREDIT']\n",
    "# days employed relative to the age of the client\n",
    "selected_application_sample['DAYS_EMPLOYED_RATIO'] = selected_application_sample['DAYS_EMPLOYED'] / selected_application_sample['DAYS_BIRTH']"
   ]
  },
  {
   "cell_type": "code",
   "execution_count": 51,
   "metadata": {
    "id": "0K-_EbIu-JV0"
   },
   "outputs": [],
   "source": [
    "# Difference betwwen the price of goods and the loan amount given\n",
    "selected_application_sample['GOODS_PRICE_LOAN_DIFFERENCE'] = selected_application_sample['AMT_GOODS_PRICE'] - selected_application_sample['AMT_CREDIT']"
   ]
  },
  {
   "cell_type": "markdown",
   "metadata": {
    "id": "ZygoILsmGBsy"
   },
   "source": [
    "### Bureau table"
   ]
  },
  {
   "cell_type": "markdown",
   "metadata": {
    "id": "wVmN9bYwgcgW"
   },
   "source": [
    "All client's previous credits provided by other financial institutions that were reported to Credit Bureau (for clients who have a loan in our sample).\n",
    "For every loan in our sample, there are as many rows as number of credits the client had in Credit Bureau before the application date."
   ]
  },
  {
   "cell_type": "code",
   "execution_count": 52,
   "metadata": {
    "id": "AI8PopRVd3EV"
   },
   "outputs": [],
   "source": [
    "loan_ids = list(application_sample['SK_ID_CURR'])"
   ]
  },
  {
   "cell_type": "code",
   "execution_count": 53,
   "metadata": {
    "id": "fTZqURJ1cGQf",
    "outputId": "58e77468-1bbd-4573-91b8-20f79393ffec"
   },
   "outputs": [
    {
     "data": {
      "text/html": [
       "<div>\n",
       "<style scoped>\n",
       "    .dataframe tbody tr th:only-of-type {\n",
       "        vertical-align: middle;\n",
       "    }\n",
       "\n",
       "    .dataframe tbody tr th {\n",
       "        vertical-align: top;\n",
       "    }\n",
       "\n",
       "    .dataframe thead th {\n",
       "        text-align: right;\n",
       "    }\n",
       "</style>\n",
       "<table border=\"1\" class=\"dataframe\">\n",
       "  <thead>\n",
       "    <tr style=\"text-align: right;\">\n",
       "      <th></th>\n",
       "      <th>SK_ID_CURR</th>\n",
       "      <th>SK_ID_BUREAU</th>\n",
       "      <th>CREDIT_ACTIVE</th>\n",
       "      <th>CREDIT_CURRENCY</th>\n",
       "      <th>DAYS_CREDIT</th>\n",
       "      <th>CREDIT_DAY_OVERDUE</th>\n",
       "      <th>DAYS_CREDIT_ENDDATE</th>\n",
       "      <th>DAYS_ENDDATE_FACT</th>\n",
       "      <th>AMT_CREDIT_MAX_OVERDUE</th>\n",
       "      <th>CNT_CREDIT_PROLONG</th>\n",
       "      <th>AMT_CREDIT_SUM</th>\n",
       "      <th>AMT_CREDIT_SUM_DEBT</th>\n",
       "      <th>AMT_CREDIT_SUM_LIMIT</th>\n",
       "      <th>AMT_CREDIT_SUM_OVERDUE</th>\n",
       "      <th>CREDIT_TYPE</th>\n",
       "      <th>DAYS_CREDIT_UPDATE</th>\n",
       "      <th>AMT_ANNUITY</th>\n",
       "    </tr>\n",
       "  </thead>\n",
       "  <tbody>\n",
       "    <tr>\n",
       "      <th>34226</th>\n",
       "      <td>369059</td>\n",
       "      <td>5805322</td>\n",
       "      <td>Active</td>\n",
       "      <td>currency 1</td>\n",
       "      <td>-247</td>\n",
       "      <td>0</td>\n",
       "      <td>1579.0</td>\n",
       "      <td>NaN</td>\n",
       "      <td>NaN</td>\n",
       "      <td>0</td>\n",
       "      <td>742500.0</td>\n",
       "      <td>676908.0</td>\n",
       "      <td>0.0</td>\n",
       "      <td>0.0</td>\n",
       "      <td>Consumer credit</td>\n",
       "      <td>-34</td>\n",
       "      <td>24750.0</td>\n",
       "    </tr>\n",
       "  </tbody>\n",
       "</table>\n",
       "</div>"
      ],
      "text/plain": [
       "       SK_ID_CURR  SK_ID_BUREAU CREDIT_ACTIVE CREDIT_CURRENCY  DAYS_CREDIT  \\\n",
       "34226      369059       5805322        Active      currency 1         -247   \n",
       "\n",
       "       CREDIT_DAY_OVERDUE  DAYS_CREDIT_ENDDATE  DAYS_ENDDATE_FACT  \\\n",
       "34226                   0               1579.0                NaN   \n",
       "\n",
       "       AMT_CREDIT_MAX_OVERDUE  CNT_CREDIT_PROLONG  AMT_CREDIT_SUM  \\\n",
       "34226                     NaN                   0        742500.0   \n",
       "\n",
       "       AMT_CREDIT_SUM_DEBT  AMT_CREDIT_SUM_LIMIT  AMT_CREDIT_SUM_OVERDUE  \\\n",
       "34226             676908.0                   0.0                     0.0   \n",
       "\n",
       "           CREDIT_TYPE  DAYS_CREDIT_UPDATE  AMT_ANNUITY  \n",
       "34226  Consumer credit                 -34      24750.0  "
      ]
     },
     "execution_count": 53,
     "metadata": {},
     "output_type": "execute_result"
    }
   ],
   "source": [
    "bureau = pd.read_csv(\"bureau.csv\")\n",
    "bureau.sample()"
   ]
  },
  {
   "cell_type": "code",
   "execution_count": 54,
   "metadata": {},
   "outputs": [
    {
     "data": {
      "text/plain": [
       "0         NaN\n",
       "1         NaN\n",
       "2         NaN\n",
       "3         NaN\n",
       "4         NaN\n",
       "           ..\n",
       "1716423   NaN\n",
       "1716424   NaN\n",
       "1716425   NaN\n",
       "1716426   NaN\n",
       "1716427   NaN\n",
       "Name: AMT_ANNUITY, Length: 1716428, dtype: float64"
      ]
     },
     "execution_count": 54,
     "metadata": {},
     "output_type": "execute_result"
    }
   ],
   "source": [
    "bureau['AMT_ANNUITY']"
   ]
  },
  {
   "cell_type": "code",
   "execution_count": 55,
   "metadata": {
    "id": "VUQXqxCweXdX"
   },
   "outputs": [],
   "source": [
    "bureau_sample = bureau[ bureau['SK_ID_CURR'].isin(loan_ids)]"
   ]
  },
  {
   "cell_type": "code",
   "execution_count": 56,
   "metadata": {
    "id": "83ZbuG-Ve1EU",
    "outputId": "a1b30cd1-acd0-4679-97cc-60448a3ad7a1"
   },
   "outputs": [
    {
     "data": {
      "text/html": [
       "<div>\n",
       "<style scoped>\n",
       "    .dataframe tbody tr th:only-of-type {\n",
       "        vertical-align: middle;\n",
       "    }\n",
       "\n",
       "    .dataframe tbody tr th {\n",
       "        vertical-align: top;\n",
       "    }\n",
       "\n",
       "    .dataframe thead th {\n",
       "        text-align: right;\n",
       "    }\n",
       "</style>\n",
       "<table border=\"1\" class=\"dataframe\">\n",
       "  <thead>\n",
       "    <tr style=\"text-align: right;\">\n",
       "      <th></th>\n",
       "      <th>SK_ID_CURR</th>\n",
       "      <th>SK_ID_BUREAU</th>\n",
       "      <th>CREDIT_ACTIVE</th>\n",
       "      <th>CREDIT_CURRENCY</th>\n",
       "      <th>DAYS_CREDIT</th>\n",
       "      <th>CREDIT_DAY_OVERDUE</th>\n",
       "      <th>DAYS_CREDIT_ENDDATE</th>\n",
       "      <th>DAYS_ENDDATE_FACT</th>\n",
       "      <th>AMT_CREDIT_MAX_OVERDUE</th>\n",
       "      <th>CNT_CREDIT_PROLONG</th>\n",
       "      <th>AMT_CREDIT_SUM</th>\n",
       "      <th>AMT_CREDIT_SUM_DEBT</th>\n",
       "      <th>AMT_CREDIT_SUM_LIMIT</th>\n",
       "      <th>AMT_CREDIT_SUM_OVERDUE</th>\n",
       "      <th>CREDIT_TYPE</th>\n",
       "      <th>DAYS_CREDIT_UPDATE</th>\n",
       "      <th>AMT_ANNUITY</th>\n",
       "    </tr>\n",
       "  </thead>\n",
       "  <tbody>\n",
       "    <tr>\n",
       "      <th>33</th>\n",
       "      <td>400486</td>\n",
       "      <td>5714504</td>\n",
       "      <td>Closed</td>\n",
       "      <td>currency 1</td>\n",
       "      <td>-2413</td>\n",
       "      <td>0</td>\n",
       "      <td>-1864.0</td>\n",
       "      <td>-2128.0</td>\n",
       "      <td>NaN</td>\n",
       "      <td>0</td>\n",
       "      <td>180000.0</td>\n",
       "      <td>0.0</td>\n",
       "      <td>0.0</td>\n",
       "      <td>0.0</td>\n",
       "      <td>Consumer credit</td>\n",
       "      <td>-708</td>\n",
       "      <td>NaN</td>\n",
       "    </tr>\n",
       "    <tr>\n",
       "      <th>34</th>\n",
       "      <td>400486</td>\n",
       "      <td>5714506</td>\n",
       "      <td>Active</td>\n",
       "      <td>currency 1</td>\n",
       "      <td>-941</td>\n",
       "      <td>0</td>\n",
       "      <td>-17.0</td>\n",
       "      <td>NaN</td>\n",
       "      <td>NaN</td>\n",
       "      <td>0</td>\n",
       "      <td>40500.0</td>\n",
       "      <td>0.0</td>\n",
       "      <td>0.0</td>\n",
       "      <td>0.0</td>\n",
       "      <td>Credit card</td>\n",
       "      <td>-15</td>\n",
       "      <td>NaN</td>\n",
       "    </tr>\n",
       "    <tr>\n",
       "      <th>35</th>\n",
       "      <td>400486</td>\n",
       "      <td>5714507</td>\n",
       "      <td>Closed</td>\n",
       "      <td>currency 1</td>\n",
       "      <td>-1110</td>\n",
       "      <td>0</td>\n",
       "      <td>-745.0</td>\n",
       "      <td>-727.0</td>\n",
       "      <td>NaN</td>\n",
       "      <td>0</td>\n",
       "      <td>114727.5</td>\n",
       "      <td>0.0</td>\n",
       "      <td>0.0</td>\n",
       "      <td>0.0</td>\n",
       "      <td>Consumer credit</td>\n",
       "      <td>-658</td>\n",
       "      <td>NaN</td>\n",
       "    </tr>\n",
       "    <tr>\n",
       "      <th>36</th>\n",
       "      <td>400486</td>\n",
       "      <td>5714508</td>\n",
       "      <td>Closed</td>\n",
       "      <td>currency 1</td>\n",
       "      <td>-2133</td>\n",
       "      <td>0</td>\n",
       "      <td>-1038.0</td>\n",
       "      <td>-1127.0</td>\n",
       "      <td>NaN</td>\n",
       "      <td>0</td>\n",
       "      <td>225000.0</td>\n",
       "      <td>0.0</td>\n",
       "      <td>0.0</td>\n",
       "      <td>0.0</td>\n",
       "      <td>Consumer credit</td>\n",
       "      <td>-708</td>\n",
       "      <td>NaN</td>\n",
       "    </tr>\n",
       "    <tr>\n",
       "      <th>37</th>\n",
       "      <td>400486</td>\n",
       "      <td>5714509</td>\n",
       "      <td>Active</td>\n",
       "      <td>currency 1</td>\n",
       "      <td>-391</td>\n",
       "      <td>0</td>\n",
       "      <td>705.0</td>\n",
       "      <td>NaN</td>\n",
       "      <td>NaN</td>\n",
       "      <td>0</td>\n",
       "      <td>142290.0</td>\n",
       "      <td>108315.0</td>\n",
       "      <td>0.0</td>\n",
       "      <td>0.0</td>\n",
       "      <td>Consumer credit</td>\n",
       "      <td>-30</td>\n",
       "      <td>NaN</td>\n",
       "    </tr>\n",
       "  </tbody>\n",
       "</table>\n",
       "</div>"
      ],
      "text/plain": [
       "    SK_ID_CURR  SK_ID_BUREAU CREDIT_ACTIVE CREDIT_CURRENCY  DAYS_CREDIT  \\\n",
       "33      400486       5714504        Closed      currency 1        -2413   \n",
       "34      400486       5714506        Active      currency 1         -941   \n",
       "35      400486       5714507        Closed      currency 1        -1110   \n",
       "36      400486       5714508        Closed      currency 1        -2133   \n",
       "37      400486       5714509        Active      currency 1         -391   \n",
       "\n",
       "    CREDIT_DAY_OVERDUE  DAYS_CREDIT_ENDDATE  DAYS_ENDDATE_FACT  \\\n",
       "33                   0              -1864.0            -2128.0   \n",
       "34                   0                -17.0                NaN   \n",
       "35                   0               -745.0             -727.0   \n",
       "36                   0              -1038.0            -1127.0   \n",
       "37                   0                705.0                NaN   \n",
       "\n",
       "    AMT_CREDIT_MAX_OVERDUE  CNT_CREDIT_PROLONG  AMT_CREDIT_SUM  \\\n",
       "33                     NaN                   0        180000.0   \n",
       "34                     NaN                   0         40500.0   \n",
       "35                     NaN                   0        114727.5   \n",
       "36                     NaN                   0        225000.0   \n",
       "37                     NaN                   0        142290.0   \n",
       "\n",
       "    AMT_CREDIT_SUM_DEBT  AMT_CREDIT_SUM_LIMIT  AMT_CREDIT_SUM_OVERDUE  \\\n",
       "33                  0.0                   0.0                     0.0   \n",
       "34                  0.0                   0.0                     0.0   \n",
       "35                  0.0                   0.0                     0.0   \n",
       "36                  0.0                   0.0                     0.0   \n",
       "37             108315.0                   0.0                     0.0   \n",
       "\n",
       "        CREDIT_TYPE  DAYS_CREDIT_UPDATE  AMT_ANNUITY  \n",
       "33  Consumer credit                -708          NaN  \n",
       "34      Credit card                 -15          NaN  \n",
       "35  Consumer credit                -658          NaN  \n",
       "36  Consumer credit                -708          NaN  \n",
       "37  Consumer credit                 -30          NaN  "
      ]
     },
     "execution_count": 56,
     "metadata": {},
     "output_type": "execute_result"
    }
   ],
   "source": [
    "bureau_sample.head()"
   ]
  },
  {
   "cell_type": "code",
   "execution_count": 57,
   "metadata": {},
   "outputs": [],
   "source": [
    "bureau_sample.reset_index(inplace=True)"
   ]
  },
  {
   "cell_type": "code",
   "execution_count": 58,
   "metadata": {
    "id": "PxCRCkgNhgCm"
   },
   "outputs": [],
   "source": [
    "bureau_sample.to_csv(\"credit_samples/bureau.csv\", index=False)"
   ]
  },
  {
   "cell_type": "code",
   "execution_count": 59,
   "metadata": {
    "id": "GBqdKv3JevA6",
    "outputId": "8dc8c2ac-bc36-43d0-8163-bdfaab667d4f"
   },
   "outputs": [
    {
     "name": "stdout",
     "output_type": "stream",
     "text": [
      "<class 'pandas.core.frame.DataFrame'>\n",
      "RangeIndex: 46949 entries, 0 to 46948\n",
      "Data columns (total 18 columns):\n",
      " #   Column                  Non-Null Count  Dtype  \n",
      "---  ------                  --------------  -----  \n",
      " 0   index                   46949 non-null  int64  \n",
      " 1   SK_ID_CURR              46949 non-null  int64  \n",
      " 2   SK_ID_BUREAU            46949 non-null  int64  \n",
      " 3   CREDIT_ACTIVE           46949 non-null  object \n",
      " 4   CREDIT_CURRENCY         46949 non-null  object \n",
      " 5   DAYS_CREDIT             46949 non-null  int64  \n",
      " 6   CREDIT_DAY_OVERDUE      46949 non-null  int64  \n",
      " 7   DAYS_CREDIT_ENDDATE     44035 non-null  float64\n",
      " 8   DAYS_ENDDATE_FACT       29459 non-null  float64\n",
      " 9   AMT_CREDIT_MAX_OVERDUE  16671 non-null  float64\n",
      " 10  CNT_CREDIT_PROLONG      46949 non-null  int64  \n",
      " 11  AMT_CREDIT_SUM          46949 non-null  float64\n",
      " 12  AMT_CREDIT_SUM_DEBT     39678 non-null  float64\n",
      " 13  AMT_CREDIT_SUM_LIMIT    31116 non-null  float64\n",
      " 14  AMT_CREDIT_SUM_OVERDUE  46949 non-null  float64\n",
      " 15  CREDIT_TYPE             46949 non-null  object \n",
      " 16  DAYS_CREDIT_UPDATE      46949 non-null  int64  \n",
      " 17  AMT_ANNUITY             11022 non-null  float64\n",
      "dtypes: float64(8), int64(7), object(3)\n",
      "memory usage: 6.4+ MB\n"
     ]
    }
   ],
   "source": [
    "bureau_sample.info()"
   ]
  },
  {
   "cell_type": "code",
   "execution_count": 60,
   "metadata": {
    "id": "FX5Kg9DaGxRZ"
   },
   "outputs": [],
   "source": [
    "columns = ['AMT_ANNUITY']\n",
    "selected_bureau_sample = bureau_sample.drop(columns=columns,axis=1)"
   ]
  },
  {
   "cell_type": "code",
   "execution_count": 61,
   "metadata": {
    "id": "Door842_IBjh",
    "outputId": "4fdd0d18-a5bc-44f6-8a8a-a5101b617d29"
   },
   "outputs": [
    {
     "data": {
      "text/html": [
       "<div>\n",
       "<style scoped>\n",
       "    .dataframe tbody tr th:only-of-type {\n",
       "        vertical-align: middle;\n",
       "    }\n",
       "\n",
       "    .dataframe tbody tr th {\n",
       "        vertical-align: top;\n",
       "    }\n",
       "\n",
       "    .dataframe thead th {\n",
       "        text-align: right;\n",
       "    }\n",
       "</style>\n",
       "<table border=\"1\" class=\"dataframe\">\n",
       "  <thead>\n",
       "    <tr style=\"text-align: right;\">\n",
       "      <th></th>\n",
       "      <th>index</th>\n",
       "      <th>SK_ID_CURR</th>\n",
       "      <th>SK_ID_BUREAU</th>\n",
       "      <th>CREDIT_ACTIVE</th>\n",
       "      <th>CREDIT_CURRENCY</th>\n",
       "      <th>DAYS_CREDIT</th>\n",
       "      <th>CREDIT_DAY_OVERDUE</th>\n",
       "      <th>DAYS_CREDIT_ENDDATE</th>\n",
       "      <th>DAYS_ENDDATE_FACT</th>\n",
       "      <th>AMT_CREDIT_MAX_OVERDUE</th>\n",
       "      <th>CNT_CREDIT_PROLONG</th>\n",
       "      <th>AMT_CREDIT_SUM</th>\n",
       "      <th>AMT_CREDIT_SUM_DEBT</th>\n",
       "      <th>AMT_CREDIT_SUM_LIMIT</th>\n",
       "      <th>AMT_CREDIT_SUM_OVERDUE</th>\n",
       "      <th>CREDIT_TYPE</th>\n",
       "      <th>DAYS_CREDIT_UPDATE</th>\n",
       "    </tr>\n",
       "  </thead>\n",
       "  <tbody>\n",
       "    <tr>\n",
       "      <th>0</th>\n",
       "      <td>33</td>\n",
       "      <td>400486</td>\n",
       "      <td>5714504</td>\n",
       "      <td>Closed</td>\n",
       "      <td>currency 1</td>\n",
       "      <td>-2413</td>\n",
       "      <td>0</td>\n",
       "      <td>-1864.0</td>\n",
       "      <td>-2128.0</td>\n",
       "      <td>NaN</td>\n",
       "      <td>0</td>\n",
       "      <td>180000.0</td>\n",
       "      <td>0.0</td>\n",
       "      <td>0.0</td>\n",
       "      <td>0.0</td>\n",
       "      <td>Consumer credit</td>\n",
       "      <td>-708</td>\n",
       "    </tr>\n",
       "    <tr>\n",
       "      <th>1</th>\n",
       "      <td>34</td>\n",
       "      <td>400486</td>\n",
       "      <td>5714506</td>\n",
       "      <td>Active</td>\n",
       "      <td>currency 1</td>\n",
       "      <td>-941</td>\n",
       "      <td>0</td>\n",
       "      <td>-17.0</td>\n",
       "      <td>NaN</td>\n",
       "      <td>NaN</td>\n",
       "      <td>0</td>\n",
       "      <td>40500.0</td>\n",
       "      <td>0.0</td>\n",
       "      <td>0.0</td>\n",
       "      <td>0.0</td>\n",
       "      <td>Credit card</td>\n",
       "      <td>-15</td>\n",
       "    </tr>\n",
       "    <tr>\n",
       "      <th>2</th>\n",
       "      <td>35</td>\n",
       "      <td>400486</td>\n",
       "      <td>5714507</td>\n",
       "      <td>Closed</td>\n",
       "      <td>currency 1</td>\n",
       "      <td>-1110</td>\n",
       "      <td>0</td>\n",
       "      <td>-745.0</td>\n",
       "      <td>-727.0</td>\n",
       "      <td>NaN</td>\n",
       "      <td>0</td>\n",
       "      <td>114727.5</td>\n",
       "      <td>0.0</td>\n",
       "      <td>0.0</td>\n",
       "      <td>0.0</td>\n",
       "      <td>Consumer credit</td>\n",
       "      <td>-658</td>\n",
       "    </tr>\n",
       "    <tr>\n",
       "      <th>3</th>\n",
       "      <td>36</td>\n",
       "      <td>400486</td>\n",
       "      <td>5714508</td>\n",
       "      <td>Closed</td>\n",
       "      <td>currency 1</td>\n",
       "      <td>-2133</td>\n",
       "      <td>0</td>\n",
       "      <td>-1038.0</td>\n",
       "      <td>-1127.0</td>\n",
       "      <td>NaN</td>\n",
       "      <td>0</td>\n",
       "      <td>225000.0</td>\n",
       "      <td>0.0</td>\n",
       "      <td>0.0</td>\n",
       "      <td>0.0</td>\n",
       "      <td>Consumer credit</td>\n",
       "      <td>-708</td>\n",
       "    </tr>\n",
       "    <tr>\n",
       "      <th>4</th>\n",
       "      <td>37</td>\n",
       "      <td>400486</td>\n",
       "      <td>5714509</td>\n",
       "      <td>Active</td>\n",
       "      <td>currency 1</td>\n",
       "      <td>-391</td>\n",
       "      <td>0</td>\n",
       "      <td>705.0</td>\n",
       "      <td>NaN</td>\n",
       "      <td>NaN</td>\n",
       "      <td>0</td>\n",
       "      <td>142290.0</td>\n",
       "      <td>108315.0</td>\n",
       "      <td>0.0</td>\n",
       "      <td>0.0</td>\n",
       "      <td>Consumer credit</td>\n",
       "      <td>-30</td>\n",
       "    </tr>\n",
       "  </tbody>\n",
       "</table>\n",
       "</div>"
      ],
      "text/plain": [
       "   index  SK_ID_CURR  SK_ID_BUREAU CREDIT_ACTIVE CREDIT_CURRENCY  DAYS_CREDIT  \\\n",
       "0     33      400486       5714504        Closed      currency 1        -2413   \n",
       "1     34      400486       5714506        Active      currency 1         -941   \n",
       "2     35      400486       5714507        Closed      currency 1        -1110   \n",
       "3     36      400486       5714508        Closed      currency 1        -2133   \n",
       "4     37      400486       5714509        Active      currency 1         -391   \n",
       "\n",
       "   CREDIT_DAY_OVERDUE  DAYS_CREDIT_ENDDATE  DAYS_ENDDATE_FACT  \\\n",
       "0                   0              -1864.0            -2128.0   \n",
       "1                   0                -17.0                NaN   \n",
       "2                   0               -745.0             -727.0   \n",
       "3                   0              -1038.0            -1127.0   \n",
       "4                   0                705.0                NaN   \n",
       "\n",
       "   AMT_CREDIT_MAX_OVERDUE  CNT_CREDIT_PROLONG  AMT_CREDIT_SUM  \\\n",
       "0                     NaN                   0        180000.0   \n",
       "1                     NaN                   0         40500.0   \n",
       "2                     NaN                   0        114727.5   \n",
       "3                     NaN                   0        225000.0   \n",
       "4                     NaN                   0        142290.0   \n",
       "\n",
       "   AMT_CREDIT_SUM_DEBT  AMT_CREDIT_SUM_LIMIT  AMT_CREDIT_SUM_OVERDUE  \\\n",
       "0                  0.0                   0.0                     0.0   \n",
       "1                  0.0                   0.0                     0.0   \n",
       "2                  0.0                   0.0                     0.0   \n",
       "3                  0.0                   0.0                     0.0   \n",
       "4             108315.0                   0.0                     0.0   \n",
       "\n",
       "       CREDIT_TYPE  DAYS_CREDIT_UPDATE  \n",
       "0  Consumer credit                -708  \n",
       "1      Credit card                 -15  \n",
       "2  Consumer credit                -658  \n",
       "3  Consumer credit                -708  \n",
       "4  Consumer credit                 -30  "
      ]
     },
     "execution_count": 61,
     "metadata": {},
     "output_type": "execute_result"
    }
   ],
   "source": [
    "selected_bureau_sample.head()"
   ]
  },
  {
   "cell_type": "markdown",
   "metadata": {
    "id": "vYbhZz2RGizX"
   },
   "source": [
    "### Bureau balance table"
   ]
  },
  {
   "cell_type": "markdown",
   "metadata": {
    "id": "7i_VPZFJgh0D"
   },
   "source": [
    "Monthly balances of previous credits in Credit Bureau.\n",
    "This table has one row for each month of history of every previous credit reported to Credit Bureau – i.e the table has (#loans in sample * # of relative previous credits * # of months where we have some history observable for the previous credits) rows."
   ]
  },
  {
   "cell_type": "code",
   "execution_count": 62,
   "metadata": {
    "id": "TU0uY1erGrsm"
   },
   "outputs": [],
   "source": [
    "bureaus = list(bureau_sample['SK_ID_BUREAU'])"
   ]
  },
  {
   "cell_type": "code",
   "execution_count": 63,
   "metadata": {
    "id": "yF2ITyrGcabK",
    "outputId": "48eb7a47-3f75-4ca1-e1e3-d063062459c0"
   },
   "outputs": [
    {
     "data": {
      "text/html": [
       "<div>\n",
       "<style scoped>\n",
       "    .dataframe tbody tr th:only-of-type {\n",
       "        vertical-align: middle;\n",
       "    }\n",
       "\n",
       "    .dataframe tbody tr th {\n",
       "        vertical-align: top;\n",
       "    }\n",
       "\n",
       "    .dataframe thead th {\n",
       "        text-align: right;\n",
       "    }\n",
       "</style>\n",
       "<table border=\"1\" class=\"dataframe\">\n",
       "  <thead>\n",
       "    <tr style=\"text-align: right;\">\n",
       "      <th></th>\n",
       "      <th>SK_ID_BUREAU</th>\n",
       "      <th>MONTHS_BALANCE</th>\n",
       "      <th>STATUS</th>\n",
       "    </tr>\n",
       "  </thead>\n",
       "  <tbody>\n",
       "    <tr>\n",
       "      <th>9838477</th>\n",
       "      <td>6065994</td>\n",
       "      <td>-55</td>\n",
       "      <td>0</td>\n",
       "    </tr>\n",
       "  </tbody>\n",
       "</table>\n",
       "</div>"
      ],
      "text/plain": [
       "         SK_ID_BUREAU  MONTHS_BALANCE STATUS\n",
       "9838477       6065994             -55      0"
      ]
     },
     "execution_count": 63,
     "metadata": {},
     "output_type": "execute_result"
    }
   ],
   "source": [
    "bureau_balance = pd.read_csv(\"bureau_balance.csv\")\n",
    "bureau_balance.sample()"
   ]
  },
  {
   "cell_type": "code",
   "execution_count": 64,
   "metadata": {
    "id": "KYLIj_e-II0x"
   },
   "outputs": [],
   "source": [
    "bureau_balance_sample = bureau_balance[ bureau_balance['SK_ID_BUREAU'].isin(bureaus)]"
   ]
  },
  {
   "cell_type": "code",
   "execution_count": 65,
   "metadata": {
    "id": "GoIibosiI64c",
    "outputId": "ab064689-8742-49ea-d912-67098430ae67"
   },
   "outputs": [
    {
     "name": "stdout",
     "output_type": "stream",
     "text": [
      "<class 'pandas.core.frame.DataFrame'>\n",
      "Int64Index: 477067 entries, 17852 to 27288518\n",
      "Data columns (total 3 columns):\n",
      " #   Column          Non-Null Count   Dtype \n",
      "---  ------          --------------   ----- \n",
      " 0   SK_ID_BUREAU    477067 non-null  int64 \n",
      " 1   MONTHS_BALANCE  477067 non-null  int64 \n",
      " 2   STATUS          477067 non-null  object\n",
      "dtypes: int64(2), object(1)\n",
      "memory usage: 14.6+ MB\n"
     ]
    }
   ],
   "source": [
    "bureau_balance_sample.info()"
   ]
  },
  {
   "cell_type": "code",
   "execution_count": 66,
   "metadata": {
    "id": "zRvj7V29I-wr",
    "outputId": "359aa103-6d00-46fb-c902-77fdba238b7f"
   },
   "outputs": [
    {
     "data": {
      "text/html": [
       "<div>\n",
       "<style scoped>\n",
       "    .dataframe tbody tr th:only-of-type {\n",
       "        vertical-align: middle;\n",
       "    }\n",
       "\n",
       "    .dataframe tbody tr th {\n",
       "        vertical-align: top;\n",
       "    }\n",
       "\n",
       "    .dataframe thead th {\n",
       "        text-align: right;\n",
       "    }\n",
       "</style>\n",
       "<table border=\"1\" class=\"dataframe\">\n",
       "  <thead>\n",
       "    <tr style=\"text-align: right;\">\n",
       "      <th></th>\n",
       "      <th>SK_ID_BUREAU</th>\n",
       "      <th>MONTHS_BALANCE</th>\n",
       "      <th>STATUS</th>\n",
       "    </tr>\n",
       "  </thead>\n",
       "  <tbody>\n",
       "    <tr>\n",
       "      <th>27288514</th>\n",
       "      <td>5033703</td>\n",
       "      <td>-25</td>\n",
       "      <td>0</td>\n",
       "    </tr>\n",
       "    <tr>\n",
       "      <th>27288515</th>\n",
       "      <td>5033703</td>\n",
       "      <td>-26</td>\n",
       "      <td>0</td>\n",
       "    </tr>\n",
       "    <tr>\n",
       "      <th>27288516</th>\n",
       "      <td>5033703</td>\n",
       "      <td>-27</td>\n",
       "      <td>0</td>\n",
       "    </tr>\n",
       "    <tr>\n",
       "      <th>27288517</th>\n",
       "      <td>5033703</td>\n",
       "      <td>-28</td>\n",
       "      <td>0</td>\n",
       "    </tr>\n",
       "    <tr>\n",
       "      <th>27288518</th>\n",
       "      <td>5033703</td>\n",
       "      <td>-29</td>\n",
       "      <td>X</td>\n",
       "    </tr>\n",
       "  </tbody>\n",
       "</table>\n",
       "</div>"
      ],
      "text/plain": [
       "          SK_ID_BUREAU  MONTHS_BALANCE STATUS\n",
       "27288514       5033703             -25      0\n",
       "27288515       5033703             -26      0\n",
       "27288516       5033703             -27      0\n",
       "27288517       5033703             -28      0\n",
       "27288518       5033703             -29      X"
      ]
     },
     "execution_count": 66,
     "metadata": {},
     "output_type": "execute_result"
    }
   ],
   "source": [
    "bureau_balance_sample.tail()"
   ]
  },
  {
   "cell_type": "code",
   "execution_count": 67,
   "metadata": {},
   "outputs": [],
   "source": [
    "bureau_balance_sample.reset_index(inplace=True)"
   ]
  },
  {
   "cell_type": "code",
   "execution_count": 68,
   "metadata": {
    "id": "aUCH8yPcJEIE"
   },
   "outputs": [],
   "source": [
    "bureau_balance_sample.to_csv(\"credit_samples/bureau_balance.csv\", index=False)"
   ]
  },
  {
   "cell_type": "markdown",
   "metadata": {
    "id": "dgYb-YsX1q49"
   },
   "source": [
    "### Previous balance mid-level table"
   ]
  },
  {
   "cell_type": "code",
   "execution_count": 69,
   "metadata": {
    "id": "lwpbM18k1vt7"
   },
   "outputs": [],
   "source": [
    "previous_balance = selected_bureau_sample.merge(bureau_balance, on='SK_ID_BUREAU')"
   ]
  },
  {
   "cell_type": "code",
   "execution_count": 70,
   "metadata": {
    "id": "O_QrlrPF2L5h",
    "outputId": "ad18cd3f-48af-46cf-b56c-4e6257b8b3f0"
   },
   "outputs": [
    {
     "data": {
      "text/html": [
       "<div>\n",
       "<style scoped>\n",
       "    .dataframe tbody tr th:only-of-type {\n",
       "        vertical-align: middle;\n",
       "    }\n",
       "\n",
       "    .dataframe tbody tr th {\n",
       "        vertical-align: top;\n",
       "    }\n",
       "\n",
       "    .dataframe thead th {\n",
       "        text-align: right;\n",
       "    }\n",
       "</style>\n",
       "<table border=\"1\" class=\"dataframe\">\n",
       "  <thead>\n",
       "    <tr style=\"text-align: right;\">\n",
       "      <th></th>\n",
       "      <th>index</th>\n",
       "      <th>SK_ID_CURR</th>\n",
       "      <th>SK_ID_BUREAU</th>\n",
       "      <th>CREDIT_ACTIVE</th>\n",
       "      <th>CREDIT_CURRENCY</th>\n",
       "      <th>DAYS_CREDIT</th>\n",
       "      <th>CREDIT_DAY_OVERDUE</th>\n",
       "      <th>DAYS_CREDIT_ENDDATE</th>\n",
       "      <th>DAYS_ENDDATE_FACT</th>\n",
       "      <th>AMT_CREDIT_MAX_OVERDUE</th>\n",
       "      <th>CNT_CREDIT_PROLONG</th>\n",
       "      <th>AMT_CREDIT_SUM</th>\n",
       "      <th>AMT_CREDIT_SUM_DEBT</th>\n",
       "      <th>AMT_CREDIT_SUM_LIMIT</th>\n",
       "      <th>AMT_CREDIT_SUM_OVERDUE</th>\n",
       "      <th>CREDIT_TYPE</th>\n",
       "      <th>DAYS_CREDIT_UPDATE</th>\n",
       "      <th>MONTHS_BALANCE</th>\n",
       "      <th>STATUS</th>\n",
       "    </tr>\n",
       "  </thead>\n",
       "  <tbody>\n",
       "    <tr>\n",
       "      <th>477062</th>\n",
       "      <td>1716291</td>\n",
       "      <td>245498</td>\n",
       "      <td>5053747</td>\n",
       "      <td>Closed</td>\n",
       "      <td>currency 1</td>\n",
       "      <td>-2582</td>\n",
       "      <td>0</td>\n",
       "      <td>-2214.0</td>\n",
       "      <td>-2018.0</td>\n",
       "      <td>0.0</td>\n",
       "      <td>0</td>\n",
       "      <td>49495.5</td>\n",
       "      <td>0.0</td>\n",
       "      <td>0.0</td>\n",
       "      <td>0.0</td>\n",
       "      <td>Consumer credit</td>\n",
       "      <td>-2017</td>\n",
       "      <td>-80</td>\n",
       "      <td>0</td>\n",
       "    </tr>\n",
       "    <tr>\n",
       "      <th>477063</th>\n",
       "      <td>1716291</td>\n",
       "      <td>245498</td>\n",
       "      <td>5053747</td>\n",
       "      <td>Closed</td>\n",
       "      <td>currency 1</td>\n",
       "      <td>-2582</td>\n",
       "      <td>0</td>\n",
       "      <td>-2214.0</td>\n",
       "      <td>-2018.0</td>\n",
       "      <td>0.0</td>\n",
       "      <td>0</td>\n",
       "      <td>49495.5</td>\n",
       "      <td>0.0</td>\n",
       "      <td>0.0</td>\n",
       "      <td>0.0</td>\n",
       "      <td>Consumer credit</td>\n",
       "      <td>-2017</td>\n",
       "      <td>-81</td>\n",
       "      <td>0</td>\n",
       "    </tr>\n",
       "    <tr>\n",
       "      <th>477064</th>\n",
       "      <td>1716291</td>\n",
       "      <td>245498</td>\n",
       "      <td>5053747</td>\n",
       "      <td>Closed</td>\n",
       "      <td>currency 1</td>\n",
       "      <td>-2582</td>\n",
       "      <td>0</td>\n",
       "      <td>-2214.0</td>\n",
       "      <td>-2018.0</td>\n",
       "      <td>0.0</td>\n",
       "      <td>0</td>\n",
       "      <td>49495.5</td>\n",
       "      <td>0.0</td>\n",
       "      <td>0.0</td>\n",
       "      <td>0.0</td>\n",
       "      <td>Consumer credit</td>\n",
       "      <td>-2017</td>\n",
       "      <td>-82</td>\n",
       "      <td>0</td>\n",
       "    </tr>\n",
       "    <tr>\n",
       "      <th>477065</th>\n",
       "      <td>1716291</td>\n",
       "      <td>245498</td>\n",
       "      <td>5053747</td>\n",
       "      <td>Closed</td>\n",
       "      <td>currency 1</td>\n",
       "      <td>-2582</td>\n",
       "      <td>0</td>\n",
       "      <td>-2214.0</td>\n",
       "      <td>-2018.0</td>\n",
       "      <td>0.0</td>\n",
       "      <td>0</td>\n",
       "      <td>49495.5</td>\n",
       "      <td>0.0</td>\n",
       "      <td>0.0</td>\n",
       "      <td>0.0</td>\n",
       "      <td>Consumer credit</td>\n",
       "      <td>-2017</td>\n",
       "      <td>-83</td>\n",
       "      <td>0</td>\n",
       "    </tr>\n",
       "    <tr>\n",
       "      <th>477066</th>\n",
       "      <td>1716291</td>\n",
       "      <td>245498</td>\n",
       "      <td>5053747</td>\n",
       "      <td>Closed</td>\n",
       "      <td>currency 1</td>\n",
       "      <td>-2582</td>\n",
       "      <td>0</td>\n",
       "      <td>-2214.0</td>\n",
       "      <td>-2018.0</td>\n",
       "      <td>0.0</td>\n",
       "      <td>0</td>\n",
       "      <td>49495.5</td>\n",
       "      <td>0.0</td>\n",
       "      <td>0.0</td>\n",
       "      <td>0.0</td>\n",
       "      <td>Consumer credit</td>\n",
       "      <td>-2017</td>\n",
       "      <td>-84</td>\n",
       "      <td>0</td>\n",
       "    </tr>\n",
       "  </tbody>\n",
       "</table>\n",
       "</div>"
      ],
      "text/plain": [
       "          index  SK_ID_CURR  SK_ID_BUREAU CREDIT_ACTIVE CREDIT_CURRENCY  \\\n",
       "477062  1716291      245498       5053747        Closed      currency 1   \n",
       "477063  1716291      245498       5053747        Closed      currency 1   \n",
       "477064  1716291      245498       5053747        Closed      currency 1   \n",
       "477065  1716291      245498       5053747        Closed      currency 1   \n",
       "477066  1716291      245498       5053747        Closed      currency 1   \n",
       "\n",
       "        DAYS_CREDIT  CREDIT_DAY_OVERDUE  DAYS_CREDIT_ENDDATE  \\\n",
       "477062        -2582                   0              -2214.0   \n",
       "477063        -2582                   0              -2214.0   \n",
       "477064        -2582                   0              -2214.0   \n",
       "477065        -2582                   0              -2214.0   \n",
       "477066        -2582                   0              -2214.0   \n",
       "\n",
       "        DAYS_ENDDATE_FACT  AMT_CREDIT_MAX_OVERDUE  CNT_CREDIT_PROLONG  \\\n",
       "477062            -2018.0                     0.0                   0   \n",
       "477063            -2018.0                     0.0                   0   \n",
       "477064            -2018.0                     0.0                   0   \n",
       "477065            -2018.0                     0.0                   0   \n",
       "477066            -2018.0                     0.0                   0   \n",
       "\n",
       "        AMT_CREDIT_SUM  AMT_CREDIT_SUM_DEBT  AMT_CREDIT_SUM_LIMIT  \\\n",
       "477062         49495.5                  0.0                   0.0   \n",
       "477063         49495.5                  0.0                   0.0   \n",
       "477064         49495.5                  0.0                   0.0   \n",
       "477065         49495.5                  0.0                   0.0   \n",
       "477066         49495.5                  0.0                   0.0   \n",
       "\n",
       "        AMT_CREDIT_SUM_OVERDUE      CREDIT_TYPE  DAYS_CREDIT_UPDATE  \\\n",
       "477062                     0.0  Consumer credit               -2017   \n",
       "477063                     0.0  Consumer credit               -2017   \n",
       "477064                     0.0  Consumer credit               -2017   \n",
       "477065                     0.0  Consumer credit               -2017   \n",
       "477066                     0.0  Consumer credit               -2017   \n",
       "\n",
       "        MONTHS_BALANCE STATUS  \n",
       "477062             -80      0  \n",
       "477063             -81      0  \n",
       "477064             -82      0  \n",
       "477065             -83      0  \n",
       "477066             -84      0  "
      ]
     },
     "execution_count": 70,
     "metadata": {},
     "output_type": "execute_result"
    }
   ],
   "source": [
    "previous_balance.tail()"
   ]
  },
  {
   "cell_type": "code",
   "execution_count": 71,
   "metadata": {
    "id": "5ipzzrJB2Nle",
    "outputId": "4d6d527b-415e-4189-d3a9-34117517d046"
   },
   "outputs": [],
   "source": [
    "# previous_balance.info()"
   ]
  },
  {
   "cell_type": "code",
   "execution_count": 72,
   "metadata": {
    "id": "dYYPq_ti9ZTO",
    "outputId": "d232428e-8a90-4c8a-d8b2-39968a321d84"
   },
   "outputs": [
    {
     "data": {
      "text/plain": [
       "Index(['DAYS_CREDIT_ENDDATE', 'DAYS_ENDDATE_FACT', 'AMT_CREDIT_MAX_OVERDUE',\n",
       "       'AMT_CREDIT_SUM_DEBT', 'AMT_CREDIT_SUM_LIMIT'],\n",
       "      dtype='object')"
      ]
     },
     "execution_count": 72,
     "metadata": {},
     "output_type": "execute_result"
    }
   ],
   "source": [
    "previous_balance.columns[previous_balance.isnull().any()]"
   ]
  },
  {
   "cell_type": "code",
   "execution_count": 73,
   "metadata": {
    "id": "LWsjLKcz9ryk"
   },
   "outputs": [],
   "source": [
    "previous_balance['DAYS_CREDIT_ENDDATE'].fillna(previous_balance['DAYS_CREDIT_ENDDATE'].median(),inplace=True)\n",
    "previous_balance['DAYS_ENDDATE_FACT'].fillna(previous_balance['DAYS_ENDDATE_FACT'].median(),inplace=True)\n",
    "previous_balance['AMT_CREDIT_SUM_DEBT'].fillna(previous_balance['AMT_CREDIT_SUM_DEBT'].median(),inplace=True)\n",
    "previous_balance['AMT_CREDIT_MAX_OVERDUE'].fillna(previous_balance['AMT_CREDIT_MAX_OVERDUE'].median(),inplace=True)\n",
    "previous_balance['AMT_CREDIT_SUM_LIMIT'].fillna(previous_balance['AMT_CREDIT_SUM_LIMIT'].median(),inplace=True)"
   ]
  },
  {
   "cell_type": "code",
   "execution_count": 74,
   "metadata": {
    "id": "Iwr78pv0CuCv",
    "outputId": "c0059b12-00ca-4c62-f24d-2481733e7dba"
   },
   "outputs": [
    {
     "name": "stdout",
     "output_type": "stream",
     "text": [
      "<class 'pandas.core.frame.DataFrame'>\n",
      "Int64Index: 477067 entries, 0 to 477066\n",
      "Data columns (total 19 columns):\n",
      " #   Column                  Non-Null Count   Dtype  \n",
      "---  ------                  --------------   -----  \n",
      " 0   index                   477067 non-null  int64  \n",
      " 1   SK_ID_CURR              477067 non-null  int64  \n",
      " 2   SK_ID_BUREAU            477067 non-null  int64  \n",
      " 3   CREDIT_ACTIVE           477067 non-null  object \n",
      " 4   CREDIT_CURRENCY         477067 non-null  object \n",
      " 5   DAYS_CREDIT             477067 non-null  int64  \n",
      " 6   CREDIT_DAY_OVERDUE      477067 non-null  int64  \n",
      " 7   DAYS_CREDIT_ENDDATE     477067 non-null  float64\n",
      " 8   DAYS_ENDDATE_FACT       477067 non-null  float64\n",
      " 9   AMT_CREDIT_MAX_OVERDUE  477067 non-null  float64\n",
      " 10  CNT_CREDIT_PROLONG      477067 non-null  int64  \n",
      " 11  AMT_CREDIT_SUM          477067 non-null  float64\n",
      " 12  AMT_CREDIT_SUM_DEBT     477067 non-null  float64\n",
      " 13  AMT_CREDIT_SUM_LIMIT    477067 non-null  float64\n",
      " 14  AMT_CREDIT_SUM_OVERDUE  477067 non-null  float64\n",
      " 15  CREDIT_TYPE             477067 non-null  object \n",
      " 16  DAYS_CREDIT_UPDATE      477067 non-null  int64  \n",
      " 17  MONTHS_BALANCE          477067 non-null  int64  \n",
      " 18  STATUS                  477067 non-null  object \n",
      "dtypes: float64(7), int64(8), object(4)\n",
      "memory usage: 72.8+ MB\n"
     ]
    }
   ],
   "source": [
    "previous_balance.info()"
   ]
  },
  {
   "cell_type": "code",
   "execution_count": 75,
   "metadata": {
    "id": "76L6c-osCZ0y",
    "outputId": "7d78713c-85c4-425a-9c41-7403c524aa55"
   },
   "outputs": [
    {
     "data": {
      "text/html": [
       "<div>\n",
       "<style scoped>\n",
       "    .dataframe tbody tr th:only-of-type {\n",
       "        vertical-align: middle;\n",
       "    }\n",
       "\n",
       "    .dataframe tbody tr th {\n",
       "        vertical-align: top;\n",
       "    }\n",
       "\n",
       "    .dataframe thead th {\n",
       "        text-align: right;\n",
       "    }\n",
       "</style>\n",
       "<table border=\"1\" class=\"dataframe\">\n",
       "  <thead>\n",
       "    <tr style=\"text-align: right;\">\n",
       "      <th></th>\n",
       "      <th>index</th>\n",
       "      <th>SK_ID_CURR</th>\n",
       "      <th>SK_ID_BUREAU</th>\n",
       "      <th>CREDIT_ACTIVE</th>\n",
       "      <th>CREDIT_CURRENCY</th>\n",
       "      <th>DAYS_CREDIT</th>\n",
       "      <th>CREDIT_DAY_OVERDUE</th>\n",
       "      <th>DAYS_CREDIT_ENDDATE</th>\n",
       "      <th>DAYS_ENDDATE_FACT</th>\n",
       "      <th>AMT_CREDIT_MAX_OVERDUE</th>\n",
       "      <th>CNT_CREDIT_PROLONG</th>\n",
       "      <th>AMT_CREDIT_SUM</th>\n",
       "      <th>AMT_CREDIT_SUM_DEBT</th>\n",
       "      <th>AMT_CREDIT_SUM_LIMIT</th>\n",
       "      <th>AMT_CREDIT_SUM_OVERDUE</th>\n",
       "      <th>CREDIT_TYPE</th>\n",
       "      <th>DAYS_CREDIT_UPDATE</th>\n",
       "      <th>MONTHS_BALANCE</th>\n",
       "      <th>STATUS</th>\n",
       "    </tr>\n",
       "  </thead>\n",
       "  <tbody>\n",
       "    <tr>\n",
       "      <th>459703</th>\n",
       "      <td>1639151</td>\n",
       "      <td>388178</td>\n",
       "      <td>5548369</td>\n",
       "      <td>Closed</td>\n",
       "      <td>currency 1</td>\n",
       "      <td>-2588</td>\n",
       "      <td>0</td>\n",
       "      <td>-2374.0</td>\n",
       "      <td>-2375.0</td>\n",
       "      <td>0.000</td>\n",
       "      <td>0</td>\n",
       "      <td>49383.18</td>\n",
       "      <td>0.0</td>\n",
       "      <td>0.0</td>\n",
       "      <td>0.0</td>\n",
       "      <td>Consumer credit</td>\n",
       "      <td>-845</td>\n",
       "      <td>-78</td>\n",
       "      <td>0</td>\n",
       "    </tr>\n",
       "    <tr>\n",
       "      <th>121705</th>\n",
       "      <td>454419</td>\n",
       "      <td>151252</td>\n",
       "      <td>5035478</td>\n",
       "      <td>Closed</td>\n",
       "      <td>currency 1</td>\n",
       "      <td>-2841</td>\n",
       "      <td>0</td>\n",
       "      <td>-2720.0</td>\n",
       "      <td>-2749.0</td>\n",
       "      <td>4995.405</td>\n",
       "      <td>0</td>\n",
       "      <td>14188.59</td>\n",
       "      <td>0.0</td>\n",
       "      <td>0.0</td>\n",
       "      <td>0.0</td>\n",
       "      <td>Consumer credit</td>\n",
       "      <td>-2748</td>\n",
       "      <td>-84</td>\n",
       "      <td>C</td>\n",
       "    </tr>\n",
       "    <tr>\n",
       "      <th>376290</th>\n",
       "      <td>1337626</td>\n",
       "      <td>386752</td>\n",
       "      <td>6134325</td>\n",
       "      <td>Closed</td>\n",
       "      <td>currency 1</td>\n",
       "      <td>-2045</td>\n",
       "      <td>0</td>\n",
       "      <td>-1742.0</td>\n",
       "      <td>-1165.0</td>\n",
       "      <td>0.000</td>\n",
       "      <td>0</td>\n",
       "      <td>178879.50</td>\n",
       "      <td>0.0</td>\n",
       "      <td>0.0</td>\n",
       "      <td>0.0</td>\n",
       "      <td>Consumer credit</td>\n",
       "      <td>-1162</td>\n",
       "      <td>-58</td>\n",
       "      <td>0</td>\n",
       "    </tr>\n",
       "    <tr>\n",
       "      <th>292639</th>\n",
       "      <td>1010125</td>\n",
       "      <td>191933</td>\n",
       "      <td>5126468</td>\n",
       "      <td>Closed</td>\n",
       "      <td>currency 1</td>\n",
       "      <td>-1004</td>\n",
       "      <td>0</td>\n",
       "      <td>-637.0</td>\n",
       "      <td>-636.0</td>\n",
       "      <td>4127.940</td>\n",
       "      <td>0</td>\n",
       "      <td>45000.00</td>\n",
       "      <td>0.0</td>\n",
       "      <td>0.0</td>\n",
       "      <td>0.0</td>\n",
       "      <td>Consumer credit</td>\n",
       "      <td>-633</td>\n",
       "      <td>-32</td>\n",
       "      <td>0</td>\n",
       "    </tr>\n",
       "    <tr>\n",
       "      <th>41129</th>\n",
       "      <td>205600</td>\n",
       "      <td>308414</td>\n",
       "      <td>5837021</td>\n",
       "      <td>Closed</td>\n",
       "      <td>currency 1</td>\n",
       "      <td>-2676</td>\n",
       "      <td>0</td>\n",
       "      <td>-2447.0</td>\n",
       "      <td>-2447.0</td>\n",
       "      <td>0.000</td>\n",
       "      <td>0</td>\n",
       "      <td>324000.00</td>\n",
       "      <td>0.0</td>\n",
       "      <td>0.0</td>\n",
       "      <td>0.0</td>\n",
       "      <td>Consumer credit</td>\n",
       "      <td>-309</td>\n",
       "      <td>-53</td>\n",
       "      <td>C</td>\n",
       "    </tr>\n",
       "  </tbody>\n",
       "</table>\n",
       "</div>"
      ],
      "text/plain": [
       "          index  SK_ID_CURR  SK_ID_BUREAU CREDIT_ACTIVE CREDIT_CURRENCY  \\\n",
       "459703  1639151      388178       5548369        Closed      currency 1   \n",
       "121705   454419      151252       5035478        Closed      currency 1   \n",
       "376290  1337626      386752       6134325        Closed      currency 1   \n",
       "292639  1010125      191933       5126468        Closed      currency 1   \n",
       "41129    205600      308414       5837021        Closed      currency 1   \n",
       "\n",
       "        DAYS_CREDIT  CREDIT_DAY_OVERDUE  DAYS_CREDIT_ENDDATE  \\\n",
       "459703        -2588                   0              -2374.0   \n",
       "121705        -2841                   0              -2720.0   \n",
       "376290        -2045                   0              -1742.0   \n",
       "292639        -1004                   0               -637.0   \n",
       "41129         -2676                   0              -2447.0   \n",
       "\n",
       "        DAYS_ENDDATE_FACT  AMT_CREDIT_MAX_OVERDUE  CNT_CREDIT_PROLONG  \\\n",
       "459703            -2375.0                   0.000                   0   \n",
       "121705            -2749.0                4995.405                   0   \n",
       "376290            -1165.0                   0.000                   0   \n",
       "292639             -636.0                4127.940                   0   \n",
       "41129             -2447.0                   0.000                   0   \n",
       "\n",
       "        AMT_CREDIT_SUM  AMT_CREDIT_SUM_DEBT  AMT_CREDIT_SUM_LIMIT  \\\n",
       "459703        49383.18                  0.0                   0.0   \n",
       "121705        14188.59                  0.0                   0.0   \n",
       "376290       178879.50                  0.0                   0.0   \n",
       "292639        45000.00                  0.0                   0.0   \n",
       "41129        324000.00                  0.0                   0.0   \n",
       "\n",
       "        AMT_CREDIT_SUM_OVERDUE      CREDIT_TYPE  DAYS_CREDIT_UPDATE  \\\n",
       "459703                     0.0  Consumer credit                -845   \n",
       "121705                     0.0  Consumer credit               -2748   \n",
       "376290                     0.0  Consumer credit               -1162   \n",
       "292639                     0.0  Consumer credit                -633   \n",
       "41129                      0.0  Consumer credit                -309   \n",
       "\n",
       "        MONTHS_BALANCE STATUS  \n",
       "459703             -78      0  \n",
       "121705             -84      C  \n",
       "376290             -58      0  \n",
       "292639             -32      0  \n",
       "41129              -53      C  "
      ]
     },
     "execution_count": 75,
     "metadata": {},
     "output_type": "execute_result"
    }
   ],
   "source": [
    "previous_balance.sample(5)"
   ]
  },
  {
   "cell_type": "markdown",
   "metadata": {
    "id": "Jcgli_aQJWHf"
   },
   "source": [
    "#### Feature engineering / extraction\n"
   ]
  },
  {
   "cell_type": "code",
   "execution_count": 76,
   "metadata": {
    "id": "ikh_LOXMHzO6",
    "outputId": "27f051f8-8a4b-4635-9672-62023a2d3543"
   },
   "outputs": [
    {
     "data": {
      "text/html": [
       "<div>\n",
       "<style scoped>\n",
       "    .dataframe tbody tr th:only-of-type {\n",
       "        vertical-align: middle;\n",
       "    }\n",
       "\n",
       "    .dataframe tbody tr th {\n",
       "        vertical-align: top;\n",
       "    }\n",
       "\n",
       "    .dataframe thead th {\n",
       "        text-align: right;\n",
       "    }\n",
       "</style>\n",
       "<table border=\"1\" class=\"dataframe\">\n",
       "  <thead>\n",
       "    <tr style=\"text-align: right;\">\n",
       "      <th></th>\n",
       "      <th>AMT_CREDIT_SUM_LIMIT</th>\n",
       "    </tr>\n",
       "  </thead>\n",
       "  <tbody>\n",
       "    <tr>\n",
       "      <th>count</th>\n",
       "      <td>4.770670e+05</td>\n",
       "    </tr>\n",
       "    <tr>\n",
       "      <th>mean</th>\n",
       "      <td>2.699912e+03</td>\n",
       "    </tr>\n",
       "    <tr>\n",
       "      <th>std</th>\n",
       "      <td>2.732400e+04</td>\n",
       "    </tr>\n",
       "    <tr>\n",
       "      <th>min</th>\n",
       "      <td>-2.379375e+03</td>\n",
       "    </tr>\n",
       "    <tr>\n",
       "      <th>25%</th>\n",
       "      <td>0.000000e+00</td>\n",
       "    </tr>\n",
       "    <tr>\n",
       "      <th>50%</th>\n",
       "      <td>0.000000e+00</td>\n",
       "    </tr>\n",
       "    <tr>\n",
       "      <th>75%</th>\n",
       "      <td>0.000000e+00</td>\n",
       "    </tr>\n",
       "    <tr>\n",
       "      <th>max</th>\n",
       "      <td>1.138500e+06</td>\n",
       "    </tr>\n",
       "  </tbody>\n",
       "</table>\n",
       "</div>"
      ],
      "text/plain": [
       "       AMT_CREDIT_SUM_LIMIT\n",
       "count          4.770670e+05\n",
       "mean           2.699912e+03\n",
       "std            2.732400e+04\n",
       "min           -2.379375e+03\n",
       "25%            0.000000e+00\n",
       "50%            0.000000e+00\n",
       "75%            0.000000e+00\n",
       "max            1.138500e+06"
      ]
     },
     "execution_count": 76,
     "metadata": {},
     "output_type": "execute_result"
    }
   ],
   "source": [
    "previous_balance[['AMT_CREDIT_SUM_LIMIT']].describe()"
   ]
  },
  {
   "cell_type": "code",
   "execution_count": 77,
   "metadata": {
    "id": "rY80l743IJF6"
   },
   "outputs": [],
   "source": [
    "def credit_sum_limit(credit_limit):\n",
    "  if credit_limit > 0:\n",
    "    limit_above_zero = 1\n",
    "  else:\n",
    "    limit_above_zero = 0\n",
    "  return limit_above_zero"
   ]
  },
  {
   "cell_type": "code",
   "execution_count": 78,
   "metadata": {
    "id": "0bcUo1PGIJp1"
   },
   "outputs": [],
   "source": [
    "previous_balance['CREDIT_LIMIT_ABOVE_ZERO'] = previous_balance['AMT_CREDIT_SUM_LIMIT'].apply(credit_sum_limit)"
   ]
  },
  {
   "cell_type": "code",
   "execution_count": 79,
   "metadata": {
    "id": "QYtRkNrFIyqu",
    "outputId": "2a30af49-e00e-4897-f10c-67fb9c02e487"
   },
   "outputs": [
    {
     "data": {
      "text/plain": [
       "0    463884\n",
       "1     13183\n",
       "Name: CREDIT_LIMIT_ABOVE_ZERO, dtype: int64"
      ]
     },
     "execution_count": 79,
     "metadata": {},
     "output_type": "execute_result"
    }
   ],
   "source": [
    "previous_balance['CREDIT_LIMIT_ABOVE_ZERO'].value_counts()"
   ]
  },
  {
   "cell_type": "code",
   "execution_count": 80,
   "metadata": {
    "id": "GvVTMr8vFkuJ",
    "outputId": "fd625c93-98e4-455b-89a0-238e3c342aff"
   },
   "outputs": [
    {
     "data": {
      "text/html": [
       "<div>\n",
       "<style scoped>\n",
       "    .dataframe tbody tr th:only-of-type {\n",
       "        vertical-align: middle;\n",
       "    }\n",
       "\n",
       "    .dataframe tbody tr th {\n",
       "        vertical-align: top;\n",
       "    }\n",
       "\n",
       "    .dataframe thead th {\n",
       "        text-align: right;\n",
       "    }\n",
       "</style>\n",
       "<table border=\"1\" class=\"dataframe\">\n",
       "  <thead>\n",
       "    <tr style=\"text-align: right;\">\n",
       "      <th></th>\n",
       "      <th>AMT_CREDIT_SUM_DEBT</th>\n",
       "    </tr>\n",
       "  </thead>\n",
       "  <tbody>\n",
       "    <tr>\n",
       "      <th>count</th>\n",
       "      <td>4.770670e+05</td>\n",
       "    </tr>\n",
       "    <tr>\n",
       "      <th>mean</th>\n",
       "      <td>7.011157e+04</td>\n",
       "    </tr>\n",
       "    <tr>\n",
       "      <th>std</th>\n",
       "      <td>4.158705e+05</td>\n",
       "    </tr>\n",
       "    <tr>\n",
       "      <th>min</th>\n",
       "      <td>-5.523840e+03</td>\n",
       "    </tr>\n",
       "    <tr>\n",
       "      <th>25%</th>\n",
       "      <td>0.000000e+00</td>\n",
       "    </tr>\n",
       "    <tr>\n",
       "      <th>50%</th>\n",
       "      <td>0.000000e+00</td>\n",
       "    </tr>\n",
       "    <tr>\n",
       "      <th>75%</th>\n",
       "      <td>0.000000e+00</td>\n",
       "    </tr>\n",
       "    <tr>\n",
       "      <th>max</th>\n",
       "      <td>1.876488e+07</td>\n",
       "    </tr>\n",
       "  </tbody>\n",
       "</table>\n",
       "</div>"
      ],
      "text/plain": [
       "       AMT_CREDIT_SUM_DEBT\n",
       "count         4.770670e+05\n",
       "mean          7.011157e+04\n",
       "std           4.158705e+05\n",
       "min          -5.523840e+03\n",
       "25%           0.000000e+00\n",
       "50%           0.000000e+00\n",
       "75%           0.000000e+00\n",
       "max           1.876488e+07"
      ]
     },
     "execution_count": 80,
     "metadata": {},
     "output_type": "execute_result"
    }
   ],
   "source": [
    "previous_balance[['AMT_CREDIT_SUM_DEBT']].describe()"
   ]
  },
  {
   "cell_type": "code",
   "execution_count": 81,
   "metadata": {
    "id": "bEzQ3hOCDQ-k"
   },
   "outputs": [],
   "source": [
    "def has_debt(debt_amount):\n",
    "  if debt_amount > 0:\n",
    "    has_debt = 1\n",
    "  else:\n",
    "    has_debt = 0\n",
    "  return has_debt"
   ]
  },
  {
   "cell_type": "code",
   "execution_count": 82,
   "metadata": {
    "id": "zrd_b9m5F3Fq"
   },
   "outputs": [],
   "source": [
    "previous_balance[\"HAS_DEBT\"] = previous_balance['AMT_CREDIT_SUM_DEBT'].apply(has_debt)"
   ]
  },
  {
   "cell_type": "code",
   "execution_count": 83,
   "metadata": {
    "id": "dm4Ccj4aG3xs",
    "outputId": "1516acad-ce25-4805-d5a0-8afc171fd8d4"
   },
   "outputs": [
    {
     "data": {
      "text/plain": [
       "count    477067.000000\n",
       "mean          2.394704\n",
       "std         160.722013\n",
       "min           0.000000\n",
       "25%           0.000000\n",
       "50%           0.000000\n",
       "75%           0.000000\n",
       "max       22581.000000\n",
       "Name: AMT_CREDIT_SUM_OVERDUE, dtype: float64"
      ]
     },
     "execution_count": 83,
     "metadata": {},
     "output_type": "execute_result"
    }
   ],
   "source": [
    "previous_balance['AMT_CREDIT_SUM_OVERDUE'].describe()"
   ]
  },
  {
   "cell_type": "code",
   "execution_count": 84,
   "metadata": {
    "id": "ETtA90I2Gcqp"
   },
   "outputs": [],
   "source": [
    "def over_due_debt(debt_amount):\n",
    "  if debt_amount > 0:\n",
    "    debt_overdue = 1\n",
    "  else:\n",
    "    debt_overdue = 0\n",
    "  return debt_overdue"
   ]
  },
  {
   "cell_type": "code",
   "execution_count": 85,
   "metadata": {
    "id": "2_F7LjJiGrDz"
   },
   "outputs": [],
   "source": [
    "previous_balance['HAS_OVERDUE_DEBT'] = previous_balance['AMT_CREDIT_SUM_OVERDUE'].apply(over_due_debt)"
   ]
  },
  {
   "cell_type": "code",
   "execution_count": 86,
   "metadata": {
    "id": "gJf2D8gbGyHs",
    "outputId": "64a0f3eb-308e-4b17-c876-884f452fb3ce"
   },
   "outputs": [
    {
     "data": {
      "text/plain": [
       "0    476350\n",
       "1       717\n",
       "Name: HAS_OVERDUE_DEBT, dtype: int64"
      ]
     },
     "execution_count": 86,
     "metadata": {},
     "output_type": "execute_result"
    }
   ],
   "source": [
    "previous_balance['HAS_OVERDUE_DEBT'].value_counts()"
   ]
  },
  {
   "cell_type": "markdown",
   "metadata": {
    "id": "SO8je1TkIlq8"
   },
   "source": [
    "### Credit card balance table"
   ]
  },
  {
   "cell_type": "markdown",
   "metadata": {
    "id": "Hl948QkBJno6"
   },
   "source": [
    "Monthly balance snapshots of previous credit cards that the applicant has with Home Credit.\n",
    "This table has one row for each month of history of every previous credit in Home Credit (consumer credit and cash loans) related to loans in our sample – i.e. the table has (#loans in sample * # of relative previous credit cards * # of months where we have some history observable for the previous credit card) rows."
   ]
  },
  {
   "cell_type": "code",
   "execution_count": 87,
   "metadata": {
    "id": "hIXLcqqxcikv",
    "outputId": "6475a6f4-b084-4a42-e19d-d070ca6b9631"
   },
   "outputs": [
    {
     "data": {
      "text/html": [
       "<div>\n",
       "<style scoped>\n",
       "    .dataframe tbody tr th:only-of-type {\n",
       "        vertical-align: middle;\n",
       "    }\n",
       "\n",
       "    .dataframe tbody tr th {\n",
       "        vertical-align: top;\n",
       "    }\n",
       "\n",
       "    .dataframe thead th {\n",
       "        text-align: right;\n",
       "    }\n",
       "</style>\n",
       "<table border=\"1\" class=\"dataframe\">\n",
       "  <thead>\n",
       "    <tr style=\"text-align: right;\">\n",
       "      <th></th>\n",
       "      <th>SK_ID_PREV</th>\n",
       "      <th>SK_ID_CURR</th>\n",
       "      <th>MONTHS_BALANCE</th>\n",
       "      <th>AMT_BALANCE</th>\n",
       "      <th>AMT_CREDIT_LIMIT_ACTUAL</th>\n",
       "      <th>AMT_DRAWINGS_ATM_CURRENT</th>\n",
       "      <th>AMT_DRAWINGS_CURRENT</th>\n",
       "      <th>AMT_DRAWINGS_OTHER_CURRENT</th>\n",
       "      <th>AMT_DRAWINGS_POS_CURRENT</th>\n",
       "      <th>AMT_INST_MIN_REGULARITY</th>\n",
       "      <th>...</th>\n",
       "      <th>AMT_RECIVABLE</th>\n",
       "      <th>AMT_TOTAL_RECEIVABLE</th>\n",
       "      <th>CNT_DRAWINGS_ATM_CURRENT</th>\n",
       "      <th>CNT_DRAWINGS_CURRENT</th>\n",
       "      <th>CNT_DRAWINGS_OTHER_CURRENT</th>\n",
       "      <th>CNT_DRAWINGS_POS_CURRENT</th>\n",
       "      <th>CNT_INSTALMENT_MATURE_CUM</th>\n",
       "      <th>NAME_CONTRACT_STATUS</th>\n",
       "      <th>SK_DPD</th>\n",
       "      <th>SK_DPD_DEF</th>\n",
       "    </tr>\n",
       "  </thead>\n",
       "  <tbody>\n",
       "    <tr>\n",
       "      <th>3719406</th>\n",
       "      <td>1053117</td>\n",
       "      <td>314608</td>\n",
       "      <td>-42</td>\n",
       "      <td>0.0</td>\n",
       "      <td>0</td>\n",
       "      <td>0.0</td>\n",
       "      <td>0.0</td>\n",
       "      <td>0.0</td>\n",
       "      <td>0.0</td>\n",
       "      <td>0.0</td>\n",
       "      <td>...</td>\n",
       "      <td>0.0</td>\n",
       "      <td>0.0</td>\n",
       "      <td>0.0</td>\n",
       "      <td>0</td>\n",
       "      <td>0.0</td>\n",
       "      <td>0.0</td>\n",
       "      <td>3.0</td>\n",
       "      <td>Active</td>\n",
       "      <td>0</td>\n",
       "      <td>0</td>\n",
       "    </tr>\n",
       "  </tbody>\n",
       "</table>\n",
       "<p>1 rows × 23 columns</p>\n",
       "</div>"
      ],
      "text/plain": [
       "         SK_ID_PREV  SK_ID_CURR  MONTHS_BALANCE  AMT_BALANCE  \\\n",
       "3719406     1053117      314608             -42          0.0   \n",
       "\n",
       "         AMT_CREDIT_LIMIT_ACTUAL  AMT_DRAWINGS_ATM_CURRENT  \\\n",
       "3719406                        0                       0.0   \n",
       "\n",
       "         AMT_DRAWINGS_CURRENT  AMT_DRAWINGS_OTHER_CURRENT  \\\n",
       "3719406                   0.0                         0.0   \n",
       "\n",
       "         AMT_DRAWINGS_POS_CURRENT  AMT_INST_MIN_REGULARITY  ...  \\\n",
       "3719406                       0.0                      0.0  ...   \n",
       "\n",
       "         AMT_RECIVABLE  AMT_TOTAL_RECEIVABLE  CNT_DRAWINGS_ATM_CURRENT  \\\n",
       "3719406            0.0                   0.0                       0.0   \n",
       "\n",
       "         CNT_DRAWINGS_CURRENT  CNT_DRAWINGS_OTHER_CURRENT  \\\n",
       "3719406                     0                         0.0   \n",
       "\n",
       "         CNT_DRAWINGS_POS_CURRENT  CNT_INSTALMENT_MATURE_CUM  \\\n",
       "3719406                       0.0                        3.0   \n",
       "\n",
       "         NAME_CONTRACT_STATUS  SK_DPD  SK_DPD_DEF  \n",
       "3719406                Active       0           0  \n",
       "\n",
       "[1 rows x 23 columns]"
      ]
     },
     "execution_count": 87,
     "metadata": {},
     "output_type": "execute_result"
    }
   ],
   "source": [
    "credit_card_balance = pd.read_csv(\"credit_card_balance.csv\")\n",
    "credit_card_balance.sample()"
   ]
  },
  {
   "cell_type": "code",
   "execution_count": 88,
   "metadata": {
    "id": "PH8aqK2TgZAl",
    "outputId": "47ac8e4d-088d-4019-892b-fb156fe50e99"
   },
   "outputs": [
    {
     "data": {
      "text/html": [
       "<div>\n",
       "<style scoped>\n",
       "    .dataframe tbody tr th:only-of-type {\n",
       "        vertical-align: middle;\n",
       "    }\n",
       "\n",
       "    .dataframe tbody tr th {\n",
       "        vertical-align: top;\n",
       "    }\n",
       "\n",
       "    .dataframe thead th {\n",
       "        text-align: right;\n",
       "    }\n",
       "</style>\n",
       "<table border=\"1\" class=\"dataframe\">\n",
       "  <thead>\n",
       "    <tr style=\"text-align: right;\">\n",
       "      <th></th>\n",
       "      <th>SK_ID_PREV</th>\n",
       "      <th>SK_ID_CURR</th>\n",
       "      <th>MONTHS_BALANCE</th>\n",
       "      <th>AMT_BALANCE</th>\n",
       "      <th>AMT_CREDIT_LIMIT_ACTUAL</th>\n",
       "      <th>AMT_DRAWINGS_ATM_CURRENT</th>\n",
       "      <th>AMT_DRAWINGS_CURRENT</th>\n",
       "      <th>AMT_DRAWINGS_OTHER_CURRENT</th>\n",
       "      <th>AMT_DRAWINGS_POS_CURRENT</th>\n",
       "      <th>AMT_INST_MIN_REGULARITY</th>\n",
       "      <th>...</th>\n",
       "      <th>AMT_RECIVABLE</th>\n",
       "      <th>AMT_TOTAL_RECEIVABLE</th>\n",
       "      <th>CNT_DRAWINGS_ATM_CURRENT</th>\n",
       "      <th>CNT_DRAWINGS_CURRENT</th>\n",
       "      <th>CNT_DRAWINGS_OTHER_CURRENT</th>\n",
       "      <th>CNT_DRAWINGS_POS_CURRENT</th>\n",
       "      <th>CNT_INSTALMENT_MATURE_CUM</th>\n",
       "      <th>NAME_CONTRACT_STATUS</th>\n",
       "      <th>SK_DPD</th>\n",
       "      <th>SK_DPD_DEF</th>\n",
       "    </tr>\n",
       "  </thead>\n",
       "  <tbody>\n",
       "    <tr>\n",
       "      <th>57</th>\n",
       "      <td>2652291</td>\n",
       "      <td>217747</td>\n",
       "      <td>-1</td>\n",
       "      <td>199062.900</td>\n",
       "      <td>202500</td>\n",
       "      <td>0.0</td>\n",
       "      <td>0.000</td>\n",
       "      <td>0.0</td>\n",
       "      <td>0.000</td>\n",
       "      <td>10295.64</td>\n",
       "      <td>...</td>\n",
       "      <td>199062.90</td>\n",
       "      <td>199062.90</td>\n",
       "      <td>0.0</td>\n",
       "      <td>0</td>\n",
       "      <td>0.0</td>\n",
       "      <td>0.0</td>\n",
       "      <td>7.0</td>\n",
       "      <td>Active</td>\n",
       "      <td>0</td>\n",
       "      <td>0</td>\n",
       "    </tr>\n",
       "    <tr>\n",
       "      <th>69</th>\n",
       "      <td>1079749</td>\n",
       "      <td>140209</td>\n",
       "      <td>-3</td>\n",
       "      <td>0.000</td>\n",
       "      <td>112500</td>\n",
       "      <td>0.0</td>\n",
       "      <td>0.000</td>\n",
       "      <td>0.0</td>\n",
       "      <td>0.000</td>\n",
       "      <td>0.00</td>\n",
       "      <td>...</td>\n",
       "      <td>0.00</td>\n",
       "      <td>0.00</td>\n",
       "      <td>0.0</td>\n",
       "      <td>0</td>\n",
       "      <td>0.0</td>\n",
       "      <td>0.0</td>\n",
       "      <td>35.0</td>\n",
       "      <td>Completed</td>\n",
       "      <td>0</td>\n",
       "      <td>0</td>\n",
       "    </tr>\n",
       "    <tr>\n",
       "      <th>150</th>\n",
       "      <td>1130058</td>\n",
       "      <td>416736</td>\n",
       "      <td>-3</td>\n",
       "      <td>0.000</td>\n",
       "      <td>90000</td>\n",
       "      <td>NaN</td>\n",
       "      <td>0.000</td>\n",
       "      <td>NaN</td>\n",
       "      <td>NaN</td>\n",
       "      <td>0.00</td>\n",
       "      <td>...</td>\n",
       "      <td>0.00</td>\n",
       "      <td>0.00</td>\n",
       "      <td>NaN</td>\n",
       "      <td>0</td>\n",
       "      <td>NaN</td>\n",
       "      <td>NaN</td>\n",
       "      <td>0.0</td>\n",
       "      <td>Active</td>\n",
       "      <td>0</td>\n",
       "      <td>0</td>\n",
       "    </tr>\n",
       "    <tr>\n",
       "      <th>211</th>\n",
       "      <td>2536051</td>\n",
       "      <td>190803</td>\n",
       "      <td>-3</td>\n",
       "      <td>0.000</td>\n",
       "      <td>45000</td>\n",
       "      <td>0.0</td>\n",
       "      <td>0.000</td>\n",
       "      <td>0.0</td>\n",
       "      <td>0.000</td>\n",
       "      <td>0.00</td>\n",
       "      <td>...</td>\n",
       "      <td>0.00</td>\n",
       "      <td>0.00</td>\n",
       "      <td>0.0</td>\n",
       "      <td>0</td>\n",
       "      <td>0.0</td>\n",
       "      <td>0.0</td>\n",
       "      <td>25.0</td>\n",
       "      <td>Active</td>\n",
       "      <td>0</td>\n",
       "      <td>0</td>\n",
       "    </tr>\n",
       "    <tr>\n",
       "      <th>241</th>\n",
       "      <td>1950682</td>\n",
       "      <td>400093</td>\n",
       "      <td>-1</td>\n",
       "      <td>166443.255</td>\n",
       "      <td>450000</td>\n",
       "      <td>0.0</td>\n",
       "      <td>3885.615</td>\n",
       "      <td>0.0</td>\n",
       "      <td>3885.615</td>\n",
       "      <td>7502.58</td>\n",
       "      <td>...</td>\n",
       "      <td>165209.85</td>\n",
       "      <td>165209.85</td>\n",
       "      <td>0.0</td>\n",
       "      <td>1</td>\n",
       "      <td>0.0</td>\n",
       "      <td>1.0</td>\n",
       "      <td>24.0</td>\n",
       "      <td>Active</td>\n",
       "      <td>0</td>\n",
       "      <td>0</td>\n",
       "    </tr>\n",
       "  </tbody>\n",
       "</table>\n",
       "<p>5 rows × 23 columns</p>\n",
       "</div>"
      ],
      "text/plain": [
       "     SK_ID_PREV  SK_ID_CURR  MONTHS_BALANCE  AMT_BALANCE  \\\n",
       "57      2652291      217747              -1   199062.900   \n",
       "69      1079749      140209              -3        0.000   \n",
       "150     1130058      416736              -3        0.000   \n",
       "211     2536051      190803              -3        0.000   \n",
       "241     1950682      400093              -1   166443.255   \n",
       "\n",
       "     AMT_CREDIT_LIMIT_ACTUAL  AMT_DRAWINGS_ATM_CURRENT  AMT_DRAWINGS_CURRENT  \\\n",
       "57                    202500                       0.0                 0.000   \n",
       "69                    112500                       0.0                 0.000   \n",
       "150                    90000                       NaN                 0.000   \n",
       "211                    45000                       0.0                 0.000   \n",
       "241                   450000                       0.0              3885.615   \n",
       "\n",
       "     AMT_DRAWINGS_OTHER_CURRENT  AMT_DRAWINGS_POS_CURRENT  \\\n",
       "57                          0.0                     0.000   \n",
       "69                          0.0                     0.000   \n",
       "150                         NaN                       NaN   \n",
       "211                         0.0                     0.000   \n",
       "241                         0.0                  3885.615   \n",
       "\n",
       "     AMT_INST_MIN_REGULARITY  ...  AMT_RECIVABLE  AMT_TOTAL_RECEIVABLE  \\\n",
       "57                  10295.64  ...      199062.90             199062.90   \n",
       "69                      0.00  ...           0.00                  0.00   \n",
       "150                     0.00  ...           0.00                  0.00   \n",
       "211                     0.00  ...           0.00                  0.00   \n",
       "241                  7502.58  ...      165209.85             165209.85   \n",
       "\n",
       "     CNT_DRAWINGS_ATM_CURRENT  CNT_DRAWINGS_CURRENT  \\\n",
       "57                        0.0                     0   \n",
       "69                        0.0                     0   \n",
       "150                       NaN                     0   \n",
       "211                       0.0                     0   \n",
       "241                       0.0                     1   \n",
       "\n",
       "     CNT_DRAWINGS_OTHER_CURRENT  CNT_DRAWINGS_POS_CURRENT  \\\n",
       "57                          0.0                       0.0   \n",
       "69                          0.0                       0.0   \n",
       "150                         NaN                       NaN   \n",
       "211                         0.0                       0.0   \n",
       "241                         0.0                       1.0   \n",
       "\n",
       "     CNT_INSTALMENT_MATURE_CUM  NAME_CONTRACT_STATUS  SK_DPD  SK_DPD_DEF  \n",
       "57                         7.0                Active       0           0  \n",
       "69                        35.0             Completed       0           0  \n",
       "150                        0.0                Active       0           0  \n",
       "211                       25.0                Active       0           0  \n",
       "241                       24.0                Active       0           0  \n",
       "\n",
       "[5 rows x 23 columns]"
      ]
     },
     "execution_count": 88,
     "metadata": {},
     "output_type": "execute_result"
    }
   ],
   "source": [
    "credit_card_balance_sample = credit_card_balance[ credit_card_balance['SK_ID_CURR'].isin(loan_ids)]\n",
    "credit_card_balance_sample.head()"
   ]
  },
  {
   "cell_type": "code",
   "execution_count": 89,
   "metadata": {},
   "outputs": [],
   "source": [
    "credit_card_balance_sample.reset_index(inplace=True)"
   ]
  },
  {
   "cell_type": "code",
   "execution_count": 90,
   "metadata": {
    "id": "3qnJDOiII0I5"
   },
   "outputs": [],
   "source": [
    "credit_card_balance_sample.to_csv(\"credit_samples/credit_card_balance.csv\", index=False)"
   ]
  },
  {
   "cell_type": "code",
   "execution_count": 91,
   "metadata": {
    "id": "rWMcl3n9gZOw",
    "outputId": "97a5a049-4a35-40fa-d087-9cf481bff222"
   },
   "outputs": [],
   "source": [
    "# credit_card_balance_sample.info()"
   ]
  },
  {
   "cell_type": "code",
   "execution_count": 92,
   "metadata": {
    "id": "mmmbj7VF-aUg",
    "outputId": "cbc9ac5a-e3e6-48a6-9462-7d2632cdbbc7"
   },
   "outputs": [
    {
     "data": {
      "text/plain": [
       "Index(['AMT_DRAWINGS_ATM_CURRENT', 'AMT_DRAWINGS_OTHER_CURRENT',\n",
       "       'AMT_DRAWINGS_POS_CURRENT', 'AMT_INST_MIN_REGULARITY',\n",
       "       'AMT_PAYMENT_CURRENT', 'CNT_DRAWINGS_ATM_CURRENT',\n",
       "       'CNT_DRAWINGS_OTHER_CURRENT', 'CNT_DRAWINGS_POS_CURRENT',\n",
       "       'CNT_INSTALMENT_MATURE_CUM'],\n",
       "      dtype='object')"
      ]
     },
     "execution_count": 92,
     "metadata": {},
     "output_type": "execute_result"
    }
   ],
   "source": [
    "credit_card_balance_sample.columns[credit_card_balance_sample.isnull().any()]"
   ]
  },
  {
   "cell_type": "code",
   "execution_count": 93,
   "metadata": {
    "id": "Pfp0DVPE-2FX",
    "outputId": "895fcb48-46ff-41ca-b01a-ea6afa46af47"
   },
   "outputs": [],
   "source": [
    "credit_card_balance_sample['AMT_DRAWINGS_ATM_CURRENT'].fillna(credit_card_balance_sample['AMT_DRAWINGS_ATM_CURRENT'].median(),inplace=True)\n",
    "credit_card_balance_sample['AMT_DRAWINGS_POS_CURRENT'].fillna(credit_card_balance_sample['AMT_DRAWINGS_POS_CURRENT'].median(),inplace=True)\n",
    "credit_card_balance_sample['AMT_DRAWINGS_POS_CURRENT'].fillna(credit_card_balance_sample['AMT_DRAWINGS_POS_CURRENT'].median(),inplace=True)\n",
    "credit_card_balance_sample['AMT_INST_MIN_REGULARITY'].fillna(credit_card_balance_sample['AMT_INST_MIN_REGULARITY'].median(),inplace=True)\n",
    "credit_card_balance_sample['AMT_PAYMENT_CURRENT'].fillna(credit_card_balance_sample['AMT_PAYMENT_CURRENT'].median(),inplace=True)\n",
    "credit_card_balance_sample['CNT_DRAWINGS_ATM_CURRENT'].fillna(credit_card_balance_sample['CNT_DRAWINGS_ATM_CURRENT'].median(),inplace=True)\n",
    "credit_card_balance_sample['CNT_DRAWINGS_OTHER_CURRENT'].fillna(credit_card_balance_sample['CNT_DRAWINGS_OTHER_CURRENT'].median(),inplace=True)\n",
    "credit_card_balance_sample['CNT_DRAWINGS_POS_CURRENT'].fillna(credit_card_balance_sample['CNT_DRAWINGS_POS_CURRENT'].median(),inplace=True)\n",
    "credit_card_balance_sample['CNT_INSTALMENT_MATURE_CUM'].fillna(credit_card_balance_sample['CNT_INSTALMENT_MATURE_CUM'].median(),inplace=True)\n",
    "credit_card_balance_sample['AMT_DRAWINGS_OTHER_CURRENT'].fillna(credit_card_balance_sample['AMT_DRAWINGS_OTHER_CURRENT'].median(),inplace=True)\n"
   ]
  },
  {
   "cell_type": "code",
   "execution_count": 94,
   "metadata": {
    "id": "BeRdPwY-Lmrm",
    "outputId": "bbad10fa-1608-4e4f-dd4c-796420345679"
   },
   "outputs": [],
   "source": [
    "credit_card_balance_sample.rename(columns={\"MONTHS_BALANCE\": \"CREDIT_MONTHS_BALANCE\",\n",
    "                                           \"NAME_CONTRACT_STATUS\":\"CREDIT_NAME_CONTRACT_STATUS\",\n",
    "                                           \"SK_DPD\":\"CREDIT_SK_DPD\",\n",
    "                                           \"SK_DPD_DEF\":\"CURRENT_SK_DPD_DEF\",\n",
    "                                           },inplace=True)"
   ]
  },
  {
   "cell_type": "markdown",
   "metadata": {
    "id": "fpnojCwYKCco"
   },
   "source": [
    "#### Feature engineering / extraction"
   ]
  },
  {
   "cell_type": "code",
   "execution_count": 95,
   "metadata": {
    "id": "oeYTYiYXKHVL",
    "outputId": "0688c649-8a7e-4f2e-ca29-656ccf8cada4"
   },
   "outputs": [
    {
     "data": {
      "text/html": [
       "<div>\n",
       "<style scoped>\n",
       "    .dataframe tbody tr th:only-of-type {\n",
       "        vertical-align: middle;\n",
       "    }\n",
       "\n",
       "    .dataframe tbody tr th {\n",
       "        vertical-align: top;\n",
       "    }\n",
       "\n",
       "    .dataframe thead th {\n",
       "        text-align: right;\n",
       "    }\n",
       "</style>\n",
       "<table border=\"1\" class=\"dataframe\">\n",
       "  <thead>\n",
       "    <tr style=\"text-align: right;\">\n",
       "      <th></th>\n",
       "      <th>index</th>\n",
       "      <th>SK_ID_PREV</th>\n",
       "      <th>SK_ID_CURR</th>\n",
       "      <th>CREDIT_MONTHS_BALANCE</th>\n",
       "      <th>AMT_BALANCE</th>\n",
       "      <th>AMT_CREDIT_LIMIT_ACTUAL</th>\n",
       "      <th>AMT_DRAWINGS_ATM_CURRENT</th>\n",
       "      <th>AMT_DRAWINGS_CURRENT</th>\n",
       "      <th>AMT_DRAWINGS_OTHER_CURRENT</th>\n",
       "      <th>AMT_DRAWINGS_POS_CURRENT</th>\n",
       "      <th>...</th>\n",
       "      <th>AMT_RECIVABLE</th>\n",
       "      <th>AMT_TOTAL_RECEIVABLE</th>\n",
       "      <th>CNT_DRAWINGS_ATM_CURRENT</th>\n",
       "      <th>CNT_DRAWINGS_CURRENT</th>\n",
       "      <th>CNT_DRAWINGS_OTHER_CURRENT</th>\n",
       "      <th>CNT_DRAWINGS_POS_CURRENT</th>\n",
       "      <th>CNT_INSTALMENT_MATURE_CUM</th>\n",
       "      <th>CREDIT_NAME_CONTRACT_STATUS</th>\n",
       "      <th>CREDIT_SK_DPD</th>\n",
       "      <th>CURRENT_SK_DPD_DEF</th>\n",
       "    </tr>\n",
       "  </thead>\n",
       "  <tbody>\n",
       "    <tr>\n",
       "      <th>0</th>\n",
       "      <td>57</td>\n",
       "      <td>2652291</td>\n",
       "      <td>217747</td>\n",
       "      <td>-1</td>\n",
       "      <td>199062.900</td>\n",
       "      <td>202500</td>\n",
       "      <td>0.0</td>\n",
       "      <td>0.000</td>\n",
       "      <td>0.0</td>\n",
       "      <td>0.000</td>\n",
       "      <td>...</td>\n",
       "      <td>199062.90</td>\n",
       "      <td>199062.90</td>\n",
       "      <td>0.0</td>\n",
       "      <td>0</td>\n",
       "      <td>0.0</td>\n",
       "      <td>0.0</td>\n",
       "      <td>7.0</td>\n",
       "      <td>Active</td>\n",
       "      <td>0</td>\n",
       "      <td>0</td>\n",
       "    </tr>\n",
       "    <tr>\n",
       "      <th>1</th>\n",
       "      <td>69</td>\n",
       "      <td>1079749</td>\n",
       "      <td>140209</td>\n",
       "      <td>-3</td>\n",
       "      <td>0.000</td>\n",
       "      <td>112500</td>\n",
       "      <td>0.0</td>\n",
       "      <td>0.000</td>\n",
       "      <td>0.0</td>\n",
       "      <td>0.000</td>\n",
       "      <td>...</td>\n",
       "      <td>0.00</td>\n",
       "      <td>0.00</td>\n",
       "      <td>0.0</td>\n",
       "      <td>0</td>\n",
       "      <td>0.0</td>\n",
       "      <td>0.0</td>\n",
       "      <td>35.0</td>\n",
       "      <td>Completed</td>\n",
       "      <td>0</td>\n",
       "      <td>0</td>\n",
       "    </tr>\n",
       "    <tr>\n",
       "      <th>2</th>\n",
       "      <td>150</td>\n",
       "      <td>1130058</td>\n",
       "      <td>416736</td>\n",
       "      <td>-3</td>\n",
       "      <td>0.000</td>\n",
       "      <td>90000</td>\n",
       "      <td>0.0</td>\n",
       "      <td>0.000</td>\n",
       "      <td>0.0</td>\n",
       "      <td>0.000</td>\n",
       "      <td>...</td>\n",
       "      <td>0.00</td>\n",
       "      <td>0.00</td>\n",
       "      <td>0.0</td>\n",
       "      <td>0</td>\n",
       "      <td>0.0</td>\n",
       "      <td>0.0</td>\n",
       "      <td>0.0</td>\n",
       "      <td>Active</td>\n",
       "      <td>0</td>\n",
       "      <td>0</td>\n",
       "    </tr>\n",
       "    <tr>\n",
       "      <th>3</th>\n",
       "      <td>211</td>\n",
       "      <td>2536051</td>\n",
       "      <td>190803</td>\n",
       "      <td>-3</td>\n",
       "      <td>0.000</td>\n",
       "      <td>45000</td>\n",
       "      <td>0.0</td>\n",
       "      <td>0.000</td>\n",
       "      <td>0.0</td>\n",
       "      <td>0.000</td>\n",
       "      <td>...</td>\n",
       "      <td>0.00</td>\n",
       "      <td>0.00</td>\n",
       "      <td>0.0</td>\n",
       "      <td>0</td>\n",
       "      <td>0.0</td>\n",
       "      <td>0.0</td>\n",
       "      <td>25.0</td>\n",
       "      <td>Active</td>\n",
       "      <td>0</td>\n",
       "      <td>0</td>\n",
       "    </tr>\n",
       "    <tr>\n",
       "      <th>4</th>\n",
       "      <td>241</td>\n",
       "      <td>1950682</td>\n",
       "      <td>400093</td>\n",
       "      <td>-1</td>\n",
       "      <td>166443.255</td>\n",
       "      <td>450000</td>\n",
       "      <td>0.0</td>\n",
       "      <td>3885.615</td>\n",
       "      <td>0.0</td>\n",
       "      <td>3885.615</td>\n",
       "      <td>...</td>\n",
       "      <td>165209.85</td>\n",
       "      <td>165209.85</td>\n",
       "      <td>0.0</td>\n",
       "      <td>1</td>\n",
       "      <td>0.0</td>\n",
       "      <td>1.0</td>\n",
       "      <td>24.0</td>\n",
       "      <td>Active</td>\n",
       "      <td>0</td>\n",
       "      <td>0</td>\n",
       "    </tr>\n",
       "  </tbody>\n",
       "</table>\n",
       "<p>5 rows × 24 columns</p>\n",
       "</div>"
      ],
      "text/plain": [
       "   index  SK_ID_PREV  SK_ID_CURR  CREDIT_MONTHS_BALANCE  AMT_BALANCE  \\\n",
       "0     57     2652291      217747                     -1   199062.900   \n",
       "1     69     1079749      140209                     -3        0.000   \n",
       "2    150     1130058      416736                     -3        0.000   \n",
       "3    211     2536051      190803                     -3        0.000   \n",
       "4    241     1950682      400093                     -1   166443.255   \n",
       "\n",
       "   AMT_CREDIT_LIMIT_ACTUAL  AMT_DRAWINGS_ATM_CURRENT  AMT_DRAWINGS_CURRENT  \\\n",
       "0                   202500                       0.0                 0.000   \n",
       "1                   112500                       0.0                 0.000   \n",
       "2                    90000                       0.0                 0.000   \n",
       "3                    45000                       0.0                 0.000   \n",
       "4                   450000                       0.0              3885.615   \n",
       "\n",
       "   AMT_DRAWINGS_OTHER_CURRENT  AMT_DRAWINGS_POS_CURRENT  ...  AMT_RECIVABLE  \\\n",
       "0                         0.0                     0.000  ...      199062.90   \n",
       "1                         0.0                     0.000  ...           0.00   \n",
       "2                         0.0                     0.000  ...           0.00   \n",
       "3                         0.0                     0.000  ...           0.00   \n",
       "4                         0.0                  3885.615  ...      165209.85   \n",
       "\n",
       "   AMT_TOTAL_RECEIVABLE  CNT_DRAWINGS_ATM_CURRENT  CNT_DRAWINGS_CURRENT  \\\n",
       "0             199062.90                       0.0                     0   \n",
       "1                  0.00                       0.0                     0   \n",
       "2                  0.00                       0.0                     0   \n",
       "3                  0.00                       0.0                     0   \n",
       "4             165209.85                       0.0                     1   \n",
       "\n",
       "   CNT_DRAWINGS_OTHER_CURRENT  CNT_DRAWINGS_POS_CURRENT  \\\n",
       "0                         0.0                       0.0   \n",
       "1                         0.0                       0.0   \n",
       "2                         0.0                       0.0   \n",
       "3                         0.0                       0.0   \n",
       "4                         0.0                       1.0   \n",
       "\n",
       "   CNT_INSTALMENT_MATURE_CUM  CREDIT_NAME_CONTRACT_STATUS  CREDIT_SK_DPD  \\\n",
       "0                        7.0                       Active              0   \n",
       "1                       35.0                    Completed              0   \n",
       "2                        0.0                       Active              0   \n",
       "3                       25.0                       Active              0   \n",
       "4                       24.0                       Active              0   \n",
       "\n",
       "   CURRENT_SK_DPD_DEF  \n",
       "0                   0  \n",
       "1                   0  \n",
       "2                   0  \n",
       "3                   0  \n",
       "4                   0  \n",
       "\n",
       "[5 rows x 24 columns]"
      ]
     },
     "execution_count": 95,
     "metadata": {},
     "output_type": "execute_result"
    }
   ],
   "source": [
    "credit_card_balance_sample.head()"
   ]
  },
  {
   "cell_type": "code",
   "execution_count": 96,
   "metadata": {
    "id": "Rgh-sws2KKH0",
    "outputId": "3984ad76-bdf4-47b3-dd27-37750ab31018"
   },
   "outputs": [],
   "source": [
    "# Difference between credit card limit and the balance \n",
    "credit_card_balance_sample['BALANCE_LIMIT_DIFF'] = credit_card_balance_sample['AMT_BALANCE'] - credit_card_balance_sample['AMT_CREDIT_LIMIT_ACTUAL']"
   ]
  },
  {
   "cell_type": "code",
   "execution_count": 97,
   "metadata": {
    "id": "MoDog63cNzkB",
    "outputId": "935e5a00-20b5-4aa7-f6db-f42abc8cf726"
   },
   "outputs": [
    {
     "name": "stdout",
     "output_type": "stream",
     "text": [
      "<class 'pandas.core.frame.DataFrame'>\n",
      "RangeIndex: 106150 entries, 0 to 106149\n",
      "Data columns (total 1 columns):\n",
      " #   Column              Non-Null Count   Dtype  \n",
      "---  ------              --------------   -----  \n",
      " 0   BALANCE_LIMIT_DIFF  106150 non-null  float64\n",
      "dtypes: float64(1)\n",
      "memory usage: 829.4 KB\n"
     ]
    }
   ],
   "source": [
    "credit_card_balance_sample[['BALANCE_LIMIT_DIFF']].info()"
   ]
  },
  {
   "cell_type": "code",
   "execution_count": 98,
   "metadata": {
    "id": "_JLy5EIyOFqC",
    "outputId": "96abd388-07f6-4790-ab77-44aca842c1c1"
   },
   "outputs": [
    {
     "name": "stdout",
     "output_type": "stream",
     "text": [
      "<class 'pandas.core.frame.DataFrame'>\n",
      "RangeIndex: 106150 entries, 0 to 106149\n",
      "Data columns (total 1 columns):\n",
      " #   Column                     Non-Null Count   Dtype  \n",
      "---  ------                     --------------   -----  \n",
      " 0   AMT_PAYMENT_TOTAL_CURRENT  106150 non-null  float64\n",
      "dtypes: float64(1)\n",
      "memory usage: 829.4 KB\n"
     ]
    }
   ],
   "source": [
    "credit_card_balance_sample[['AMT_PAYMENT_TOTAL_CURRENT']].info()"
   ]
  },
  {
   "cell_type": "code",
   "execution_count": 99,
   "metadata": {
    "id": "HX3a3ePvOM_k",
    "outputId": "49348f37-4d85-48c7-c72b-f50687f24f13"
   },
   "outputs": [
    {
     "data": {
      "text/html": [
       "<div>\n",
       "<style scoped>\n",
       "    .dataframe tbody tr th:only-of-type {\n",
       "        vertical-align: middle;\n",
       "    }\n",
       "\n",
       "    .dataframe tbody tr th {\n",
       "        vertical-align: top;\n",
       "    }\n",
       "\n",
       "    .dataframe thead th {\n",
       "        text-align: right;\n",
       "    }\n",
       "</style>\n",
       "<table border=\"1\" class=\"dataframe\">\n",
       "  <thead>\n",
       "    <tr style=\"text-align: right;\">\n",
       "      <th></th>\n",
       "      <th>AMT_TOTAL_RECEIVABLE</th>\n",
       "    </tr>\n",
       "  </thead>\n",
       "  <tbody>\n",
       "    <tr>\n",
       "      <th>count</th>\n",
       "      <td>106150.000000</td>\n",
       "    </tr>\n",
       "    <tr>\n",
       "      <th>mean</th>\n",
       "      <td>59229.026258</td>\n",
       "    </tr>\n",
       "    <tr>\n",
       "      <th>std</th>\n",
       "      <td>107002.515705</td>\n",
       "    </tr>\n",
       "    <tr>\n",
       "      <th>min</th>\n",
       "      <td>-45625.365000</td>\n",
       "    </tr>\n",
       "    <tr>\n",
       "      <th>25%</th>\n",
       "      <td>0.000000</td>\n",
       "    </tr>\n",
       "    <tr>\n",
       "      <th>50%</th>\n",
       "      <td>0.000000</td>\n",
       "    </tr>\n",
       "    <tr>\n",
       "      <th>75%</th>\n",
       "      <td>90953.223750</td>\n",
       "    </tr>\n",
       "    <tr>\n",
       "      <th>max</th>\n",
       "      <td>945380.790000</td>\n",
       "    </tr>\n",
       "  </tbody>\n",
       "</table>\n",
       "</div>"
      ],
      "text/plain": [
       "       AMT_TOTAL_RECEIVABLE\n",
       "count         106150.000000\n",
       "mean           59229.026258\n",
       "std           107002.515705\n",
       "min           -45625.365000\n",
       "25%                0.000000\n",
       "50%                0.000000\n",
       "75%            90953.223750\n",
       "max           945380.790000"
      ]
     },
     "execution_count": 99,
     "metadata": {},
     "output_type": "execute_result"
    }
   ],
   "source": [
    "credit_card_balance_sample[['AMT_TOTAL_RECEIVABLE']].describe()"
   ]
  },
  {
   "cell_type": "code",
   "execution_count": 100,
   "metadata": {
    "id": "UvvyUu3dKKQG",
    "outputId": "f86acef0-b6a2-4b72-e772-5ff2be4eb2a5"
   },
   "outputs": [],
   "source": [
    "# Difference between client's total credit monthly payments and the total monthly receivable \n",
    "credit_card_balance_sample['CREDIT_RECEIVABLE_DIFF'] = credit_card_balance_sample['AMT_TOTAL_RECEIVABLE'] - credit_card_balance_sample['AMT_PAYMENT_TOTAL_CURRENT'] "
   ]
  },
  {
   "cell_type": "code",
   "execution_count": 101,
   "metadata": {
    "id": "DlfbNa0eKKWG",
    "outputId": "3bbe60a0-b450-4eea-b81d-eb64106fde90"
   },
   "outputs": [
    {
     "data": {
      "text/html": [
       "<div>\n",
       "<style scoped>\n",
       "    .dataframe tbody tr th:only-of-type {\n",
       "        vertical-align: middle;\n",
       "    }\n",
       "\n",
       "    .dataframe tbody tr th {\n",
       "        vertical-align: top;\n",
       "    }\n",
       "\n",
       "    .dataframe thead th {\n",
       "        text-align: right;\n",
       "    }\n",
       "</style>\n",
       "<table border=\"1\" class=\"dataframe\">\n",
       "  <thead>\n",
       "    <tr style=\"text-align: right;\">\n",
       "      <th></th>\n",
       "      <th>AMT_PAYMENT_TOTAL_CURRENT</th>\n",
       "    </tr>\n",
       "  </thead>\n",
       "  <tbody>\n",
       "    <tr>\n",
       "      <th>count</th>\n",
       "      <td>1.061500e+05</td>\n",
       "    </tr>\n",
       "    <tr>\n",
       "      <th>mean</th>\n",
       "      <td>7.605427e+03</td>\n",
       "    </tr>\n",
       "    <tr>\n",
       "      <th>std</th>\n",
       "      <td>3.083806e+04</td>\n",
       "    </tr>\n",
       "    <tr>\n",
       "      <th>min</th>\n",
       "      <td>0.000000e+00</td>\n",
       "    </tr>\n",
       "    <tr>\n",
       "      <th>25%</th>\n",
       "      <td>0.000000e+00</td>\n",
       "    </tr>\n",
       "    <tr>\n",
       "      <th>50%</th>\n",
       "      <td>0.000000e+00</td>\n",
       "    </tr>\n",
       "    <tr>\n",
       "      <th>75%</th>\n",
       "      <td>7.425000e+03</td>\n",
       "    </tr>\n",
       "    <tr>\n",
       "      <th>max</th>\n",
       "      <td>1.350000e+06</td>\n",
       "    </tr>\n",
       "  </tbody>\n",
       "</table>\n",
       "</div>"
      ],
      "text/plain": [
       "       AMT_PAYMENT_TOTAL_CURRENT\n",
       "count               1.061500e+05\n",
       "mean                7.605427e+03\n",
       "std                 3.083806e+04\n",
       "min                 0.000000e+00\n",
       "25%                 0.000000e+00\n",
       "50%                 0.000000e+00\n",
       "75%                 7.425000e+03\n",
       "max                 1.350000e+06"
      ]
     },
     "execution_count": 101,
     "metadata": {},
     "output_type": "execute_result"
    }
   ],
   "source": [
    "credit_card_balance_sample[['AMT_PAYMENT_TOTAL_CURRENT']].describe()"
   ]
  },
  {
   "cell_type": "code",
   "execution_count": 102,
   "metadata": {
    "id": "GKjyThnLPVcu",
    "outputId": "74c89230-8393-41f1-da8d-58bf21b71c75"
   },
   "outputs": [
    {
     "data": {
      "text/html": [
       "<div>\n",
       "<style scoped>\n",
       "    .dataframe tbody tr th:only-of-type {\n",
       "        vertical-align: middle;\n",
       "    }\n",
       "\n",
       "    .dataframe tbody tr th {\n",
       "        vertical-align: top;\n",
       "    }\n",
       "\n",
       "    .dataframe thead th {\n",
       "        text-align: right;\n",
       "    }\n",
       "</style>\n",
       "<table border=\"1\" class=\"dataframe\">\n",
       "  <thead>\n",
       "    <tr style=\"text-align: right;\">\n",
       "      <th></th>\n",
       "      <th>CREDIT_RECEIVABLE_DIFF</th>\n",
       "    </tr>\n",
       "  </thead>\n",
       "  <tbody>\n",
       "    <tr>\n",
       "      <th>count</th>\n",
       "      <td>1.061500e+05</td>\n",
       "    </tr>\n",
       "    <tr>\n",
       "      <th>mean</th>\n",
       "      <td>5.162360e+04</td>\n",
       "    </tr>\n",
       "    <tr>\n",
       "      <th>std</th>\n",
       "      <td>1.067069e+05</td>\n",
       "    </tr>\n",
       "    <tr>\n",
       "      <th>min</th>\n",
       "      <td>-1.350000e+06</td>\n",
       "    </tr>\n",
       "    <tr>\n",
       "      <th>25%</th>\n",
       "      <td>0.000000e+00</td>\n",
       "    </tr>\n",
       "    <tr>\n",
       "      <th>50%</th>\n",
       "      <td>0.000000e+00</td>\n",
       "    </tr>\n",
       "    <tr>\n",
       "      <th>75%</th>\n",
       "      <td>8.281846e+04</td>\n",
       "    </tr>\n",
       "    <tr>\n",
       "      <th>max</th>\n",
       "      <td>9.294633e+05</td>\n",
       "    </tr>\n",
       "  </tbody>\n",
       "</table>\n",
       "</div>"
      ],
      "text/plain": [
       "       CREDIT_RECEIVABLE_DIFF\n",
       "count            1.061500e+05\n",
       "mean             5.162360e+04\n",
       "std              1.067069e+05\n",
       "min             -1.350000e+06\n",
       "25%              0.000000e+00\n",
       "50%              0.000000e+00\n",
       "75%              8.281846e+04\n",
       "max              9.294633e+05"
      ]
     },
     "execution_count": 102,
     "metadata": {},
     "output_type": "execute_result"
    }
   ],
   "source": [
    "credit_card_balance_sample[['CREDIT_RECEIVABLE_DIFF']].describe()"
   ]
  },
  {
   "cell_type": "code",
   "execution_count": 103,
   "metadata": {
    "id": "NKr4w1yQRvLP",
    "outputId": "cd581cc0-9770-4ad9-f4b8-d5574dc280fb"
   },
   "outputs": [],
   "source": [
    "# Total drawings\n",
    "credit_card_balance_sample['TOTAL_DRAWINGS'] = credit_card_balance_sample['AMT_DRAWINGS_ATM_CURRENT'] + credit_card_balance_sample['AMT_DRAWINGS_CURRENT'] + credit_card_balance_sample['AMT_DRAWINGS_OTHER_CURRENT'] + credit_card_balance_sample['AMT_DRAWINGS_POS_CURRENT']"
   ]
  },
  {
   "cell_type": "code",
   "execution_count": 104,
   "metadata": {
    "id": "ty5_pmUASJx-",
    "outputId": "68f1d6e1-a34b-4039-c725-3af4f10813da"
   },
   "outputs": [
    {
     "data": {
      "text/plain": [
       "count    1.061500e+05\n",
       "mean     1.483963e+04\n",
       "std      6.607995e+04\n",
       "min      0.000000e+00\n",
       "25%      0.000000e+00\n",
       "50%      0.000000e+00\n",
       "75%      0.000000e+00\n",
       "max      2.700000e+06\n",
       "Name: TOTAL_DRAWINGS, dtype: float64"
      ]
     },
     "execution_count": 104,
     "metadata": {},
     "output_type": "execute_result"
    }
   ],
   "source": [
    "credit_card_balance_sample['TOTAL_DRAWINGS'].describe()"
   ]
  },
  {
   "cell_type": "code",
   "execution_count": 105,
   "metadata": {
    "id": "AWVETBvwKUK7",
    "outputId": "cdf132a2-cf5d-492c-ff18-54369ad1f76a"
   },
   "outputs": [
    {
     "data": {
      "text/html": [
       "<div>\n",
       "<style scoped>\n",
       "    .dataframe tbody tr th:only-of-type {\n",
       "        vertical-align: middle;\n",
       "    }\n",
       "\n",
       "    .dataframe tbody tr th {\n",
       "        vertical-align: top;\n",
       "    }\n",
       "\n",
       "    .dataframe thead th {\n",
       "        text-align: right;\n",
       "    }\n",
       "</style>\n",
       "<table border=\"1\" class=\"dataframe\">\n",
       "  <thead>\n",
       "    <tr style=\"text-align: right;\">\n",
       "      <th></th>\n",
       "      <th>index</th>\n",
       "      <th>SK_ID_PREV</th>\n",
       "      <th>SK_ID_CURR</th>\n",
       "      <th>CREDIT_MONTHS_BALANCE</th>\n",
       "      <th>AMT_BALANCE</th>\n",
       "      <th>AMT_CREDIT_LIMIT_ACTUAL</th>\n",
       "      <th>AMT_DRAWINGS_ATM_CURRENT</th>\n",
       "      <th>AMT_DRAWINGS_CURRENT</th>\n",
       "      <th>AMT_DRAWINGS_OTHER_CURRENT</th>\n",
       "      <th>AMT_DRAWINGS_POS_CURRENT</th>\n",
       "      <th>...</th>\n",
       "      <th>CNT_DRAWINGS_CURRENT</th>\n",
       "      <th>CNT_DRAWINGS_OTHER_CURRENT</th>\n",
       "      <th>CNT_DRAWINGS_POS_CURRENT</th>\n",
       "      <th>CNT_INSTALMENT_MATURE_CUM</th>\n",
       "      <th>CREDIT_NAME_CONTRACT_STATUS</th>\n",
       "      <th>CREDIT_SK_DPD</th>\n",
       "      <th>CURRENT_SK_DPD_DEF</th>\n",
       "      <th>BALANCE_LIMIT_DIFF</th>\n",
       "      <th>CREDIT_RECEIVABLE_DIFF</th>\n",
       "      <th>TOTAL_DRAWINGS</th>\n",
       "    </tr>\n",
       "  </thead>\n",
       "  <tbody>\n",
       "    <tr>\n",
       "      <th>0</th>\n",
       "      <td>57</td>\n",
       "      <td>2652291</td>\n",
       "      <td>217747</td>\n",
       "      <td>-1</td>\n",
       "      <td>199062.900</td>\n",
       "      <td>202500</td>\n",
       "      <td>0.0</td>\n",
       "      <td>0.000</td>\n",
       "      <td>0.0</td>\n",
       "      <td>0.000</td>\n",
       "      <td>...</td>\n",
       "      <td>0</td>\n",
       "      <td>0.0</td>\n",
       "      <td>0.0</td>\n",
       "      <td>7.0</td>\n",
       "      <td>Active</td>\n",
       "      <td>0</td>\n",
       "      <td>0</td>\n",
       "      <td>-3437.100</td>\n",
       "      <td>188037.90</td>\n",
       "      <td>0.00</td>\n",
       "    </tr>\n",
       "    <tr>\n",
       "      <th>1</th>\n",
       "      <td>69</td>\n",
       "      <td>1079749</td>\n",
       "      <td>140209</td>\n",
       "      <td>-3</td>\n",
       "      <td>0.000</td>\n",
       "      <td>112500</td>\n",
       "      <td>0.0</td>\n",
       "      <td>0.000</td>\n",
       "      <td>0.0</td>\n",
       "      <td>0.000</td>\n",
       "      <td>...</td>\n",
       "      <td>0</td>\n",
       "      <td>0.0</td>\n",
       "      <td>0.0</td>\n",
       "      <td>35.0</td>\n",
       "      <td>Completed</td>\n",
       "      <td>0</td>\n",
       "      <td>0</td>\n",
       "      <td>-112500.000</td>\n",
       "      <td>0.00</td>\n",
       "      <td>0.00</td>\n",
       "    </tr>\n",
       "    <tr>\n",
       "      <th>2</th>\n",
       "      <td>150</td>\n",
       "      <td>1130058</td>\n",
       "      <td>416736</td>\n",
       "      <td>-3</td>\n",
       "      <td>0.000</td>\n",
       "      <td>90000</td>\n",
       "      <td>0.0</td>\n",
       "      <td>0.000</td>\n",
       "      <td>0.0</td>\n",
       "      <td>0.000</td>\n",
       "      <td>...</td>\n",
       "      <td>0</td>\n",
       "      <td>0.0</td>\n",
       "      <td>0.0</td>\n",
       "      <td>0.0</td>\n",
       "      <td>Active</td>\n",
       "      <td>0</td>\n",
       "      <td>0</td>\n",
       "      <td>-90000.000</td>\n",
       "      <td>0.00</td>\n",
       "      <td>0.00</td>\n",
       "    </tr>\n",
       "    <tr>\n",
       "      <th>3</th>\n",
       "      <td>211</td>\n",
       "      <td>2536051</td>\n",
       "      <td>190803</td>\n",
       "      <td>-3</td>\n",
       "      <td>0.000</td>\n",
       "      <td>45000</td>\n",
       "      <td>0.0</td>\n",
       "      <td>0.000</td>\n",
       "      <td>0.0</td>\n",
       "      <td>0.000</td>\n",
       "      <td>...</td>\n",
       "      <td>0</td>\n",
       "      <td>0.0</td>\n",
       "      <td>0.0</td>\n",
       "      <td>25.0</td>\n",
       "      <td>Active</td>\n",
       "      <td>0</td>\n",
       "      <td>0</td>\n",
       "      <td>-45000.000</td>\n",
       "      <td>0.00</td>\n",
       "      <td>0.00</td>\n",
       "    </tr>\n",
       "    <tr>\n",
       "      <th>4</th>\n",
       "      <td>241</td>\n",
       "      <td>1950682</td>\n",
       "      <td>400093</td>\n",
       "      <td>-1</td>\n",
       "      <td>166443.255</td>\n",
       "      <td>450000</td>\n",
       "      <td>0.0</td>\n",
       "      <td>3885.615</td>\n",
       "      <td>0.0</td>\n",
       "      <td>3885.615</td>\n",
       "      <td>...</td>\n",
       "      <td>1</td>\n",
       "      <td>0.0</td>\n",
       "      <td>1.0</td>\n",
       "      <td>24.0</td>\n",
       "      <td>Active</td>\n",
       "      <td>0</td>\n",
       "      <td>0</td>\n",
       "      <td>-283556.745</td>\n",
       "      <td>156209.85</td>\n",
       "      <td>7771.23</td>\n",
       "    </tr>\n",
       "  </tbody>\n",
       "</table>\n",
       "<p>5 rows × 27 columns</p>\n",
       "</div>"
      ],
      "text/plain": [
       "   index  SK_ID_PREV  SK_ID_CURR  CREDIT_MONTHS_BALANCE  AMT_BALANCE  \\\n",
       "0     57     2652291      217747                     -1   199062.900   \n",
       "1     69     1079749      140209                     -3        0.000   \n",
       "2    150     1130058      416736                     -3        0.000   \n",
       "3    211     2536051      190803                     -3        0.000   \n",
       "4    241     1950682      400093                     -1   166443.255   \n",
       "\n",
       "   AMT_CREDIT_LIMIT_ACTUAL  AMT_DRAWINGS_ATM_CURRENT  AMT_DRAWINGS_CURRENT  \\\n",
       "0                   202500                       0.0                 0.000   \n",
       "1                   112500                       0.0                 0.000   \n",
       "2                    90000                       0.0                 0.000   \n",
       "3                    45000                       0.0                 0.000   \n",
       "4                   450000                       0.0              3885.615   \n",
       "\n",
       "   AMT_DRAWINGS_OTHER_CURRENT  AMT_DRAWINGS_POS_CURRENT  ...  \\\n",
       "0                         0.0                     0.000  ...   \n",
       "1                         0.0                     0.000  ...   \n",
       "2                         0.0                     0.000  ...   \n",
       "3                         0.0                     0.000  ...   \n",
       "4                         0.0                  3885.615  ...   \n",
       "\n",
       "   CNT_DRAWINGS_CURRENT  CNT_DRAWINGS_OTHER_CURRENT  CNT_DRAWINGS_POS_CURRENT  \\\n",
       "0                     0                         0.0                       0.0   \n",
       "1                     0                         0.0                       0.0   \n",
       "2                     0                         0.0                       0.0   \n",
       "3                     0                         0.0                       0.0   \n",
       "4                     1                         0.0                       1.0   \n",
       "\n",
       "   CNT_INSTALMENT_MATURE_CUM  CREDIT_NAME_CONTRACT_STATUS  CREDIT_SK_DPD  \\\n",
       "0                        7.0                       Active              0   \n",
       "1                       35.0                    Completed              0   \n",
       "2                        0.0                       Active              0   \n",
       "3                       25.0                       Active              0   \n",
       "4                       24.0                       Active              0   \n",
       "\n",
       "   CURRENT_SK_DPD_DEF  BALANCE_LIMIT_DIFF  CREDIT_RECEIVABLE_DIFF  \\\n",
       "0                   0           -3437.100               188037.90   \n",
       "1                   0         -112500.000                    0.00   \n",
       "2                   0          -90000.000                    0.00   \n",
       "3                   0          -45000.000                    0.00   \n",
       "4                   0         -283556.745               156209.85   \n",
       "\n",
       "   TOTAL_DRAWINGS  \n",
       "0            0.00  \n",
       "1            0.00  \n",
       "2            0.00  \n",
       "3            0.00  \n",
       "4         7771.23  \n",
       "\n",
       "[5 rows x 27 columns]"
      ]
     },
     "execution_count": 105,
     "metadata": {},
     "output_type": "execute_result"
    }
   ],
   "source": [
    "credit_card_balance_sample.head()"
   ]
  },
  {
   "cell_type": "markdown",
   "metadata": {
    "id": "lkUT6Lr5LHxs"
   },
   "source": [
    "### POS cash balance table"
   ]
  },
  {
   "cell_type": "markdown",
   "metadata": {
    "id": "nRZFwBKJXdfv"
   },
   "source": [
    "Monthly balance snapshots of previous POS (point of sales) and cash loans that the applicant had with Home Credit.\n",
    "This table has one row for each month of history of every previous credit in Home Credit (consumer credit and cash loans) related to loans in our sample – i.e. the table has (#loans in sample * # of relative previous credits * # of months in which we have some history observable for the previous credits) rows"
   ]
  },
  {
   "cell_type": "code",
   "execution_count": 106,
   "metadata": {
    "id": "zeMtMvfBct-W",
    "outputId": "451162f8-6225-4bea-9e39-f82c4d973b5c"
   },
   "outputs": [
    {
     "data": {
      "text/html": [
       "<div>\n",
       "<style scoped>\n",
       "    .dataframe tbody tr th:only-of-type {\n",
       "        vertical-align: middle;\n",
       "    }\n",
       "\n",
       "    .dataframe tbody tr th {\n",
       "        vertical-align: top;\n",
       "    }\n",
       "\n",
       "    .dataframe thead th {\n",
       "        text-align: right;\n",
       "    }\n",
       "</style>\n",
       "<table border=\"1\" class=\"dataframe\">\n",
       "  <thead>\n",
       "    <tr style=\"text-align: right;\">\n",
       "      <th></th>\n",
       "      <th>SK_ID_PREV</th>\n",
       "      <th>SK_ID_CURR</th>\n",
       "      <th>MONTHS_BALANCE</th>\n",
       "      <th>CNT_INSTALMENT</th>\n",
       "      <th>CNT_INSTALMENT_FUTURE</th>\n",
       "      <th>NAME_CONTRACT_STATUS</th>\n",
       "      <th>SK_DPD</th>\n",
       "      <th>SK_DPD_DEF</th>\n",
       "    </tr>\n",
       "  </thead>\n",
       "  <tbody>\n",
       "    <tr>\n",
       "      <th>1209947</th>\n",
       "      <td>1938348</td>\n",
       "      <td>103053</td>\n",
       "      <td>-26</td>\n",
       "      <td>24.0</td>\n",
       "      <td>13.0</td>\n",
       "      <td>Active</td>\n",
       "      <td>0</td>\n",
       "      <td>0</td>\n",
       "    </tr>\n",
       "  </tbody>\n",
       "</table>\n",
       "</div>"
      ],
      "text/plain": [
       "         SK_ID_PREV  SK_ID_CURR  MONTHS_BALANCE  CNT_INSTALMENT  \\\n",
       "1209947     1938348      103053             -26            24.0   \n",
       "\n",
       "         CNT_INSTALMENT_FUTURE NAME_CONTRACT_STATUS  SK_DPD  SK_DPD_DEF  \n",
       "1209947                   13.0               Active       0           0  "
      ]
     },
     "execution_count": 106,
     "metadata": {},
     "output_type": "execute_result"
    }
   ],
   "source": [
    "POS_CASH_balance = pd.read_csv(\"POS_CASH_balance.csv\")\n",
    "POS_CASH_balance.sample()"
   ]
  },
  {
   "cell_type": "code",
   "execution_count": 107,
   "metadata": {
    "id": "ZKJPeCXwg3aq",
    "outputId": "94068c57-f05f-4754-8753-44c273e61af8"
   },
   "outputs": [
    {
     "data": {
      "text/html": [
       "<div>\n",
       "<style scoped>\n",
       "    .dataframe tbody tr th:only-of-type {\n",
       "        vertical-align: middle;\n",
       "    }\n",
       "\n",
       "    .dataframe tbody tr th {\n",
       "        vertical-align: top;\n",
       "    }\n",
       "\n",
       "    .dataframe thead th {\n",
       "        text-align: right;\n",
       "    }\n",
       "</style>\n",
       "<table border=\"1\" class=\"dataframe\">\n",
       "  <thead>\n",
       "    <tr style=\"text-align: right;\">\n",
       "      <th></th>\n",
       "      <th>SK_ID_PREV</th>\n",
       "      <th>SK_ID_CURR</th>\n",
       "      <th>MONTHS_BALANCE</th>\n",
       "      <th>CNT_INSTALMENT</th>\n",
       "      <th>CNT_INSTALMENT_FUTURE</th>\n",
       "      <th>NAME_CONTRACT_STATUS</th>\n",
       "      <th>SK_DPD</th>\n",
       "      <th>SK_DPD_DEF</th>\n",
       "    </tr>\n",
       "  </thead>\n",
       "  <tbody>\n",
       "    <tr>\n",
       "      <th>10</th>\n",
       "      <td>2328294</td>\n",
       "      <td>287361</td>\n",
       "      <td>-32</td>\n",
       "      <td>12.0</td>\n",
       "      <td>12.0</td>\n",
       "      <td>Active</td>\n",
       "      <td>0</td>\n",
       "      <td>0</td>\n",
       "    </tr>\n",
       "    <tr>\n",
       "      <th>27</th>\n",
       "      <td>1865970</td>\n",
       "      <td>202091</td>\n",
       "      <td>-35</td>\n",
       "      <td>12.0</td>\n",
       "      <td>7.0</td>\n",
       "      <td>Active</td>\n",
       "      <td>0</td>\n",
       "      <td>0</td>\n",
       "    </tr>\n",
       "    <tr>\n",
       "      <th>69</th>\n",
       "      <td>1257810</td>\n",
       "      <td>322245</td>\n",
       "      <td>-39</td>\n",
       "      <td>24.0</td>\n",
       "      <td>8.0</td>\n",
       "      <td>Active</td>\n",
       "      <td>0</td>\n",
       "      <td>0</td>\n",
       "    </tr>\n",
       "    <tr>\n",
       "      <th>110</th>\n",
       "      <td>2229938</td>\n",
       "      <td>420690</td>\n",
       "      <td>-35</td>\n",
       "      <td>24.0</td>\n",
       "      <td>8.0</td>\n",
       "      <td>Active</td>\n",
       "      <td>0</td>\n",
       "      <td>0</td>\n",
       "    </tr>\n",
       "    <tr>\n",
       "      <th>124</th>\n",
       "      <td>2714240</td>\n",
       "      <td>302709</td>\n",
       "      <td>-38</td>\n",
       "      <td>16.0</td>\n",
       "      <td>0.0</td>\n",
       "      <td>Completed</td>\n",
       "      <td>0</td>\n",
       "      <td>0</td>\n",
       "    </tr>\n",
       "  </tbody>\n",
       "</table>\n",
       "</div>"
      ],
      "text/plain": [
       "     SK_ID_PREV  SK_ID_CURR  MONTHS_BALANCE  CNT_INSTALMENT  \\\n",
       "10      2328294      287361             -32            12.0   \n",
       "27      1865970      202091             -35            12.0   \n",
       "69      1257810      322245             -39            24.0   \n",
       "110     2229938      420690             -35            24.0   \n",
       "124     2714240      302709             -38            16.0   \n",
       "\n",
       "     CNT_INSTALMENT_FUTURE NAME_CONTRACT_STATUS  SK_DPD  SK_DPD_DEF  \n",
       "10                    12.0               Active       0           0  \n",
       "27                     7.0               Active       0           0  \n",
       "69                     8.0               Active       0           0  \n",
       "110                    8.0               Active       0           0  \n",
       "124                    0.0            Completed       0           0  "
      ]
     },
     "execution_count": 107,
     "metadata": {},
     "output_type": "execute_result"
    }
   ],
   "source": [
    "POS_CASH_balance_sample = POS_CASH_balance[ POS_CASH_balance['SK_ID_CURR'].isin(loan_ids)]\n",
    "POS_CASH_balance_sample.head()"
   ]
  },
  {
   "cell_type": "code",
   "execution_count": 108,
   "metadata": {
    "id": "orvNIkqQg5Mt",
    "outputId": "89400dd3-7eb8-4df3-8dc6-51f9e9411f8f"
   },
   "outputs": [
    {
     "name": "stdout",
     "output_type": "stream",
     "text": [
      "<class 'pandas.core.frame.DataFrame'>\n",
      "Int64Index: 269947 entries, 10 to 10001354\n",
      "Data columns (total 8 columns):\n",
      " #   Column                 Non-Null Count   Dtype  \n",
      "---  ------                 --------------   -----  \n",
      " 0   SK_ID_PREV             269947 non-null  int64  \n",
      " 1   SK_ID_CURR             269947 non-null  int64  \n",
      " 2   MONTHS_BALANCE         269947 non-null  int64  \n",
      " 3   CNT_INSTALMENT         269226 non-null  float64\n",
      " 4   CNT_INSTALMENT_FUTURE  269220 non-null  float64\n",
      " 5   NAME_CONTRACT_STATUS   269947 non-null  object \n",
      " 6   SK_DPD                 269947 non-null  int64  \n",
      " 7   SK_DPD_DEF             269947 non-null  int64  \n",
      "dtypes: float64(2), int64(5), object(1)\n",
      "memory usage: 18.5+ MB\n"
     ]
    }
   ],
   "source": [
    "POS_CASH_balance_sample.info()"
   ]
  },
  {
   "cell_type": "code",
   "execution_count": 109,
   "metadata": {},
   "outputs": [],
   "source": [
    "POS_CASH_balance_sample.reset_index(inplace=True)"
   ]
  },
  {
   "cell_type": "code",
   "execution_count": 110,
   "metadata": {
    "id": "xhLplQT0iDZe"
   },
   "outputs": [],
   "source": [
    "POS_CASH_balance_sample.to_csv(\"credit_samples/POS_CASH_balance.csv\", index=False)"
   ]
  },
  {
   "cell_type": "code",
   "execution_count": 111,
   "metadata": {
    "id": "1PCE39MtAXT9",
    "outputId": "e1f1b200-c111-4f78-e106-9528478b0c99"
   },
   "outputs": [
    {
     "data": {
      "text/plain": [
       "Index(['CNT_INSTALMENT', 'CNT_INSTALMENT_FUTURE'], dtype='object')"
      ]
     },
     "execution_count": 111,
     "metadata": {},
     "output_type": "execute_result"
    }
   ],
   "source": [
    "POS_CASH_balance_sample.columns[POS_CASH_balance_sample.isnull().any()]"
   ]
  },
  {
   "cell_type": "code",
   "execution_count": 112,
   "metadata": {
    "id": "db64bOwHAXzA",
    "outputId": "5ad6636e-d04c-44dd-88aa-d49f996b2772"
   },
   "outputs": [],
   "source": [
    "POS_CASH_balance_sample['CNT_INSTALMENT'].fillna(POS_CASH_balance_sample['CNT_INSTALMENT'].median(),inplace=True)\n",
    "POS_CASH_balance_sample['CNT_INSTALMENT_FUTURE'].fillna(POS_CASH_balance_sample['CNT_INSTALMENT_FUTURE'].median(),inplace=True)"
   ]
  },
  {
   "cell_type": "markdown",
   "metadata": {
    "id": "3h3mVhXaXSpA"
   },
   "source": [
    "#### Feature engineering / extraction"
   ]
  },
  {
   "cell_type": "code",
   "execution_count": 113,
   "metadata": {
    "id": "vhbVdPy4XVkv",
    "outputId": "bf65febe-9c79-4516-8bfc-0e80dcfd880e"
   },
   "outputs": [
    {
     "data": {
      "text/html": [
       "<div>\n",
       "<style scoped>\n",
       "    .dataframe tbody tr th:only-of-type {\n",
       "        vertical-align: middle;\n",
       "    }\n",
       "\n",
       "    .dataframe tbody tr th {\n",
       "        vertical-align: top;\n",
       "    }\n",
       "\n",
       "    .dataframe thead th {\n",
       "        text-align: right;\n",
       "    }\n",
       "</style>\n",
       "<table border=\"1\" class=\"dataframe\">\n",
       "  <thead>\n",
       "    <tr style=\"text-align: right;\">\n",
       "      <th></th>\n",
       "      <th>index</th>\n",
       "      <th>SK_ID_PREV</th>\n",
       "      <th>SK_ID_CURR</th>\n",
       "      <th>MONTHS_BALANCE</th>\n",
       "      <th>CNT_INSTALMENT</th>\n",
       "      <th>CNT_INSTALMENT_FUTURE</th>\n",
       "      <th>NAME_CONTRACT_STATUS</th>\n",
       "      <th>SK_DPD</th>\n",
       "      <th>SK_DPD_DEF</th>\n",
       "    </tr>\n",
       "  </thead>\n",
       "  <tbody>\n",
       "    <tr>\n",
       "      <th>0</th>\n",
       "      <td>10</td>\n",
       "      <td>2328294</td>\n",
       "      <td>287361</td>\n",
       "      <td>-32</td>\n",
       "      <td>12.0</td>\n",
       "      <td>12.0</td>\n",
       "      <td>Active</td>\n",
       "      <td>0</td>\n",
       "      <td>0</td>\n",
       "    </tr>\n",
       "    <tr>\n",
       "      <th>1</th>\n",
       "      <td>27</td>\n",
       "      <td>1865970</td>\n",
       "      <td>202091</td>\n",
       "      <td>-35</td>\n",
       "      <td>12.0</td>\n",
       "      <td>7.0</td>\n",
       "      <td>Active</td>\n",
       "      <td>0</td>\n",
       "      <td>0</td>\n",
       "    </tr>\n",
       "    <tr>\n",
       "      <th>2</th>\n",
       "      <td>69</td>\n",
       "      <td>1257810</td>\n",
       "      <td>322245</td>\n",
       "      <td>-39</td>\n",
       "      <td>24.0</td>\n",
       "      <td>8.0</td>\n",
       "      <td>Active</td>\n",
       "      <td>0</td>\n",
       "      <td>0</td>\n",
       "    </tr>\n",
       "    <tr>\n",
       "      <th>3</th>\n",
       "      <td>110</td>\n",
       "      <td>2229938</td>\n",
       "      <td>420690</td>\n",
       "      <td>-35</td>\n",
       "      <td>24.0</td>\n",
       "      <td>8.0</td>\n",
       "      <td>Active</td>\n",
       "      <td>0</td>\n",
       "      <td>0</td>\n",
       "    </tr>\n",
       "    <tr>\n",
       "      <th>4</th>\n",
       "      <td>124</td>\n",
       "      <td>2714240</td>\n",
       "      <td>302709</td>\n",
       "      <td>-38</td>\n",
       "      <td>16.0</td>\n",
       "      <td>0.0</td>\n",
       "      <td>Completed</td>\n",
       "      <td>0</td>\n",
       "      <td>0</td>\n",
       "    </tr>\n",
       "  </tbody>\n",
       "</table>\n",
       "</div>"
      ],
      "text/plain": [
       "   index  SK_ID_PREV  SK_ID_CURR  MONTHS_BALANCE  CNT_INSTALMENT  \\\n",
       "0     10     2328294      287361             -32            12.0   \n",
       "1     27     1865970      202091             -35            12.0   \n",
       "2     69     1257810      322245             -39            24.0   \n",
       "3    110     2229938      420690             -35            24.0   \n",
       "4    124     2714240      302709             -38            16.0   \n",
       "\n",
       "   CNT_INSTALMENT_FUTURE NAME_CONTRACT_STATUS  SK_DPD  SK_DPD_DEF  \n",
       "0                   12.0               Active       0           0  \n",
       "1                    7.0               Active       0           0  \n",
       "2                    8.0               Active       0           0  \n",
       "3                    8.0               Active       0           0  \n",
       "4                    0.0            Completed       0           0  "
      ]
     },
     "execution_count": 113,
     "metadata": {},
     "output_type": "execute_result"
    }
   ],
   "source": [
    "POS_CASH_balance_sample.head()"
   ]
  },
  {
   "cell_type": "markdown",
   "metadata": {
    "id": "xu-0_LEgI2eV"
   },
   "source": [
    "### Installments payments table"
   ]
  },
  {
   "cell_type": "markdown",
   "metadata": {
    "id": "eRYuBZHBTOlC"
   },
   "source": [
    "Repayment history for the previously disbursed credits in Home Credit related to the loans in our sample.\n",
    "There is a) one row for every payment that was made plus b) one row each for missed payment.\n",
    "One row is equivalent to one payment of one installment OR one installment corresponding to one payment of one previous Home Credit credit related to loans in our sample."
   ]
  },
  {
   "cell_type": "code",
   "execution_count": 114,
   "metadata": {
    "id": "Flo0IIv_co5I",
    "outputId": "208638c6-e23b-438a-8ff6-c1df7082eab2"
   },
   "outputs": [
    {
     "data": {
      "text/html": [
       "<div>\n",
       "<style scoped>\n",
       "    .dataframe tbody tr th:only-of-type {\n",
       "        vertical-align: middle;\n",
       "    }\n",
       "\n",
       "    .dataframe tbody tr th {\n",
       "        vertical-align: top;\n",
       "    }\n",
       "\n",
       "    .dataframe thead th {\n",
       "        text-align: right;\n",
       "    }\n",
       "</style>\n",
       "<table border=\"1\" class=\"dataframe\">\n",
       "  <thead>\n",
       "    <tr style=\"text-align: right;\">\n",
       "      <th></th>\n",
       "      <th>SK_ID_PREV</th>\n",
       "      <th>SK_ID_CURR</th>\n",
       "      <th>NUM_INSTALMENT_VERSION</th>\n",
       "      <th>NUM_INSTALMENT_NUMBER</th>\n",
       "      <th>DAYS_INSTALMENT</th>\n",
       "      <th>DAYS_ENTRY_PAYMENT</th>\n",
       "      <th>AMT_INSTALMENT</th>\n",
       "      <th>AMT_PAYMENT</th>\n",
       "    </tr>\n",
       "  </thead>\n",
       "  <tbody>\n",
       "    <tr>\n",
       "      <th>1920589</th>\n",
       "      <td>1974969</td>\n",
       "      <td>197307</td>\n",
       "      <td>1.0</td>\n",
       "      <td>2</td>\n",
       "      <td>-718.0</td>\n",
       "      <td>-734.0</td>\n",
       "      <td>6021.0</td>\n",
       "      <td>6021.0</td>\n",
       "    </tr>\n",
       "  </tbody>\n",
       "</table>\n",
       "</div>"
      ],
      "text/plain": [
       "         SK_ID_PREV  SK_ID_CURR  NUM_INSTALMENT_VERSION  \\\n",
       "1920589     1974969      197307                     1.0   \n",
       "\n",
       "         NUM_INSTALMENT_NUMBER  DAYS_INSTALMENT  DAYS_ENTRY_PAYMENT  \\\n",
       "1920589                      2           -718.0              -734.0   \n",
       "\n",
       "         AMT_INSTALMENT  AMT_PAYMENT  \n",
       "1920589          6021.0       6021.0  "
      ]
     },
     "execution_count": 114,
     "metadata": {},
     "output_type": "execute_result"
    }
   ],
   "source": [
    "installments_payments = pd.read_csv(\"installments_payments.csv\")\n",
    "installments_payments.sample()"
   ]
  },
  {
   "cell_type": "code",
   "execution_count": 115,
   "metadata": {
    "id": "WyMuVhjjgqnO",
    "outputId": "ac1a01a1-079b-4693-9b64-655d1665c8f1"
   },
   "outputs": [
    {
     "data": {
      "text/html": [
       "<div>\n",
       "<style scoped>\n",
       "    .dataframe tbody tr th:only-of-type {\n",
       "        vertical-align: middle;\n",
       "    }\n",
       "\n",
       "    .dataframe tbody tr th {\n",
       "        vertical-align: top;\n",
       "    }\n",
       "\n",
       "    .dataframe thead th {\n",
       "        text-align: right;\n",
       "    }\n",
       "</style>\n",
       "<table border=\"1\" class=\"dataframe\">\n",
       "  <thead>\n",
       "    <tr style=\"text-align: right;\">\n",
       "      <th></th>\n",
       "      <th>SK_ID_PREV</th>\n",
       "      <th>SK_ID_CURR</th>\n",
       "      <th>NUM_INSTALMENT_VERSION</th>\n",
       "      <th>NUM_INSTALMENT_NUMBER</th>\n",
       "      <th>DAYS_INSTALMENT</th>\n",
       "      <th>DAYS_ENTRY_PAYMENT</th>\n",
       "      <th>AMT_INSTALMENT</th>\n",
       "      <th>AMT_PAYMENT</th>\n",
       "    </tr>\n",
       "  </thead>\n",
       "  <tbody>\n",
       "    <tr>\n",
       "      <th>14</th>\n",
       "      <td>1594684</td>\n",
       "      <td>100193</td>\n",
       "      <td>0.0</td>\n",
       "      <td>56</td>\n",
       "      <td>-1153.0</td>\n",
       "      <td>-1153.0</td>\n",
       "      <td>301.860</td>\n",
       "      <td>301.86</td>\n",
       "    </tr>\n",
       "    <tr>\n",
       "      <th>110</th>\n",
       "      <td>1100291</td>\n",
       "      <td>138431</td>\n",
       "      <td>0.0</td>\n",
       "      <td>140</td>\n",
       "      <td>-216.0</td>\n",
       "      <td>-242.0</td>\n",
       "      <td>2250.000</td>\n",
       "      <td>2250.00</td>\n",
       "    </tr>\n",
       "    <tr>\n",
       "      <th>181</th>\n",
       "      <td>2428866</td>\n",
       "      <td>180879</td>\n",
       "      <td>7.0</td>\n",
       "      <td>5</td>\n",
       "      <td>-41.0</td>\n",
       "      <td>-46.0</td>\n",
       "      <td>28456.335</td>\n",
       "      <td>36000.00</td>\n",
       "    </tr>\n",
       "    <tr>\n",
       "      <th>182</th>\n",
       "      <td>2428866</td>\n",
       "      <td>180879</td>\n",
       "      <td>8.0</td>\n",
       "      <td>5</td>\n",
       "      <td>-41.0</td>\n",
       "      <td>-46.0</td>\n",
       "      <td>7543.665</td>\n",
       "      <td>36000.00</td>\n",
       "    </tr>\n",
       "    <tr>\n",
       "      <th>229</th>\n",
       "      <td>2414346</td>\n",
       "      <td>134516</td>\n",
       "      <td>1.0</td>\n",
       "      <td>16</td>\n",
       "      <td>-864.0</td>\n",
       "      <td>-860.0</td>\n",
       "      <td>47484.000</td>\n",
       "      <td>46836.00</td>\n",
       "    </tr>\n",
       "  </tbody>\n",
       "</table>\n",
       "</div>"
      ],
      "text/plain": [
       "     SK_ID_PREV  SK_ID_CURR  NUM_INSTALMENT_VERSION  NUM_INSTALMENT_NUMBER  \\\n",
       "14      1594684      100193                     0.0                     56   \n",
       "110     1100291      138431                     0.0                    140   \n",
       "181     2428866      180879                     7.0                      5   \n",
       "182     2428866      180879                     8.0                      5   \n",
       "229     2414346      134516                     1.0                     16   \n",
       "\n",
       "     DAYS_INSTALMENT  DAYS_ENTRY_PAYMENT  AMT_INSTALMENT  AMT_PAYMENT  \n",
       "14           -1153.0             -1153.0         301.860       301.86  \n",
       "110           -216.0              -242.0        2250.000      2250.00  \n",
       "181            -41.0               -46.0       28456.335     36000.00  \n",
       "182            -41.0               -46.0        7543.665     36000.00  \n",
       "229           -864.0              -860.0       47484.000     46836.00  "
      ]
     },
     "execution_count": 115,
     "metadata": {},
     "output_type": "execute_result"
    }
   ],
   "source": [
    "installments_payments_sample = installments_payments[ installments_payments['SK_ID_CURR'].isin(loan_ids)]\n",
    "installments_payments_sample.head()"
   ]
  },
  {
   "cell_type": "code",
   "execution_count": 116,
   "metadata": {},
   "outputs": [],
   "source": [
    "app = selected_application_sample[['SK_ID_CURR','TARGET']]\n",
    "aplication_installemnts = app.merge(installments_payments_sample, on='SK_ID_CURR')"
   ]
  },
  {
   "cell_type": "code",
   "execution_count": 117,
   "metadata": {},
   "outputs": [
    {
     "name": "stdout",
     "output_type": "stream",
     "text": [
      "<class 'pandas.core.frame.DataFrame'>\n",
      "Int64Index: 370905 entries, 0 to 370904\n",
      "Data columns (total 9 columns):\n",
      " #   Column                  Non-Null Count   Dtype  \n",
      "---  ------                  --------------   -----  \n",
      " 0   SK_ID_CURR              370905 non-null  int64  \n",
      " 1   TARGET                  370905 non-null  int64  \n",
      " 2   SK_ID_PREV              370905 non-null  int64  \n",
      " 3   NUM_INSTALMENT_VERSION  370905 non-null  float64\n",
      " 4   NUM_INSTALMENT_NUMBER   370905 non-null  int64  \n",
      " 5   DAYS_INSTALMENT         370905 non-null  float64\n",
      " 6   DAYS_ENTRY_PAYMENT      370802 non-null  float64\n",
      " 7   AMT_INSTALMENT          370905 non-null  float64\n",
      " 8   AMT_PAYMENT             370802 non-null  float64\n",
      "dtypes: float64(5), int64(4)\n",
      "memory usage: 28.3 MB\n"
     ]
    }
   ],
   "source": [
    "aplication_installemnts.info()"
   ]
  },
  {
   "cell_type": "code",
   "execution_count": 118,
   "metadata": {},
   "outputs": [
    {
     "data": {
      "text/html": [
       "<div>\n",
       "<style scoped>\n",
       "    .dataframe tbody tr th:only-of-type {\n",
       "        vertical-align: middle;\n",
       "    }\n",
       "\n",
       "    .dataframe tbody tr th {\n",
       "        vertical-align: top;\n",
       "    }\n",
       "\n",
       "    .dataframe thead th {\n",
       "        text-align: right;\n",
       "    }\n",
       "</style>\n",
       "<table border=\"1\" class=\"dataframe\">\n",
       "  <thead>\n",
       "    <tr style=\"text-align: right;\">\n",
       "      <th></th>\n",
       "      <th>SK_ID_CURR</th>\n",
       "      <th>TARGET</th>\n",
       "      <th>SK_ID_PREV</th>\n",
       "      <th>NUM_INSTALMENT_VERSION</th>\n",
       "      <th>NUM_INSTALMENT_NUMBER</th>\n",
       "      <th>DAYS_INSTALMENT</th>\n",
       "      <th>DAYS_ENTRY_PAYMENT</th>\n",
       "      <th>AMT_INSTALMENT</th>\n",
       "      <th>AMT_PAYMENT</th>\n",
       "    </tr>\n",
       "  </thead>\n",
       "  <tbody>\n",
       "    <tr>\n",
       "      <th>0</th>\n",
       "      <td>149741</td>\n",
       "      <td>1</td>\n",
       "      <td>2345317</td>\n",
       "      <td>1.0</td>\n",
       "      <td>2</td>\n",
       "      <td>-1946.0</td>\n",
       "      <td>-1958.0</td>\n",
       "      <td>13477.365</td>\n",
       "      <td>13477.365</td>\n",
       "    </tr>\n",
       "  </tbody>\n",
       "</table>\n",
       "</div>"
      ],
      "text/plain": [
       "   SK_ID_CURR  TARGET  SK_ID_PREV  NUM_INSTALMENT_VERSION  \\\n",
       "0      149741       1     2345317                     1.0   \n",
       "\n",
       "   NUM_INSTALMENT_NUMBER  DAYS_INSTALMENT  DAYS_ENTRY_PAYMENT  AMT_INSTALMENT  \\\n",
       "0                      2          -1946.0             -1958.0       13477.365   \n",
       "\n",
       "   AMT_PAYMENT  \n",
       "0    13477.365  "
      ]
     },
     "execution_count": 118,
     "metadata": {},
     "output_type": "execute_result"
    }
   ],
   "source": [
    "aplication_installemnts.head(1)"
   ]
  },
  {
   "cell_type": "code",
   "execution_count": 119,
   "metadata": {},
   "outputs": [
    {
     "data": {
      "text/plain": [
       "TARGET                    1.000000\n",
       "DAYS_ENTRY_PAYMENT        0.034568\n",
       "DAYS_INSTALMENT           0.034552\n",
       "AMT_INSTALMENT            0.004226\n",
       "SK_ID_CURR                0.003674\n",
       "AMT_PAYMENT               0.001304\n",
       "SK_ID_PREV               -0.009001\n",
       "NUM_INSTALMENT_VERSION   -0.011197\n",
       "NUM_INSTALMENT_NUMBER    -0.014652\n",
       "Name: TARGET, dtype: float64"
      ]
     },
     "execution_count": 119,
     "metadata": {},
     "output_type": "execute_result"
    }
   ],
   "source": [
    "aplication_installemnts.corr()['TARGET'].sort_values(ascending=False).head(10)"
   ]
  },
  {
   "cell_type": "code",
   "execution_count": 120,
   "metadata": {
    "id": "nJRolgu2gyki",
    "outputId": "185bf45a-41fc-44ba-bad7-082622650a0e"
   },
   "outputs": [
    {
     "name": "stdout",
     "output_type": "stream",
     "text": [
      "<class 'pandas.core.frame.DataFrame'>\n",
      "Int64Index: 370905 entries, 14 to 13605233\n",
      "Data columns (total 8 columns):\n",
      " #   Column                  Non-Null Count   Dtype  \n",
      "---  ------                  --------------   -----  \n",
      " 0   SK_ID_PREV              370905 non-null  int64  \n",
      " 1   SK_ID_CURR              370905 non-null  int64  \n",
      " 2   NUM_INSTALMENT_VERSION  370905 non-null  float64\n",
      " 3   NUM_INSTALMENT_NUMBER   370905 non-null  int64  \n",
      " 4   DAYS_INSTALMENT         370905 non-null  float64\n",
      " 5   DAYS_ENTRY_PAYMENT      370802 non-null  float64\n",
      " 6   AMT_INSTALMENT          370905 non-null  float64\n",
      " 7   AMT_PAYMENT             370802 non-null  float64\n",
      "dtypes: float64(5), int64(3)\n",
      "memory usage: 25.5 MB\n"
     ]
    }
   ],
   "source": [
    "installments_payments_sample.info()"
   ]
  },
  {
   "cell_type": "code",
   "execution_count": 121,
   "metadata": {},
   "outputs": [],
   "source": [
    "installments_payments_sample.reset_index(inplace=True)"
   ]
  },
  {
   "cell_type": "code",
   "execution_count": 122,
   "metadata": {
    "id": "dy1vwGP2h9x_"
   },
   "outputs": [],
   "source": [
    "installments_payments_sample.to_csv(\"credit_samples/installments_payments.csv\", index=False)"
   ]
  },
  {
   "cell_type": "code",
   "execution_count": 123,
   "metadata": {
    "id": "C060Y-zL_rOl",
    "outputId": "70bcaefe-5bb8-4517-84f6-423c91b4ad37"
   },
   "outputs": [
    {
     "data": {
      "text/plain": [
       "Index(['DAYS_ENTRY_PAYMENT', 'AMT_PAYMENT'], dtype='object')"
      ]
     },
     "execution_count": 123,
     "metadata": {},
     "output_type": "execute_result"
    }
   ],
   "source": [
    "installments_payments_sample.columns[installments_payments_sample.isnull().any()]"
   ]
  },
  {
   "cell_type": "code",
   "execution_count": 124,
   "metadata": {
    "id": "C25dsp8E_0kD",
    "outputId": "901a8a21-6d79-4b44-ffc5-f119ee6bf636"
   },
   "outputs": [],
   "source": [
    "installments_payments_sample['DAYS_ENTRY_PAYMENT'].fillna(installments_payments_sample['DAYS_ENTRY_PAYMENT'].median(),inplace=True)\n",
    "installments_payments_sample['AMT_PAYMENT'].fillna(installments_payments_sample['AMT_PAYMENT'].median(),inplace=True)"
   ]
  },
  {
   "cell_type": "markdown",
   "metadata": {
    "id": "kA-qEXbIXFrF"
   },
   "source": [
    "#### Feature engineering / extraction"
   ]
  },
  {
   "cell_type": "code",
   "execution_count": null,
   "metadata": {},
   "outputs": [],
   "source": []
  },
  {
   "cell_type": "markdown",
   "metadata": {
    "id": "rjtHAJXoLpO3"
   },
   "source": [
    "### Previous application table"
   ]
  },
  {
   "cell_type": "markdown",
   "metadata": {
    "id": "JKtlRb7KYl_M"
   },
   "source": [
    "All previous applications for Home Credit loans of clients who have loans in our sample.\n",
    "There is one row for each previous application related to loans in our data sample."
   ]
  },
  {
   "cell_type": "code",
   "execution_count": 125,
   "metadata": {
    "id": "BqYX1d2Mc1aV",
    "outputId": "bf2d2767-3c1c-4c51-bee6-f7ab3b3e25fb"
   },
   "outputs": [
    {
     "data": {
      "text/html": [
       "<div>\n",
       "<style scoped>\n",
       "    .dataframe tbody tr th:only-of-type {\n",
       "        vertical-align: middle;\n",
       "    }\n",
       "\n",
       "    .dataframe tbody tr th {\n",
       "        vertical-align: top;\n",
       "    }\n",
       "\n",
       "    .dataframe thead th {\n",
       "        text-align: right;\n",
       "    }\n",
       "</style>\n",
       "<table border=\"1\" class=\"dataframe\">\n",
       "  <thead>\n",
       "    <tr style=\"text-align: right;\">\n",
       "      <th></th>\n",
       "      <th>SK_ID_PREV</th>\n",
       "      <th>SK_ID_CURR</th>\n",
       "      <th>NAME_CONTRACT_TYPE</th>\n",
       "      <th>AMT_ANNUITY</th>\n",
       "      <th>AMT_APPLICATION</th>\n",
       "      <th>AMT_CREDIT</th>\n",
       "      <th>AMT_DOWN_PAYMENT</th>\n",
       "      <th>AMT_GOODS_PRICE</th>\n",
       "      <th>WEEKDAY_APPR_PROCESS_START</th>\n",
       "      <th>HOUR_APPR_PROCESS_START</th>\n",
       "      <th>...</th>\n",
       "      <th>NAME_SELLER_INDUSTRY</th>\n",
       "      <th>CNT_PAYMENT</th>\n",
       "      <th>NAME_YIELD_GROUP</th>\n",
       "      <th>PRODUCT_COMBINATION</th>\n",
       "      <th>DAYS_FIRST_DRAWING</th>\n",
       "      <th>DAYS_FIRST_DUE</th>\n",
       "      <th>DAYS_LAST_DUE_1ST_VERSION</th>\n",
       "      <th>DAYS_LAST_DUE</th>\n",
       "      <th>DAYS_TERMINATION</th>\n",
       "      <th>NFLAG_INSURED_ON_APPROVAL</th>\n",
       "    </tr>\n",
       "  </thead>\n",
       "  <tbody>\n",
       "    <tr>\n",
       "      <th>843620</th>\n",
       "      <td>1149709</td>\n",
       "      <td>419665</td>\n",
       "      <td>Cash loans</td>\n",
       "      <td>NaN</td>\n",
       "      <td>0.0</td>\n",
       "      <td>0.0</td>\n",
       "      <td>NaN</td>\n",
       "      <td>NaN</td>\n",
       "      <td>FRIDAY</td>\n",
       "      <td>16</td>\n",
       "      <td>...</td>\n",
       "      <td>XNA</td>\n",
       "      <td>NaN</td>\n",
       "      <td>XNA</td>\n",
       "      <td>Cash</td>\n",
       "      <td>NaN</td>\n",
       "      <td>NaN</td>\n",
       "      <td>NaN</td>\n",
       "      <td>NaN</td>\n",
       "      <td>NaN</td>\n",
       "      <td>NaN</td>\n",
       "    </tr>\n",
       "  </tbody>\n",
       "</table>\n",
       "<p>1 rows × 37 columns</p>\n",
       "</div>"
      ],
      "text/plain": [
       "        SK_ID_PREV  SK_ID_CURR NAME_CONTRACT_TYPE  AMT_ANNUITY  \\\n",
       "843620     1149709      419665         Cash loans          NaN   \n",
       "\n",
       "        AMT_APPLICATION  AMT_CREDIT  AMT_DOWN_PAYMENT  AMT_GOODS_PRICE  \\\n",
       "843620              0.0         0.0               NaN              NaN   \n",
       "\n",
       "       WEEKDAY_APPR_PROCESS_START  HOUR_APPR_PROCESS_START  ...  \\\n",
       "843620                     FRIDAY                       16  ...   \n",
       "\n",
       "       NAME_SELLER_INDUSTRY  CNT_PAYMENT  NAME_YIELD_GROUP  \\\n",
       "843620                  XNA          NaN               XNA   \n",
       "\n",
       "        PRODUCT_COMBINATION  DAYS_FIRST_DRAWING DAYS_FIRST_DUE  \\\n",
       "843620                 Cash                 NaN            NaN   \n",
       "\n",
       "       DAYS_LAST_DUE_1ST_VERSION  DAYS_LAST_DUE DAYS_TERMINATION  \\\n",
       "843620                       NaN            NaN              NaN   \n",
       "\n",
       "       NFLAG_INSURED_ON_APPROVAL  \n",
       "843620                       NaN  \n",
       "\n",
       "[1 rows x 37 columns]"
      ]
     },
     "execution_count": 125,
     "metadata": {},
     "output_type": "execute_result"
    }
   ],
   "source": [
    "previous_application = pd.read_csv(\"previous_application.csv\")\n",
    "previous_application.sample()"
   ]
  },
  {
   "cell_type": "code",
   "execution_count": 126,
   "metadata": {
    "id": "rQFOdBrmc6b0",
    "outputId": "5d91e7cd-3dfa-47b7-c033-00934c9df2bf"
   },
   "outputs": [
    {
     "data": {
      "text/html": [
       "<div>\n",
       "<style scoped>\n",
       "    .dataframe tbody tr th:only-of-type {\n",
       "        vertical-align: middle;\n",
       "    }\n",
       "\n",
       "    .dataframe tbody tr th {\n",
       "        vertical-align: top;\n",
       "    }\n",
       "\n",
       "    .dataframe thead th {\n",
       "        text-align: right;\n",
       "    }\n",
       "</style>\n",
       "<table border=\"1\" class=\"dataframe\">\n",
       "  <thead>\n",
       "    <tr style=\"text-align: right;\">\n",
       "      <th></th>\n",
       "      <th>SK_ID_PREV</th>\n",
       "      <th>SK_ID_CURR</th>\n",
       "      <th>NAME_CONTRACT_TYPE</th>\n",
       "      <th>AMT_ANNUITY</th>\n",
       "      <th>AMT_APPLICATION</th>\n",
       "      <th>AMT_CREDIT</th>\n",
       "      <th>AMT_DOWN_PAYMENT</th>\n",
       "      <th>AMT_GOODS_PRICE</th>\n",
       "      <th>WEEKDAY_APPR_PROCESS_START</th>\n",
       "      <th>HOUR_APPR_PROCESS_START</th>\n",
       "      <th>...</th>\n",
       "      <th>NAME_SELLER_INDUSTRY</th>\n",
       "      <th>CNT_PAYMENT</th>\n",
       "      <th>NAME_YIELD_GROUP</th>\n",
       "      <th>PRODUCT_COMBINATION</th>\n",
       "      <th>DAYS_FIRST_DRAWING</th>\n",
       "      <th>DAYS_FIRST_DUE</th>\n",
       "      <th>DAYS_LAST_DUE_1ST_VERSION</th>\n",
       "      <th>DAYS_LAST_DUE</th>\n",
       "      <th>DAYS_TERMINATION</th>\n",
       "      <th>NFLAG_INSURED_ON_APPROVAL</th>\n",
       "    </tr>\n",
       "  </thead>\n",
       "  <tbody>\n",
       "    <tr>\n",
       "      <th>55</th>\n",
       "      <td>2741581</td>\n",
       "      <td>383645</td>\n",
       "      <td>Cash loans</td>\n",
       "      <td>47407.500</td>\n",
       "      <td>450000.0</td>\n",
       "      <td>450000.0</td>\n",
       "      <td>NaN</td>\n",
       "      <td>450000.0</td>\n",
       "      <td>MONDAY</td>\n",
       "      <td>13</td>\n",
       "      <td>...</td>\n",
       "      <td>XNA</td>\n",
       "      <td>12.0</td>\n",
       "      <td>middle</td>\n",
       "      <td>Cash X-Sell: middle</td>\n",
       "      <td>365243.0</td>\n",
       "      <td>-527.0</td>\n",
       "      <td>-197.0</td>\n",
       "      <td>-197.0</td>\n",
       "      <td>-194.0</td>\n",
       "      <td>0.0</td>\n",
       "    </tr>\n",
       "    <tr>\n",
       "      <th>91</th>\n",
       "      <td>1524716</td>\n",
       "      <td>273901</td>\n",
       "      <td>Revolving loans</td>\n",
       "      <td>NaN</td>\n",
       "      <td>0.0</td>\n",
       "      <td>0.0</td>\n",
       "      <td>NaN</td>\n",
       "      <td>NaN</td>\n",
       "      <td>MONDAY</td>\n",
       "      <td>14</td>\n",
       "      <td>...</td>\n",
       "      <td>XNA</td>\n",
       "      <td>NaN</td>\n",
       "      <td>XNA</td>\n",
       "      <td>Card Street</td>\n",
       "      <td>NaN</td>\n",
       "      <td>NaN</td>\n",
       "      <td>NaN</td>\n",
       "      <td>NaN</td>\n",
       "      <td>NaN</td>\n",
       "      <td>NaN</td>\n",
       "    </tr>\n",
       "    <tr>\n",
       "      <th>102</th>\n",
       "      <td>2603082</td>\n",
       "      <td>223550</td>\n",
       "      <td>Cash loans</td>\n",
       "      <td>NaN</td>\n",
       "      <td>0.0</td>\n",
       "      <td>0.0</td>\n",
       "      <td>NaN</td>\n",
       "      <td>NaN</td>\n",
       "      <td>SATURDAY</td>\n",
       "      <td>17</td>\n",
       "      <td>...</td>\n",
       "      <td>XNA</td>\n",
       "      <td>NaN</td>\n",
       "      <td>XNA</td>\n",
       "      <td>Cash</td>\n",
       "      <td>NaN</td>\n",
       "      <td>NaN</td>\n",
       "      <td>NaN</td>\n",
       "      <td>NaN</td>\n",
       "      <td>NaN</td>\n",
       "      <td>NaN</td>\n",
       "    </tr>\n",
       "    <tr>\n",
       "      <th>126</th>\n",
       "      <td>1343409</td>\n",
       "      <td>160671</td>\n",
       "      <td>Cash loans</td>\n",
       "      <td>NaN</td>\n",
       "      <td>0.0</td>\n",
       "      <td>0.0</td>\n",
       "      <td>NaN</td>\n",
       "      <td>NaN</td>\n",
       "      <td>TUESDAY</td>\n",
       "      <td>11</td>\n",
       "      <td>...</td>\n",
       "      <td>XNA</td>\n",
       "      <td>NaN</td>\n",
       "      <td>XNA</td>\n",
       "      <td>Cash</td>\n",
       "      <td>NaN</td>\n",
       "      <td>NaN</td>\n",
       "      <td>NaN</td>\n",
       "      <td>NaN</td>\n",
       "      <td>NaN</td>\n",
       "      <td>NaN</td>\n",
       "    </tr>\n",
       "    <tr>\n",
       "      <th>183</th>\n",
       "      <td>2526335</td>\n",
       "      <td>240822</td>\n",
       "      <td>Consumer loans</td>\n",
       "      <td>6767.325</td>\n",
       "      <td>91755.0</td>\n",
       "      <td>33718.5</td>\n",
       "      <td>59625.0</td>\n",
       "      <td>91755.0</td>\n",
       "      <td>SATURDAY</td>\n",
       "      <td>10</td>\n",
       "      <td>...</td>\n",
       "      <td>Consumer electronics</td>\n",
       "      <td>6.0</td>\n",
       "      <td>low_normal</td>\n",
       "      <td>POS household with interest</td>\n",
       "      <td>365243.0</td>\n",
       "      <td>-2730.0</td>\n",
       "      <td>-2580.0</td>\n",
       "      <td>-2580.0</td>\n",
       "      <td>-2557.0</td>\n",
       "      <td>1.0</td>\n",
       "    </tr>\n",
       "  </tbody>\n",
       "</table>\n",
       "<p>5 rows × 37 columns</p>\n",
       "</div>"
      ],
      "text/plain": [
       "     SK_ID_PREV  SK_ID_CURR NAME_CONTRACT_TYPE  AMT_ANNUITY  AMT_APPLICATION  \\\n",
       "55      2741581      383645         Cash loans    47407.500         450000.0   \n",
       "91      1524716      273901    Revolving loans          NaN              0.0   \n",
       "102     2603082      223550         Cash loans          NaN              0.0   \n",
       "126     1343409      160671         Cash loans          NaN              0.0   \n",
       "183     2526335      240822     Consumer loans     6767.325          91755.0   \n",
       "\n",
       "     AMT_CREDIT  AMT_DOWN_PAYMENT  AMT_GOODS_PRICE WEEKDAY_APPR_PROCESS_START  \\\n",
       "55     450000.0               NaN         450000.0                     MONDAY   \n",
       "91          0.0               NaN              NaN                     MONDAY   \n",
       "102         0.0               NaN              NaN                   SATURDAY   \n",
       "126         0.0               NaN              NaN                    TUESDAY   \n",
       "183     33718.5           59625.0          91755.0                   SATURDAY   \n",
       "\n",
       "     HOUR_APPR_PROCESS_START  ...  NAME_SELLER_INDUSTRY  CNT_PAYMENT  \\\n",
       "55                        13  ...                   XNA         12.0   \n",
       "91                        14  ...                   XNA          NaN   \n",
       "102                       17  ...                   XNA          NaN   \n",
       "126                       11  ...                   XNA          NaN   \n",
       "183                       10  ...  Consumer electronics          6.0   \n",
       "\n",
       "     NAME_YIELD_GROUP          PRODUCT_COMBINATION  DAYS_FIRST_DRAWING  \\\n",
       "55             middle          Cash X-Sell: middle            365243.0   \n",
       "91                XNA                  Card Street                 NaN   \n",
       "102               XNA                         Cash                 NaN   \n",
       "126               XNA                         Cash                 NaN   \n",
       "183        low_normal  POS household with interest            365243.0   \n",
       "\n",
       "    DAYS_FIRST_DUE DAYS_LAST_DUE_1ST_VERSION  DAYS_LAST_DUE DAYS_TERMINATION  \\\n",
       "55          -527.0                    -197.0         -197.0           -194.0   \n",
       "91             NaN                       NaN            NaN              NaN   \n",
       "102            NaN                       NaN            NaN              NaN   \n",
       "126            NaN                       NaN            NaN              NaN   \n",
       "183        -2730.0                   -2580.0        -2580.0          -2557.0   \n",
       "\n",
       "    NFLAG_INSURED_ON_APPROVAL  \n",
       "55                        0.0  \n",
       "91                        NaN  \n",
       "102                       NaN  \n",
       "126                       NaN  \n",
       "183                       1.0  \n",
       "\n",
       "[5 rows x 37 columns]"
      ]
     },
     "execution_count": 126,
     "metadata": {},
     "output_type": "execute_result"
    }
   ],
   "source": [
    "previous_application_sample = previous_application[ previous_application['SK_ID_CURR'].isin(loan_ids)]\n",
    "previous_application_sample.head()"
   ]
  },
  {
   "cell_type": "code",
   "execution_count": 127,
   "metadata": {},
   "outputs": [],
   "source": [
    "previous_application_sample.reset_index(inplace=True)"
   ]
  },
  {
   "cell_type": "code",
   "execution_count": 128,
   "metadata": {
    "id": "Qqk7YAoKiJVC"
   },
   "outputs": [],
   "source": [
    "previous_application_sample.to_csv(\"credit_samples/previous_application.csv\", index=False)"
   ]
  },
  {
   "cell_type": "code",
   "execution_count": 129,
   "metadata": {},
   "outputs": [
    {
     "data": {
      "text/plain": [
       "(45187, 38)"
      ]
     },
     "execution_count": 129,
     "metadata": {},
     "output_type": "execute_result"
    }
   ],
   "source": [
    "previous_application_sample.shape"
   ]
  },
  {
   "cell_type": "code",
   "execution_count": 130,
   "metadata": {
    "id": "zVcnBEmnhMKQ",
    "outputId": "99cd8475-3a0b-47ab-fb17-a29e46d2d934"
   },
   "outputs": [
    {
     "name": "stdout",
     "output_type": "stream",
     "text": [
      "<class 'pandas.core.frame.DataFrame'>\n",
      "RangeIndex: 45187 entries, 0 to 45186\n",
      "Data columns (total 38 columns):\n",
      " #   Column                       Non-Null Count  Dtype  \n",
      "---  ------                       --------------  -----  \n",
      " 0   index                        45187 non-null  int64  \n",
      " 1   SK_ID_PREV                   45187 non-null  int64  \n",
      " 2   SK_ID_CURR                   45187 non-null  int64  \n",
      " 3   NAME_CONTRACT_TYPE           45187 non-null  object \n",
      " 4   AMT_ANNUITY                  35443 non-null  float64\n",
      " 5   AMT_APPLICATION              45187 non-null  float64\n",
      " 6   AMT_CREDIT                   45187 non-null  float64\n",
      " 7   AMT_DOWN_PAYMENT             21230 non-null  float64\n",
      " 8   AMT_GOODS_PRICE              35047 non-null  float64\n",
      " 9   WEEKDAY_APPR_PROCESS_START   45187 non-null  object \n",
      " 10  HOUR_APPR_PROCESS_START      45187 non-null  int64  \n",
      " 11  FLAG_LAST_APPL_PER_CONTRACT  45187 non-null  object \n",
      " 12  NFLAG_LAST_APPL_IN_DAY       45187 non-null  int64  \n",
      " 13  RATE_DOWN_PAYMENT            21230 non-null  float64\n",
      " 14  RATE_INTEREST_PRIMARY        164 non-null    float64\n",
      " 15  RATE_INTEREST_PRIVILEGED     164 non-null    float64\n",
      " 16  NAME_CASH_LOAN_PURPOSE       45187 non-null  object \n",
      " 17  NAME_CONTRACT_STATUS         45187 non-null  object \n",
      " 18  DAYS_DECISION                45187 non-null  int64  \n",
      " 19  NAME_PAYMENT_TYPE            45187 non-null  object \n",
      " 20  CODE_REJECT_REASON           45187 non-null  object \n",
      " 21  NAME_TYPE_SUITE              23073 non-null  object \n",
      " 22  NAME_CLIENT_TYPE             45187 non-null  object \n",
      " 23  NAME_GOODS_CATEGORY          45187 non-null  object \n",
      " 24  NAME_PORTFOLIO               45187 non-null  object \n",
      " 25  NAME_PRODUCT_TYPE            45187 non-null  object \n",
      " 26  CHANNEL_TYPE                 45187 non-null  object \n",
      " 27  SELLERPLACE_AREA             45187 non-null  int64  \n",
      " 28  NAME_SELLER_INDUSTRY         45187 non-null  object \n",
      " 29  CNT_PAYMENT                  35444 non-null  float64\n",
      " 30  NAME_YIELD_GROUP             45187 non-null  object \n",
      " 31  PRODUCT_COMBINATION          45178 non-null  object \n",
      " 32  DAYS_FIRST_DRAWING           27115 non-null  float64\n",
      " 33  DAYS_FIRST_DUE               27115 non-null  float64\n",
      " 34  DAYS_LAST_DUE_1ST_VERSION    27115 non-null  float64\n",
      " 35  DAYS_LAST_DUE                27115 non-null  float64\n",
      " 36  DAYS_TERMINATION             27115 non-null  float64\n",
      " 37  NFLAG_INSURED_ON_APPROVAL    27115 non-null  float64\n",
      "dtypes: float64(15), int64(7), object(16)\n",
      "memory usage: 13.1+ MB\n"
     ]
    }
   ],
   "source": [
    "previous_application_sample.info()"
   ]
  },
  {
   "cell_type": "code",
   "execution_count": 131,
   "metadata": {
    "id": "gh6OQey1MW6C",
    "outputId": "67b9a452-7143-4b56-86df-b93888a9675d"
   },
   "outputs": [
    {
     "data": {
      "text/html": [
       "<div>\n",
       "<style scoped>\n",
       "    .dataframe tbody tr th:only-of-type {\n",
       "        vertical-align: middle;\n",
       "    }\n",
       "\n",
       "    .dataframe tbody tr th {\n",
       "        vertical-align: top;\n",
       "    }\n",
       "\n",
       "    .dataframe thead th {\n",
       "        text-align: right;\n",
       "    }\n",
       "</style>\n",
       "<table border=\"1\" class=\"dataframe\">\n",
       "  <thead>\n",
       "    <tr style=\"text-align: right;\">\n",
       "      <th></th>\n",
       "      <th>index</th>\n",
       "      <th>SK_ID_PREV</th>\n",
       "      <th>SK_ID_CURR</th>\n",
       "      <th>NAME_CONTRACT_TYPE</th>\n",
       "      <th>AMT_ANNUITY</th>\n",
       "      <th>AMT_APPLICATION</th>\n",
       "      <th>AMT_CREDIT</th>\n",
       "      <th>AMT_GOODS_PRICE</th>\n",
       "      <th>WEEKDAY_APPR_PROCESS_START</th>\n",
       "      <th>HOUR_APPR_PROCESS_START</th>\n",
       "      <th>...</th>\n",
       "      <th>NAME_CLIENT_TYPE</th>\n",
       "      <th>NAME_GOODS_CATEGORY</th>\n",
       "      <th>NAME_PORTFOLIO</th>\n",
       "      <th>NAME_PRODUCT_TYPE</th>\n",
       "      <th>CHANNEL_TYPE</th>\n",
       "      <th>SELLERPLACE_AREA</th>\n",
       "      <th>NAME_SELLER_INDUSTRY</th>\n",
       "      <th>CNT_PAYMENT</th>\n",
       "      <th>NAME_YIELD_GROUP</th>\n",
       "      <th>PRODUCT_COMBINATION</th>\n",
       "    </tr>\n",
       "  </thead>\n",
       "  <tbody>\n",
       "    <tr>\n",
       "      <th>0</th>\n",
       "      <td>55</td>\n",
       "      <td>2741581</td>\n",
       "      <td>383645</td>\n",
       "      <td>Cash loans</td>\n",
       "      <td>47407.500</td>\n",
       "      <td>450000.0</td>\n",
       "      <td>450000.0</td>\n",
       "      <td>450000.0</td>\n",
       "      <td>MONDAY</td>\n",
       "      <td>13</td>\n",
       "      <td>...</td>\n",
       "      <td>Repeater</td>\n",
       "      <td>XNA</td>\n",
       "      <td>Cash</td>\n",
       "      <td>x-sell</td>\n",
       "      <td>Credit and cash offices</td>\n",
       "      <td>-1</td>\n",
       "      <td>XNA</td>\n",
       "      <td>12.0</td>\n",
       "      <td>middle</td>\n",
       "      <td>Cash X-Sell: middle</td>\n",
       "    </tr>\n",
       "    <tr>\n",
       "      <th>1</th>\n",
       "      <td>91</td>\n",
       "      <td>1524716</td>\n",
       "      <td>273901</td>\n",
       "      <td>Revolving loans</td>\n",
       "      <td>NaN</td>\n",
       "      <td>0.0</td>\n",
       "      <td>0.0</td>\n",
       "      <td>NaN</td>\n",
       "      <td>MONDAY</td>\n",
       "      <td>14</td>\n",
       "      <td>...</td>\n",
       "      <td>Repeater</td>\n",
       "      <td>XNA</td>\n",
       "      <td>XNA</td>\n",
       "      <td>XNA</td>\n",
       "      <td>Credit and cash offices</td>\n",
       "      <td>-1</td>\n",
       "      <td>XNA</td>\n",
       "      <td>NaN</td>\n",
       "      <td>XNA</td>\n",
       "      <td>Card Street</td>\n",
       "    </tr>\n",
       "    <tr>\n",
       "      <th>2</th>\n",
       "      <td>102</td>\n",
       "      <td>2603082</td>\n",
       "      <td>223550</td>\n",
       "      <td>Cash loans</td>\n",
       "      <td>NaN</td>\n",
       "      <td>0.0</td>\n",
       "      <td>0.0</td>\n",
       "      <td>NaN</td>\n",
       "      <td>SATURDAY</td>\n",
       "      <td>17</td>\n",
       "      <td>...</td>\n",
       "      <td>Repeater</td>\n",
       "      <td>XNA</td>\n",
       "      <td>XNA</td>\n",
       "      <td>XNA</td>\n",
       "      <td>Credit and cash offices</td>\n",
       "      <td>-1</td>\n",
       "      <td>XNA</td>\n",
       "      <td>NaN</td>\n",
       "      <td>XNA</td>\n",
       "      <td>Cash</td>\n",
       "    </tr>\n",
       "    <tr>\n",
       "      <th>3</th>\n",
       "      <td>126</td>\n",
       "      <td>1343409</td>\n",
       "      <td>160671</td>\n",
       "      <td>Cash loans</td>\n",
       "      <td>NaN</td>\n",
       "      <td>0.0</td>\n",
       "      <td>0.0</td>\n",
       "      <td>NaN</td>\n",
       "      <td>TUESDAY</td>\n",
       "      <td>11</td>\n",
       "      <td>...</td>\n",
       "      <td>Repeater</td>\n",
       "      <td>XNA</td>\n",
       "      <td>XNA</td>\n",
       "      <td>XNA</td>\n",
       "      <td>Credit and cash offices</td>\n",
       "      <td>-1</td>\n",
       "      <td>XNA</td>\n",
       "      <td>NaN</td>\n",
       "      <td>XNA</td>\n",
       "      <td>Cash</td>\n",
       "    </tr>\n",
       "    <tr>\n",
       "      <th>4</th>\n",
       "      <td>183</td>\n",
       "      <td>2526335</td>\n",
       "      <td>240822</td>\n",
       "      <td>Consumer loans</td>\n",
       "      <td>6767.325</td>\n",
       "      <td>91755.0</td>\n",
       "      <td>33718.5</td>\n",
       "      <td>91755.0</td>\n",
       "      <td>SATURDAY</td>\n",
       "      <td>10</td>\n",
       "      <td>...</td>\n",
       "      <td>Repeater</td>\n",
       "      <td>Consumer Electronics</td>\n",
       "      <td>POS</td>\n",
       "      <td>XNA</td>\n",
       "      <td>Stone</td>\n",
       "      <td>520</td>\n",
       "      <td>Consumer electronics</td>\n",
       "      <td>6.0</td>\n",
       "      <td>low_normal</td>\n",
       "      <td>POS household with interest</td>\n",
       "    </tr>\n",
       "  </tbody>\n",
       "</table>\n",
       "<p>5 rows × 28 columns</p>\n",
       "</div>"
      ],
      "text/plain": [
       "   index  SK_ID_PREV  SK_ID_CURR NAME_CONTRACT_TYPE  AMT_ANNUITY  \\\n",
       "0     55     2741581      383645         Cash loans    47407.500   \n",
       "1     91     1524716      273901    Revolving loans          NaN   \n",
       "2    102     2603082      223550         Cash loans          NaN   \n",
       "3    126     1343409      160671         Cash loans          NaN   \n",
       "4    183     2526335      240822     Consumer loans     6767.325   \n",
       "\n",
       "   AMT_APPLICATION  AMT_CREDIT  AMT_GOODS_PRICE WEEKDAY_APPR_PROCESS_START  \\\n",
       "0         450000.0    450000.0         450000.0                     MONDAY   \n",
       "1              0.0         0.0              NaN                     MONDAY   \n",
       "2              0.0         0.0              NaN                   SATURDAY   \n",
       "3              0.0         0.0              NaN                    TUESDAY   \n",
       "4          91755.0     33718.5          91755.0                   SATURDAY   \n",
       "\n",
       "   HOUR_APPR_PROCESS_START  ... NAME_CLIENT_TYPE   NAME_GOODS_CATEGORY  \\\n",
       "0                       13  ...         Repeater                   XNA   \n",
       "1                       14  ...         Repeater                   XNA   \n",
       "2                       17  ...         Repeater                   XNA   \n",
       "3                       11  ...         Repeater                   XNA   \n",
       "4                       10  ...         Repeater  Consumer Electronics   \n",
       "\n",
       "  NAME_PORTFOLIO NAME_PRODUCT_TYPE             CHANNEL_TYPE SELLERPLACE_AREA  \\\n",
       "0           Cash            x-sell  Credit and cash offices               -1   \n",
       "1            XNA               XNA  Credit and cash offices               -1   \n",
       "2            XNA               XNA  Credit and cash offices               -1   \n",
       "3            XNA               XNA  Credit and cash offices               -1   \n",
       "4            POS               XNA                    Stone              520   \n",
       "\n",
       "   NAME_SELLER_INDUSTRY CNT_PAYMENT NAME_YIELD_GROUP  \\\n",
       "0                   XNA        12.0           middle   \n",
       "1                   XNA         NaN              XNA   \n",
       "2                   XNA         NaN              XNA   \n",
       "3                   XNA         NaN              XNA   \n",
       "4  Consumer electronics         6.0       low_normal   \n",
       "\n",
       "           PRODUCT_COMBINATION  \n",
       "0          Cash X-Sell: middle  \n",
       "1                  Card Street  \n",
       "2                         Cash  \n",
       "3                         Cash  \n",
       "4  POS household with interest  \n",
       "\n",
       "[5 rows x 28 columns]"
      ]
     },
     "execution_count": 131,
     "metadata": {},
     "output_type": "execute_result"
    }
   ],
   "source": [
    "columns = ['AMT_DOWN_PAYMENT','RATE_DOWN_PAYMENT','RATE_INTEREST_PRIMARY','RATE_INTEREST_PRIVILEGED','DAYS_FIRST_DRAWING','DAYS_FIRST_DUE',\n",
    "           'DAYS_LAST_DUE_1ST_VERSION','DAYS_LAST_DUE','DAYS_TERMINATION','NFLAG_INSURED_ON_APPROVAL']\n",
    "selected_previous_application_sample = previous_application_sample.drop(columns=columns, axis=1)\n",
    "selected_previous_application_sample.head()"
   ]
  },
  {
   "cell_type": "code",
   "execution_count": 132,
   "metadata": {
    "id": "R01VQx2hA5kY",
    "outputId": "56e2e653-ce44-4205-f193-f6ef5c9f8214"
   },
   "outputs": [
    {
     "data": {
      "text/plain": [
       "Index(['AMT_ANNUITY', 'AMT_GOODS_PRICE', 'NAME_TYPE_SUITE', 'CNT_PAYMENT',\n",
       "       'PRODUCT_COMBINATION'],\n",
       "      dtype='object')"
      ]
     },
     "execution_count": 132,
     "metadata": {},
     "output_type": "execute_result"
    }
   ],
   "source": [
    "selected_previous_application_sample.columns[selected_previous_application_sample.isnull().any()]"
   ]
  },
  {
   "cell_type": "code",
   "execution_count": 133,
   "metadata": {
    "id": "uAf5LLRCA6S2"
   },
   "outputs": [],
   "source": [
    "selected_previous_application_sample['AMT_ANNUITY'].fillna(selected_previous_application_sample['AMT_ANNUITY'].median(),inplace=True)\n",
    "selected_previous_application_sample['CNT_PAYMENT'].fillna(selected_previous_application_sample['CNT_PAYMENT'].median(),inplace=True)\n",
    "selected_previous_application_sample['AMT_GOODS_PRICE'].fillna(selected_previous_application_sample['AMT_GOODS_PRICE'].median(),inplace=True)"
   ]
  },
  {
   "cell_type": "code",
   "execution_count": 134,
   "metadata": {
    "id": "VjrLVhHhBBYz",
    "outputId": "8e107efe-0395-42d2-ca56-a888deb7dda9"
   },
   "outputs": [
    {
     "data": {
      "text/plain": [
       "Unaccompanied      13770\n",
       "Family              5706\n",
       "Spouse, partner     1920\n",
       "Children             858\n",
       "Other_B              510\n",
       "Other_A              236\n",
       "Group of people       73\n",
       "Name: NAME_TYPE_SUITE, dtype: int64"
      ]
     },
     "execution_count": 134,
     "metadata": {},
     "output_type": "execute_result"
    }
   ],
   "source": [
    "selected_previous_application_sample['NAME_TYPE_SUITE'].value_counts()"
   ]
  },
  {
   "cell_type": "code",
   "execution_count": 135,
   "metadata": {
    "id": "4V09wPgTBBnl"
   },
   "outputs": [],
   "source": [
    "selected_previous_application_sample['NAME_TYPE_SUITE'].fillna('Unaccompanied',inplace=True)"
   ]
  },
  {
   "cell_type": "code",
   "execution_count": 136,
   "metadata": {
    "id": "4vjs-9DxBXbd",
    "outputId": "b1a7c8ff-75db-4cf0-d5c1-8c2adf3c544f"
   },
   "outputs": [
    {
     "data": {
      "text/plain": [
       "Cash                              7425\n",
       "POS household with interest       7282\n",
       "POS mobile with interest          6028\n",
       "Cash X-Sell: middle               3797\n",
       "Cash X-Sell: low                  3534\n",
       "Card Street                       3127\n",
       "POS industry with interest        2619\n",
       "POS household without interest    2330\n",
       "Card X-Sell                       2151\n",
       "Cash Street: high                 1662\n",
       "Cash X-Sell: high                 1629\n",
       "Cash Street: middle                945\n",
       "Cash Street: low                   920\n",
       "POS other with interest            671\n",
       "POS mobile without interest        615\n",
       "POS industry without interest      364\n",
       "POS others without interest         79\n",
       "Name: PRODUCT_COMBINATION, dtype: int64"
      ]
     },
     "execution_count": 136,
     "metadata": {},
     "output_type": "execute_result"
    }
   ],
   "source": [
    "selected_previous_application_sample['PRODUCT_COMBINATION'].value_counts()"
   ]
  },
  {
   "cell_type": "code",
   "execution_count": 137,
   "metadata": {
    "id": "XxI-paZlBoMy"
   },
   "outputs": [],
   "source": [
    "selected_previous_application_sample['PRODUCT_COMBINATION'].fillna('Cash',inplace=True)"
   ]
  },
  {
   "cell_type": "markdown",
   "metadata": {
    "id": "SCT4yNEkYbAg"
   },
   "source": [
    "#### Feature engineering / extraction"
   ]
  },
  {
   "cell_type": "code",
   "execution_count": 138,
   "metadata": {
    "id": "YtjsFVgxYeA1",
    "outputId": "7c70ac01-9ac7-41c0-cdd2-e700784b2bce"
   },
   "outputs": [
    {
     "data": {
      "text/html": [
       "<div>\n",
       "<style scoped>\n",
       "    .dataframe tbody tr th:only-of-type {\n",
       "        vertical-align: middle;\n",
       "    }\n",
       "\n",
       "    .dataframe tbody tr th {\n",
       "        vertical-align: top;\n",
       "    }\n",
       "\n",
       "    .dataframe thead th {\n",
       "        text-align: right;\n",
       "    }\n",
       "</style>\n",
       "<table border=\"1\" class=\"dataframe\">\n",
       "  <thead>\n",
       "    <tr style=\"text-align: right;\">\n",
       "      <th></th>\n",
       "      <th>index</th>\n",
       "      <th>SK_ID_PREV</th>\n",
       "      <th>SK_ID_CURR</th>\n",
       "      <th>NAME_CONTRACT_TYPE</th>\n",
       "      <th>AMT_ANNUITY</th>\n",
       "      <th>AMT_APPLICATION</th>\n",
       "      <th>AMT_CREDIT</th>\n",
       "      <th>AMT_GOODS_PRICE</th>\n",
       "      <th>WEEKDAY_APPR_PROCESS_START</th>\n",
       "      <th>HOUR_APPR_PROCESS_START</th>\n",
       "      <th>...</th>\n",
       "      <th>NAME_CLIENT_TYPE</th>\n",
       "      <th>NAME_GOODS_CATEGORY</th>\n",
       "      <th>NAME_PORTFOLIO</th>\n",
       "      <th>NAME_PRODUCT_TYPE</th>\n",
       "      <th>CHANNEL_TYPE</th>\n",
       "      <th>SELLERPLACE_AREA</th>\n",
       "      <th>NAME_SELLER_INDUSTRY</th>\n",
       "      <th>CNT_PAYMENT</th>\n",
       "      <th>NAME_YIELD_GROUP</th>\n",
       "      <th>PRODUCT_COMBINATION</th>\n",
       "    </tr>\n",
       "  </thead>\n",
       "  <tbody>\n",
       "    <tr>\n",
       "      <th>0</th>\n",
       "      <td>55</td>\n",
       "      <td>2741581</td>\n",
       "      <td>383645</td>\n",
       "      <td>Cash loans</td>\n",
       "      <td>47407.500</td>\n",
       "      <td>450000.0</td>\n",
       "      <td>450000.0</td>\n",
       "      <td>450000.0</td>\n",
       "      <td>MONDAY</td>\n",
       "      <td>13</td>\n",
       "      <td>...</td>\n",
       "      <td>Repeater</td>\n",
       "      <td>XNA</td>\n",
       "      <td>Cash</td>\n",
       "      <td>x-sell</td>\n",
       "      <td>Credit and cash offices</td>\n",
       "      <td>-1</td>\n",
       "      <td>XNA</td>\n",
       "      <td>12.0</td>\n",
       "      <td>middle</td>\n",
       "      <td>Cash X-Sell: middle</td>\n",
       "    </tr>\n",
       "    <tr>\n",
       "      <th>1</th>\n",
       "      <td>91</td>\n",
       "      <td>1524716</td>\n",
       "      <td>273901</td>\n",
       "      <td>Revolving loans</td>\n",
       "      <td>11198.565</td>\n",
       "      <td>0.0</td>\n",
       "      <td>0.0</td>\n",
       "      <td>109642.5</td>\n",
       "      <td>MONDAY</td>\n",
       "      <td>14</td>\n",
       "      <td>...</td>\n",
       "      <td>Repeater</td>\n",
       "      <td>XNA</td>\n",
       "      <td>XNA</td>\n",
       "      <td>XNA</td>\n",
       "      <td>Credit and cash offices</td>\n",
       "      <td>-1</td>\n",
       "      <td>XNA</td>\n",
       "      <td>12.0</td>\n",
       "      <td>XNA</td>\n",
       "      <td>Card Street</td>\n",
       "    </tr>\n",
       "    <tr>\n",
       "      <th>2</th>\n",
       "      <td>102</td>\n",
       "      <td>2603082</td>\n",
       "      <td>223550</td>\n",
       "      <td>Cash loans</td>\n",
       "      <td>11198.565</td>\n",
       "      <td>0.0</td>\n",
       "      <td>0.0</td>\n",
       "      <td>109642.5</td>\n",
       "      <td>SATURDAY</td>\n",
       "      <td>17</td>\n",
       "      <td>...</td>\n",
       "      <td>Repeater</td>\n",
       "      <td>XNA</td>\n",
       "      <td>XNA</td>\n",
       "      <td>XNA</td>\n",
       "      <td>Credit and cash offices</td>\n",
       "      <td>-1</td>\n",
       "      <td>XNA</td>\n",
       "      <td>12.0</td>\n",
       "      <td>XNA</td>\n",
       "      <td>Cash</td>\n",
       "    </tr>\n",
       "    <tr>\n",
       "      <th>3</th>\n",
       "      <td>126</td>\n",
       "      <td>1343409</td>\n",
       "      <td>160671</td>\n",
       "      <td>Cash loans</td>\n",
       "      <td>11198.565</td>\n",
       "      <td>0.0</td>\n",
       "      <td>0.0</td>\n",
       "      <td>109642.5</td>\n",
       "      <td>TUESDAY</td>\n",
       "      <td>11</td>\n",
       "      <td>...</td>\n",
       "      <td>Repeater</td>\n",
       "      <td>XNA</td>\n",
       "      <td>XNA</td>\n",
       "      <td>XNA</td>\n",
       "      <td>Credit and cash offices</td>\n",
       "      <td>-1</td>\n",
       "      <td>XNA</td>\n",
       "      <td>12.0</td>\n",
       "      <td>XNA</td>\n",
       "      <td>Cash</td>\n",
       "    </tr>\n",
       "    <tr>\n",
       "      <th>4</th>\n",
       "      <td>183</td>\n",
       "      <td>2526335</td>\n",
       "      <td>240822</td>\n",
       "      <td>Consumer loans</td>\n",
       "      <td>6767.325</td>\n",
       "      <td>91755.0</td>\n",
       "      <td>33718.5</td>\n",
       "      <td>91755.0</td>\n",
       "      <td>SATURDAY</td>\n",
       "      <td>10</td>\n",
       "      <td>...</td>\n",
       "      <td>Repeater</td>\n",
       "      <td>Consumer Electronics</td>\n",
       "      <td>POS</td>\n",
       "      <td>XNA</td>\n",
       "      <td>Stone</td>\n",
       "      <td>520</td>\n",
       "      <td>Consumer electronics</td>\n",
       "      <td>6.0</td>\n",
       "      <td>low_normal</td>\n",
       "      <td>POS household with interest</td>\n",
       "    </tr>\n",
       "  </tbody>\n",
       "</table>\n",
       "<p>5 rows × 28 columns</p>\n",
       "</div>"
      ],
      "text/plain": [
       "   index  SK_ID_PREV  SK_ID_CURR NAME_CONTRACT_TYPE  AMT_ANNUITY  \\\n",
       "0     55     2741581      383645         Cash loans    47407.500   \n",
       "1     91     1524716      273901    Revolving loans    11198.565   \n",
       "2    102     2603082      223550         Cash loans    11198.565   \n",
       "3    126     1343409      160671         Cash loans    11198.565   \n",
       "4    183     2526335      240822     Consumer loans     6767.325   \n",
       "\n",
       "   AMT_APPLICATION  AMT_CREDIT  AMT_GOODS_PRICE WEEKDAY_APPR_PROCESS_START  \\\n",
       "0         450000.0    450000.0         450000.0                     MONDAY   \n",
       "1              0.0         0.0         109642.5                     MONDAY   \n",
       "2              0.0         0.0         109642.5                   SATURDAY   \n",
       "3              0.0         0.0         109642.5                    TUESDAY   \n",
       "4          91755.0     33718.5          91755.0                   SATURDAY   \n",
       "\n",
       "   HOUR_APPR_PROCESS_START  ... NAME_CLIENT_TYPE   NAME_GOODS_CATEGORY  \\\n",
       "0                       13  ...         Repeater                   XNA   \n",
       "1                       14  ...         Repeater                   XNA   \n",
       "2                       17  ...         Repeater                   XNA   \n",
       "3                       11  ...         Repeater                   XNA   \n",
       "4                       10  ...         Repeater  Consumer Electronics   \n",
       "\n",
       "  NAME_PORTFOLIO NAME_PRODUCT_TYPE             CHANNEL_TYPE SELLERPLACE_AREA  \\\n",
       "0           Cash            x-sell  Credit and cash offices               -1   \n",
       "1            XNA               XNA  Credit and cash offices               -1   \n",
       "2            XNA               XNA  Credit and cash offices               -1   \n",
       "3            XNA               XNA  Credit and cash offices               -1   \n",
       "4            POS               XNA                    Stone              520   \n",
       "\n",
       "   NAME_SELLER_INDUSTRY CNT_PAYMENT NAME_YIELD_GROUP  \\\n",
       "0                   XNA        12.0           middle   \n",
       "1                   XNA        12.0              XNA   \n",
       "2                   XNA        12.0              XNA   \n",
       "3                   XNA        12.0              XNA   \n",
       "4  Consumer electronics         6.0       low_normal   \n",
       "\n",
       "           PRODUCT_COMBINATION  \n",
       "0          Cash X-Sell: middle  \n",
       "1                  Card Street  \n",
       "2                         Cash  \n",
       "3                         Cash  \n",
       "4  POS household with interest  \n",
       "\n",
       "[5 rows x 28 columns]"
      ]
     },
     "execution_count": 138,
     "metadata": {},
     "output_type": "execute_result"
    }
   ],
   "source": [
    "selected_previous_application_sample.head()"
   ]
  },
  {
   "cell_type": "code",
   "execution_count": 139,
   "metadata": {
    "id": "I04TBGw0Ydyp"
   },
   "outputs": [],
   "source": [
    "# Difference between the amount the client applied for and the awarded amount \n",
    "selected_previous_application_sample['APPLIED_AWARDED_AMOUNT_DIFF'] = selected_previous_application_sample[\"AMT_CREDIT\"] - selected_previous_application_sample[\"AMT_APPLICATION\"]"
   ]
  },
  {
   "cell_type": "code",
   "execution_count": 140,
   "metadata": {
    "id": "p3NxkzACbaiu",
    "outputId": "60f8724e-03b0-4a00-f50a-0c527102dbbb"
   },
   "outputs": [
    {
     "data": {
      "text/plain": [
       "count    4.518700e+04\n",
       "mean     2.110667e+04\n",
       "std      7.143277e+04\n",
       "min     -1.233000e+06\n",
       "25%      0.000000e+00\n",
       "50%      0.000000e+00\n",
       "75%      1.296000e+04\n",
       "max      9.000000e+05\n",
       "Name: APPLIED_AWARDED_AMOUNT_DIFF, dtype: float64"
      ]
     },
     "execution_count": 140,
     "metadata": {},
     "output_type": "execute_result"
    }
   ],
   "source": [
    "selected_previous_application_sample['APPLIED_AWARDED_AMOUNT_DIFF'].describe()"
   ]
  },
  {
   "cell_type": "code",
   "execution_count": 141,
   "metadata": {
    "id": "-A-n0fY1bakh"
   },
   "outputs": [],
   "source": [
    "# Difference between the price of goods and the loan amount the client applied for\n",
    "selected_previous_application_sample['GOODS_PRICE_APPLIED_DIFF'] = selected_previous_application_sample[\"AMT_GOODS_PRICE\"] - selected_previous_application_sample[\"AMT_APPLICATION\"]"
   ]
  },
  {
   "cell_type": "code",
   "execution_count": 142,
   "metadata": {
    "id": "GNCfIxhhbamn",
    "outputId": "5234840c-e3c7-4dd2-f1aa-9869395df9b0"
   },
   "outputs": [
    {
     "data": {
      "text/plain": [
       "count     45187.000000\n",
       "mean      24650.672760\n",
       "std       46027.894882\n",
       "min     -247500.000000\n",
       "25%           0.000000\n",
       "50%           0.000000\n",
       "75%           0.000000\n",
       "max      540000.000000\n",
       "Name: GOODS_PRICE_APPLIED_DIFF, dtype: float64"
      ]
     },
     "execution_count": 142,
     "metadata": {},
     "output_type": "execute_result"
    }
   ],
   "source": [
    "selected_previous_application_sample['GOODS_PRICE_APPLIED_DIFF'].describe()"
   ]
  },
  {
   "cell_type": "markdown",
   "metadata": {
    "id": "F4swO5NyeqJM"
   },
   "source": [
    "### Project Formulation\n",
    "\n"
   ]
  },
  {
   "cell_type": "markdown",
   "metadata": {
    "id": "wTtLDVEq2mwV"
   },
   "source": [
    "Objective: Predict whether an applicant will be able to repay a loan.\n",
    "\n",
    "Target: 1 - client with payment difficulties: he/she had late payment more than X days on at least one of the first Y installments of the loan in our sample, 0 - all other cases\n",
    "\n",
    "Features: Application features, previous application features, bureau features, installment features, credit balance features, and POS cash balance features. "
   ]
  },
  {
   "cell_type": "markdown",
   "metadata": {
    "id": "ZVzAYxldWVDk"
   },
   "source": [
    "### Join tables \n",
    "installments_payments_sample\n",
    "\n",
    "POS_CASH_balance_sample\n",
    "\n",
    "selected_previous_application_sample\n",
    "\n",
    "credit_card_balance_sample\n",
    "\n",
    "selected_application_sample\n",
    "\n",
    "previous_balance"
   ]
  },
  {
   "cell_type": "code",
   "execution_count": 143,
   "metadata": {
    "id": "DosOQDNRk9bm",
    "outputId": "76fc0b12-225e-473d-e386-ecfdd5e78e33"
   },
   "outputs": [
    {
     "data": {
      "text/html": [
       "<div>\n",
       "<style scoped>\n",
       "    .dataframe tbody tr th:only-of-type {\n",
       "        vertical-align: middle;\n",
       "    }\n",
       "\n",
       "    .dataframe tbody tr th {\n",
       "        vertical-align: top;\n",
       "    }\n",
       "\n",
       "    .dataframe thead th {\n",
       "        text-align: right;\n",
       "    }\n",
       "</style>\n",
       "<table border=\"1\" class=\"dataframe\">\n",
       "  <thead>\n",
       "    <tr style=\"text-align: right;\">\n",
       "      <th></th>\n",
       "      <th>index</th>\n",
       "      <th>SK_ID_PREV</th>\n",
       "      <th>SK_ID_CURR</th>\n",
       "      <th>NUM_INSTALMENT_VERSION</th>\n",
       "      <th>NUM_INSTALMENT_NUMBER</th>\n",
       "      <th>DAYS_INSTALMENT</th>\n",
       "      <th>DAYS_ENTRY_PAYMENT</th>\n",
       "      <th>AMT_INSTALMENT</th>\n",
       "      <th>AMT_PAYMENT</th>\n",
       "    </tr>\n",
       "  </thead>\n",
       "  <tbody>\n",
       "    <tr>\n",
       "      <th>166981</th>\n",
       "      <td>6079133</td>\n",
       "      <td>1782140</td>\n",
       "      <td>253010</td>\n",
       "      <td>0.0</td>\n",
       "      <td>51</td>\n",
       "      <td>-2097.0</td>\n",
       "      <td>-2112.0</td>\n",
       "      <td>4500.0</td>\n",
       "      <td>4500.0</td>\n",
       "    </tr>\n",
       "  </tbody>\n",
       "</table>\n",
       "</div>"
      ],
      "text/plain": [
       "          index  SK_ID_PREV  SK_ID_CURR  NUM_INSTALMENT_VERSION  \\\n",
       "166981  6079133     1782140      253010                     0.0   \n",
       "\n",
       "        NUM_INSTALMENT_NUMBER  DAYS_INSTALMENT  DAYS_ENTRY_PAYMENT  \\\n",
       "166981                     51          -2097.0             -2112.0   \n",
       "\n",
       "        AMT_INSTALMENT  AMT_PAYMENT  \n",
       "166981          4500.0       4500.0  "
      ]
     },
     "execution_count": 143,
     "metadata": {},
     "output_type": "execute_result"
    }
   ],
   "source": [
    "installments_payments_sample.sample()"
   ]
  },
  {
   "cell_type": "code",
   "execution_count": 144,
   "metadata": {
    "id": "q1WrIUGdj2zJ",
    "outputId": "b475ef23-36dd-4d97-8233-96db3a44b1d5"
   },
   "outputs": [
    {
     "data": {
      "text/html": [
       "<div>\n",
       "<style scoped>\n",
       "    .dataframe tbody tr th:only-of-type {\n",
       "        vertical-align: middle;\n",
       "    }\n",
       "\n",
       "    .dataframe tbody tr th {\n",
       "        vertical-align: top;\n",
       "    }\n",
       "\n",
       "    .dataframe thead th {\n",
       "        text-align: right;\n",
       "    }\n",
       "</style>\n",
       "<table border=\"1\" class=\"dataframe\">\n",
       "  <thead>\n",
       "    <tr style=\"text-align: right;\">\n",
       "      <th></th>\n",
       "      <th>index</th>\n",
       "      <th>SK_ID_PREV</th>\n",
       "      <th>SK_ID_CURR</th>\n",
       "      <th>NAME_CONTRACT_TYPE</th>\n",
       "      <th>AMT_ANNUITY</th>\n",
       "      <th>AMT_APPLICATION</th>\n",
       "      <th>AMT_CREDIT</th>\n",
       "      <th>AMT_GOODS_PRICE</th>\n",
       "      <th>WEEKDAY_APPR_PROCESS_START</th>\n",
       "      <th>HOUR_APPR_PROCESS_START</th>\n",
       "      <th>...</th>\n",
       "      <th>NAME_PORTFOLIO</th>\n",
       "      <th>NAME_PRODUCT_TYPE</th>\n",
       "      <th>CHANNEL_TYPE</th>\n",
       "      <th>SELLERPLACE_AREA</th>\n",
       "      <th>NAME_SELLER_INDUSTRY</th>\n",
       "      <th>CNT_PAYMENT</th>\n",
       "      <th>NAME_YIELD_GROUP</th>\n",
       "      <th>PRODUCT_COMBINATION</th>\n",
       "      <th>APPLIED_AWARDED_AMOUNT_DIFF</th>\n",
       "      <th>GOODS_PRICE_APPLIED_DIFF</th>\n",
       "    </tr>\n",
       "  </thead>\n",
       "  <tbody>\n",
       "    <tr>\n",
       "      <th>41656</th>\n",
       "      <td>1540064</td>\n",
       "      <td>2504057</td>\n",
       "      <td>390892</td>\n",
       "      <td>Consumer loans</td>\n",
       "      <td>6779.475</td>\n",
       "      <td>68035.5</td>\n",
       "      <td>23796.0</td>\n",
       "      <td>68035.5</td>\n",
       "      <td>WEDNESDAY</td>\n",
       "      <td>10</td>\n",
       "      <td>...</td>\n",
       "      <td>POS</td>\n",
       "      <td>XNA</td>\n",
       "      <td>Country-wide</td>\n",
       "      <td>10</td>\n",
       "      <td>Consumer electronics</td>\n",
       "      <td>4.0</td>\n",
       "      <td>low_normal</td>\n",
       "      <td>POS household with interest</td>\n",
       "      <td>-44239.5</td>\n",
       "      <td>0.0</td>\n",
       "    </tr>\n",
       "  </tbody>\n",
       "</table>\n",
       "<p>1 rows × 30 columns</p>\n",
       "</div>"
      ],
      "text/plain": [
       "         index  SK_ID_PREV  SK_ID_CURR NAME_CONTRACT_TYPE  AMT_ANNUITY  \\\n",
       "41656  1540064     2504057      390892     Consumer loans     6779.475   \n",
       "\n",
       "       AMT_APPLICATION  AMT_CREDIT  AMT_GOODS_PRICE  \\\n",
       "41656          68035.5     23796.0          68035.5   \n",
       "\n",
       "      WEEKDAY_APPR_PROCESS_START  HOUR_APPR_PROCESS_START  ... NAME_PORTFOLIO  \\\n",
       "41656                  WEDNESDAY                       10  ...            POS   \n",
       "\n",
       "       NAME_PRODUCT_TYPE  CHANNEL_TYPE SELLERPLACE_AREA  NAME_SELLER_INDUSTRY  \\\n",
       "41656                XNA  Country-wide               10  Consumer electronics   \n",
       "\n",
       "      CNT_PAYMENT NAME_YIELD_GROUP          PRODUCT_COMBINATION  \\\n",
       "41656         4.0       low_normal  POS household with interest   \n",
       "\n",
       "      APPLIED_AWARDED_AMOUNT_DIFF GOODS_PRICE_APPLIED_DIFF  \n",
       "41656                    -44239.5                      0.0  \n",
       "\n",
       "[1 rows x 30 columns]"
      ]
     },
     "execution_count": 144,
     "metadata": {},
     "output_type": "execute_result"
    }
   ],
   "source": [
    "selected_previous_application_sample.sample()"
   ]
  },
  {
   "cell_type": "code",
   "execution_count": 145,
   "metadata": {
    "id": "xpsPndstO3hg",
    "outputId": "91ea3486-4d10-4dbd-93d8-4702cada22c1"
   },
   "outputs": [
    {
     "data": {
      "text/html": [
       "<div>\n",
       "<style scoped>\n",
       "    .dataframe tbody tr th:only-of-type {\n",
       "        vertical-align: middle;\n",
       "    }\n",
       "\n",
       "    .dataframe tbody tr th {\n",
       "        vertical-align: top;\n",
       "    }\n",
       "\n",
       "    .dataframe thead th {\n",
       "        text-align: right;\n",
       "    }\n",
       "</style>\n",
       "<table border=\"1\" class=\"dataframe\">\n",
       "  <thead>\n",
       "    <tr style=\"text-align: right;\">\n",
       "      <th></th>\n",
       "      <th>index</th>\n",
       "      <th>SK_ID_PREV</th>\n",
       "      <th>SK_ID_CURR</th>\n",
       "      <th>MONTHS_BALANCE</th>\n",
       "      <th>CNT_INSTALMENT</th>\n",
       "      <th>CNT_INSTALMENT_FUTURE</th>\n",
       "      <th>NAME_CONTRACT_STATUS</th>\n",
       "      <th>SK_DPD</th>\n",
       "      <th>SK_DPD_DEF</th>\n",
       "    </tr>\n",
       "  </thead>\n",
       "  <tbody>\n",
       "    <tr>\n",
       "      <th>189671</th>\n",
       "      <td>7041501</td>\n",
       "      <td>1362498</td>\n",
       "      <td>236210</td>\n",
       "      <td>-77</td>\n",
       "      <td>12.0</td>\n",
       "      <td>8.0</td>\n",
       "      <td>Active</td>\n",
       "      <td>0</td>\n",
       "      <td>0</td>\n",
       "    </tr>\n",
       "  </tbody>\n",
       "</table>\n",
       "</div>"
      ],
      "text/plain": [
       "          index  SK_ID_PREV  SK_ID_CURR  MONTHS_BALANCE  CNT_INSTALMENT  \\\n",
       "189671  7041501     1362498      236210             -77            12.0   \n",
       "\n",
       "        CNT_INSTALMENT_FUTURE NAME_CONTRACT_STATUS  SK_DPD  SK_DPD_DEF  \n",
       "189671                    8.0               Active       0           0  "
      ]
     },
     "execution_count": 145,
     "metadata": {},
     "output_type": "execute_result"
    }
   ],
   "source": [
    "POS_CASH_balance_sample.sample()"
   ]
  },
  {
   "cell_type": "code",
   "execution_count": 146,
   "metadata": {
    "id": "J06SAvlQO5_s",
    "outputId": "f58b5394-eeb4-4b0a-86d4-665a3780b1c8"
   },
   "outputs": [
    {
     "data": {
      "text/html": [
       "<div>\n",
       "<style scoped>\n",
       "    .dataframe tbody tr th:only-of-type {\n",
       "        vertical-align: middle;\n",
       "    }\n",
       "\n",
       "    .dataframe tbody tr th {\n",
       "        vertical-align: top;\n",
       "    }\n",
       "\n",
       "    .dataframe thead th {\n",
       "        text-align: right;\n",
       "    }\n",
       "</style>\n",
       "<table border=\"1\" class=\"dataframe\">\n",
       "  <thead>\n",
       "    <tr style=\"text-align: right;\">\n",
       "      <th></th>\n",
       "      <th>index</th>\n",
       "      <th>SK_ID_PREV</th>\n",
       "      <th>SK_ID_CURR</th>\n",
       "      <th>CREDIT_MONTHS_BALANCE</th>\n",
       "      <th>AMT_BALANCE</th>\n",
       "      <th>AMT_CREDIT_LIMIT_ACTUAL</th>\n",
       "      <th>AMT_DRAWINGS_ATM_CURRENT</th>\n",
       "      <th>AMT_DRAWINGS_CURRENT</th>\n",
       "      <th>AMT_DRAWINGS_OTHER_CURRENT</th>\n",
       "      <th>AMT_DRAWINGS_POS_CURRENT</th>\n",
       "      <th>...</th>\n",
       "      <th>CNT_DRAWINGS_CURRENT</th>\n",
       "      <th>CNT_DRAWINGS_OTHER_CURRENT</th>\n",
       "      <th>CNT_DRAWINGS_POS_CURRENT</th>\n",
       "      <th>CNT_INSTALMENT_MATURE_CUM</th>\n",
       "      <th>CREDIT_NAME_CONTRACT_STATUS</th>\n",
       "      <th>CREDIT_SK_DPD</th>\n",
       "      <th>CURRENT_SK_DPD_DEF</th>\n",
       "      <th>BALANCE_LIMIT_DIFF</th>\n",
       "      <th>CREDIT_RECEIVABLE_DIFF</th>\n",
       "      <th>TOTAL_DRAWINGS</th>\n",
       "    </tr>\n",
       "  </thead>\n",
       "  <tbody>\n",
       "    <tr>\n",
       "      <th>102911</th>\n",
       "      <td>3727060</td>\n",
       "      <td>1334523</td>\n",
       "      <td>194796</td>\n",
       "      <td>-35</td>\n",
       "      <td>0.0</td>\n",
       "      <td>180000</td>\n",
       "      <td>0.0</td>\n",
       "      <td>0.0</td>\n",
       "      <td>0.0</td>\n",
       "      <td>0.0</td>\n",
       "      <td>...</td>\n",
       "      <td>0</td>\n",
       "      <td>0.0</td>\n",
       "      <td>0.0</td>\n",
       "      <td>52.0</td>\n",
       "      <td>Active</td>\n",
       "      <td>0</td>\n",
       "      <td>0</td>\n",
       "      <td>-180000.0</td>\n",
       "      <td>0.0</td>\n",
       "      <td>0.0</td>\n",
       "    </tr>\n",
       "  </tbody>\n",
       "</table>\n",
       "<p>1 rows × 27 columns</p>\n",
       "</div>"
      ],
      "text/plain": [
       "          index  SK_ID_PREV  SK_ID_CURR  CREDIT_MONTHS_BALANCE  AMT_BALANCE  \\\n",
       "102911  3727060     1334523      194796                    -35          0.0   \n",
       "\n",
       "        AMT_CREDIT_LIMIT_ACTUAL  AMT_DRAWINGS_ATM_CURRENT  \\\n",
       "102911                   180000                       0.0   \n",
       "\n",
       "        AMT_DRAWINGS_CURRENT  AMT_DRAWINGS_OTHER_CURRENT  \\\n",
       "102911                   0.0                         0.0   \n",
       "\n",
       "        AMT_DRAWINGS_POS_CURRENT  ...  CNT_DRAWINGS_CURRENT  \\\n",
       "102911                       0.0  ...                     0   \n",
       "\n",
       "        CNT_DRAWINGS_OTHER_CURRENT  CNT_DRAWINGS_POS_CURRENT  \\\n",
       "102911                         0.0                       0.0   \n",
       "\n",
       "        CNT_INSTALMENT_MATURE_CUM  CREDIT_NAME_CONTRACT_STATUS  CREDIT_SK_DPD  \\\n",
       "102911                       52.0                       Active              0   \n",
       "\n",
       "        CURRENT_SK_DPD_DEF  BALANCE_LIMIT_DIFF  CREDIT_RECEIVABLE_DIFF  \\\n",
       "102911                   0           -180000.0                     0.0   \n",
       "\n",
       "        TOTAL_DRAWINGS  \n",
       "102911             0.0  \n",
       "\n",
       "[1 rows x 27 columns]"
      ]
     },
     "execution_count": 146,
     "metadata": {},
     "output_type": "execute_result"
    }
   ],
   "source": [
    "credit_card_balance_sample.sample()"
   ]
  },
  {
   "cell_type": "code",
   "execution_count": 147,
   "metadata": {
    "id": "CaY2EudsQ7uM",
    "outputId": "893477b9-105d-4f41-d054-a09d6c1440b3"
   },
   "outputs": [
    {
     "data": {
      "text/html": [
       "<div>\n",
       "<style scoped>\n",
       "    .dataframe tbody tr th:only-of-type {\n",
       "        vertical-align: middle;\n",
       "    }\n",
       "\n",
       "    .dataframe tbody tr th {\n",
       "        vertical-align: top;\n",
       "    }\n",
       "\n",
       "    .dataframe thead th {\n",
       "        text-align: right;\n",
       "    }\n",
       "</style>\n",
       "<table border=\"1\" class=\"dataframe\">\n",
       "  <thead>\n",
       "    <tr style=\"text-align: right;\">\n",
       "      <th></th>\n",
       "      <th>index</th>\n",
       "      <th>SK_ID_CURR</th>\n",
       "      <th>SK_ID_BUREAU</th>\n",
       "      <th>CREDIT_ACTIVE</th>\n",
       "      <th>CREDIT_CURRENCY</th>\n",
       "      <th>DAYS_CREDIT</th>\n",
       "      <th>CREDIT_DAY_OVERDUE</th>\n",
       "      <th>DAYS_CREDIT_ENDDATE</th>\n",
       "      <th>DAYS_ENDDATE_FACT</th>\n",
       "      <th>AMT_CREDIT_MAX_OVERDUE</th>\n",
       "      <th>...</th>\n",
       "      <th>AMT_CREDIT_SUM_DEBT</th>\n",
       "      <th>AMT_CREDIT_SUM_LIMIT</th>\n",
       "      <th>AMT_CREDIT_SUM_OVERDUE</th>\n",
       "      <th>CREDIT_TYPE</th>\n",
       "      <th>DAYS_CREDIT_UPDATE</th>\n",
       "      <th>MONTHS_BALANCE</th>\n",
       "      <th>STATUS</th>\n",
       "      <th>CREDIT_LIMIT_ABOVE_ZERO</th>\n",
       "      <th>HAS_DEBT</th>\n",
       "      <th>HAS_OVERDUE_DEBT</th>\n",
       "    </tr>\n",
       "  </thead>\n",
       "  <tbody>\n",
       "    <tr>\n",
       "      <th>477066</th>\n",
       "      <td>1716291</td>\n",
       "      <td>245498</td>\n",
       "      <td>5053747</td>\n",
       "      <td>Closed</td>\n",
       "      <td>currency 1</td>\n",
       "      <td>-2582</td>\n",
       "      <td>0</td>\n",
       "      <td>-2214.0</td>\n",
       "      <td>-2018.0</td>\n",
       "      <td>0.0</td>\n",
       "      <td>...</td>\n",
       "      <td>0.0</td>\n",
       "      <td>0.0</td>\n",
       "      <td>0.0</td>\n",
       "      <td>Consumer credit</td>\n",
       "      <td>-2017</td>\n",
       "      <td>-84</td>\n",
       "      <td>0</td>\n",
       "      <td>0</td>\n",
       "      <td>0</td>\n",
       "      <td>0</td>\n",
       "    </tr>\n",
       "  </tbody>\n",
       "</table>\n",
       "<p>1 rows × 22 columns</p>\n",
       "</div>"
      ],
      "text/plain": [
       "          index  SK_ID_CURR  SK_ID_BUREAU CREDIT_ACTIVE CREDIT_CURRENCY  \\\n",
       "477066  1716291      245498       5053747        Closed      currency 1   \n",
       "\n",
       "        DAYS_CREDIT  CREDIT_DAY_OVERDUE  DAYS_CREDIT_ENDDATE  \\\n",
       "477066        -2582                   0              -2214.0   \n",
       "\n",
       "        DAYS_ENDDATE_FACT  AMT_CREDIT_MAX_OVERDUE  ...  AMT_CREDIT_SUM_DEBT  \\\n",
       "477066            -2018.0                     0.0  ...                  0.0   \n",
       "\n",
       "        AMT_CREDIT_SUM_LIMIT  AMT_CREDIT_SUM_OVERDUE      CREDIT_TYPE  \\\n",
       "477066                   0.0                     0.0  Consumer credit   \n",
       "\n",
       "        DAYS_CREDIT_UPDATE MONTHS_BALANCE  STATUS  CREDIT_LIMIT_ABOVE_ZERO  \\\n",
       "477066               -2017            -84       0                        0   \n",
       "\n",
       "       HAS_DEBT  HAS_OVERDUE_DEBT  \n",
       "477066        0                 0  \n",
       "\n",
       "[1 rows x 22 columns]"
      ]
     },
     "execution_count": 147,
     "metadata": {},
     "output_type": "execute_result"
    }
   ],
   "source": [
    "previous_balance.tail(1)"
   ]
  },
  {
   "cell_type": "code",
   "execution_count": 148,
   "metadata": {
    "id": "x6kQX8eWTMuC",
    "outputId": "fe42d253-607e-43e0-9a43-5cce390c0ee7"
   },
   "outputs": [],
   "source": [
    "# credit_card_balance_sample.merge(previous_balance,on=\"SK_ID_CURR\")"
   ]
  },
  {
   "cell_type": "code",
   "execution_count": 149,
   "metadata": {},
   "outputs": [
    {
     "data": {
      "text/plain": [
       "269947"
      ]
     },
     "execution_count": 149,
     "metadata": {},
     "output_type": "execute_result"
    }
   ],
   "source": [
    "len(POS_CASH_balance_sample) # 269,947"
   ]
  },
  {
   "cell_type": "code",
   "execution_count": 150,
   "metadata": {},
   "outputs": [
    {
     "data": {
      "text/plain": [
       "370905"
      ]
     },
     "execution_count": 150,
     "metadata": {},
     "output_type": "execute_result"
    }
   ],
   "source": [
    "len(installments_payments_sample) # 370,905"
   ]
  },
  {
   "cell_type": "code",
   "execution_count": 151,
   "metadata": {},
   "outputs": [
    {
     "data": {
      "text/plain": [
       "10000"
      ]
     },
     "execution_count": 151,
     "metadata": {},
     "output_type": "execute_result"
    }
   ],
   "source": [
    "len(selected_application_sample) # 10,000"
   ]
  },
  {
   "cell_type": "code",
   "execution_count": 152,
   "metadata": {},
   "outputs": [
    {
     "data": {
      "text/html": [
       "<div>\n",
       "<style scoped>\n",
       "    .dataframe tbody tr th:only-of-type {\n",
       "        vertical-align: middle;\n",
       "    }\n",
       "\n",
       "    .dataframe tbody tr th {\n",
       "        vertical-align: top;\n",
       "    }\n",
       "\n",
       "    .dataframe thead th {\n",
       "        text-align: right;\n",
       "    }\n",
       "</style>\n",
       "<table border=\"1\" class=\"dataframe\">\n",
       "  <thead>\n",
       "    <tr style=\"text-align: right;\">\n",
       "      <th></th>\n",
       "      <th>index</th>\n",
       "      <th>SK_ID_CURR</th>\n",
       "      <th>SK_ID_BUREAU</th>\n",
       "      <th>CREDIT_ACTIVE</th>\n",
       "      <th>CREDIT_CURRENCY</th>\n",
       "      <th>DAYS_CREDIT</th>\n",
       "      <th>CREDIT_DAY_OVERDUE</th>\n",
       "      <th>DAYS_CREDIT_ENDDATE</th>\n",
       "      <th>DAYS_ENDDATE_FACT</th>\n",
       "      <th>AMT_CREDIT_MAX_OVERDUE</th>\n",
       "      <th>...</th>\n",
       "      <th>AMT_CREDIT_SUM_DEBT</th>\n",
       "      <th>AMT_CREDIT_SUM_LIMIT</th>\n",
       "      <th>AMT_CREDIT_SUM_OVERDUE</th>\n",
       "      <th>CREDIT_TYPE</th>\n",
       "      <th>DAYS_CREDIT_UPDATE</th>\n",
       "      <th>MONTHS_BALANCE</th>\n",
       "      <th>STATUS</th>\n",
       "      <th>CREDIT_LIMIT_ABOVE_ZERO</th>\n",
       "      <th>HAS_DEBT</th>\n",
       "      <th>HAS_OVERDUE_DEBT</th>\n",
       "    </tr>\n",
       "  </thead>\n",
       "  <tbody>\n",
       "    <tr>\n",
       "      <th>184295</th>\n",
       "      <td>650994</td>\n",
       "      <td>427208</td>\n",
       "      <td>6783528</td>\n",
       "      <td>Active</td>\n",
       "      <td>currency 1</td>\n",
       "      <td>-2731</td>\n",
       "      <td>0</td>\n",
       "      <td>-2548.0</td>\n",
       "      <td>-1148.0</td>\n",
       "      <td>4848.975</td>\n",
       "      <td>...</td>\n",
       "      <td>0.0</td>\n",
       "      <td>0.0</td>\n",
       "      <td>0.0</td>\n",
       "      <td>Consumer credit</td>\n",
       "      <td>-98</td>\n",
       "      <td>-15</td>\n",
       "      <td>C</td>\n",
       "      <td>0</td>\n",
       "      <td>0</td>\n",
       "      <td>0</td>\n",
       "    </tr>\n",
       "  </tbody>\n",
       "</table>\n",
       "<p>1 rows × 22 columns</p>\n",
       "</div>"
      ],
      "text/plain": [
       "         index  SK_ID_CURR  SK_ID_BUREAU CREDIT_ACTIVE CREDIT_CURRENCY  \\\n",
       "184295  650994      427208       6783528        Active      currency 1   \n",
       "\n",
       "        DAYS_CREDIT  CREDIT_DAY_OVERDUE  DAYS_CREDIT_ENDDATE  \\\n",
       "184295        -2731                   0              -2548.0   \n",
       "\n",
       "        DAYS_ENDDATE_FACT  AMT_CREDIT_MAX_OVERDUE  ...  AMT_CREDIT_SUM_DEBT  \\\n",
       "184295            -1148.0                4848.975  ...                  0.0   \n",
       "\n",
       "        AMT_CREDIT_SUM_LIMIT  AMT_CREDIT_SUM_OVERDUE      CREDIT_TYPE  \\\n",
       "184295                   0.0                     0.0  Consumer credit   \n",
       "\n",
       "        DAYS_CREDIT_UPDATE MONTHS_BALANCE  STATUS  CREDIT_LIMIT_ABOVE_ZERO  \\\n",
       "184295                 -98            -15       C                        0   \n",
       "\n",
       "       HAS_DEBT  HAS_OVERDUE_DEBT  \n",
       "184295        0                 0  \n",
       "\n",
       "[1 rows x 22 columns]"
      ]
     },
     "execution_count": 152,
     "metadata": {},
     "output_type": "execute_result"
    }
   ],
   "source": [
    "previous_balance.sample()"
   ]
  },
  {
   "cell_type": "code",
   "execution_count": 153,
   "metadata": {
    "id": "Pd7edZ9Y2dFE"
   },
   "outputs": [],
   "source": [
    "dff = installments_payments_sample.merge(selected_previous_application_sample, on=['SK_ID_PREV', 'SK_ID_CURR']).\\\n",
    "                             merge(selected_application_sample,on=['SK_ID_CURR'])"
   ]
  },
  {
   "cell_type": "code",
   "execution_count": 154,
   "metadata": {},
   "outputs": [
    {
     "data": {
      "text/html": [
       "<div>\n",
       "<style scoped>\n",
       "    .dataframe tbody tr th:only-of-type {\n",
       "        vertical-align: middle;\n",
       "    }\n",
       "\n",
       "    .dataframe tbody tr th {\n",
       "        vertical-align: top;\n",
       "    }\n",
       "\n",
       "    .dataframe thead th {\n",
       "        text-align: right;\n",
       "    }\n",
       "</style>\n",
       "<table border=\"1\" class=\"dataframe\">\n",
       "  <thead>\n",
       "    <tr style=\"text-align: right;\">\n",
       "      <th></th>\n",
       "      <th>index_x</th>\n",
       "      <th>SK_ID_PREV</th>\n",
       "      <th>SK_ID_CURR</th>\n",
       "      <th>NUM_INSTALMENT_VERSION</th>\n",
       "      <th>NUM_INSTALMENT_NUMBER</th>\n",
       "      <th>DAYS_INSTALMENT</th>\n",
       "      <th>DAYS_ENTRY_PAYMENT</th>\n",
       "      <th>AMT_INSTALMENT</th>\n",
       "      <th>AMT_PAYMENT</th>\n",
       "      <th>index_y</th>\n",
       "      <th>...</th>\n",
       "      <th>FLAG_DOCUMENT_17</th>\n",
       "      <th>FLAG_DOCUMENT_18</th>\n",
       "      <th>FLAG_DOCUMENT_19</th>\n",
       "      <th>FLAG_DOCUMENT_20</th>\n",
       "      <th>FLAG_DOCUMENT_21</th>\n",
       "      <th>CREDIT_INCOME_RATIO</th>\n",
       "      <th>ANNUITY_INCOME_RATIO</th>\n",
       "      <th>CREDIT_TERM</th>\n",
       "      <th>DAYS_EMPLOYED_RATIO</th>\n",
       "      <th>GOODS_PRICE_LOAN_DIFFERENCE</th>\n",
       "    </tr>\n",
       "  </thead>\n",
       "  <tbody>\n",
       "    <tr>\n",
       "      <th>0</th>\n",
       "      <td>14</td>\n",
       "      <td>1594684</td>\n",
       "      <td>100193</td>\n",
       "      <td>0.0</td>\n",
       "      <td>56</td>\n",
       "      <td>-1153.0</td>\n",
       "      <td>-1153.0</td>\n",
       "      <td>301.86</td>\n",
       "      <td>301.86</td>\n",
       "      <td>1180928</td>\n",
       "      <td>...</td>\n",
       "      <td>0</td>\n",
       "      <td>0</td>\n",
       "      <td>0</td>\n",
       "      <td>0</td>\n",
       "      <td>0</td>\n",
       "      <td>1.3168</td>\n",
       "      <td>0.06722</td>\n",
       "      <td>0.051048</td>\n",
       "      <td>0.052576</td>\n",
       "      <td>-71280.0</td>\n",
       "    </tr>\n",
       "    <tr>\n",
       "      <th>1</th>\n",
       "      <td>34978</td>\n",
       "      <td>1594684</td>\n",
       "      <td>100193</td>\n",
       "      <td>0.0</td>\n",
       "      <td>74</td>\n",
       "      <td>-606.0</td>\n",
       "      <td>-606.0</td>\n",
       "      <td>301.86</td>\n",
       "      <td>301.86</td>\n",
       "      <td>1180928</td>\n",
       "      <td>...</td>\n",
       "      <td>0</td>\n",
       "      <td>0</td>\n",
       "      <td>0</td>\n",
       "      <td>0</td>\n",
       "      <td>0</td>\n",
       "      <td>1.3168</td>\n",
       "      <td>0.06722</td>\n",
       "      <td>0.051048</td>\n",
       "      <td>0.052576</td>\n",
       "      <td>-71280.0</td>\n",
       "    </tr>\n",
       "    <tr>\n",
       "      <th>2</th>\n",
       "      <td>42363</td>\n",
       "      <td>1594684</td>\n",
       "      <td>100193</td>\n",
       "      <td>0.0</td>\n",
       "      <td>13</td>\n",
       "      <td>-2463.0</td>\n",
       "      <td>-2463.0</td>\n",
       "      <td>301.86</td>\n",
       "      <td>301.86</td>\n",
       "      <td>1180928</td>\n",
       "      <td>...</td>\n",
       "      <td>0</td>\n",
       "      <td>0</td>\n",
       "      <td>0</td>\n",
       "      <td>0</td>\n",
       "      <td>0</td>\n",
       "      <td>1.3168</td>\n",
       "      <td>0.06722</td>\n",
       "      <td>0.051048</td>\n",
       "      <td>0.052576</td>\n",
       "      <td>-71280.0</td>\n",
       "    </tr>\n",
       "    <tr>\n",
       "      <th>3</th>\n",
       "      <td>124467</td>\n",
       "      <td>1594684</td>\n",
       "      <td>100193</td>\n",
       "      <td>0.0</td>\n",
       "      <td>73</td>\n",
       "      <td>-637.0</td>\n",
       "      <td>-637.0</td>\n",
       "      <td>301.86</td>\n",
       "      <td>301.86</td>\n",
       "      <td>1180928</td>\n",
       "      <td>...</td>\n",
       "      <td>0</td>\n",
       "      <td>0</td>\n",
       "      <td>0</td>\n",
       "      <td>0</td>\n",
       "      <td>0</td>\n",
       "      <td>1.3168</td>\n",
       "      <td>0.06722</td>\n",
       "      <td>0.051048</td>\n",
       "      <td>0.052576</td>\n",
       "      <td>-71280.0</td>\n",
       "    </tr>\n",
       "    <tr>\n",
       "      <th>4</th>\n",
       "      <td>125182</td>\n",
       "      <td>1594684</td>\n",
       "      <td>100193</td>\n",
       "      <td>0.0</td>\n",
       "      <td>72</td>\n",
       "      <td>-667.0</td>\n",
       "      <td>-667.0</td>\n",
       "      <td>301.86</td>\n",
       "      <td>301.86</td>\n",
       "      <td>1180928</td>\n",
       "      <td>...</td>\n",
       "      <td>0</td>\n",
       "      <td>0</td>\n",
       "      <td>0</td>\n",
       "      <td>0</td>\n",
       "      <td>0</td>\n",
       "      <td>1.3168</td>\n",
       "      <td>0.06722</td>\n",
       "      <td>0.051048</td>\n",
       "      <td>0.052576</td>\n",
       "      <td>-71280.0</td>\n",
       "    </tr>\n",
       "  </tbody>\n",
       "</table>\n",
       "<p>5 rows × 106 columns</p>\n",
       "</div>"
      ],
      "text/plain": [
       "   index_x  SK_ID_PREV  SK_ID_CURR  NUM_INSTALMENT_VERSION  \\\n",
       "0       14     1594684      100193                     0.0   \n",
       "1    34978     1594684      100193                     0.0   \n",
       "2    42363     1594684      100193                     0.0   \n",
       "3   124467     1594684      100193                     0.0   \n",
       "4   125182     1594684      100193                     0.0   \n",
       "\n",
       "   NUM_INSTALMENT_NUMBER  DAYS_INSTALMENT  DAYS_ENTRY_PAYMENT  AMT_INSTALMENT  \\\n",
       "0                     56          -1153.0             -1153.0          301.86   \n",
       "1                     74           -606.0              -606.0          301.86   \n",
       "2                     13          -2463.0             -2463.0          301.86   \n",
       "3                     73           -637.0              -637.0          301.86   \n",
       "4                     72           -667.0              -667.0          301.86   \n",
       "\n",
       "   AMT_PAYMENT  index_y  ... FLAG_DOCUMENT_17  FLAG_DOCUMENT_18  \\\n",
       "0       301.86  1180928  ...                0                 0   \n",
       "1       301.86  1180928  ...                0                 0   \n",
       "2       301.86  1180928  ...                0                 0   \n",
       "3       301.86  1180928  ...                0                 0   \n",
       "4       301.86  1180928  ...                0                 0   \n",
       "\n",
       "   FLAG_DOCUMENT_19  FLAG_DOCUMENT_20  FLAG_DOCUMENT_21 CREDIT_INCOME_RATIO  \\\n",
       "0                 0                 0                 0              1.3168   \n",
       "1                 0                 0                 0              1.3168   \n",
       "2                 0                 0                 0              1.3168   \n",
       "3                 0                 0                 0              1.3168   \n",
       "4                 0                 0                 0              1.3168   \n",
       "\n",
       "   ANNUITY_INCOME_RATIO CREDIT_TERM  DAYS_EMPLOYED_RATIO  \\\n",
       "0               0.06722    0.051048             0.052576   \n",
       "1               0.06722    0.051048             0.052576   \n",
       "2               0.06722    0.051048             0.052576   \n",
       "3               0.06722    0.051048             0.052576   \n",
       "4               0.06722    0.051048             0.052576   \n",
       "\n",
       "  GOODS_PRICE_LOAN_DIFFERENCE  \n",
       "0                    -71280.0  \n",
       "1                    -71280.0  \n",
       "2                    -71280.0  \n",
       "3                    -71280.0  \n",
       "4                    -71280.0  \n",
       "\n",
       "[5 rows x 106 columns]"
      ]
     },
     "execution_count": 154,
     "metadata": {},
     "output_type": "execute_result"
    }
   ],
   "source": [
    "dff.head()"
   ]
  },
  {
   "cell_type": "code",
   "execution_count": 155,
   "metadata": {},
   "outputs": [
    {
     "data": {
      "text/plain": [
       "0"
      ]
     },
     "execution_count": 155,
     "metadata": {},
     "output_type": "execute_result"
    }
   ],
   "source": [
    "dff.duplicated().sum()"
   ]
  },
  {
   "cell_type": "code",
   "execution_count": 156,
   "metadata": {},
   "outputs": [
    {
     "name": "stdout",
     "output_type": "stream",
     "text": [
      "<class 'pandas.core.frame.DataFrame'>\n",
      "RangeIndex: 370905 entries, 0 to 370904\n",
      "Data columns (total 9 columns):\n",
      " #   Column                  Non-Null Count   Dtype  \n",
      "---  ------                  --------------   -----  \n",
      " 0   index                   370905 non-null  int64  \n",
      " 1   SK_ID_PREV              370905 non-null  int64  \n",
      " 2   SK_ID_CURR              370905 non-null  int64  \n",
      " 3   NUM_INSTALMENT_VERSION  370905 non-null  float64\n",
      " 4   NUM_INSTALMENT_NUMBER   370905 non-null  int64  \n",
      " 5   DAYS_INSTALMENT         370905 non-null  float64\n",
      " 6   DAYS_ENTRY_PAYMENT      370905 non-null  float64\n",
      " 7   AMT_INSTALMENT          370905 non-null  float64\n",
      " 8   AMT_PAYMENT             370905 non-null  float64\n",
      "dtypes: float64(5), int64(4)\n",
      "memory usage: 25.5 MB\n"
     ]
    }
   ],
   "source": [
    "installments_payments_sample.info()"
   ]
  },
  {
   "cell_type": "code",
   "execution_count": 157,
   "metadata": {},
   "outputs": [
    {
     "name": "stdout",
     "output_type": "stream",
     "text": [
      "<class 'pandas.core.frame.DataFrame'>\n",
      "RangeIndex: 269947 entries, 0 to 269946\n",
      "Data columns (total 9 columns):\n",
      " #   Column                 Non-Null Count   Dtype  \n",
      "---  ------                 --------------   -----  \n",
      " 0   index                  269947 non-null  int64  \n",
      " 1   SK_ID_PREV             269947 non-null  int64  \n",
      " 2   SK_ID_CURR             269947 non-null  int64  \n",
      " 3   MONTHS_BALANCE         269947 non-null  int64  \n",
      " 4   CNT_INSTALMENT         269947 non-null  float64\n",
      " 5   CNT_INSTALMENT_FUTURE  269947 non-null  float64\n",
      " 6   NAME_CONTRACT_STATUS   269947 non-null  object \n",
      " 7   SK_DPD                 269947 non-null  int64  \n",
      " 8   SK_DPD_DEF             269947 non-null  int64  \n",
      "dtypes: float64(2), int64(6), object(1)\n",
      "memory usage: 18.5+ MB\n"
     ]
    }
   ],
   "source": [
    "POS_CASH_balance_sample.info()"
   ]
  },
  {
   "cell_type": "code",
   "execution_count": 158,
   "metadata": {},
   "outputs": [
    {
     "name": "stdout",
     "output_type": "stream",
     "text": [
      "<class 'pandas.core.frame.DataFrame'>\n",
      "Int64Index: 336275 entries, 0 to 336274\n",
      "Columns: 106 entries, index_x to GOODS_PRICE_LOAN_DIFFERENCE\n",
      "dtypes: float64(29), int64(50), object(27)\n",
      "memory usage: 274.5+ MB\n"
     ]
    }
   ],
   "source": [
    "dff.info()"
   ]
  },
  {
   "cell_type": "code",
   "execution_count": 159,
   "metadata": {},
   "outputs": [
    {
     "data": {
      "text/plain": [
       "10000"
      ]
     },
     "execution_count": 159,
     "metadata": {},
     "output_type": "execute_result"
    }
   ],
   "source": [
    "len(selected_application_sample)"
   ]
  },
  {
   "cell_type": "code",
   "execution_count": 160,
   "metadata": {},
   "outputs": [],
   "source": [
    "dff.dropna(inplace=True)"
   ]
  },
  {
   "cell_type": "code",
   "execution_count": 161,
   "metadata": {
    "id": "p9CGaiF2QXSw",
    "outputId": "9dd6e1c7-386c-4037-dbd0-09c0a2fd3028"
   },
   "outputs": [
    {
     "data": {
      "text/html": [
       "<div>\n",
       "<style scoped>\n",
       "    .dataframe tbody tr th:only-of-type {\n",
       "        vertical-align: middle;\n",
       "    }\n",
       "\n",
       "    .dataframe tbody tr th {\n",
       "        vertical-align: top;\n",
       "    }\n",
       "\n",
       "    .dataframe thead th {\n",
       "        text-align: right;\n",
       "    }\n",
       "</style>\n",
       "<table border=\"1\" class=\"dataframe\">\n",
       "  <thead>\n",
       "    <tr style=\"text-align: right;\">\n",
       "      <th></th>\n",
       "      <th>index_x</th>\n",
       "      <th>SK_ID_PREV</th>\n",
       "      <th>SK_ID_CURR</th>\n",
       "      <th>NUM_INSTALMENT_VERSION</th>\n",
       "      <th>NUM_INSTALMENT_NUMBER</th>\n",
       "      <th>DAYS_INSTALMENT</th>\n",
       "      <th>DAYS_ENTRY_PAYMENT</th>\n",
       "      <th>AMT_INSTALMENT</th>\n",
       "      <th>AMT_PAYMENT</th>\n",
       "      <th>index_y</th>\n",
       "      <th>...</th>\n",
       "      <th>FLAG_DOCUMENT_17</th>\n",
       "      <th>FLAG_DOCUMENT_18</th>\n",
       "      <th>FLAG_DOCUMENT_19</th>\n",
       "      <th>FLAG_DOCUMENT_20</th>\n",
       "      <th>FLAG_DOCUMENT_21</th>\n",
       "      <th>CREDIT_INCOME_RATIO</th>\n",
       "      <th>ANNUITY_INCOME_RATIO</th>\n",
       "      <th>CREDIT_TERM</th>\n",
       "      <th>DAYS_EMPLOYED_RATIO</th>\n",
       "      <th>GOODS_PRICE_LOAN_DIFFERENCE</th>\n",
       "    </tr>\n",
       "  </thead>\n",
       "  <tbody>\n",
       "    <tr>\n",
       "      <th>336270</th>\n",
       "      <td>12987810</td>\n",
       "      <td>1950056</td>\n",
       "      <td>439228</td>\n",
       "      <td>1.0</td>\n",
       "      <td>4</td>\n",
       "      <td>-586.0</td>\n",
       "      <td>-588.0</td>\n",
       "      <td>20825.595</td>\n",
       "      <td>20825.595</td>\n",
       "      <td>761694</td>\n",
       "      <td>...</td>\n",
       "      <td>0</td>\n",
       "      <td>0</td>\n",
       "      <td>0</td>\n",
       "      <td>0</td>\n",
       "      <td>0</td>\n",
       "      <td>2.291667</td>\n",
       "      <td>0.164167</td>\n",
       "      <td>0.071636</td>\n",
       "      <td>-15.962023</td>\n",
       "      <td>0.0</td>\n",
       "    </tr>\n",
       "    <tr>\n",
       "      <th>336271</th>\n",
       "      <td>13014756</td>\n",
       "      <td>1950056</td>\n",
       "      <td>439228</td>\n",
       "      <td>1.0</td>\n",
       "      <td>1</td>\n",
       "      <td>-676.0</td>\n",
       "      <td>-689.0</td>\n",
       "      <td>20826.810</td>\n",
       "      <td>20826.810</td>\n",
       "      <td>761694</td>\n",
       "      <td>...</td>\n",
       "      <td>0</td>\n",
       "      <td>0</td>\n",
       "      <td>0</td>\n",
       "      <td>0</td>\n",
       "      <td>0</td>\n",
       "      <td>2.291667</td>\n",
       "      <td>0.164167</td>\n",
       "      <td>0.071636</td>\n",
       "      <td>-15.962023</td>\n",
       "      <td>0.0</td>\n",
       "    </tr>\n",
       "    <tr>\n",
       "      <th>336272</th>\n",
       "      <td>13354549</td>\n",
       "      <td>1950056</td>\n",
       "      <td>439228</td>\n",
       "      <td>1.0</td>\n",
       "      <td>3</td>\n",
       "      <td>-616.0</td>\n",
       "      <td>-619.0</td>\n",
       "      <td>20826.810</td>\n",
       "      <td>20826.810</td>\n",
       "      <td>761694</td>\n",
       "      <td>...</td>\n",
       "      <td>0</td>\n",
       "      <td>0</td>\n",
       "      <td>0</td>\n",
       "      <td>0</td>\n",
       "      <td>0</td>\n",
       "      <td>2.291667</td>\n",
       "      <td>0.164167</td>\n",
       "      <td>0.071636</td>\n",
       "      <td>-15.962023</td>\n",
       "      <td>0.0</td>\n",
       "    </tr>\n",
       "    <tr>\n",
       "      <th>336273</th>\n",
       "      <td>13497484</td>\n",
       "      <td>1950056</td>\n",
       "      <td>439228</td>\n",
       "      <td>1.0</td>\n",
       "      <td>2</td>\n",
       "      <td>-646.0</td>\n",
       "      <td>-658.0</td>\n",
       "      <td>20826.810</td>\n",
       "      <td>20826.810</td>\n",
       "      <td>761694</td>\n",
       "      <td>...</td>\n",
       "      <td>0</td>\n",
       "      <td>0</td>\n",
       "      <td>0</td>\n",
       "      <td>0</td>\n",
       "      <td>0</td>\n",
       "      <td>2.291667</td>\n",
       "      <td>0.164167</td>\n",
       "      <td>0.071636</td>\n",
       "      <td>-15.962023</td>\n",
       "      <td>0.0</td>\n",
       "    </tr>\n",
       "    <tr>\n",
       "      <th>336274</th>\n",
       "      <td>13426930</td>\n",
       "      <td>1976654</td>\n",
       "      <td>445665</td>\n",
       "      <td>2.0</td>\n",
       "      <td>1</td>\n",
       "      <td>-10.0</td>\n",
       "      <td>-10.0</td>\n",
       "      <td>102164.805</td>\n",
       "      <td>102164.805</td>\n",
       "      <td>833347</td>\n",
       "      <td>...</td>\n",
       "      <td>0</td>\n",
       "      <td>0</td>\n",
       "      <td>0</td>\n",
       "      <td>0</td>\n",
       "      <td>0</td>\n",
       "      <td>2.915800</td>\n",
       "      <td>0.123540</td>\n",
       "      <td>0.042369</td>\n",
       "      <td>0.241298</td>\n",
       "      <td>-187110.0</td>\n",
       "    </tr>\n",
       "  </tbody>\n",
       "</table>\n",
       "<p>5 rows × 106 columns</p>\n",
       "</div>"
      ],
      "text/plain": [
       "         index_x  SK_ID_PREV  SK_ID_CURR  NUM_INSTALMENT_VERSION  \\\n",
       "336270  12987810     1950056      439228                     1.0   \n",
       "336271  13014756     1950056      439228                     1.0   \n",
       "336272  13354549     1950056      439228                     1.0   \n",
       "336273  13497484     1950056      439228                     1.0   \n",
       "336274  13426930     1976654      445665                     2.0   \n",
       "\n",
       "        NUM_INSTALMENT_NUMBER  DAYS_INSTALMENT  DAYS_ENTRY_PAYMENT  \\\n",
       "336270                      4           -586.0              -588.0   \n",
       "336271                      1           -676.0              -689.0   \n",
       "336272                      3           -616.0              -619.0   \n",
       "336273                      2           -646.0              -658.0   \n",
       "336274                      1            -10.0               -10.0   \n",
       "\n",
       "        AMT_INSTALMENT  AMT_PAYMENT  index_y  ... FLAG_DOCUMENT_17  \\\n",
       "336270       20825.595    20825.595   761694  ...                0   \n",
       "336271       20826.810    20826.810   761694  ...                0   \n",
       "336272       20826.810    20826.810   761694  ...                0   \n",
       "336273       20826.810    20826.810   761694  ...                0   \n",
       "336274      102164.805   102164.805   833347  ...                0   \n",
       "\n",
       "        FLAG_DOCUMENT_18  FLAG_DOCUMENT_19  FLAG_DOCUMENT_20  \\\n",
       "336270                 0                 0                 0   \n",
       "336271                 0                 0                 0   \n",
       "336272                 0                 0                 0   \n",
       "336273                 0                 0                 0   \n",
       "336274                 0                 0                 0   \n",
       "\n",
       "        FLAG_DOCUMENT_21 CREDIT_INCOME_RATIO  ANNUITY_INCOME_RATIO  \\\n",
       "336270                 0            2.291667              0.164167   \n",
       "336271                 0            2.291667              0.164167   \n",
       "336272                 0            2.291667              0.164167   \n",
       "336273                 0            2.291667              0.164167   \n",
       "336274                 0            2.915800              0.123540   \n",
       "\n",
       "       CREDIT_TERM  DAYS_EMPLOYED_RATIO GOODS_PRICE_LOAN_DIFFERENCE  \n",
       "336270    0.071636           -15.962023                         0.0  \n",
       "336271    0.071636           -15.962023                         0.0  \n",
       "336272    0.071636           -15.962023                         0.0  \n",
       "336273    0.071636           -15.962023                         0.0  \n",
       "336274    0.042369             0.241298                   -187110.0  \n",
       "\n",
       "[5 rows x 106 columns]"
      ]
     },
     "execution_count": 161,
     "metadata": {},
     "output_type": "execute_result"
    }
   ],
   "source": [
    "dff.tail()"
   ]
  },
  {
   "cell_type": "code",
   "execution_count": 162,
   "metadata": {
    "id": "rqSqqG7AkEdE"
   },
   "outputs": [],
   "source": [
    "categories = dff.select_dtypes(include=['object']).columns.tolist() \n",
    "# alternative \n",
    "# datatype = dff.dtypes\n",
    "# categories = datatype[(datatype == 'object') | (datatype == 'category')].index.tolist()"
   ]
  },
  {
   "cell_type": "markdown",
   "metadata": {
    "id": "vsRmrAtq4ygw"
   },
   "source": [
    "### Model fitting"
   ]
  },
  {
   "cell_type": "code",
   "execution_count": 163,
   "metadata": {},
   "outputs": [],
   "source": [
    "# pip install --upgrade scikit-learn -qqq"
   ]
  },
  {
   "cell_type": "code",
   "execution_count": 164,
   "metadata": {},
   "outputs": [],
   "source": [
    "from sklearn.preprocessing import OneHotEncoder\n",
    "from sklearn.compose import ColumnTransformer\n",
    "from sklearn.pipeline import Pipeline\n",
    "from sklearn.model_selection import train_test_split\n",
    "from sklearn.metrics import average_precision_score, roc_auc_score, precision_score, recall_score, f1_score\n",
    "from sklearn.ensemble import HistGradientBoostingClassifier"
   ]
  },
  {
   "cell_type": "code",
   "execution_count": 165,
   "metadata": {
    "id": "DY8TSI5IkDMd"
   },
   "outputs": [],
   "source": [
    "X = dff.drop([\"SK_ID_PREV\", \"SK_ID_CURR\",\"TARGET\"], axis=1)\n",
    "y = dff[\"TARGET\"]"
   ]
  },
  {
   "cell_type": "code",
   "execution_count": 166,
   "metadata": {},
   "outputs": [],
   "source": [
    "random_state = 13\n",
    "test_size = 0.3\n",
    "X_train, X_test, y_train, y_test = train_test_split(X, y, test_size=test_size,\n",
    "                                                    random_state=random_state)"
   ]
  },
  {
   "cell_type": "code",
   "execution_count": 167,
   "metadata": {},
   "outputs": [],
   "source": [
    "transformer = ColumnTransformer(transformers=[('cat', OneHotEncoder(handle_unknown='ignore', drop=\"first\"), categories)],remainder='passthrough')"
   ]
  },
  {
   "cell_type": "code",
   "execution_count": 168,
   "metadata": {
    "id": "RT4YBH2_kDc5"
   },
   "outputs": [],
   "source": [
    " # Model Parameters\n",
    "learning_rate = 0.01\n",
    "max_depth = 6\n",
    "min_samples_leaf = 10\n",
    "random_state = 42\n",
    "early_stopping = True"
   ]
  },
  {
   "cell_type": "code",
   "execution_count": 169,
   "metadata": {
    "id": "CyLz1tpR5Kto"
   },
   "outputs": [],
   "source": [
    "# Model: Define a HistGradient Boosting Classifier\n",
    "model = HistGradientBoostingClassifier(learning_rate=learning_rate,\n",
    "                               max_depth=max_depth,\n",
    "                               min_samples_leaf=min_samples_leaf,\n",
    "                                early_stopping=early_stopping,\n",
    "                               random_state=random_state)\n",
    "\n",
    "# Pipeline fit\n",
    "pipeline = Pipeline(steps=[('transformer', transformer), ('model', model)])"
   ]
  },
  {
   "cell_type": "code",
   "execution_count": 170,
   "metadata": {},
   "outputs": [
    {
     "data": {
      "text/plain": [
       "Pipeline(steps=[('transformer',\n",
       "                 ColumnTransformer(remainder='passthrough',\n",
       "                                   transformers=[('cat',\n",
       "                                                  OneHotEncoder(drop='first',\n",
       "                                                                handle_unknown='ignore'),\n",
       "                                                  ['NAME_CONTRACT_TYPE_x',\n",
       "                                                   'WEEKDAY_APPR_PROCESS_START_x',\n",
       "                                                   'FLAG_LAST_APPL_PER_CONTRACT',\n",
       "                                                   'NAME_CASH_LOAN_PURPOSE',\n",
       "                                                   'NAME_CONTRACT_STATUS',\n",
       "                                                   'NAME_PAYMENT_TYPE',\n",
       "                                                   'CODE_REJECT_REASON',\n",
       "                                                   'NAME_TYPE_SUITE_x',\n",
       "                                                   'NAME_CLIE...\n",
       "                                                   'NAME_CONTRACT_TYPE_y',\n",
       "                                                   'CODE_GENDER',\n",
       "                                                   'FLAG_OWN_CAR',\n",
       "                                                   'FLAG_OWN_REALTY',\n",
       "                                                   'NAME_TYPE_SUITE_y',\n",
       "                                                   'NAME_INCOME_TYPE',\n",
       "                                                   'NAME_EDUCATION_TYPE',\n",
       "                                                   'NAME_FAMILY_STATUS',\n",
       "                                                   'NAME_HOUSING_TYPE',\n",
       "                                                   'WEEKDAY_APPR_PROCESS_START_y',\n",
       "                                                   'ORGANIZATION_TYPE'])])),\n",
       "                ('model',\n",
       "                 HistGradientBoostingClassifier(early_stopping=True,\n",
       "                                                learning_rate=0.01, max_depth=6,\n",
       "                                                min_samples_leaf=10,\n",
       "                                                random_state=42))])"
      ]
     },
     "execution_count": 170,
     "metadata": {},
     "output_type": "execute_result"
    }
   ],
   "source": [
    "pipeline.fit(X_train, y_train)"
   ]
  },
  {
   "cell_type": "code",
   "execution_count": 171,
   "metadata": {},
   "outputs": [],
   "source": [
    "# Predict probabilities of target\n",
    "probs = pipeline.predict_proba(X_test)[:,1]\n",
    "# Calculate average precision and area under the receiver operating characteric curve (ROC AUC)\n",
    "avg_precision = average_precision_score(y_test, probs, pos_label=1)\n",
    "auc = roc_auc_score(y_test, probs)"
   ]
  },
  {
   "cell_type": "code",
   "execution_count": 172,
   "metadata": {
    "id": "752H2CSz5Kp6"
   },
   "outputs": [
    {
     "data": {
      "text/plain": [
       "0.8962242963272928"
      ]
     },
     "execution_count": 172,
     "metadata": {},
     "output_type": "execute_result"
    }
   ],
   "source": [
    "auc"
   ]
  },
  {
   "cell_type": "code",
   "execution_count": 173,
   "metadata": {},
   "outputs": [
    {
     "data": {
      "text/plain": [
       "0.6483522350917789"
      ]
     },
     "execution_count": 173,
     "metadata": {},
     "output_type": "execute_result"
    }
   ],
   "source": [
    "avg_precision"
   ]
  },
  {
   "cell_type": "markdown",
   "metadata": {},
   "source": [
    "### Clustering"
   ]
  },
  {
   "cell_type": "code",
   "execution_count": 174,
   "metadata": {},
   "outputs": [],
   "source": [
    "# pip install kneed"
   ]
  },
  {
   "cell_type": "code",
   "execution_count": 175,
   "metadata": {},
   "outputs": [],
   "source": [
    "# pip install seaborn"
   ]
  },
  {
   "cell_type": "code",
   "execution_count": 176,
   "metadata": {},
   "outputs": [],
   "source": [
    "import pandas as pd\n",
    "import matplotlib.pyplot as plt\n",
    "import seaborn as sns\n",
    "from kneed import KneeLocator\n",
    "from sklearn.cluster import KMeans\n",
    "from sklearn.preprocessing import StandardScaler"
   ]
  },
  {
   "cell_type": "code",
   "execution_count": 177,
   "metadata": {},
   "outputs": [],
   "source": [
    "from sklearn.decomposition import PCA\n",
    "pca = PCA(n_components=2, random_state=42)"
   ]
  },
  {
   "cell_type": "code",
   "execution_count": 178,
   "metadata": {},
   "outputs": [],
   "source": [
    "transformer = ColumnTransformer(transformers=[('cat', OneHotEncoder(handle_unknown='ignore', drop=\"first\"), categories)],remainder='passthrough')"
   ]
  },
  {
   "cell_type": "code",
   "execution_count": 179,
   "metadata": {},
   "outputs": [
    {
     "data": {
      "text/html": [
       "<div>\n",
       "<style scoped>\n",
       "    .dataframe tbody tr th:only-of-type {\n",
       "        vertical-align: middle;\n",
       "    }\n",
       "\n",
       "    .dataframe tbody tr th {\n",
       "        vertical-align: top;\n",
       "    }\n",
       "\n",
       "    .dataframe thead th {\n",
       "        text-align: right;\n",
       "    }\n",
       "</style>\n",
       "<table border=\"1\" class=\"dataframe\">\n",
       "  <thead>\n",
       "    <tr style=\"text-align: right;\">\n",
       "      <th></th>\n",
       "      <th>index_x</th>\n",
       "      <th>SK_ID_PREV</th>\n",
       "      <th>SK_ID_CURR</th>\n",
       "      <th>NUM_INSTALMENT_VERSION</th>\n",
       "      <th>NUM_INSTALMENT_NUMBER</th>\n",
       "      <th>DAYS_INSTALMENT</th>\n",
       "      <th>DAYS_ENTRY_PAYMENT</th>\n",
       "      <th>AMT_INSTALMENT</th>\n",
       "      <th>AMT_PAYMENT</th>\n",
       "      <th>index_y</th>\n",
       "      <th>...</th>\n",
       "      <th>FLAG_DOCUMENT_17</th>\n",
       "      <th>FLAG_DOCUMENT_18</th>\n",
       "      <th>FLAG_DOCUMENT_19</th>\n",
       "      <th>FLAG_DOCUMENT_20</th>\n",
       "      <th>FLAG_DOCUMENT_21</th>\n",
       "      <th>CREDIT_INCOME_RATIO</th>\n",
       "      <th>ANNUITY_INCOME_RATIO</th>\n",
       "      <th>CREDIT_TERM</th>\n",
       "      <th>DAYS_EMPLOYED_RATIO</th>\n",
       "      <th>GOODS_PRICE_LOAN_DIFFERENCE</th>\n",
       "    </tr>\n",
       "  </thead>\n",
       "  <tbody>\n",
       "    <tr>\n",
       "      <th>0</th>\n",
       "      <td>14</td>\n",
       "      <td>1594684</td>\n",
       "      <td>100193</td>\n",
       "      <td>0.0</td>\n",
       "      <td>56</td>\n",
       "      <td>-1153.0</td>\n",
       "      <td>-1153.0</td>\n",
       "      <td>301.86</td>\n",
       "      <td>301.86</td>\n",
       "      <td>1180928</td>\n",
       "      <td>...</td>\n",
       "      <td>0</td>\n",
       "      <td>0</td>\n",
       "      <td>0</td>\n",
       "      <td>0</td>\n",
       "      <td>0</td>\n",
       "      <td>1.3168</td>\n",
       "      <td>0.06722</td>\n",
       "      <td>0.051048</td>\n",
       "      <td>0.052576</td>\n",
       "      <td>-71280.0</td>\n",
       "    </tr>\n",
       "    <tr>\n",
       "      <th>1</th>\n",
       "      <td>34978</td>\n",
       "      <td>1594684</td>\n",
       "      <td>100193</td>\n",
       "      <td>0.0</td>\n",
       "      <td>74</td>\n",
       "      <td>-606.0</td>\n",
       "      <td>-606.0</td>\n",
       "      <td>301.86</td>\n",
       "      <td>301.86</td>\n",
       "      <td>1180928</td>\n",
       "      <td>...</td>\n",
       "      <td>0</td>\n",
       "      <td>0</td>\n",
       "      <td>0</td>\n",
       "      <td>0</td>\n",
       "      <td>0</td>\n",
       "      <td>1.3168</td>\n",
       "      <td>0.06722</td>\n",
       "      <td>0.051048</td>\n",
       "      <td>0.052576</td>\n",
       "      <td>-71280.0</td>\n",
       "    </tr>\n",
       "    <tr>\n",
       "      <th>2</th>\n",
       "      <td>42363</td>\n",
       "      <td>1594684</td>\n",
       "      <td>100193</td>\n",
       "      <td>0.0</td>\n",
       "      <td>13</td>\n",
       "      <td>-2463.0</td>\n",
       "      <td>-2463.0</td>\n",
       "      <td>301.86</td>\n",
       "      <td>301.86</td>\n",
       "      <td>1180928</td>\n",
       "      <td>...</td>\n",
       "      <td>0</td>\n",
       "      <td>0</td>\n",
       "      <td>0</td>\n",
       "      <td>0</td>\n",
       "      <td>0</td>\n",
       "      <td>1.3168</td>\n",
       "      <td>0.06722</td>\n",
       "      <td>0.051048</td>\n",
       "      <td>0.052576</td>\n",
       "      <td>-71280.0</td>\n",
       "    </tr>\n",
       "    <tr>\n",
       "      <th>3</th>\n",
       "      <td>124467</td>\n",
       "      <td>1594684</td>\n",
       "      <td>100193</td>\n",
       "      <td>0.0</td>\n",
       "      <td>73</td>\n",
       "      <td>-637.0</td>\n",
       "      <td>-637.0</td>\n",
       "      <td>301.86</td>\n",
       "      <td>301.86</td>\n",
       "      <td>1180928</td>\n",
       "      <td>...</td>\n",
       "      <td>0</td>\n",
       "      <td>0</td>\n",
       "      <td>0</td>\n",
       "      <td>0</td>\n",
       "      <td>0</td>\n",
       "      <td>1.3168</td>\n",
       "      <td>0.06722</td>\n",
       "      <td>0.051048</td>\n",
       "      <td>0.052576</td>\n",
       "      <td>-71280.0</td>\n",
       "    </tr>\n",
       "    <tr>\n",
       "      <th>4</th>\n",
       "      <td>125182</td>\n",
       "      <td>1594684</td>\n",
       "      <td>100193</td>\n",
       "      <td>0.0</td>\n",
       "      <td>72</td>\n",
       "      <td>-667.0</td>\n",
       "      <td>-667.0</td>\n",
       "      <td>301.86</td>\n",
       "      <td>301.86</td>\n",
       "      <td>1180928</td>\n",
       "      <td>...</td>\n",
       "      <td>0</td>\n",
       "      <td>0</td>\n",
       "      <td>0</td>\n",
       "      <td>0</td>\n",
       "      <td>0</td>\n",
       "      <td>1.3168</td>\n",
       "      <td>0.06722</td>\n",
       "      <td>0.051048</td>\n",
       "      <td>0.052576</td>\n",
       "      <td>-71280.0</td>\n",
       "    </tr>\n",
       "  </tbody>\n",
       "</table>\n",
       "<p>5 rows × 106 columns</p>\n",
       "</div>"
      ],
      "text/plain": [
       "   index_x  SK_ID_PREV  SK_ID_CURR  NUM_INSTALMENT_VERSION  \\\n",
       "0       14     1594684      100193                     0.0   \n",
       "1    34978     1594684      100193                     0.0   \n",
       "2    42363     1594684      100193                     0.0   \n",
       "3   124467     1594684      100193                     0.0   \n",
       "4   125182     1594684      100193                     0.0   \n",
       "\n",
       "   NUM_INSTALMENT_NUMBER  DAYS_INSTALMENT  DAYS_ENTRY_PAYMENT  AMT_INSTALMENT  \\\n",
       "0                     56          -1153.0             -1153.0          301.86   \n",
       "1                     74           -606.0              -606.0          301.86   \n",
       "2                     13          -2463.0             -2463.0          301.86   \n",
       "3                     73           -637.0              -637.0          301.86   \n",
       "4                     72           -667.0              -667.0          301.86   \n",
       "\n",
       "   AMT_PAYMENT  index_y  ... FLAG_DOCUMENT_17  FLAG_DOCUMENT_18  \\\n",
       "0       301.86  1180928  ...                0                 0   \n",
       "1       301.86  1180928  ...                0                 0   \n",
       "2       301.86  1180928  ...                0                 0   \n",
       "3       301.86  1180928  ...                0                 0   \n",
       "4       301.86  1180928  ...                0                 0   \n",
       "\n",
       "   FLAG_DOCUMENT_19  FLAG_DOCUMENT_20  FLAG_DOCUMENT_21 CREDIT_INCOME_RATIO  \\\n",
       "0                 0                 0                 0              1.3168   \n",
       "1                 0                 0                 0              1.3168   \n",
       "2                 0                 0                 0              1.3168   \n",
       "3                 0                 0                 0              1.3168   \n",
       "4                 0                 0                 0              1.3168   \n",
       "\n",
       "   ANNUITY_INCOME_RATIO CREDIT_TERM  DAYS_EMPLOYED_RATIO  \\\n",
       "0               0.06722    0.051048             0.052576   \n",
       "1               0.06722    0.051048             0.052576   \n",
       "2               0.06722    0.051048             0.052576   \n",
       "3               0.06722    0.051048             0.052576   \n",
       "4               0.06722    0.051048             0.052576   \n",
       "\n",
       "  GOODS_PRICE_LOAN_DIFFERENCE  \n",
       "0                    -71280.0  \n",
       "1                    -71280.0  \n",
       "2                    -71280.0  \n",
       "3                    -71280.0  \n",
       "4                    -71280.0  \n",
       "\n",
       "[5 rows x 106 columns]"
      ]
     },
     "execution_count": 179,
     "metadata": {},
     "output_type": "execute_result"
    }
   ],
   "source": [
    "dff.head()"
   ]
  },
  {
   "cell_type": "code",
   "execution_count": 180,
   "metadata": {},
   "outputs": [],
   "source": [
    "X = dff.drop(['index_x','index_y','SK_ID_PREV','SK_ID_CURR'],axis=1)"
   ]
  },
  {
   "cell_type": "code",
   "execution_count": 181,
   "metadata": {},
   "outputs": [
    {
     "data": {
      "text/html": [
       "<div>\n",
       "<style scoped>\n",
       "    .dataframe tbody tr th:only-of-type {\n",
       "        vertical-align: middle;\n",
       "    }\n",
       "\n",
       "    .dataframe tbody tr th {\n",
       "        vertical-align: top;\n",
       "    }\n",
       "\n",
       "    .dataframe thead th {\n",
       "        text-align: right;\n",
       "    }\n",
       "</style>\n",
       "<table border=\"1\" class=\"dataframe\">\n",
       "  <thead>\n",
       "    <tr style=\"text-align: right;\">\n",
       "      <th></th>\n",
       "      <th>NUM_INSTALMENT_VERSION</th>\n",
       "      <th>NUM_INSTALMENT_NUMBER</th>\n",
       "      <th>DAYS_INSTALMENT</th>\n",
       "      <th>DAYS_ENTRY_PAYMENT</th>\n",
       "      <th>AMT_INSTALMENT</th>\n",
       "      <th>AMT_PAYMENT</th>\n",
       "      <th>NAME_CONTRACT_TYPE_x</th>\n",
       "      <th>AMT_ANNUITY_x</th>\n",
       "      <th>AMT_APPLICATION</th>\n",
       "      <th>AMT_CREDIT_x</th>\n",
       "      <th>...</th>\n",
       "      <th>FLAG_DOCUMENT_17</th>\n",
       "      <th>FLAG_DOCUMENT_18</th>\n",
       "      <th>FLAG_DOCUMENT_19</th>\n",
       "      <th>FLAG_DOCUMENT_20</th>\n",
       "      <th>FLAG_DOCUMENT_21</th>\n",
       "      <th>CREDIT_INCOME_RATIO</th>\n",
       "      <th>ANNUITY_INCOME_RATIO</th>\n",
       "      <th>CREDIT_TERM</th>\n",
       "      <th>DAYS_EMPLOYED_RATIO</th>\n",
       "      <th>GOODS_PRICE_LOAN_DIFFERENCE</th>\n",
       "    </tr>\n",
       "  </thead>\n",
       "  <tbody>\n",
       "    <tr>\n",
       "      <th>0</th>\n",
       "      <td>0.0</td>\n",
       "      <td>56</td>\n",
       "      <td>-1153.0</td>\n",
       "      <td>-1153.0</td>\n",
       "      <td>301.86</td>\n",
       "      <td>301.86</td>\n",
       "      <td>Revolving loans</td>\n",
       "      <td>4410.0</td>\n",
       "      <td>80995.5</td>\n",
       "      <td>63000.0</td>\n",
       "      <td>...</td>\n",
       "      <td>0</td>\n",
       "      <td>0</td>\n",
       "      <td>0</td>\n",
       "      <td>0</td>\n",
       "      <td>0</td>\n",
       "      <td>1.3168</td>\n",
       "      <td>0.06722</td>\n",
       "      <td>0.051048</td>\n",
       "      <td>0.052576</td>\n",
       "      <td>-71280.0</td>\n",
       "    </tr>\n",
       "    <tr>\n",
       "      <th>1</th>\n",
       "      <td>0.0</td>\n",
       "      <td>74</td>\n",
       "      <td>-606.0</td>\n",
       "      <td>-606.0</td>\n",
       "      <td>301.86</td>\n",
       "      <td>301.86</td>\n",
       "      <td>Revolving loans</td>\n",
       "      <td>4410.0</td>\n",
       "      <td>80995.5</td>\n",
       "      <td>63000.0</td>\n",
       "      <td>...</td>\n",
       "      <td>0</td>\n",
       "      <td>0</td>\n",
       "      <td>0</td>\n",
       "      <td>0</td>\n",
       "      <td>0</td>\n",
       "      <td>1.3168</td>\n",
       "      <td>0.06722</td>\n",
       "      <td>0.051048</td>\n",
       "      <td>0.052576</td>\n",
       "      <td>-71280.0</td>\n",
       "    </tr>\n",
       "    <tr>\n",
       "      <th>2</th>\n",
       "      <td>0.0</td>\n",
       "      <td>13</td>\n",
       "      <td>-2463.0</td>\n",
       "      <td>-2463.0</td>\n",
       "      <td>301.86</td>\n",
       "      <td>301.86</td>\n",
       "      <td>Revolving loans</td>\n",
       "      <td>4410.0</td>\n",
       "      <td>80995.5</td>\n",
       "      <td>63000.0</td>\n",
       "      <td>...</td>\n",
       "      <td>0</td>\n",
       "      <td>0</td>\n",
       "      <td>0</td>\n",
       "      <td>0</td>\n",
       "      <td>0</td>\n",
       "      <td>1.3168</td>\n",
       "      <td>0.06722</td>\n",
       "      <td>0.051048</td>\n",
       "      <td>0.052576</td>\n",
       "      <td>-71280.0</td>\n",
       "    </tr>\n",
       "    <tr>\n",
       "      <th>3</th>\n",
       "      <td>0.0</td>\n",
       "      <td>73</td>\n",
       "      <td>-637.0</td>\n",
       "      <td>-637.0</td>\n",
       "      <td>301.86</td>\n",
       "      <td>301.86</td>\n",
       "      <td>Revolving loans</td>\n",
       "      <td>4410.0</td>\n",
       "      <td>80995.5</td>\n",
       "      <td>63000.0</td>\n",
       "      <td>...</td>\n",
       "      <td>0</td>\n",
       "      <td>0</td>\n",
       "      <td>0</td>\n",
       "      <td>0</td>\n",
       "      <td>0</td>\n",
       "      <td>1.3168</td>\n",
       "      <td>0.06722</td>\n",
       "      <td>0.051048</td>\n",
       "      <td>0.052576</td>\n",
       "      <td>-71280.0</td>\n",
       "    </tr>\n",
       "    <tr>\n",
       "      <th>4</th>\n",
       "      <td>0.0</td>\n",
       "      <td>72</td>\n",
       "      <td>-667.0</td>\n",
       "      <td>-667.0</td>\n",
       "      <td>301.86</td>\n",
       "      <td>301.86</td>\n",
       "      <td>Revolving loans</td>\n",
       "      <td>4410.0</td>\n",
       "      <td>80995.5</td>\n",
       "      <td>63000.0</td>\n",
       "      <td>...</td>\n",
       "      <td>0</td>\n",
       "      <td>0</td>\n",
       "      <td>0</td>\n",
       "      <td>0</td>\n",
       "      <td>0</td>\n",
       "      <td>1.3168</td>\n",
       "      <td>0.06722</td>\n",
       "      <td>0.051048</td>\n",
       "      <td>0.052576</td>\n",
       "      <td>-71280.0</td>\n",
       "    </tr>\n",
       "  </tbody>\n",
       "</table>\n",
       "<p>5 rows × 102 columns</p>\n",
       "</div>"
      ],
      "text/plain": [
       "   NUM_INSTALMENT_VERSION  NUM_INSTALMENT_NUMBER  DAYS_INSTALMENT  \\\n",
       "0                     0.0                     56          -1153.0   \n",
       "1                     0.0                     74           -606.0   \n",
       "2                     0.0                     13          -2463.0   \n",
       "3                     0.0                     73           -637.0   \n",
       "4                     0.0                     72           -667.0   \n",
       "\n",
       "   DAYS_ENTRY_PAYMENT  AMT_INSTALMENT  AMT_PAYMENT NAME_CONTRACT_TYPE_x  \\\n",
       "0             -1153.0          301.86       301.86      Revolving loans   \n",
       "1              -606.0          301.86       301.86      Revolving loans   \n",
       "2             -2463.0          301.86       301.86      Revolving loans   \n",
       "3              -637.0          301.86       301.86      Revolving loans   \n",
       "4              -667.0          301.86       301.86      Revolving loans   \n",
       "\n",
       "   AMT_ANNUITY_x  AMT_APPLICATION  AMT_CREDIT_x  ...  FLAG_DOCUMENT_17  \\\n",
       "0         4410.0          80995.5       63000.0  ...                 0   \n",
       "1         4410.0          80995.5       63000.0  ...                 0   \n",
       "2         4410.0          80995.5       63000.0  ...                 0   \n",
       "3         4410.0          80995.5       63000.0  ...                 0   \n",
       "4         4410.0          80995.5       63000.0  ...                 0   \n",
       "\n",
       "  FLAG_DOCUMENT_18  FLAG_DOCUMENT_19 FLAG_DOCUMENT_20  FLAG_DOCUMENT_21  \\\n",
       "0                0                 0                0                 0   \n",
       "1                0                 0                0                 0   \n",
       "2                0                 0                0                 0   \n",
       "3                0                 0                0                 0   \n",
       "4                0                 0                0                 0   \n",
       "\n",
       "  CREDIT_INCOME_RATIO ANNUITY_INCOME_RATIO  CREDIT_TERM DAYS_EMPLOYED_RATIO  \\\n",
       "0              1.3168              0.06722     0.051048            0.052576   \n",
       "1              1.3168              0.06722     0.051048            0.052576   \n",
       "2              1.3168              0.06722     0.051048            0.052576   \n",
       "3              1.3168              0.06722     0.051048            0.052576   \n",
       "4              1.3168              0.06722     0.051048            0.052576   \n",
       "\n",
       "  GOODS_PRICE_LOAN_DIFFERENCE  \n",
       "0                    -71280.0  \n",
       "1                    -71280.0  \n",
       "2                    -71280.0  \n",
       "3                    -71280.0  \n",
       "4                    -71280.0  \n",
       "\n",
       "[5 rows x 102 columns]"
      ]
     },
     "execution_count": 181,
     "metadata": {},
     "output_type": "execute_result"
    }
   ],
   "source": [
    "X.head()"
   ]
  },
  {
   "cell_type": "code",
   "execution_count": 182,
   "metadata": {},
   "outputs": [],
   "source": [
    "df = transformer.fit_transform(X)"
   ]
  },
  {
   "cell_type": "code",
   "execution_count": 183,
   "metadata": {},
   "outputs": [
    {
     "data": {
      "text/plain": [
       "array([[ 0.00000000e+00,  1.00000000e+00,  0.00000000e+00, ...,\n",
       "         5.10479951e-02,  5.25756474e-02, -7.12800000e+04],\n",
       "       [ 0.00000000e+00,  1.00000000e+00,  0.00000000e+00, ...,\n",
       "         5.10479951e-02,  5.25756474e-02, -7.12800000e+04],\n",
       "       [ 0.00000000e+00,  1.00000000e+00,  0.00000000e+00, ...,\n",
       "         5.10479951e-02,  5.25756474e-02, -7.12800000e+04],\n",
       "       ...,\n",
       "       [ 1.00000000e+00,  0.00000000e+00,  0.00000000e+00, ...,\n",
       "         7.16363636e-02, -1.59620226e+01,  0.00000000e+00],\n",
       "       [ 1.00000000e+00,  0.00000000e+00,  0.00000000e+00, ...,\n",
       "         7.16363636e-02, -1.59620226e+01,  0.00000000e+00],\n",
       "       [ 1.00000000e+00,  0.00000000e+00,  0.00000000e+00, ...,\n",
       "         4.23691611e-02,  2.41298134e-01, -1.87110000e+05]])"
      ]
     },
     "execution_count": 183,
     "metadata": {},
     "output_type": "execute_result"
    }
   ],
   "source": [
    "df"
   ]
  },
  {
   "cell_type": "code",
   "execution_count": 184,
   "metadata": {},
   "outputs": [],
   "source": [
    " clustering_data = pca.fit_transform(df)"
   ]
  },
  {
   "cell_type": "code",
   "execution_count": 185,
   "metadata": {},
   "outputs": [],
   "source": [
    "sc = StandardScaler() \n",
    "# Standardize features by removing the mean and scaling to unit variance\n",
    "clustering_data = sc.fit_transform(clustering_data)"
   ]
  },
  {
   "cell_type": "code",
   "execution_count": 186,
   "metadata": {},
   "outputs": [],
   "source": [
    "sse = []\n",
    "for k in range(1, 13):\n",
    "    kmeans = KMeans(n_clusters=k)\n",
    "    kmeans.fit(clustering_data)\n",
    "    sse.append(kmeans.inertia_)"
   ]
  },
  {
   "cell_type": "code",
   "execution_count": 187,
   "metadata": {},
   "outputs": [],
   "source": [
    "kl = KneeLocator(range(1, 13), sse, curve=\"convex\", direction=\"decreasing\" )"
   ]
  },
  {
   "cell_type": "code",
   "execution_count": 188,
   "metadata": {},
   "outputs": [
    {
     "data": {
      "text/plain": [
       "3"
      ]
     },
     "execution_count": 188,
     "metadata": {},
     "output_type": "execute_result"
    }
   ],
   "source": [
    "kl.elbow"
   ]
  },
  {
   "cell_type": "code",
   "execution_count": 189,
   "metadata": {},
   "outputs": [],
   "source": [
    "kmeans = KMeans(n_clusters = 3)\n",
    "kmeans.fit(clustering_data)\n",
    "predictions = kmeans.predict(clustering_data)"
   ]
  },
  {
   "cell_type": "code",
   "execution_count": 190,
   "metadata": {},
   "outputs": [
    {
     "data": {
      "text/plain": [
       "0    200316\n",
       "1    110303\n",
       "2     25656\n",
       "Name: cluster, dtype: int64"
      ]
     },
     "execution_count": 190,
     "metadata": {},
     "output_type": "execute_result"
    }
   ],
   "source": [
    "dff['cluster'] = predictions\n",
    "dff['cluster'].value_counts()"
   ]
  },
  {
   "cell_type": "code",
   "execution_count": 191,
   "metadata": {},
   "outputs": [
    {
     "data": {
      "text/html": [
       "<div>\n",
       "<style scoped>\n",
       "    .dataframe tbody tr th:only-of-type {\n",
       "        vertical-align: middle;\n",
       "    }\n",
       "\n",
       "    .dataframe tbody tr th {\n",
       "        vertical-align: top;\n",
       "    }\n",
       "\n",
       "    .dataframe thead th {\n",
       "        text-align: right;\n",
       "    }\n",
       "</style>\n",
       "<table border=\"1\" class=\"dataframe\">\n",
       "  <thead>\n",
       "    <tr style=\"text-align: right;\">\n",
       "      <th></th>\n",
       "      <th>index_x</th>\n",
       "      <th>SK_ID_PREV</th>\n",
       "      <th>SK_ID_CURR</th>\n",
       "      <th>NUM_INSTALMENT_VERSION</th>\n",
       "      <th>NUM_INSTALMENT_NUMBER</th>\n",
       "      <th>DAYS_INSTALMENT</th>\n",
       "      <th>DAYS_ENTRY_PAYMENT</th>\n",
       "      <th>AMT_INSTALMENT</th>\n",
       "      <th>AMT_PAYMENT</th>\n",
       "      <th>index_y</th>\n",
       "      <th>...</th>\n",
       "      <th>FLAG_DOCUMENT_18</th>\n",
       "      <th>FLAG_DOCUMENT_19</th>\n",
       "      <th>FLAG_DOCUMENT_20</th>\n",
       "      <th>FLAG_DOCUMENT_21</th>\n",
       "      <th>CREDIT_INCOME_RATIO</th>\n",
       "      <th>ANNUITY_INCOME_RATIO</th>\n",
       "      <th>CREDIT_TERM</th>\n",
       "      <th>DAYS_EMPLOYED_RATIO</th>\n",
       "      <th>GOODS_PRICE_LOAN_DIFFERENCE</th>\n",
       "      <th>cluster</th>\n",
       "    </tr>\n",
       "  </thead>\n",
       "  <tbody>\n",
       "    <tr>\n",
       "      <th>336270</th>\n",
       "      <td>12987810</td>\n",
       "      <td>1950056</td>\n",
       "      <td>439228</td>\n",
       "      <td>1.0</td>\n",
       "      <td>4</td>\n",
       "      <td>-586.0</td>\n",
       "      <td>-588.0</td>\n",
       "      <td>20825.595</td>\n",
       "      <td>20825.595</td>\n",
       "      <td>761694</td>\n",
       "      <td>...</td>\n",
       "      <td>0</td>\n",
       "      <td>0</td>\n",
       "      <td>0</td>\n",
       "      <td>0</td>\n",
       "      <td>2.291667</td>\n",
       "      <td>0.164167</td>\n",
       "      <td>0.071636</td>\n",
       "      <td>-15.962023</td>\n",
       "      <td>0.0</td>\n",
       "      <td>0</td>\n",
       "    </tr>\n",
       "    <tr>\n",
       "      <th>336271</th>\n",
       "      <td>13014756</td>\n",
       "      <td>1950056</td>\n",
       "      <td>439228</td>\n",
       "      <td>1.0</td>\n",
       "      <td>1</td>\n",
       "      <td>-676.0</td>\n",
       "      <td>-689.0</td>\n",
       "      <td>20826.810</td>\n",
       "      <td>20826.810</td>\n",
       "      <td>761694</td>\n",
       "      <td>...</td>\n",
       "      <td>0</td>\n",
       "      <td>0</td>\n",
       "      <td>0</td>\n",
       "      <td>0</td>\n",
       "      <td>2.291667</td>\n",
       "      <td>0.164167</td>\n",
       "      <td>0.071636</td>\n",
       "      <td>-15.962023</td>\n",
       "      <td>0.0</td>\n",
       "      <td>0</td>\n",
       "    </tr>\n",
       "    <tr>\n",
       "      <th>336272</th>\n",
       "      <td>13354549</td>\n",
       "      <td>1950056</td>\n",
       "      <td>439228</td>\n",
       "      <td>1.0</td>\n",
       "      <td>3</td>\n",
       "      <td>-616.0</td>\n",
       "      <td>-619.0</td>\n",
       "      <td>20826.810</td>\n",
       "      <td>20826.810</td>\n",
       "      <td>761694</td>\n",
       "      <td>...</td>\n",
       "      <td>0</td>\n",
       "      <td>0</td>\n",
       "      <td>0</td>\n",
       "      <td>0</td>\n",
       "      <td>2.291667</td>\n",
       "      <td>0.164167</td>\n",
       "      <td>0.071636</td>\n",
       "      <td>-15.962023</td>\n",
       "      <td>0.0</td>\n",
       "      <td>0</td>\n",
       "    </tr>\n",
       "    <tr>\n",
       "      <th>336273</th>\n",
       "      <td>13497484</td>\n",
       "      <td>1950056</td>\n",
       "      <td>439228</td>\n",
       "      <td>1.0</td>\n",
       "      <td>2</td>\n",
       "      <td>-646.0</td>\n",
       "      <td>-658.0</td>\n",
       "      <td>20826.810</td>\n",
       "      <td>20826.810</td>\n",
       "      <td>761694</td>\n",
       "      <td>...</td>\n",
       "      <td>0</td>\n",
       "      <td>0</td>\n",
       "      <td>0</td>\n",
       "      <td>0</td>\n",
       "      <td>2.291667</td>\n",
       "      <td>0.164167</td>\n",
       "      <td>0.071636</td>\n",
       "      <td>-15.962023</td>\n",
       "      <td>0.0</td>\n",
       "      <td>0</td>\n",
       "    </tr>\n",
       "    <tr>\n",
       "      <th>336274</th>\n",
       "      <td>13426930</td>\n",
       "      <td>1976654</td>\n",
       "      <td>445665</td>\n",
       "      <td>2.0</td>\n",
       "      <td>1</td>\n",
       "      <td>-10.0</td>\n",
       "      <td>-10.0</td>\n",
       "      <td>102164.805</td>\n",
       "      <td>102164.805</td>\n",
       "      <td>833347</td>\n",
       "      <td>...</td>\n",
       "      <td>0</td>\n",
       "      <td>0</td>\n",
       "      <td>0</td>\n",
       "      <td>0</td>\n",
       "      <td>2.915800</td>\n",
       "      <td>0.123540</td>\n",
       "      <td>0.042369</td>\n",
       "      <td>0.241298</td>\n",
       "      <td>-187110.0</td>\n",
       "      <td>1</td>\n",
       "    </tr>\n",
       "  </tbody>\n",
       "</table>\n",
       "<p>5 rows × 107 columns</p>\n",
       "</div>"
      ],
      "text/plain": [
       "         index_x  SK_ID_PREV  SK_ID_CURR  NUM_INSTALMENT_VERSION  \\\n",
       "336270  12987810     1950056      439228                     1.0   \n",
       "336271  13014756     1950056      439228                     1.0   \n",
       "336272  13354549     1950056      439228                     1.0   \n",
       "336273  13497484     1950056      439228                     1.0   \n",
       "336274  13426930     1976654      445665                     2.0   \n",
       "\n",
       "        NUM_INSTALMENT_NUMBER  DAYS_INSTALMENT  DAYS_ENTRY_PAYMENT  \\\n",
       "336270                      4           -586.0              -588.0   \n",
       "336271                      1           -676.0              -689.0   \n",
       "336272                      3           -616.0              -619.0   \n",
       "336273                      2           -646.0              -658.0   \n",
       "336274                      1            -10.0               -10.0   \n",
       "\n",
       "        AMT_INSTALMENT  AMT_PAYMENT  index_y  ... FLAG_DOCUMENT_18  \\\n",
       "336270       20825.595    20825.595   761694  ...                0   \n",
       "336271       20826.810    20826.810   761694  ...                0   \n",
       "336272       20826.810    20826.810   761694  ...                0   \n",
       "336273       20826.810    20826.810   761694  ...                0   \n",
       "336274      102164.805   102164.805   833347  ...                0   \n",
       "\n",
       "        FLAG_DOCUMENT_19  FLAG_DOCUMENT_20  FLAG_DOCUMENT_21  \\\n",
       "336270                 0                 0                 0   \n",
       "336271                 0                 0                 0   \n",
       "336272                 0                 0                 0   \n",
       "336273                 0                 0                 0   \n",
       "336274                 0                 0                 0   \n",
       "\n",
       "        CREDIT_INCOME_RATIO ANNUITY_INCOME_RATIO  CREDIT_TERM  \\\n",
       "336270             2.291667             0.164167     0.071636   \n",
       "336271             2.291667             0.164167     0.071636   \n",
       "336272             2.291667             0.164167     0.071636   \n",
       "336273             2.291667             0.164167     0.071636   \n",
       "336274             2.915800             0.123540     0.042369   \n",
       "\n",
       "       DAYS_EMPLOYED_RATIO  GOODS_PRICE_LOAN_DIFFERENCE cluster  \n",
       "336270          -15.962023                          0.0       0  \n",
       "336271          -15.962023                          0.0       0  \n",
       "336272          -15.962023                          0.0       0  \n",
       "336273          -15.962023                          0.0       0  \n",
       "336274            0.241298                    -187110.0       1  \n",
       "\n",
       "[5 rows x 107 columns]"
      ]
     },
     "execution_count": 191,
     "metadata": {},
     "output_type": "execute_result"
    }
   ],
   "source": [
    "dff.tail()"
   ]
  }
 ],
 "metadata": {
  "kernelspec": {
   "display_name": "Python 3 (ipykernel)",
   "language": "python",
   "name": "python3"
  },
  "language_info": {
   "codemirror_mode": {
    "name": "ipython",
    "version": 3
   },
   "file_extension": ".py",
   "mimetype": "text/x-python",
   "name": "python",
   "nbconvert_exporter": "python",
   "pygments_lexer": "ipython3",
   "version": "3.8.10"
  }
 },
 "nbformat": 4,
 "nbformat_minor": 4
}
